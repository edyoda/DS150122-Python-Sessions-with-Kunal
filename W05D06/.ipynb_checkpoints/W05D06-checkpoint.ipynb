{
 "cells": [
  {
   "cell_type": "markdown",
   "id": "c49fce1a",
   "metadata": {},
   "source": [
    "## `Lambda Function`"
   ]
  },
  {
   "cell_type": "code",
   "execution_count": null,
   "id": "8ad2005d",
   "metadata": {},
   "outputs": [],
   "source": [
    "1- it is an anonymous function that is defined without name"
   ]
  },
  {
   "cell_type": "code",
   "execution_count": 1,
   "id": "5be5e4d2",
   "metadata": {},
   "outputs": [
    {
     "data": {
      "text/plain": [
       "21"
      ]
     },
     "execution_count": 1,
     "metadata": {},
     "output_type": "execute_result"
    }
   ],
   "source": [
    "(lambda x,y,z : (x+y)*z)(5,2,3)"
   ]
  },
  {
   "cell_type": "code",
   "execution_count": 2,
   "id": "6d6bc1c1",
   "metadata": {},
   "outputs": [
    {
     "data": {
      "text/plain": [
       "21"
      ]
     },
     "execution_count": 2,
     "metadata": {},
     "output_type": "execute_result"
    }
   ],
   "source": [
    "def add_mul(x,y,z):\n",
    "    return (x+y)*z\n",
    "add_mul(5,2,3)"
   ]
  },
  {
   "cell_type": "code",
   "execution_count": null,
   "id": "f13c547e",
   "metadata": {},
   "outputs": [],
   "source": [
    "WAP using lambda function to concatenate a string with int"
   ]
  },
  {
   "cell_type": "code",
   "execution_count": 3,
   "id": "109b9bab",
   "metadata": {},
   "outputs": [
    {
     "data": {
      "text/plain": [
       "'Vamshi scored 99 in Exam'"
      ]
     },
     "execution_count": 3,
     "metadata": {},
     "output_type": "execute_result"
    }
   ],
   "source": [
    "\"Vamshi scored {} in Exam\".format(99)"
   ]
  },
  {
   "cell_type": "code",
   "execution_count": 4,
   "id": "291e8a19",
   "metadata": {},
   "outputs": [
    {
     "data": {
      "text/plain": [
       "'String 56'"
      ]
     },
     "execution_count": 4,
     "metadata": {},
     "output_type": "execute_result"
    }
   ],
   "source": [
    "\"String \"+str(56) "
   ]
  },
  {
   "cell_type": "code",
   "execution_count": null,
   "id": "685759b4",
   "metadata": {},
   "outputs": [],
   "source": [
    "1) WAP using lambda function to concatenate a string with int\n",
    "2) WAP using lambda which returns True if \"apple\" is present in [\"apple\", \"mango\", \"orange\"]"
   ]
  },
  {
   "cell_type": "code",
   "execution_count": 6,
   "id": "e32b777b",
   "metadata": {},
   "outputs": [],
   "source": [
    "#1)\n",
    "s = (lambda x,y : x + str(y))(\"Vaibhav\",98)"
   ]
  },
  {
   "cell_type": "code",
   "execution_count": 7,
   "id": "63ffadba",
   "metadata": {},
   "outputs": [
    {
     "name": "stdout",
     "output_type": "stream",
     "text": [
      "Vaibhav98\n"
     ]
    }
   ],
   "source": [
    "print(s)"
   ]
  },
  {
   "cell_type": "code",
   "execution_count": 8,
   "id": "5b044eb0",
   "metadata": {},
   "outputs": [
    {
     "data": {
      "text/plain": [
       "True"
      ]
     },
     "execution_count": 8,
     "metadata": {},
     "output_type": "execute_result"
    }
   ],
   "source": [
    "(lambda l: \"apple\" in l)([\"apple\", \"mango\", \"orange\"])"
   ]
  },
  {
   "cell_type": "code",
   "execution_count": 9,
   "id": "d4c264fb",
   "metadata": {},
   "outputs": [
    {
     "data": {
      "text/plain": [
       "False"
      ]
     },
     "execution_count": 9,
     "metadata": {},
     "output_type": "execute_result"
    }
   ],
   "source": [
    "(lambda fruit,list1: fruit in list1)(\"leechi\",[\"apple\", \"mango\", \"orange\"])"
   ]
  },
  {
   "cell_type": "code",
   "execution_count": 11,
   "id": "7ebd7327",
   "metadata": {},
   "outputs": [],
   "source": [
    "s = lambda fruit,list1 : fruit in list1"
   ]
  },
  {
   "cell_type": "code",
   "execution_count": 13,
   "id": "6906fc04",
   "metadata": {},
   "outputs": [
    {
     "name": "stdout",
     "output_type": "stream",
     "text": [
      "False\n"
     ]
    }
   ],
   "source": [
    "print(s(\"leechi\",[\"apple\", \"mango\", \"orange\"]))"
   ]
  },
  {
   "cell_type": "code",
   "execution_count": null,
   "id": "ec896880",
   "metadata": {},
   "outputs": [],
   "source": [
    "(lambda parameters : expression)(arguments)"
   ]
  },
  {
   "cell_type": "markdown",
   "id": "cfac4ef2",
   "metadata": {},
   "source": [
    "## `Map()`"
   ]
  },
  {
   "cell_type": "code",
   "execution_count": null,
   "id": "342a876c",
   "metadata": {},
   "outputs": [],
   "source": [
    "map(func, iterable)"
   ]
  },
  {
   "cell_type": "code",
   "execution_count": 18,
   "id": "61bc50a6",
   "metadata": {},
   "outputs": [],
   "source": [
    "l = [1,2,3,4]\n",
    "l2 = []\n",
    "for i in l:\n",
    "    l2.append((lambda x : x**2)(i))"
   ]
  },
  {
   "cell_type": "code",
   "execution_count": 19,
   "id": "a329a2df",
   "metadata": {},
   "outputs": [
    {
     "name": "stdout",
     "output_type": "stream",
     "text": [
      "[1, 4, 9, 16]\n"
     ]
    }
   ],
   "source": [
    "print(l2)"
   ]
  },
  {
   "cell_type": "code",
   "execution_count": 20,
   "id": "704c162e",
   "metadata": {},
   "outputs": [
    {
     "data": {
      "text/plain": [
       "<map at 0x1c32a729150>"
      ]
     },
     "execution_count": 20,
     "metadata": {},
     "output_type": "execute_result"
    }
   ],
   "source": [
    "map(lambda x:x**2, l)"
   ]
  },
  {
   "cell_type": "code",
   "execution_count": 21,
   "id": "9a5d551b",
   "metadata": {},
   "outputs": [
    {
     "data": {
      "text/plain": [
       "[1, 4, 9, 16]"
      ]
     },
     "execution_count": 21,
     "metadata": {},
     "output_type": "execute_result"
    }
   ],
   "source": [
    "list(map(lambda x:x**2, l))"
   ]
  },
  {
   "cell_type": "code",
   "execution_count": 23,
   "id": "c6290b61",
   "metadata": {},
   "outputs": [],
   "source": [
    "l = [2,8,9,7]"
   ]
  },
  {
   "cell_type": "code",
   "execution_count": 33,
   "id": "4ce4e742",
   "metadata": {},
   "outputs": [],
   "source": [
    "def add_2(x):\n",
    "    return x+'2'"
   ]
  },
  {
   "cell_type": "code",
   "execution_count": 24,
   "id": "d1fc1b5f",
   "metadata": {},
   "outputs": [
    {
     "data": {
      "text/plain": [
       "[4, 10, 11, 9]"
      ]
     },
     "execution_count": 24,
     "metadata": {},
     "output_type": "execute_result"
    }
   ],
   "source": [
    "list(map(add_2,l))"
   ]
  },
  {
   "cell_type": "code",
   "execution_count": 27,
   "id": "1c4d4f58",
   "metadata": {},
   "outputs": [
    {
     "data": {
      "text/plain": [
       "{4, 9, 10, 11}"
      ]
     },
     "execution_count": 27,
     "metadata": {},
     "output_type": "execute_result"
    }
   ],
   "source": [
    "set(map(add_2,l))"
   ]
  },
  {
   "cell_type": "code",
   "execution_count": 29,
   "id": "3ae742dd",
   "metadata": {},
   "outputs": [
    {
     "name": "stdout",
     "output_type": "stream",
     "text": [
      "1 2 3 4 5\n"
     ]
    }
   ],
   "source": [
    "l = input().split()"
   ]
  },
  {
   "cell_type": "code",
   "execution_count": null,
   "id": "a56730b1",
   "metadata": {},
   "outputs": [],
   "source": [
    "1 2 3 4 5 --> [\"1\",\"2\",\"3\",\"4\",\"5\"]"
   ]
  },
  {
   "cell_type": "code",
   "execution_count": 30,
   "id": "6eb03c2f",
   "metadata": {},
   "outputs": [
    {
     "data": {
      "text/plain": [
       "['1', '2', '3', '4', '5']"
      ]
     },
     "execution_count": 30,
     "metadata": {},
     "output_type": "execute_result"
    }
   ],
   "source": [
    "l"
   ]
  },
  {
   "cell_type": "code",
   "execution_count": 31,
   "id": "6c32177c",
   "metadata": {},
   "outputs": [
    {
     "name": "stdout",
     "output_type": "stream",
     "text": [
      "1 2 3 4 5\n"
     ]
    },
    {
     "data": {
      "text/plain": [
       "[1, 2, 3, 4, 5]"
      ]
     },
     "execution_count": 31,
     "metadata": {},
     "output_type": "execute_result"
    }
   ],
   "source": [
    "list(map(int, input().split()))"
   ]
  },
  {
   "cell_type": "code",
   "execution_count": 34,
   "id": "697817bc",
   "metadata": {},
   "outputs": [
    {
     "name": "stdout",
     "output_type": "stream",
     "text": [
      "1 2 3 4 5\n"
     ]
    },
    {
     "data": {
      "text/plain": [
       "['12', '22', '32', '42', '52']"
      ]
     },
     "execution_count": 34,
     "metadata": {},
     "output_type": "execute_result"
    }
   ],
   "source": [
    "list(map(add_2, input().split()))"
   ]
  },
  {
   "cell_type": "code",
   "execution_count": null,
   "id": "b5857613",
   "metadata": {},
   "outputs": [],
   "source": [
    "WAP using map which takes a list of numbers and returns a list where even nubers are converted to str"
   ]
  },
  {
   "cell_type": "code",
   "execution_count": null,
   "id": "53bc3e73",
   "metadata": {},
   "outputs": [],
   "source": []
  },
  {
   "cell_type": "code",
   "execution_count": 40,
   "id": "eab88fb3",
   "metadata": {},
   "outputs": [
    {
     "data": {
      "text/plain": [
       "[1, '2', 3, '4', 5]"
      ]
     },
     "execution_count": 40,
     "metadata": {},
     "output_type": "execute_result"
    }
   ],
   "source": [
    "l = [1,2,3,4,5]\n",
    "def checkeven(x):\n",
    "    if x%2 == 0:\n",
    "        return str(x)\n",
    "    else:\n",
    "        return int(x)\n",
    "list(map(checkeven,l))"
   ]
  },
  {
   "cell_type": "code",
   "execution_count": 37,
   "id": "d077cee2",
   "metadata": {},
   "outputs": [
    {
     "name": "stdout",
     "output_type": "stream",
     "text": [
      "1 2 3\n"
     ]
    },
    {
     "ename": "TypeError",
     "evalue": "int() argument must be a string, a bytes-like object or a real number, not 'list'",
     "output_type": "error",
     "traceback": [
      "\u001b[1;31m---------------------------------------------------------------------------\u001b[0m",
      "\u001b[1;31mTypeError\u001b[0m                                 Traceback (most recent call last)",
      "Input \u001b[1;32mIn [37]\u001b[0m, in \u001b[0;36m<module>\u001b[1;34m\u001b[0m\n\u001b[1;32m----> 1\u001b[0m l \u001b[38;5;241m=\u001b[39m \u001b[38;5;28;43mint\u001b[39;49m\u001b[43m(\u001b[49m\u001b[38;5;28;43minput\u001b[39;49m\u001b[43m(\u001b[49m\u001b[43m)\u001b[49m\u001b[38;5;241;43m.\u001b[39;49m\u001b[43msplit\u001b[49m\u001b[43m(\u001b[49m\u001b[43m)\u001b[49m\u001b[43m)\u001b[49m\n",
      "\u001b[1;31mTypeError\u001b[0m: int() argument must be a string, a bytes-like object or a real number, not 'list'"
     ]
    }
   ],
   "source": [
    "l = int(input().split())"
   ]
  },
  {
   "cell_type": "code",
   "execution_count": 41,
   "id": "b0cca1ce",
   "metadata": {},
   "outputs": [
    {
     "name": "stdout",
     "output_type": "stream",
     "text": [
      "1 2 3 4 5 6\n"
     ]
    },
    {
     "data": {
      "text/plain": [
       "[1, '2.0', 3, '4.0', 5, '6.0']"
      ]
     },
     "execution_count": 41,
     "metadata": {},
     "output_type": "execute_result"
    }
   ],
   "source": [
    "list(map(checkeven, list(map(float,input().split())) ))"
   ]
  },
  {
   "cell_type": "code",
   "execution_count": null,
   "id": "9828d54c",
   "metadata": {},
   "outputs": [],
   "source": [
    "list(map(checkeven, list(map(float,input().split())) ))\n",
    "# input().split() --> list of strings\n",
    "# map(float,input().split()) --> map object with float values\n",
    "# list(map(float,input().split())) --> map object converted to list"
   ]
  },
  {
   "cell_type": "markdown",
   "id": "0938de7e",
   "metadata": {},
   "source": [
    "## `filter()`"
   ]
  },
  {
   "cell_type": "code",
   "execution_count": null,
   "id": "28878ef7",
   "metadata": {},
   "outputs": [],
   "source": [
    "filter(func, iterable) --> filter object"
   ]
  },
  {
   "cell_type": "code",
   "execution_count": 43,
   "id": "21b3811d",
   "metadata": {},
   "outputs": [
    {
     "data": {
      "text/plain": [
       "[2, 4]"
      ]
     },
     "execution_count": 43,
     "metadata": {},
     "output_type": "execute_result"
    }
   ],
   "source": [
    "l = [1,2,3,4,5]\n",
    "def check_even(x):\n",
    "    return x%2==0\n",
    "list(filter(check_even,l))"
   ]
  },
  {
   "cell_type": "code",
   "execution_count": 44,
   "id": "478aafad",
   "metadata": {},
   "outputs": [
    {
     "data": {
      "text/plain": [
       "[2, 4]"
      ]
     },
     "execution_count": 44,
     "metadata": {},
     "output_type": "execute_result"
    }
   ],
   "source": [
    "list(filter( lambda x:x%2==0 ,l))"
   ]
  },
  {
   "attachments": {
    "image.png": {
     "image/png": "[encoded data removed]"
    }
   },
   "cell_type": "markdown",
   "id": "a0785e91",
   "metadata": {},
   "source": [
    "l = [\"apple\",\"mango\",\"cheeku\",\"banana\",\"berry\"]\n",
    "final list --> [\"banana\",\"berry\"]\n",
    "## `blue berry diagram for fun!!`\n",
    "![image.png](attachment:image.png)"
   ]
  },
  {
   "cell_type": "code",
   "execution_count": 46,
   "id": "95c49fbb",
   "metadata": {},
   "outputs": [
    {
     "name": "stdout",
     "output_type": "stream",
     "text": [
      "['banana', 'berry']\n"
     ]
    }
   ],
   "source": [
    "l=['mango','apple','cheeku','banana','berry']\n",
    "def fruit(x):\n",
    "    return x[0]=='b'\n",
    "a=filter(fruit,l)\n",
    "print(list(a))"
   ]
  },
  {
   "cell_type": "code",
   "execution_count": 47,
   "id": "b349359b",
   "metadata": {},
   "outputs": [
    {
     "name": "stdout",
     "output_type": "stream",
     "text": [
      "['banana', 'berry']\n"
     ]
    }
   ],
   "source": [
    "# solution using regular expression\n",
    "import re\n",
    "l=['mango','apple','cheeku','banana','berry']\n",
    "def fruit(x):\n",
    "    return re.search('^b',x)\n",
    "a=filter(fruit,l)\n",
    "print(list(a))"
   ]
  },
  {
   "cell_type": "code",
   "execution_count": null,
   "id": "ef2cc068",
   "metadata": {},
   "outputs": [],
   "source": []
  }
 ],
 "metadata": {
  "kernelspec": {
   "display_name": "Python 3 (ipykernel)",
   "language": "python",
   "name": "python3"
  },
  "language_info": {
   "codemirror_mode": {
    "name": "ipython",
    "version": 3
   },
   "file_extension": ".py",
   "mimetype": "text/x-python",
   "name": "python",
   "nbconvert_exporter": "python",
   "pygments_lexer": "ipython3",
   "version": "3.10.1"
  }
 },
 "nbformat": 4,
 "nbformat_minor": 5
}
