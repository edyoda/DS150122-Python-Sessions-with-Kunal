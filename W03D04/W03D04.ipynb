{
 "cells": [
  {
   "cell_type": "code",
   "execution_count": null,
   "id": "e63fbda0",
   "metadata": {},
   "outputs": [],
   "source": [
    "#revise\n",
    "string --> formating:\n",
    "    implicit order --ex--> \"{} is a cool boy\".format(\"Thilak\")\n",
    "    positional arguments --ex--> \"{1} and {0} are friends\".format(\"Snegha\",\"Payal\")\n",
    "    keywords arguments --ex--> \"kumar neeraj is eating {food}\".format(food=input())\n",
    "print --> end --> decides how print ends the statement\n",
    "          sep --> It acts like a seperator between given argument\n",
    "list --> append() --> it adds an element at the end of the list\n",
    "         insert() --> add element at given index position\n",
    "         extend() -->  to extend/ get elements from the other list\n",
    "         2D list --> [[\"elemnt1\",\"elemnt2\"],[\"element4\",\"elemnt5\",5]]"
   ]
  },
  {
   "cell_type": "code",
   "execution_count": 1,
   "id": "e1d00050",
   "metadata": {},
   "outputs": [
    {
     "name": "stdout",
     "output_type": "stream",
     "text": [
      "Maggie\n"
     ]
    },
    {
     "data": {
      "text/plain": [
       "'kumar neeraj is eating Maggie'"
      ]
     },
     "execution_count": 1,
     "metadata": {},
     "output_type": "execute_result"
    }
   ],
   "source": [
    "\"kumar neeraj is eating {food}\".format(food=input())"
   ]
  },
  {
   "cell_type": "code",
   "execution_count": 2,
   "id": "a1a9eac8",
   "metadata": {},
   "outputs": [
    {
     "name": "stdout",
     "output_type": "stream",
     "text": [
      "hyderabadi chicken biryani\n"
     ]
    },
    {
     "data": {
      "text/plain": [
       "'kumar neeraj is eating hyderabadi chicken biryani'"
      ]
     },
     "execution_count": 2,
     "metadata": {},
     "output_type": "execute_result"
    }
   ],
   "source": [
    "\"kumar neeraj is eating {food}\".format(food=input())"
   ]
  },
  {
   "cell_type": "code",
   "execution_count": 3,
   "id": "36ce4b03",
   "metadata": {},
   "outputs": [
    {
     "name": "stdout",
     "output_type": "stream",
     "text": [
      "Sandeep Thilak\n"
     ]
    }
   ],
   "source": [
    "print(\"Sandeep Thilak\",sep=\"#\")"
   ]
  },
  {
   "cell_type": "code",
   "execution_count": 4,
   "id": "e46449ce",
   "metadata": {},
   "outputs": [
    {
     "name": "stdout",
     "output_type": "stream",
     "text": [
      "Sandeep#Thilak\n"
     ]
    }
   ],
   "source": [
    "print(\"Sandeep\",\"Thilak\",sep=\"#\")"
   ]
  },
  {
   "cell_type": "code",
   "execution_count": 5,
   "id": "7f8cf49a",
   "metadata": {},
   "outputs": [],
   "source": [
    "list_one = [\"mango\",\"apple\",\"banana\",\"strawberry\",\"peach\"]\n",
    "list_one.insert(1,\"lichy\")"
   ]
  },
  {
   "cell_type": "code",
   "execution_count": 6,
   "id": "879ed3df",
   "metadata": {},
   "outputs": [
    {
     "name": "stdout",
     "output_type": "stream",
     "text": [
      "['mango', 'lichy', 'apple', 'banana', 'strawberry', 'peach']\n"
     ]
    }
   ],
   "source": [
    "print(list_one)"
   ]
  },
  {
   "cell_type": "code",
   "execution_count": 7,
   "id": "54c74c6f",
   "metadata": {},
   "outputs": [
    {
     "name": "stdout",
     "output_type": "stream",
     "text": [
      "Help on class list in module builtins:\n",
      "\n",
      "class list(object)\n",
      " |  list(iterable=(), /)\n",
      " |  \n",
      " |  Built-in mutable sequence.\n",
      " |  \n",
      " |  If no argument is given, the constructor creates a new empty list.\n",
      " |  The argument must be an iterable if specified.\n",
      " |  \n",
      " |  Methods defined here:\n",
      " |  \n",
      " |  __add__(self, value, /)\n",
      " |      Return self+value.\n",
      " |  \n",
      " |  __contains__(self, key, /)\n",
      " |      Return key in self.\n",
      " |  \n",
      " |  __delitem__(self, key, /)\n",
      " |      Delete self[key].\n",
      " |  \n",
      " |  __eq__(self, value, /)\n",
      " |      Return self==value.\n",
      " |  \n",
      " |  __ge__(self, value, /)\n",
      " |      Return self>=value.\n",
      " |  \n",
      " |  __getattribute__(self, name, /)\n",
      " |      Return getattr(self, name).\n",
      " |  \n",
      " |  __getitem__(...)\n",
      " |      x.__getitem__(y) <==> x[y]\n",
      " |  \n",
      " |  __gt__(self, value, /)\n",
      " |      Return self>value.\n",
      " |  \n",
      " |  __iadd__(self, value, /)\n",
      " |      Implement self+=value.\n",
      " |  \n",
      " |  __imul__(self, value, /)\n",
      " |      Implement self*=value.\n",
      " |  \n",
      " |  __init__(self, /, *args, **kwargs)\n",
      " |      Initialize self.  See help(type(self)) for accurate signature.\n",
      " |  \n",
      " |  __iter__(self, /)\n",
      " |      Implement iter(self).\n",
      " |  \n",
      " |  __le__(self, value, /)\n",
      " |      Return self<=value.\n",
      " |  \n",
      " |  __len__(self, /)\n",
      " |      Return len(self).\n",
      " |  \n",
      " |  __lt__(self, value, /)\n",
      " |      Return self<value.\n",
      " |  \n",
      " |  __mul__(self, value, /)\n",
      " |      Return self*value.\n",
      " |  \n",
      " |  __ne__(self, value, /)\n",
      " |      Return self!=value.\n",
      " |  \n",
      " |  __repr__(self, /)\n",
      " |      Return repr(self).\n",
      " |  \n",
      " |  __reversed__(self, /)\n",
      " |      Return a reverse iterator over the list.\n",
      " |  \n",
      " |  __rmul__(self, value, /)\n",
      " |      Return value*self.\n",
      " |  \n",
      " |  __setitem__(self, key, value, /)\n",
      " |      Set self[key] to value.\n",
      " |  \n",
      " |  __sizeof__(self, /)\n",
      " |      Return the size of the list in memory, in bytes.\n",
      " |  \n",
      " |  append(self, object, /)\n",
      " |      Append object to the end of the list.\n",
      " |  \n",
      " |  clear(self, /)\n",
      " |      Remove all items from list.\n",
      " |  \n",
      " |  copy(self, /)\n",
      " |      Return a shallow copy of the list.\n",
      " |  \n",
      " |  count(self, value, /)\n",
      " |      Return number of occurrences of value.\n",
      " |  \n",
      " |  extend(self, iterable, /)\n",
      " |      Extend list by appending elements from the iterable.\n",
      " |  \n",
      " |  index(self, value, start=0, stop=9223372036854775807, /)\n",
      " |      Return first index of value.\n",
      " |      \n",
      " |      Raises ValueError if the value is not present.\n",
      " |  \n",
      " |  insert(self, index, object, /)\n",
      " |      Insert object before index.\n",
      " |  \n",
      " |  pop(self, index=-1, /)\n",
      " |      Remove and return item at index (default last).\n",
      " |      \n",
      " |      Raises IndexError if list is empty or index is out of range.\n",
      " |  \n",
      " |  remove(self, value, /)\n",
      " |      Remove first occurrence of value.\n",
      " |      \n",
      " |      Raises ValueError if the value is not present.\n",
      " |  \n",
      " |  reverse(self, /)\n",
      " |      Reverse *IN PLACE*.\n",
      " |  \n",
      " |  sort(self, /, *, key=None, reverse=False)\n",
      " |      Sort the list in ascending order and return None.\n",
      " |      \n",
      " |      The sort is in-place (i.e. the list itself is modified) and stable (i.e. the\n",
      " |      order of two equal elements is maintained).\n",
      " |      \n",
      " |      If a key function is given, apply it once to each list item and sort them,\n",
      " |      ascending or descending, according to their function values.\n",
      " |      \n",
      " |      The reverse flag can be set to sort in descending order.\n",
      " |  \n",
      " |  ----------------------------------------------------------------------\n",
      " |  Class methods defined here:\n",
      " |  \n",
      " |  __class_getitem__(...) from builtins.type\n",
      " |      See PEP 585\n",
      " |  \n",
      " |  ----------------------------------------------------------------------\n",
      " |  Static methods defined here:\n",
      " |  \n",
      " |  __new__(*args, **kwargs) from builtins.type\n",
      " |      Create and return a new object.  See help(type) for accurate signature.\n",
      " |  \n",
      " |  ----------------------------------------------------------------------\n",
      " |  Data and other attributes defined here:\n",
      " |  \n",
      " |  __hash__ = None\n",
      "\n"
     ]
    }
   ],
   "source": [
    "help(list)"
   ]
  },
  {
   "cell_type": "markdown",
   "id": "0201a544",
   "metadata": {},
   "source": [
    "## `Remove`"
   ]
  },
  {
   "cell_type": "code",
   "execution_count": 8,
   "id": "085eaa66",
   "metadata": {},
   "outputs": [],
   "source": [
    "list_one = ['mango', 'lichy', 'apple', 'banana', 'strawberry', 'peach']\n",
    "list_one.remove(\"banana\")"
   ]
  },
  {
   "cell_type": "code",
   "execution_count": 9,
   "id": "8e3520e6",
   "metadata": {},
   "outputs": [
    {
     "data": {
      "text/plain": [
       "['mango', 'lichy', 'apple', 'strawberry', 'peach']"
      ]
     },
     "execution_count": 9,
     "metadata": {},
     "output_type": "execute_result"
    }
   ],
   "source": [
    "list_one"
   ]
  },
  {
   "cell_type": "code",
   "execution_count": 10,
   "id": "00ebb4b9",
   "metadata": {},
   "outputs": [],
   "source": [
    "list_one = ['mango', \"banana\", 'lichy', 'apple', 'banana', 'strawberry', \"banana\",'peach']\n",
    "list_one.remove(\"banana\")"
   ]
  },
  {
   "cell_type": "code",
   "execution_count": 11,
   "id": "d6546f5e",
   "metadata": {},
   "outputs": [
    {
     "name": "stdout",
     "output_type": "stream",
     "text": [
      "['mango', 'lichy', 'apple', 'banana', 'strawberry', 'banana', 'peach']\n"
     ]
    }
   ],
   "source": [
    "print(list_one)"
   ]
  },
  {
   "cell_type": "code",
   "execution_count": 12,
   "id": "0b64cb39",
   "metadata": {},
   "outputs": [
    {
     "ename": "TypeError",
     "evalue": "list.remove() takes exactly one argument (2 given)",
     "output_type": "error",
     "traceback": [
      "\u001b[1;31m---------------------------------------------------------------------------\u001b[0m",
      "\u001b[1;31mTypeError\u001b[0m                                 Traceback (most recent call last)",
      "Input \u001b[1;32mIn [12]\u001b[0m, in \u001b[0;36m<module>\u001b[1;34m\u001b[0m\n\u001b[1;32m----> 1\u001b[0m \u001b[43mlist_one\u001b[49m\u001b[38;5;241;43m.\u001b[39;49m\u001b[43mremove\u001b[49m\u001b[43m(\u001b[49m\u001b[38;5;124;43m\"\u001b[39;49m\u001b[38;5;124;43mbanana\u001b[39;49m\u001b[38;5;124;43m\"\u001b[39;49m\u001b[43m,\u001b[49m\u001b[38;5;124;43m\"\u001b[39;49m\u001b[38;5;124;43mbanana\u001b[39;49m\u001b[38;5;124;43m\"\u001b[39;49m\u001b[43m)\u001b[49m\n",
      "\u001b[1;31mTypeError\u001b[0m: list.remove() takes exactly one argument (2 given)"
     ]
    }
   ],
   "source": [
    "list_one.remove(\"banana\")"
   ]
  },
  {
   "cell_type": "code",
   "execution_count": 13,
   "id": "0e1dbf76",
   "metadata": {},
   "outputs": [
    {
     "data": {
      "text/plain": [
       "'banana'"
      ]
     },
     "execution_count": 13,
     "metadata": {},
     "output_type": "execute_result"
    }
   ],
   "source": [
    "list_one = ['mango', \"banana\", 'lichy', 'apple', 'banana', 'strawberry', \"banana\",'peach']\n",
    "list_one.pop(6)"
   ]
  },
  {
   "cell_type": "code",
   "execution_count": 14,
   "id": "5234401e",
   "metadata": {},
   "outputs": [
    {
     "name": "stdout",
     "output_type": "stream",
     "text": [
      "['mango', 'banana', 'lichy', 'apple', 'banana', 'strawberry', 'peach']\n"
     ]
    }
   ],
   "source": [
    "print(list_one)"
   ]
  },
  {
   "cell_type": "code",
   "execution_count": 15,
   "id": "5d1f9e4b",
   "metadata": {},
   "outputs": [
    {
     "ename": "TypeError",
     "evalue": "pop expected at most 1 argument, got 2",
     "output_type": "error",
     "traceback": [
      "\u001b[1;31m---------------------------------------------------------------------------\u001b[0m",
      "\u001b[1;31mTypeError\u001b[0m                                 Traceback (most recent call last)",
      "Input \u001b[1;32mIn [15]\u001b[0m, in \u001b[0;36m<module>\u001b[1;34m\u001b[0m\n\u001b[1;32m----> 1\u001b[0m \u001b[43mlist_one\u001b[49m\u001b[38;5;241;43m.\u001b[39;49m\u001b[43mpop\u001b[49m\u001b[43m(\u001b[49m\u001b[38;5;241;43m6\u001b[39;49m\u001b[43m,\u001b[49m\u001b[38;5;241;43m5\u001b[39;49m\u001b[43m)\u001b[49m\n",
      "\u001b[1;31mTypeError\u001b[0m: pop expected at most 1 argument, got 2"
     ]
    }
   ],
   "source": [
    "list_one.pop(6,5)"
   ]
  },
  {
   "cell_type": "code",
   "execution_count": 17,
   "id": "761273c2",
   "metadata": {},
   "outputs": [
    {
     "data": {
      "text/plain": [
       "['mango', 'banana', 'lichy', 'apple', 'banana', 'strawberry', 'peach']"
      ]
     },
     "execution_count": 17,
     "metadata": {},
     "output_type": "execute_result"
    }
   ],
   "source": [
    "list_one"
   ]
  },
  {
   "cell_type": "code",
   "execution_count": 18,
   "id": "89a4c3ad",
   "metadata": {},
   "outputs": [
    {
     "data": {
      "text/plain": [
       "'peach'"
      ]
     },
     "execution_count": 18,
     "metadata": {},
     "output_type": "execute_result"
    }
   ],
   "source": [
    "list_one.pop()"
   ]
  },
  {
   "cell_type": "code",
   "execution_count": 19,
   "id": "001f955e",
   "metadata": {},
   "outputs": [
    {
     "name": "stdout",
     "output_type": "stream",
     "text": [
      "['mango', 'banana', 'lichy', 'apple', 'banana', 'strawberry']\n"
     ]
    }
   ],
   "source": [
    "print(list_one)"
   ]
  },
  {
   "cell_type": "markdown",
   "id": "956943bb",
   "metadata": {},
   "source": [
    "## `sort()`"
   ]
  },
  {
   "cell_type": "code",
   "execution_count": 20,
   "id": "51d68494",
   "metadata": {},
   "outputs": [],
   "source": [
    "l = [1,8,0,-1,7,22]\n",
    "l.sort() # by default sort function sorts the list in asc order"
   ]
  },
  {
   "cell_type": "code",
   "execution_count": 21,
   "id": "f1e47474",
   "metadata": {},
   "outputs": [
    {
     "name": "stdout",
     "output_type": "stream",
     "text": [
      "[-1, 0, 1, 7, 8, 22]\n"
     ]
    }
   ],
   "source": [
    "print(l)"
   ]
  },
  {
   "cell_type": "code",
   "execution_count": 22,
   "id": "38b1989f",
   "metadata": {},
   "outputs": [],
   "source": [
    "l.sort(reverse=True)"
   ]
  },
  {
   "cell_type": "code",
   "execution_count": 23,
   "id": "fdd792f0",
   "metadata": {},
   "outputs": [
    {
     "name": "stdout",
     "output_type": "stream",
     "text": [
      "[22, 8, 7, 1, 0, -1]\n"
     ]
    }
   ],
   "source": [
    "print(l)"
   ]
  },
  {
   "cell_type": "code",
   "execution_count": 24,
   "id": "42719c6e",
   "metadata": {},
   "outputs": [
    {
     "data": {
      "text/plain": [
       "[-1, 0, 1, 7, 8, 22]"
      ]
     },
     "execution_count": 24,
     "metadata": {},
     "output_type": "execute_result"
    }
   ],
   "source": [
    "sorted(l)"
   ]
  },
  {
   "cell_type": "code",
   "execution_count": 26,
   "id": "6232052a",
   "metadata": {},
   "outputs": [],
   "source": [
    "t = (1,2,0,-17)"
   ]
  },
  {
   "cell_type": "code",
   "execution_count": 30,
   "id": "b4356dc2",
   "metadata": {},
   "outputs": [
    {
     "data": {
      "text/plain": [
       "(-17, 0, 1, 2)"
      ]
     },
     "execution_count": 30,
     "metadata": {},
     "output_type": "execute_result"
    }
   ],
   "source": [
    "tuple(sorted(t))"
   ]
  },
  {
   "cell_type": "code",
   "execution_count": 31,
   "id": "c1a1a337",
   "metadata": {},
   "outputs": [
    {
     "data": {
      "text/plain": [
       "[2, 1, 0, -17]"
      ]
     },
     "execution_count": 31,
     "metadata": {},
     "output_type": "execute_result"
    }
   ],
   "source": [
    "sorted(t,reverse=True)"
   ]
  },
  {
   "cell_type": "markdown",
   "id": "58e27d8d",
   "metadata": {},
   "source": [
    "### Difference between sort and sorted\n",
    "1. sort is a method of class list , sorted builtin method\n",
    "2. you don't need to pass list as an argument, you need to pass the collection as an argument\n",
    "3. sort makes changes in the original list, sorted doesnot toches the original list instead it                                                   returns the sorted list\n"
   ]
  },
  {
   "cell_type": "code",
   "execution_count": null,
   "id": "33e5da77",
   "metadata": {},
   "outputs": [],
   "source": [
    "list_xyz.sort()   sorted(list_xyz)"
   ]
  },
  {
   "cell_type": "code",
   "execution_count": 32,
   "id": "122895b4",
   "metadata": {},
   "outputs": [
    {
     "data": {
      "text/plain": [
       "['a', 'x', 'y', 'z']"
      ]
     },
     "execution_count": 32,
     "metadata": {},
     "output_type": "execute_result"
    }
   ],
   "source": [
    "sorted(\"zxya\")"
   ]
  },
  {
   "cell_type": "code",
   "execution_count": 33,
   "id": "b0c4042c",
   "metadata": {},
   "outputs": [
    {
     "data": {
      "text/plain": [
       "\"['a', 'x', 'y', 'z']\""
      ]
     },
     "execution_count": 33,
     "metadata": {},
     "output_type": "execute_result"
    }
   ],
   "source": [
    "\"zxya\"\n",
    "\"axyz\""
   ]
  },
  {
   "cell_type": "code",
   "execution_count": 36,
   "id": "6ff3fc9d",
   "metadata": {},
   "outputs": [
    {
     "data": {
      "text/plain": [
       "'axyz'"
      ]
     },
     "execution_count": 36,
     "metadata": {},
     "output_type": "execute_result"
    }
   ],
   "source": [
    "''''''.join(sorted(\"zxya\"))"
   ]
  },
  {
   "cell_type": "code",
   "execution_count": 37,
   "id": "1f7f9de8",
   "metadata": {
    "collapsed": true
   },
   "outputs": [
    {
     "name": "stdout",
     "output_type": "stream",
     "text": [
      "Help on class tuple in module builtins:\n",
      "\n",
      "class tuple(object)\n",
      " |  tuple(iterable=(), /)\n",
      " |  \n",
      " |  Built-in immutable sequence.\n",
      " |  \n",
      " |  If no argument is given, the constructor returns an empty tuple.\n",
      " |  If iterable is specified the tuple is initialized from iterable's items.\n",
      " |  \n",
      " |  If the argument is a tuple, the return value is the same object.\n",
      " |  \n",
      " |  Built-in subclasses:\n",
      " |      asyncgen_hooks\n",
      " |      UnraisableHookArgs\n",
      " |  \n",
      " |  Methods defined here:\n",
      " |  \n",
      " |  __add__(self, value, /)\n",
      " |      Return self+value.\n",
      " |  \n",
      " |  __contains__(self, key, /)\n",
      " |      Return key in self.\n",
      " |  \n",
      " |  __eq__(self, value, /)\n",
      " |      Return self==value.\n",
      " |  \n",
      " |  __ge__(self, value, /)\n",
      " |      Return self>=value.\n",
      " |  \n",
      " |  __getattribute__(self, name, /)\n",
      " |      Return getattr(self, name).\n",
      " |  \n",
      " |  __getitem__(self, key, /)\n",
      " |      Return self[key].\n",
      " |  \n",
      " |  __getnewargs__(self, /)\n",
      " |  \n",
      " |  __gt__(self, value, /)\n",
      " |      Return self>value.\n",
      " |  \n",
      " |  __hash__(self, /)\n",
      " |      Return hash(self).\n",
      " |  \n",
      " |  __iter__(self, /)\n",
      " |      Implement iter(self).\n",
      " |  \n",
      " |  __le__(self, value, /)\n",
      " |      Return self<=value.\n",
      " |  \n",
      " |  __len__(self, /)\n",
      " |      Return len(self).\n",
      " |  \n",
      " |  __lt__(self, value, /)\n",
      " |      Return self<value.\n",
      " |  \n",
      " |  __mul__(self, value, /)\n",
      " |      Return self*value.\n",
      " |  \n",
      " |  __ne__(self, value, /)\n",
      " |      Return self!=value.\n",
      " |  \n",
      " |  __repr__(self, /)\n",
      " |      Return repr(self).\n",
      " |  \n",
      " |  __rmul__(self, value, /)\n",
      " |      Return value*self.\n",
      " |  \n",
      " |  count(self, value, /)\n",
      " |      Return number of occurrences of value.\n",
      " |  \n",
      " |  index(self, value, start=0, stop=9223372036854775807, /)\n",
      " |      Return first index of value.\n",
      " |      \n",
      " |      Raises ValueError if the value is not present.\n",
      " |  \n",
      " |  ----------------------------------------------------------------------\n",
      " |  Class methods defined here:\n",
      " |  \n",
      " |  __class_getitem__(...) from builtins.type\n",
      " |      See PEP 585\n",
      " |  \n",
      " |  ----------------------------------------------------------------------\n",
      " |  Static methods defined here:\n",
      " |  \n",
      " |  __new__(*args, **kwargs) from builtins.type\n",
      " |      Create and return a new object.  See help(type) for accurate signature.\n",
      "\n"
     ]
    }
   ],
   "source": [
    "help(tuple)"
   ]
  },
  {
   "cell_type": "code",
   "execution_count": 38,
   "id": "c1eda398",
   "metadata": {},
   "outputs": [
    {
     "data": {
      "text/plain": [
       "('G', 'o', 'p', 'a', 'l')"
      ]
     },
     "execution_count": 38,
     "metadata": {},
     "output_type": "execute_result"
    }
   ],
   "source": [
    "tuple(\"Gopal\")"
   ]
  },
  {
   "cell_type": "code",
   "execution_count": 39,
   "id": "e5f0027f",
   "metadata": {},
   "outputs": [
    {
     "data": {
      "text/plain": [
       "3"
      ]
     },
     "execution_count": 39,
     "metadata": {},
     "output_type": "execute_result"
    }
   ],
   "source": [
    "list_one = ['mango', \"banana\", 'lichy', 'apple', 'banana', 'strawberry', \"banana\", 'peach']\n",
    "list_one.count('banana')"
   ]
  },
  {
   "cell_type": "markdown",
   "id": "5b2ff900",
   "metadata": {},
   "source": [
    "## `clear`"
   ]
  },
  {
   "cell_type": "code",
   "execution_count": 40,
   "id": "9c96ae7d",
   "metadata": {},
   "outputs": [],
   "source": [
    "list_one.clear()"
   ]
  },
  {
   "cell_type": "code",
   "execution_count": 41,
   "id": "e8276483",
   "metadata": {},
   "outputs": [
    {
     "name": "stdout",
     "output_type": "stream",
     "text": [
      "[]\n"
     ]
    }
   ],
   "source": [
    "print(list_one)"
   ]
  },
  {
   "cell_type": "code",
   "execution_count": 42,
   "id": "843fea8d",
   "metadata": {},
   "outputs": [],
   "source": [
    "del list_one"
   ]
  },
  {
   "cell_type": "code",
   "execution_count": 43,
   "id": "9f6f0984",
   "metadata": {
    "collapsed": true
   },
   "outputs": [
    {
     "ename": "NameError",
     "evalue": "name 'list_one' is not defined",
     "output_type": "error",
     "traceback": [
      "\u001b[1;31m---------------------------------------------------------------------------\u001b[0m",
      "\u001b[1;31mNameError\u001b[0m                                 Traceback (most recent call last)",
      "Input \u001b[1;32mIn [43]\u001b[0m, in \u001b[0;36m<module>\u001b[1;34m\u001b[0m\n\u001b[1;32m----> 1\u001b[0m \u001b[38;5;28mprint\u001b[39m(\u001b[43mlist_one\u001b[49m)\n",
      "\u001b[1;31mNameError\u001b[0m: name 'list_one' is not defined"
     ]
    }
   ],
   "source": [
    "print(list_one)"
   ]
  },
  {
   "cell_type": "code",
   "execution_count": 44,
   "id": "58b6d83c",
   "metadata": {},
   "outputs": [
    {
     "data": {
      "text/plain": [
       "2"
      ]
     },
     "execution_count": 44,
     "metadata": {},
     "output_type": "execute_result"
    }
   ],
   "source": [
    "list_one = ['mango', \"banana\", 'lichy', 'apple', 'banana', 'strawberry', \"banana\", 'peach']\n",
    "list_one.index('lichy')"
   ]
  },
  {
   "cell_type": "code",
   "execution_count": 46,
   "id": "acf2babf",
   "metadata": {},
   "outputs": [
    {
     "ename": "ValueError",
     "evalue": "'pineapple' is not in list",
     "output_type": "error",
     "traceback": [
      "\u001b[1;31m---------------------------------------------------------------------------\u001b[0m",
      "\u001b[1;31mValueError\u001b[0m                                Traceback (most recent call last)",
      "Input \u001b[1;32mIn [46]\u001b[0m, in \u001b[0;36m<module>\u001b[1;34m\u001b[0m\n\u001b[1;32m----> 1\u001b[0m \u001b[43mlist_one\u001b[49m\u001b[38;5;241;43m.\u001b[39;49m\u001b[43mindex\u001b[49m\u001b[43m(\u001b[49m\u001b[38;5;124;43m\"\u001b[39;49m\u001b[38;5;124;43mpineapple\u001b[39;49m\u001b[38;5;124;43m\"\u001b[39;49m\u001b[43m)\u001b[49m\n",
      "\u001b[1;31mValueError\u001b[0m: 'pineapple' is not in list"
     ]
    }
   ],
   "source": [
    "list_one.index(\"pineapple\")"
   ]
  },
  {
   "cell_type": "code",
   "execution_count": null,
   "id": "16180e80",
   "metadata": {},
   "outputs": [],
   "source": [
    "list_one = ['mango', \"banana\", 'lichy', 'apple', 'banana', 'strawberry', \"banana\", 'peach']\n",
    "list_one.index('lichy')"
   ]
  },
  {
   "cell_type": "code",
   "execution_count": null,
   "id": "29029c79",
   "metadata": {},
   "outputs": [],
   "source": [
    "Q find all the indexes of the bananas in the given list of fruits\n",
    "**Hint--> Use Loops\n",
    "list_one = ['mango', \"banana\", 'lichy', 'apple', 'banana', 'strawberry', \"banana\", 'peach']\n"
   ]
  },
  {
   "cell_type": "code",
   "execution_count": 50,
   "id": "87a7b64f",
   "metadata": {},
   "outputs": [
    {
     "name": "stdout",
     "output_type": "stream",
     "text": [
      "1-->banana\n",
      "4-->banana\n",
      "6-->banana\n"
     ]
    }
   ],
   "source": [
    "list_one = ['mango', \"banana\", 'lichy', 'apple', 'banana', 'strawberry', \"banana\", 'peach']\n",
    "\n",
    "for i in range(len(list_one)):\n",
    "    if list_one[i] == \"banana\":\n",
    "        print(i,list_one[i],sep=\"-->\")"
   ]
  },
  {
   "cell_type": "code",
   "execution_count": 52,
   "id": "673fce9b",
   "metadata": {},
   "outputs": [
    {
     "name": "stdout",
     "output_type": "stream",
     "text": [
      "1\n",
      "4\n",
      "6\n"
     ]
    }
   ],
   "source": [
    "list_one = ['mango', \"banana\", 'lichy', 'apple', 'banana', 'strawberry', \"banana\", 'peach']\n",
    "i = 0\n",
    "while i < len(list_one):\n",
    "    if list_one[i] == 'banana':\n",
    "        print(i)\n",
    "    i += 1"
   ]
  },
  {
   "cell_type": "code",
   "execution_count": 60,
   "id": "71592109",
   "metadata": {},
   "outputs": [
    {
     "name": "stdout",
     "output_type": "stream",
     "text": [
      "1\n",
      "4\n",
      "6\n",
      "[1, 4, 6]\n"
     ]
    }
   ],
   "source": [
    "#Q. find all the indexes of the bananas in the given list of fruits\n",
    "#Use Loop\n",
    "l= ['mango', \"banana\", 'lichy', 'apple', 'banana', 'strawberry', \"banana\", 'peach']\n",
    "count=0\n",
    "for i in range(len(l)):\n",
    "    if l[i]=='banana':\n",
    "        print(i)\n",
    "print([i for i in range(len(l)) if l[i]=='banana'])"
   ]
  },
  {
   "cell_type": "code",
   "execution_count": 54,
   "id": "d42d03f5",
   "metadata": {},
   "outputs": [
    {
     "data": {
      "text/plain": [
       "2"
      ]
     },
     "execution_count": 54,
     "metadata": {},
     "output_type": "execute_result"
    }
   ],
   "source": [
    "list_one = ['mango', \"banana\", 'lichy', 'apple', 'banana', 'strawberry', \"banana\", 'peach']\n",
    "list_one.index('lichy')"
   ]
  },
  {
   "cell_type": "code",
   "execution_count": 61,
   "id": "41a0d619",
   "metadata": {},
   "outputs": [
    {
     "data": {
      "text/plain": [
       "1"
      ]
     },
     "execution_count": 61,
     "metadata": {},
     "output_type": "execute_result"
    }
   ],
   "source": [
    "list_one.index(\"banana\")"
   ]
  },
  {
   "cell_type": "code",
   "execution_count": 62,
   "id": "cd6e5a97",
   "metadata": {},
   "outputs": [
    {
     "data": {
      "text/plain": [
       "4"
      ]
     },
     "execution_count": 62,
     "metadata": {},
     "output_type": "execute_result"
    }
   ],
   "source": [
    "list_one.index(\"banana\",2)"
   ]
  },
  {
   "cell_type": "code",
   "execution_count": 71,
   "id": "f79aab21",
   "metadata": {},
   "outputs": [
    {
     "data": {
      "text/plain": [
       "1"
      ]
     },
     "execution_count": 71,
     "metadata": {},
     "output_type": "execute_result"
    }
   ],
   "source": [
    "list_one.index(\"banana\")"
   ]
  },
  {
   "cell_type": "markdown",
   "id": "8c42321b",
   "metadata": {},
   "source": [
    "## `Tuple`"
   ]
  },
  {
   "cell_type": "code",
   "execution_count": null,
   "id": "9a818d15",
   "metadata": {},
   "outputs": [],
   "source": [
    "(1,23,\"Madhurika\")\n",
    "# immutable"
   ]
  },
  {
   "cell_type": "code",
   "execution_count": 72,
   "id": "240e24f6",
   "metadata": {
    "collapsed": true
   },
   "outputs": [
    {
     "name": "stdout",
     "output_type": "stream",
     "text": [
      "Help on class tuple in module builtins:\n",
      "\n",
      "class tuple(object)\n",
      " |  tuple(iterable=(), /)\n",
      " |  \n",
      " |  Built-in immutable sequence.\n",
      " |  \n",
      " |  If no argument is given, the constructor returns an empty tuple.\n",
      " |  If iterable is specified the tuple is initialized from iterable's items.\n",
      " |  \n",
      " |  If the argument is a tuple, the return value is the same object.\n",
      " |  \n",
      " |  Built-in subclasses:\n",
      " |      asyncgen_hooks\n",
      " |      UnraisableHookArgs\n",
      " |  \n",
      " |  Methods defined here:\n",
      " |  \n",
      " |  __add__(self, value, /)\n",
      " |      Return self+value.\n",
      " |  \n",
      " |  __contains__(self, key, /)\n",
      " |      Return key in self.\n",
      " |  \n",
      " |  __eq__(self, value, /)\n",
      " |      Return self==value.\n",
      " |  \n",
      " |  __ge__(self, value, /)\n",
      " |      Return self>=value.\n",
      " |  \n",
      " |  __getattribute__(self, name, /)\n",
      " |      Return getattr(self, name).\n",
      " |  \n",
      " |  __getitem__(self, key, /)\n",
      " |      Return self[key].\n",
      " |  \n",
      " |  __getnewargs__(self, /)\n",
      " |  \n",
      " |  __gt__(self, value, /)\n",
      " |      Return self>value.\n",
      " |  \n",
      " |  __hash__(self, /)\n",
      " |      Return hash(self).\n",
      " |  \n",
      " |  __iter__(self, /)\n",
      " |      Implement iter(self).\n",
      " |  \n",
      " |  __le__(self, value, /)\n",
      " |      Return self<=value.\n",
      " |  \n",
      " |  __len__(self, /)\n",
      " |      Return len(self).\n",
      " |  \n",
      " |  __lt__(self, value, /)\n",
      " |      Return self<value.\n",
      " |  \n",
      " |  __mul__(self, value, /)\n",
      " |      Return self*value.\n",
      " |  \n",
      " |  __ne__(self, value, /)\n",
      " |      Return self!=value.\n",
      " |  \n",
      " |  __repr__(self, /)\n",
      " |      Return repr(self).\n",
      " |  \n",
      " |  __rmul__(self, value, /)\n",
      " |      Return value*self.\n",
      " |  \n",
      " |  count(self, value, /)\n",
      " |      Return number of occurrences of value.\n",
      " |  \n",
      " |  index(self, value, start=0, stop=9223372036854775807, /)\n",
      " |      Return first index of value.\n",
      " |      \n",
      " |      Raises ValueError if the value is not present.\n",
      " |  \n",
      " |  ----------------------------------------------------------------------\n",
      " |  Class methods defined here:\n",
      " |  \n",
      " |  __class_getitem__(...) from builtins.type\n",
      " |      See PEP 585\n",
      " |  \n",
      " |  ----------------------------------------------------------------------\n",
      " |  Static methods defined here:\n",
      " |  \n",
      " |  __new__(*args, **kwargs) from builtins.type\n",
      " |      Create and return a new object.  See help(type) for accurate signature.\n",
      "\n"
     ]
    }
   ],
   "source": [
    "help(tuple)"
   ]
  },
  {
   "cell_type": "code",
   "execution_count": 74,
   "id": "f1bc812b",
   "metadata": {},
   "outputs": [],
   "source": [
    "tuple_one = (1,23,1,\"Madhurika\")"
   ]
  },
  {
   "cell_type": "code",
   "execution_count": 75,
   "id": "55156ba3",
   "metadata": {},
   "outputs": [
    {
     "data": {
      "text/plain": [
       "2"
      ]
     },
     "execution_count": 75,
     "metadata": {},
     "output_type": "execute_result"
    }
   ],
   "source": [
    "tuple_one.count(1)"
   ]
  },
  {
   "cell_type": "code",
   "execution_count": 76,
   "id": "4b0014f8",
   "metadata": {},
   "outputs": [
    {
     "data": {
      "text/plain": [
       "3"
      ]
     },
     "execution_count": 76,
     "metadata": {},
     "output_type": "execute_result"
    }
   ],
   "source": [
    "tuple_one.index(\"Madhurika\")"
   ]
  },
  {
   "cell_type": "code",
   "execution_count": 77,
   "id": "988c640b",
   "metadata": {},
   "outputs": [
    {
     "data": {
      "text/plain": [
       "(1, 23)"
      ]
     },
     "execution_count": 77,
     "metadata": {},
     "output_type": "execute_result"
    }
   ],
   "source": [
    "tuple_one[:2]"
   ]
  },
  {
   "cell_type": "code",
   "execution_count": null,
   "id": "e1d800b9",
   "metadata": {},
   "outputs": [],
   "source": []
  }
 ],
 "metadata": {
  "kernelspec": {
   "display_name": "Python 3 (ipykernel)",
   "language": "python",
   "name": "python3"
  },
  "language_info": {
   "codemirror_mode": {
    "name": "ipython",
    "version": 3
   },
   "file_extension": ".py",
   "mimetype": "text/x-python",
   "name": "python",
   "nbconvert_exporter": "python",
   "pygments_lexer": "ipython3",
   "version": "3.10.1"
  }
 },
 "nbformat": 4,
 "nbformat_minor": 5
}
