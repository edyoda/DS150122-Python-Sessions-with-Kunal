{
 "cells": [
  {
   "cell_type": "code",
   "execution_count": null,
   "id": "c591851e",
   "metadata": {},
   "outputs": [],
   "source": [
    "#revise\n",
    "string --> formating:\n",
    "    implicit order --ex--> \"{} is a cool boy\".format(\"Thilak\")\n",
    "    positional arguments --ex--> \"{1} and {0} are friends\".format(\"Snegha\",\"Payal\")\n",
    "    keywords arguments --ex--> \"kumar neeraj is eating {food}\".format(food=input())\n",
    "print --> end --> decides how print ends the statement\n",
    "          sep --> It acts like a seperator between given argument\n",
    "list --> append() --> it adds an element at the end of the list\n",
    "         insert() --> add element at given index position\n",
    "         extend() -->  to extend/ get elements from the other list\n",
    "         2D list --> [[\"elemnt1\",\"elemnt2\"],[\"element4\",\"elemnt5\",5]]"
   ]
  },
  {
   "cell_type": "code",
   "execution_count": 1,
   "id": "5a25fca6",
   "metadata": {},
   "outputs": [
    {
     "name": "stdout",
     "output_type": "stream",
     "text": [
      "Maggie\n"
     ]
    },
    {
     "data": {
      "text/plain": [
       "'kumar neeraj is eating Maggie'"
      ]
     },
     "execution_count": 1,
     "metadata": {},
     "output_type": "execute_result"
    }
   ],
   "source": [
    "\"kumar neeraj is eating {food}\".format(food=input())"
   ]
  },
  {
   "cell_type": "code",
   "execution_count": 2,
   "id": "8113d8f0",
   "metadata": {},
   "outputs": [
    {
     "name": "stdout",
     "output_type": "stream",
     "text": [
      "hyderabadi chicken biryani\n"
     ]
    },
    {
     "data": {
      "text/plain": [
       "'kumar neeraj is eating hyderabadi chicken biryani'"
      ]
     },
     "execution_count": 2,
     "metadata": {},
     "output_type": "execute_result"
    }
   ],
   "source": [
    "\"kumar neeraj is eating {food}\".format(food=input())"
   ]
  },
  {
   "cell_type": "code",
   "execution_count": 3,
   "id": "9837622f",
   "metadata": {},
   "outputs": [
    {
     "name": "stdout",
     "output_type": "stream",
     "text": [
      "Sandeep Thilak\n"
     ]
    }
   ],
   "source": [
    "print(\"Sandeep Thilak\",sep=\"#\")"
   ]
  },
  {
   "cell_type": "code",
   "execution_count": 4,
   "id": "222ef90e",
   "metadata": {},
   "outputs": [
    {
     "name": "stdout",
     "output_type": "stream",
     "text": [
      "Sandeep#Thilak\n"
     ]
    }
   ],
   "source": [
    "print(\"Sandeep\",\"Thilak\",sep=\"#\")"
   ]
  },
  {
   "cell_type": "code",
   "execution_count": 5,
   "id": "0d85a076",
   "metadata": {},
   "outputs": [],
   "source": [
    "list_one = [\"mango\",\"apple\",\"banana\",\"strawberry\",\"peach\"]\n",
    "list_one.insert(1,\"lichy\")"
   ]
  },
  {
   "cell_type": "code",
   "execution_count": 6,
   "id": "45dff3ba",
   "metadata": {},
   "outputs": [
    {
     "name": "stdout",
     "output_type": "stream",
     "text": [
      "['mango', 'lichy', 'apple', 'banana', 'strawberry', 'peach']\n"
     ]
    }
   ],
   "source": [
    "print(list_one)"
   ]
  },
  {
   "cell_type": "code",
   "execution_count": 7,
   "id": "856a7b4f",
   "metadata": {},
   "outputs": [
    {
     "name": "stdout",
     "output_type": "stream",
     "text": [
      "Help on class list in module builtins:\n",
      "\n",
      "class list(object)\n",
      " |  list(iterable=(), /)\n",
      " |  \n",
      " |  Built-in mutable sequence.\n",
      " |  \n",
      " |  If no argument is given, the constructor creates a new empty list.\n",
      " |  The argument must be an iterable if specified.\n",
      " |  \n",
      " |  Methods defined here:\n",
      " |  \n",
      " |  __add__(self, value, /)\n",
      " |      Return self+value.\n",
      " |  \n",
      " |  __contains__(self, key, /)\n",
      " |      Return key in self.\n",
      " |  \n",
      " |  __delitem__(self, key, /)\n",
      " |      Delete self[key].\n",
      " |  \n",
      " |  __eq__(self, value, /)\n",
      " |      Return self==value.\n",
      " |  \n",
      " |  __ge__(self, value, /)\n",
      " |      Return self>=value.\n",
      " |  \n",
      " |  __getattribute__(self, name, /)\n",
      " |      Return getattr(self, name).\n",
      " |  \n",
      " |  __getitem__(...)\n",
      " |      x.__getitem__(y) <==> x[y]\n",
      " |  \n",
      " |  __gt__(self, value, /)\n",
      " |      Return self>value.\n",
      " |  \n",
      " |  __iadd__(self, value, /)\n",
      " |      Implement self+=value.\n",
      " |  \n",
      " |  __imul__(self, value, /)\n",
      " |      Implement self*=value.\n",
      " |  \n",
      " |  __init__(self, /, *args, **kwargs)\n",
      " |      Initialize self.  See help(type(self)) for accurate signature.\n",
      " |  \n",
      " |  __iter__(self, /)\n",
      " |      Implement iter(self).\n",
      " |  \n",
      " |  __le__(self, value, /)\n",
      " |      Return self<=value.\n",
      " |  \n",
      " |  __len__(self, /)\n",
      " |      Return len(self).\n",
      " |  \n",
      " |  __lt__(self, value, /)\n",
      " |      Return self<value.\n",
      " |  \n",
      " |  __mul__(self, value, /)\n",
      " |      Return self*value.\n",
      " |  \n",
      " |  __ne__(self, value, /)\n",
      " |      Return self!=value.\n",
      " |  \n",
      " |  __repr__(self, /)\n",
      " |      Return repr(self).\n",
      " |  \n",
      " |  __reversed__(self, /)\n",
      " |      Return a reverse iterator over the list.\n",
      " |  \n",
      " |  __rmul__(self, value, /)\n",
      " |      Return value*self.\n",
      " |  \n",
      " |  __setitem__(self, key, value, /)\n",
      " |      Set self[key] to value.\n",
      " |  \n",
      " |  __sizeof__(self, /)\n",
      " |      Return the size of the list in memory, in bytes.\n",
      " |  \n",
      " |  append(self, object, /)\n",
      " |      Append object to the end of the list.\n",
      " |  \n",
      " |  clear(self, /)\n",
      " |      Remove all items from list.\n",
      " |  \n",
      " |  copy(self, /)\n",
      " |      Return a shallow copy of the list.\n",
      " |  \n",
      " |  count(self, value, /)\n",
      " |      Return number of occurrences of value.\n",
      " |  \n",
      " |  extend(self, iterable, /)\n",
      " |      Extend list by appending elements from the iterable.\n",
      " |  \n",
      " |  index(self, value, start=0, stop=9223372036854775807, /)\n",
      " |      Return first index of value.\n",
      " |      \n",
      " |      Raises ValueError if the value is not present.\n",
      " |  \n",
      " |  insert(self, index, object, /)\n",
      " |      Insert object before index.\n",
      " |  \n",
      " |  pop(self, index=-1, /)\n",
      " |      Remove and return item at index (default last).\n",
      " |      \n",
      " |      Raises IndexError if list is empty or index is out of range.\n",
      " |  \n",
      " |  remove(self, value, /)\n",
      " |      Remove first occurrence of value.\n",
      " |      \n",
      " |      Raises ValueError if the value is not present.\n",
      " |  \n",
      " |  reverse(self, /)\n",
      " |      Reverse *IN PLACE*.\n",
      " |  \n",
      " |  sort(self, /, *, key=None, reverse=False)\n",
      " |      Sort the list in ascending order and return None.\n",
      " |      \n",
      " |      The sort is in-place (i.e. the list itself is modified) and stable (i.e. the\n",
      " |      order of two equal elements is maintained).\n",
      " |      \n",
      " |      If a key function is given, apply it once to each list item and sort them,\n",
      " |      ascending or descending, according to their function values.\n",
      " |      \n",
      " |      The reverse flag can be set to sort in descending order.\n",
      " |  \n",
      " |  ----------------------------------------------------------------------\n",
      " |  Class methods defined here:\n",
      " |  \n",
      " |  __class_getitem__(...) from builtins.type\n",
      " |      See PEP 585\n",
      " |  \n",
      " |  ----------------------------------------------------------------------\n",
      " |  Static methods defined here:\n",
      " |  \n",
      " |  __new__(*args, **kwargs) from builtins.type\n",
      " |      Create and return a new object.  See help(type) for accurate signature.\n",
      " |  \n",
      " |  ----------------------------------------------------------------------\n",
      " |  Data and other attributes defined here:\n",
      " |  \n",
      " |  __hash__ = None\n",
      "\n"
     ]
    }
   ],
   "source": [
    "help(list)"
   ]
  },
  {
   "cell_type": "markdown",
   "id": "6ad8c2b1",
   "metadata": {},
   "source": [
    "## `Remove`"
   ]
  },
  {
   "cell_type": "code",
   "execution_count": 8,
   "id": "71baa17c",
   "metadata": {},
   "outputs": [],
   "source": [
    "list_one = ['mango', 'lichy', 'apple', 'banana', 'strawberry', 'peach']\n",
    "list_one.remove(\"banana\")"
   ]
  },
  {
   "cell_type": "code",
   "execution_count": 9,
   "id": "ae9f8b22",
   "metadata": {},
   "outputs": [
    {
     "data": {
      "text/plain": [
       "['mango', 'lichy', 'apple', 'strawberry', 'peach']"
      ]
     },
     "execution_count": 9,
     "metadata": {},
     "output_type": "execute_result"
    }
   ],
   "source": [
    "list_one"
   ]
  },
  {
   "cell_type": "code",
   "execution_count": 10,
   "id": "c0a98d18",
   "metadata": {},
   "outputs": [],
   "source": [
    "list_one = ['mango', \"banana\", 'lichy', 'apple', 'banana', 'strawberry', \"banana\",'peach']\n",
    "list_one.remove(\"banana\")"
   ]
  },
  {
   "cell_type": "code",
   "execution_count": 11,
   "id": "11265815",
   "metadata": {},
   "outputs": [
    {
     "name": "stdout",
     "output_type": "stream",
     "text": [
      "['mango', 'lichy', 'apple', 'banana', 'strawberry', 'banana', 'peach']\n"
     ]
    }
   ],
   "source": [
    "print(list_one)"
   ]
  },
  {
   "cell_type": "code",
   "execution_count": 12,
   "id": "bd054aac",
   "metadata": {},
   "outputs": [
    {
     "ename": "TypeError",
     "evalue": "list.remove() takes exactly one argument (2 given)",
     "output_type": "error",
     "traceback": [
      "\u001b[1;31m---------------------------------------------------------------------------\u001b[0m",
      "\u001b[1;31mTypeError\u001b[0m                                 Traceback (most recent call last)",
      "Input \u001b[1;32mIn [12]\u001b[0m, in \u001b[0;36m<module>\u001b[1;34m\u001b[0m\n\u001b[1;32m----> 1\u001b[0m \u001b[43mlist_one\u001b[49m\u001b[38;5;241;43m.\u001b[39;49m\u001b[43mremove\u001b[49m\u001b[43m(\u001b[49m\u001b[38;5;124;43m\"\u001b[39;49m\u001b[38;5;124;43mbanana\u001b[39;49m\u001b[38;5;124;43m\"\u001b[39;49m\u001b[43m,\u001b[49m\u001b[38;5;124;43m\"\u001b[39;49m\u001b[38;5;124;43mbanana\u001b[39;49m\u001b[38;5;124;43m\"\u001b[39;49m\u001b[43m)\u001b[49m\n",
      "\u001b[1;31mTypeError\u001b[0m: list.remove() takes exactly one argument (2 given)"
     ]
    }
   ],
   "source": [
    "list_one.remove(\"banana\")"
   ]
  },
  {
   "cell_type": "code",
   "execution_count": 13,
   "id": "45bb6bb8",
   "metadata": {},
   "outputs": [
    {
     "data": {
      "text/plain": [
       "'banana'"
      ]
     },
     "execution_count": 13,
     "metadata": {},
     "output_type": "execute_result"
    }
   ],
   "source": [
    "list_one = ['mango', \"banana\", 'lichy', 'apple', 'banana', 'strawberry', \"banana\",'peach']\n",
    "list_one.pop(6)"
   ]
  },
  {
   "cell_type": "code",
   "execution_count": 14,
   "id": "43bf326d",
   "metadata": {},
   "outputs": [
    {
     "name": "stdout",
     "output_type": "stream",
     "text": [
      "['mango', 'banana', 'lichy', 'apple', 'banana', 'strawberry', 'peach']\n"
     ]
    }
   ],
   "source": [
    "print(list_one)"
   ]
  },
  {
   "cell_type": "code",
   "execution_count": 15,
   "id": "de5e11e2",
   "metadata": {},
   "outputs": [
    {
     "ename": "TypeError",
     "evalue": "pop expected at most 1 argument, got 2",
     "output_type": "error",
     "traceback": [
      "\u001b[1;31m---------------------------------------------------------------------------\u001b[0m",
      "\u001b[1;31mTypeError\u001b[0m                                 Traceback (most recent call last)",
      "Input \u001b[1;32mIn [15]\u001b[0m, in \u001b[0;36m<module>\u001b[1;34m\u001b[0m\n\u001b[1;32m----> 1\u001b[0m \u001b[43mlist_one\u001b[49m\u001b[38;5;241;43m.\u001b[39;49m\u001b[43mpop\u001b[49m\u001b[43m(\u001b[49m\u001b[38;5;241;43m6\u001b[39;49m\u001b[43m,\u001b[49m\u001b[38;5;241;43m5\u001b[39;49m\u001b[43m)\u001b[49m\n",
      "\u001b[1;31mTypeError\u001b[0m: pop expected at most 1 argument, got 2"
     ]
    }
   ],
   "source": [
    "list_one.pop(6,5)"
   ]
  },
  {
   "cell_type": "code",
   "execution_count": 17,
   "id": "a755f2da",
   "metadata": {},
   "outputs": [
    {
     "data": {
      "text/plain": [
       "['mango', 'banana', 'lichy', 'apple', 'banana', 'strawberry', 'peach']"
      ]
     },
     "execution_count": 17,
     "metadata": {},
     "output_type": "execute_result"
    }
   ],
   "source": [
    "list_one"
   ]
  },
  {
   "cell_type": "code",
   "execution_count": 18,
   "id": "b40b3e48",
   "metadata": {},
   "outputs": [
    {
     "data": {
      "text/plain": [
       "'peach'"
      ]
     },
     "execution_count": 18,
     "metadata": {},
     "output_type": "execute_result"
    }
   ],
   "source": [
    "list_one.pop()"
   ]
  },
  {
   "cell_type": "code",
   "execution_count": 19,
   "id": "e1e3ccdd",
   "metadata": {},
   "outputs": [
    {
     "name": "stdout",
     "output_type": "stream",
     "text": [
      "['mango', 'banana', 'lichy', 'apple', 'banana', 'strawberry']\n"
     ]
    }
   ],
   "source": [
    "print(list_one)"
   ]
  },
  {
   "cell_type": "markdown",
   "id": "e213a46b",
   "metadata": {},
   "source": [
    "## `sort()`"
   ]
  },
  {
   "cell_type": "code",
   "execution_count": 20,
   "id": "057a7b98",
   "metadata": {},
   "outputs": [],
   "source": [
    "l = [1,8,0,-1,7,22]\n",
    "l.sort() # by default sort function sorts the list in asc order"
   ]
  },
  {
   "cell_type": "code",
   "execution_count": 21,
   "id": "28a37480",
   "metadata": {},
   "outputs": [
    {
     "name": "stdout",
     "output_type": "stream",
     "text": [
      "[-1, 0, 1, 7, 8, 22]\n"
     ]
    }
   ],
   "source": [
    "print(l)"
   ]
  },
  {
   "cell_type": "code",
   "execution_count": 22,
   "id": "564d5a75",
   "metadata": {},
   "outputs": [],
   "source": [
    "l.sort(reverse=True)"
   ]
  },
  {
   "cell_type": "code",
   "execution_count": 23,
   "id": "ed441661",
   "metadata": {},
   "outputs": [
    {
     "name": "stdout",
     "output_type": "stream",
     "text": [
      "[22, 8, 7, 1, 0, -1]\n"
     ]
    }
   ],
   "source": [
    "print(l)"
   ]
  },
  {
   "cell_type": "code",
   "execution_count": 24,
   "id": "abc679f1",
   "metadata": {},
   "outputs": [
    {
     "data": {
      "text/plain": [
       "[-1, 0, 1, 7, 8, 22]"
      ]
     },
     "execution_count": 24,
     "metadata": {},
     "output_type": "execute_result"
    }
   ],
   "source": [
    "sorted(l)"
   ]
  },
  {
   "cell_type": "code",
   "execution_count": 26,
   "id": "616a9e15",
   "metadata": {},
   "outputs": [],
   "source": [
    "t = (1,2,0,-17)"
   ]
  },
  {
   "cell_type": "code",
   "execution_count": 30,
   "id": "e67bfc67",
   "metadata": {},
   "outputs": [
    {
     "data": {
      "text/plain": [
       "(-17, 0, 1, 2)"
      ]
     },
     "execution_count": 30,
     "metadata": {},
     "output_type": "execute_result"
    }
   ],
   "source": [
    "tuple(sorted(t))"
   ]
  },
  {
   "cell_type": "code",
   "execution_count": 31,
   "id": "e5bd8aad",
   "metadata": {},
   "outputs": [
    {
     "data": {
      "text/plain": [
       "[2, 1, 0, -17]"
      ]
     },
     "execution_count": 31,
     "metadata": {},
     "output_type": "execute_result"
    }
   ],
   "source": [
    "sorted(t,reverse=True)"
   ]
  },
  {
   "cell_type": "markdown",
   "id": "6b2663cc",
   "metadata": {},
   "source": [
    "### Difference between sort and sorted\n",
    "1. sort is a method of class list , sorted builtin method\n",
    "2. you don't need to pass list as an argument, you need to pass the collection as an argument\n",
    "3. sort makes changes in the original list, sorted doesnot toches the original list instead it                                                   returns the sorted list\n"
   ]
  },
  {
   "cell_type": "code",
   "execution_count": null,
   "id": "679901f0",
   "metadata": {},
   "outputs": [],
   "source": [
    "list_xyz.sort()   sorted(list_xyz)"
   ]
  },
  {
   "cell_type": "code",
   "execution_count": 32,
   "id": "7f54504e",
   "metadata": {},
   "outputs": [
    {
     "data": {
      "text/plain": [
       "['a', 'x', 'y', 'z']"
      ]
     },
     "execution_count": 32,
     "metadata": {},
     "output_type": "execute_result"
    }
   ],
   "source": [
    "sorted(\"zxya\")"
   ]
  },
  {
   "cell_type": "code",
   "execution_count": 33,
   "id": "124a44ab",
   "metadata": {},
   "outputs": [
    {
     "data": {
      "text/plain": [
       "\"['a', 'x', 'y', 'z']\""
      ]
     },
     "execution_count": 33,
     "metadata": {},
     "output_type": "execute_result"
    }
   ],
   "source": [
    "\"zxya\"\n",
    "\"axyz\""
   ]
  },
  {
   "cell_type": "code",
   "execution_count": 36,
   "id": "f6e44642",
   "metadata": {},
   "outputs": [
    {
     "data": {
      "text/plain": [
       "'axyz'"
      ]
     },
     "execution_count": 36,
     "metadata": {},
     "output_type": "execute_result"
    }
   ],
   "source": [
    "''''''.join(sorted(\"zxya\"))"
   ]
  },
  {
   "cell_type": "code",
   "execution_count": 37,
   "id": "335825bf",
   "metadata": {
    "collapsed": true
   },
   "outputs": [
    {
     "name": "stdout",
     "output_type": "stream",
     "text": [
      "Help on class tuple in module builtins:\n",
      "\n",
      "class tuple(object)\n",
      " |  tuple(iterable=(), /)\n",
      " |  \n",
      " |  Built-in immutable sequence.\n",
      " |  \n",
      " |  If no argument is given, the constructor returns an empty tuple.\n",
      " |  If iterable is specified the tuple is initialized from iterable's items.\n",
      " |  \n",
      " |  If the argument is a tuple, the return value is the same object.\n",
      " |  \n",
      " |  Built-in subclasses:\n",
      " |      asyncgen_hooks\n",
      " |      UnraisableHookArgs\n",
      " |  \n",
      " |  Methods defined here:\n",
      " |  \n",
      " |  __add__(self, value, /)\n",
      " |      Return self+value.\n",
      " |  \n",
      " |  __contains__(self, key, /)\n",
      " |      Return key in self.\n",
      " |  \n",
      " |  __eq__(self, value, /)\n",
      " |      Return self==value.\n",
      " |  \n",
      " |  __ge__(self, value, /)\n",
      " |      Return self>=value.\n",
      " |  \n",
      " |  __getattribute__(self, name, /)\n",
      " |      Return getattr(self, name).\n",
      " |  \n",
      " |  __getitem__(self, key, /)\n",
      " |      Return self[key].\n",
      " |  \n",
      " |  __getnewargs__(self, /)\n",
      " |  \n",
      " |  __gt__(self, value, /)\n",
      " |      Return self>value.\n",
      " |  \n",
      " |  __hash__(self, /)\n",
      " |      Return hash(self).\n",
      " |  \n",
      " |  __iter__(self, /)\n",
      " |      Implement iter(self).\n",
      " |  \n",
      " |  __le__(self, value, /)\n",
      " |      Return self<=value.\n",
      " |  \n",
      " |  __len__(self, /)\n",
      " |      Return len(self).\n",
      " |  \n",
      " |  __lt__(self, value, /)\n",
      " |      Return self<value.\n",
      " |  \n",
      " |  __mul__(self, value, /)\n",
      " |      Return self*value.\n",
      " |  \n",
      " |  __ne__(self, value, /)\n",
      " |      Return self!=value.\n",
      " |  \n",
      " |  __repr__(self, /)\n",
      " |      Return repr(self).\n",
      " |  \n",
      " |  __rmul__(self, value, /)\n",
      " |      Return value*self.\n",
      " |  \n",
      " |  count(self, value, /)\n",
      " |      Return number of occurrences of value.\n",
      " |  \n",
      " |  index(self, value, start=0, stop=9223372036854775807, /)\n",
      " |      Return first index of value.\n",
      " |      \n",
      " |      Raises ValueError if the value is not present.\n",
      " |  \n",
      " |  ----------------------------------------------------------------------\n",
      " |  Class methods defined here:\n",
      " |  \n",
      " |  __class_getitem__(...) from builtins.type\n",
      " |      See PEP 585\n",
      " |  \n",
      " |  ----------------------------------------------------------------------\n",
      " |  Static methods defined here:\n",
      " |  \n",
      " |  __new__(*args, **kwargs) from builtins.type\n",
      " |      Create and return a new object.  See help(type) for accurate signature.\n",
      "\n"
     ]
    }
   ],
   "source": [
    "help(tuple)"
   ]
  },
  {
   "cell_type": "code",
   "execution_count": 38,
   "id": "94af1b09",
   "metadata": {},
   "outputs": [
    {
     "data": {
      "text/plain": [
       "('G', 'o', 'p', 'a', 'l')"
      ]
     },
     "execution_count": 38,
     "metadata": {},
     "output_type": "execute_result"
    }
   ],
   "source": [
    "tuple(\"Gopal\")"
   ]
  },
  {
   "cell_type": "code",
   "execution_count": 39,
   "id": "2cec2be4",
   "metadata": {},
   "outputs": [
    {
     "data": {
      "text/plain": [
       "3"
      ]
     },
     "execution_count": 39,
     "metadata": {},
     "output_type": "execute_result"
    }
   ],
   "source": [
    "list_one = ['mango', \"banana\", 'lichy', 'apple', 'banana', 'strawberry', \"banana\", 'peach']\n",
    "list_one.count('banana')"
   ]
  },
  {
   "cell_type": "markdown",
   "id": "04592c38",
   "metadata": {},
   "source": [
    "## `clear`"
   ]
  },
  {
   "cell_type": "code",
   "execution_count": 40,
   "id": "d92b506a",
   "metadata": {},
   "outputs": [],
   "source": [
    "list_one.clear()"
   ]
  },
  {
   "cell_type": "code",
   "execution_count": 41,
   "id": "d0b4049f",
   "metadata": {},
   "outputs": [
    {
     "name": "stdout",
     "output_type": "stream",
     "text": [
      "[]\n"
     ]
    }
   ],
   "source": [
    "print(list_one)"
   ]
  },
  {
   "cell_type": "code",
   "execution_count": 42,
   "id": "e97d7d45",
   "metadata": {},
   "outputs": [],
   "source": [
    "del list_one"
   ]
  },
  {
   "cell_type": "code",
   "execution_count": 43,
   "id": "60473292",
   "metadata": {},
   "outputs": [
    {
     "ename": "NameError",
     "evalue": "name 'list_one' is not defined",
     "output_type": "error",
     "traceback": [
      "\u001b[1;31m---------------------------------------------------------------------------\u001b[0m",
      "\u001b[1;31mNameError\u001b[0m                                 Traceback (most recent call last)",
      "Input \u001b[1;32mIn [43]\u001b[0m, in \u001b[0;36m<module>\u001b[1;34m\u001b[0m\n\u001b[1;32m----> 1\u001b[0m \u001b[38;5;28mprint\u001b[39m(\u001b[43mlist_one\u001b[49m)\n",
      "\u001b[1;31mNameError\u001b[0m: name 'list_one' is not defined"
     ]
    }
   ],
   "source": [
    "print(list_one)"
   ]
  },
  {
   "cell_type": "code",
   "execution_count": 44,
   "id": "77ad42f4",
   "metadata": {},
   "outputs": [
    {
     "data": {
      "text/plain": [
       "2"
      ]
     },
     "execution_count": 44,
     "metadata": {},
     "output_type": "execute_result"
    }
   ],
   "source": [
    "list_one = ['mango', \"banana\", 'lichy', 'apple', 'banana', 'strawberry', \"banana\", 'peach']\n",
    "list_one.index('lichy')"
   ]
  },
  {
   "cell_type": "code",
   "execution_count": 46,
   "id": "9287a1c3",
   "metadata": {},
   "outputs": [
    {
     "ename": "ValueError",
     "evalue": "'pineapple' is not in list",
     "output_type": "error",
     "traceback": [
      "\u001b[1;31m---------------------------------------------------------------------------\u001b[0m",
      "\u001b[1;31mValueError\u001b[0m                                Traceback (most recent call last)",
      "Input \u001b[1;32mIn [46]\u001b[0m, in \u001b[0;36m<module>\u001b[1;34m\u001b[0m\n\u001b[1;32m----> 1\u001b[0m \u001b[43mlist_one\u001b[49m\u001b[38;5;241;43m.\u001b[39;49m\u001b[43mindex\u001b[49m\u001b[43m(\u001b[49m\u001b[38;5;124;43m\"\u001b[39;49m\u001b[38;5;124;43mpineapple\u001b[39;49m\u001b[38;5;124;43m\"\u001b[39;49m\u001b[43m)\u001b[49m\n",
      "\u001b[1;31mValueError\u001b[0m: 'pineapple' is not in list"
     ]
    }
   ],
   "source": [
    "list_one.index(\"pineapple\")"
   ]
  },
  {
   "cell_type": "code",
   "execution_count": null,
   "id": "7b34147c",
   "metadata": {},
   "outputs": [],
   "source": [
    "list_one = ['mango', \"banana\", 'lichy', 'apple', 'banana', 'strawberry', \"banana\", 'peach']\n",
    "list_one.index('lichy')"
   ]
  },
  {
   "cell_type": "code",
   "execution_count": null,
   "id": "18c5fb97",
   "metadata": {},
   "outputs": [],
   "source": [
    "Q find all the indexes of the bananas in the given list of fruits\n",
    "Use Loop\n",
    "list_one = ['mango', \"banana\", 'lichy', 'apple', 'banana', 'strawberry', \"banana\", 'peach']\n",
    "5 mins 20:56"
   ]
  }
 ],
 "metadata": {
  "kernelspec": {
   "display_name": "Python 3 (ipykernel)",
   "language": "python",
   "name": "python3"
  },
  "language_info": {
   "codemirror_mode": {
    "name": "ipython",
    "version": 3
   },
   "file_extension": ".py",
   "mimetype": "text/x-python",
   "name": "python",
   "nbconvert_exporter": "python",
   "pygments_lexer": "ipython3",
   "version": "3.10.1"
  }
 },
 "nbformat": 4,
 "nbformat_minor": 5
}
