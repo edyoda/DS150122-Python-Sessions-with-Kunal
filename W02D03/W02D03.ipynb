{
 "cells": [
  {
   "cell_type": "code",
   "execution_count": null,
   "id": "00c4279b",
   "metadata": {},
   "outputs": [],
   "source": [
    "revise:\n",
    "    int\n",
    "    float\n",
    "    complex\n",
    "    str\n",
    "    tuple\n",
    "    list\n",
    "    dict\n",
    "    set\n",
    "    None\n",
    "    bool\n",
    "Negative indexing:\n",
    "    list\n",
    "    tuple\n",
    "    str\n",
    "Types of Operators:\n",
    "    assignment operator:\n",
    "        =,+= etc...\n",
    "    Comparision Operator:\n",
    "        ==, !=, >=,<=,>,<\n",
    "    Logical operator:\n",
    "        and, or, not\n",
    "    identity operator:\n",
    "        is, is not\n",
    "    {difference between is and ==}\n",
    "    membership operator:\n",
    "        in ,not in\n",
    "    Arithmatic Operator:\n",
    "        +,-,*,/,//,**,%\n",
    "Conditional statements:\n",
    "    if ,else ,elif\n",
    "input() <--- it takes input from the user and returns it into string format"
   ]
  },
  {
   "cell_type": "code",
   "execution_count": 1,
   "id": "3be03bad",
   "metadata": {},
   "outputs": [],
   "source": [
    "s = \"Khaleel\""
   ]
  },
  {
   "cell_type": "code",
   "execution_count": 2,
   "id": "d374eccd",
   "metadata": {},
   "outputs": [
    {
     "data": {
      "text/plain": [
       "'a'"
      ]
     },
     "execution_count": 2,
     "metadata": {},
     "output_type": "execute_result"
    }
   ],
   "source": [
    "s[-5]"
   ]
  },
  {
   "cell_type": "markdown",
   "id": "dea0faf0",
   "metadata": {},
   "source": [
    "## True Equivalents or `truthy`"
   ]
  },
  {
   "cell_type": "code",
   "execution_count": null,
   "id": "c532cd7b",
   "metadata": {},
   "outputs": [],
   "source": [
    "-1,-1.1,True, \"great\", [1,2,5] (\"Hello\",\"world\")..."
   ]
  },
  {
   "cell_type": "code",
   "execution_count": 3,
   "id": "8e76bde6",
   "metadata": {},
   "outputs": [
    {
     "data": {
      "text/plain": [
       "True"
      ]
     },
     "execution_count": 3,
     "metadata": {},
     "output_type": "execute_result"
    }
   ],
   "source": [
    "bool([1,2,5])"
   ]
  },
  {
   "cell_type": "code",
   "execution_count": 6,
   "id": "822e4db1",
   "metadata": {},
   "outputs": [
    {
     "data": {
      "text/plain": [
       "True"
      ]
     },
     "execution_count": 6,
     "metadata": {},
     "output_type": "execute_result"
    }
   ],
   "source": [
    "bool([0])"
   ]
  },
  {
   "cell_type": "code",
   "execution_count": 7,
   "id": "ed4c045f",
   "metadata": {},
   "outputs": [
    {
     "data": {
      "text/plain": [
       "True"
      ]
     },
     "execution_count": 7,
     "metadata": {},
     "output_type": "execute_result"
    }
   ],
   "source": [
    "bool((\"Teja\"))"
   ]
  },
  {
   "cell_type": "markdown",
   "id": "cd3b2b3c",
   "metadata": {},
   "source": [
    "## False Equivalent or falsy values"
   ]
  },
  {
   "cell_type": "code",
   "execution_count": null,
   "id": "8942e800",
   "metadata": {},
   "outputs": [],
   "source": [
    "0,False,None, [],(),{},set(),\"\""
   ]
  },
  {
   "cell_type": "code",
   "execution_count": 8,
   "id": "48cd43f1",
   "metadata": {},
   "outputs": [
    {
     "data": {
      "text/plain": [
       "False"
      ]
     },
     "execution_count": 8,
     "metadata": {},
     "output_type": "execute_result"
    }
   ],
   "source": [
    "bool(None)"
   ]
  },
  {
   "cell_type": "code",
   "execution_count": 13,
   "id": "7e45a70e",
   "metadata": {},
   "outputs": [
    {
     "data": {
      "text/plain": [
       "False"
      ]
     },
     "execution_count": 13,
     "metadata": {},
     "output_type": "execute_result"
    }
   ],
   "source": [
    "bool([])"
   ]
  },
  {
   "cell_type": "code",
   "execution_count": 14,
   "id": "caaa8aa2",
   "metadata": {},
   "outputs": [
    {
     "data": {
      "text/plain": [
       "False"
      ]
     },
     "execution_count": 14,
     "metadata": {},
     "output_type": "execute_result"
    }
   ],
   "source": [
    "bool(())"
   ]
  },
  {
   "cell_type": "code",
   "execution_count": 15,
   "id": "3a812162",
   "metadata": {},
   "outputs": [
    {
     "data": {
      "text/plain": [
       "False"
      ]
     },
     "execution_count": 15,
     "metadata": {},
     "output_type": "execute_result"
    }
   ],
   "source": [
    "bool({})"
   ]
  },
  {
   "cell_type": "code",
   "execution_count": 16,
   "id": "7705ab3a",
   "metadata": {},
   "outputs": [
    {
     "data": {
      "text/plain": [
       "False"
      ]
     },
     "execution_count": 16,
     "metadata": {},
     "output_type": "execute_result"
    }
   ],
   "source": [
    "bool(set())"
   ]
  },
  {
   "cell_type": "code",
   "execution_count": 17,
   "id": "0c28a617",
   "metadata": {},
   "outputs": [
    {
     "data": {
      "text/plain": [
       "False"
      ]
     },
     "execution_count": 17,
     "metadata": {},
     "output_type": "execute_result"
    }
   ],
   "source": [
    "bool(\"\")"
   ]
  },
  {
   "cell_type": "markdown",
   "id": "48da421a",
   "metadata": {},
   "source": [
    "## `for loop`"
   ]
  },
  {
   "cell_type": "code",
   "execution_count": null,
   "id": "a4b345c5",
   "metadata": {},
   "outputs": [],
   "source": [
    "for i in collection:\n",
    "    #statement"
   ]
  },
  {
   "cell_type": "markdown",
   "id": "12da9637",
   "metadata": {},
   "source": [
    "### iterable"
   ]
  },
  {
   "cell_type": "code",
   "execution_count": null,
   "id": "b83fd92b",
   "metadata": {},
   "outputs": [],
   "source": [
    "Iterable is an object which is capable of returning its member one at a time"
   ]
  },
  {
   "cell_type": "code",
   "execution_count": null,
   "id": "17fe7156",
   "metadata": {},
   "outputs": [],
   "source": [
    "list tuple dict set range str"
   ]
  },
  {
   "cell_type": "code",
   "execution_count": 18,
   "id": "5cee4bbd",
   "metadata": {},
   "outputs": [
    {
     "name": "stdout",
     "output_type": "stream",
     "text": [
      "Tehashri\n",
      "Logan\n",
      "Anurag\n"
     ]
    }
   ],
   "source": [
    "for i in [\"Tehashri\",\"Logan\",\"Anurag\"]:\n",
    "    print(i)"
   ]
  },
  {
   "cell_type": "code",
   "execution_count": 19,
   "id": "22bbaa66",
   "metadata": {},
   "outputs": [
    {
     "name": "stdout",
     "output_type": "stream",
     "text": [
      "Tehashri\n",
      "Logan\n",
      "Anurag\n"
     ]
    }
   ],
   "source": [
    "for i in (\"Tehashri\",\"Logan\",\"Anurag\"):\n",
    "    print(i)"
   ]
  },
  {
   "cell_type": "code",
   "execution_count": 20,
   "id": "9df9a69c",
   "metadata": {},
   "outputs": [
    {
     "name": "stdout",
     "output_type": "stream",
     "text": [
      "1\n",
      "None\n"
     ]
    }
   ],
   "source": [
    "for i in {1:\"Teja\",None:\"Logan\"}:\n",
    "    print(i)"
   ]
  },
  {
   "cell_type": "code",
   "execution_count": 21,
   "id": "6d49510a",
   "metadata": {},
   "outputs": [],
   "source": [
    "d = {1:\"Teja\" , None:\"Logan\"}"
   ]
  },
  {
   "cell_type": "code",
   "execution_count": 22,
   "id": "00d7386e",
   "metadata": {},
   "outputs": [
    {
     "name": "stdout",
     "output_type": "stream",
     "text": [
      "Teja\n",
      "Logan\n"
     ]
    }
   ],
   "source": [
    "for i in d.values():\n",
    "    print(i)"
   ]
  },
  {
   "cell_type": "code",
   "execution_count": 23,
   "id": "6a79611f",
   "metadata": {},
   "outputs": [
    {
     "name": "stdout",
     "output_type": "stream",
     "text": [
      "1\n",
      "None\n"
     ]
    }
   ],
   "source": [
    "for i in d.keys():\n",
    "    print(i)"
   ]
  },
  {
   "cell_type": "code",
   "execution_count": 24,
   "id": "7d7f6527",
   "metadata": {},
   "outputs": [
    {
     "name": "stdout",
     "output_type": "stream",
     "text": [
      "(1, 'Teja')\n",
      "(None, 'Logan')\n"
     ]
    }
   ],
   "source": [
    "for i in d.items():\n",
    "    print(i)"
   ]
  },
  {
   "cell_type": "code",
   "execution_count": 26,
   "id": "a5c2106b",
   "metadata": {},
   "outputs": [],
   "source": [
    "s = set([\"s\",\"n\",\"e\",\"g\",\"h\",\"a\"])"
   ]
  },
  {
   "cell_type": "code",
   "execution_count": 28,
   "id": "e5b9a607",
   "metadata": {},
   "outputs": [],
   "source": [
    "s = {\"s\",\"n\",\"e\",\"g\",\"h\",\"a\"}"
   ]
  },
  {
   "cell_type": "code",
   "execution_count": 29,
   "id": "b5a1264a",
   "metadata": {},
   "outputs": [
    {
     "name": "stdout",
     "output_type": "stream",
     "text": [
      "a\n",
      "g\n",
      "n\n",
      "e\n",
      "h\n",
      "s\n"
     ]
    }
   ],
   "source": [
    "for i in s:\n",
    "    print(i)"
   ]
  },
  {
   "cell_type": "code",
   "execution_count": 30,
   "id": "d6531de4",
   "metadata": {},
   "outputs": [
    {
     "ename": "TypeError",
     "evalue": "'set' object is not subscriptable",
     "output_type": "error",
     "traceback": [
      "\u001b[1;31m---------------------------------------------------------------------------\u001b[0m",
      "\u001b[1;31mTypeError\u001b[0m                                 Traceback (most recent call last)",
      "Input \u001b[1;32mIn [30]\u001b[0m, in \u001b[0;36m<module>\u001b[1;34m\u001b[0m\n\u001b[1;32m----> 1\u001b[0m \u001b[43ms\u001b[49m\u001b[43m[\u001b[49m\u001b[38;5;241;43m0\u001b[39;49m\u001b[43m]\u001b[49m\n",
      "\u001b[1;31mTypeError\u001b[0m: 'set' object is not subscriptable"
     ]
    }
   ],
   "source": [
    "s[0]"
   ]
  },
  {
   "cell_type": "code",
   "execution_count": 31,
   "id": "72c9c4fb",
   "metadata": {},
   "outputs": [
    {
     "name": "stdout",
     "output_type": "stream",
     "text": [
      "s\n",
      "a\n",
      "n\n"
     ]
    }
   ],
   "source": [
    "t=('s','a','n')\n",
    "for i in t:\n",
    "    print(i)"
   ]
  },
  {
   "cell_type": "markdown",
   "id": "ce7e3428",
   "metadata": {},
   "source": [
    "## `range()` function"
   ]
  },
  {
   "cell_type": "code",
   "execution_count": null,
   "id": "50ca07b3",
   "metadata": {},
   "outputs": [],
   "source": [
    "range function is used to generate sequence of numbers"
   ]
  },
  {
   "cell_type": "code",
   "execution_count": null,
   "id": "8f9e5850",
   "metadata": {},
   "outputs": [],
   "source": [
    "[1,2,3,4,5,6,7,8,9,10]"
   ]
  },
  {
   "cell_type": "code",
   "execution_count": 32,
   "id": "e60b0392",
   "metadata": {},
   "outputs": [],
   "source": [
    "range_val = range(1,11)"
   ]
  },
  {
   "cell_type": "code",
   "execution_count": 34,
   "id": "4eeb9409",
   "metadata": {},
   "outputs": [
    {
     "data": {
      "text/plain": [
       "10"
      ]
     },
     "execution_count": 34,
     "metadata": {},
     "output_type": "execute_result"
    }
   ],
   "source": [
    "range_val[9]"
   ]
  },
  {
   "cell_type": "code",
   "execution_count": 35,
   "id": "8f658596",
   "metadata": {},
   "outputs": [
    {
     "data": {
      "text/plain": [
       "1"
      ]
     },
     "execution_count": 35,
     "metadata": {},
     "output_type": "execute_result"
    }
   ],
   "source": [
    "range_val[0]"
   ]
  },
  {
   "cell_type": "code",
   "execution_count": 39,
   "id": "7ab706b9",
   "metadata": {},
   "outputs": [],
   "source": [
    "#syntax\n",
    "# range(start, stop, step)"
   ]
  },
  {
   "cell_type": "code",
   "execution_count": 40,
   "id": "bc750f38",
   "metadata": {},
   "outputs": [
    {
     "name": "stdout",
     "output_type": "stream",
     "text": [
      "1\n",
      "2\n",
      "3\n",
      "4\n",
      "5\n",
      "6\n",
      "7\n",
      "8\n",
      "9\n",
      "10\n"
     ]
    }
   ],
   "source": [
    "for i in range(1,11):\n",
    "    print(i)"
   ]
  },
  {
   "cell_type": "code",
   "execution_count": 41,
   "id": "81fa3472",
   "metadata": {},
   "outputs": [
    {
     "name": "stdout",
     "output_type": "stream",
     "text": [
      "range(1, 11)\n"
     ]
    }
   ],
   "source": [
    "print(range(1,11))"
   ]
  },
  {
   "cell_type": "code",
   "execution_count": 42,
   "id": "ecea44b8",
   "metadata": {},
   "outputs": [
    {
     "name": "stdout",
     "output_type": "stream",
     "text": [
      "1\n",
      "3\n",
      "5\n",
      "7\n",
      "9\n"
     ]
    }
   ],
   "source": [
    "for i in range(1,11,2):\n",
    "    print(i)"
   ]
  },
  {
   "cell_type": "code",
   "execution_count": 45,
   "id": "57e0650e",
   "metadata": {},
   "outputs": [
    {
     "data": {
      "text/plain": [
       "[0, 1, 2, 3, 4]"
      ]
     },
     "execution_count": 45,
     "metadata": {},
     "output_type": "execute_result"
    }
   ],
   "source": [
    "list(range(0,5))"
   ]
  },
  {
   "cell_type": "code",
   "execution_count": 46,
   "id": "b993a9d2",
   "metadata": {},
   "outputs": [
    {
     "data": {
      "text/plain": [
       "[0, 2, 4]"
      ]
     },
     "execution_count": 46,
     "metadata": {},
     "output_type": "execute_result"
    }
   ],
   "source": [
    "list(range(0,5,2))"
   ]
  },
  {
   "cell_type": "code",
   "execution_count": 47,
   "id": "cb031f61",
   "metadata": {},
   "outputs": [
    {
     "data": {
      "text/plain": [
       "[0, 3]"
      ]
     },
     "execution_count": 47,
     "metadata": {},
     "output_type": "execute_result"
    }
   ],
   "source": [
    "list(range(0,5,3))"
   ]
  },
  {
   "cell_type": "code",
   "execution_count": 49,
   "id": "aced4787",
   "metadata": {},
   "outputs": [
    {
     "data": {
      "text/plain": [
       "[5, 4, 3, 2, 1, 0]"
      ]
     },
     "execution_count": 49,
     "metadata": {},
     "output_type": "execute_result"
    }
   ],
   "source": [
    "list(range(5,-1,-1))"
   ]
  },
  {
   "cell_type": "code",
   "execution_count": 50,
   "id": "ba28b337",
   "metadata": {},
   "outputs": [
    {
     "data": {
      "text/plain": [
       "[5, 3, 1]"
      ]
     },
     "execution_count": 50,
     "metadata": {},
     "output_type": "execute_result"
    }
   ],
   "source": [
    "list(range(5,-1,-2))"
   ]
  },
  {
   "cell_type": "code",
   "execution_count": null,
   "id": "3ce5948e",
   "metadata": {},
   "outputs": [],
   "source": [
    "Q write all the even numbers between 0-50\n",
    "hint use conditional statement and for loop"
   ]
  },
  {
   "cell_type": "code",
   "execution_count": 54,
   "id": "d8462324",
   "metadata": {},
   "outputs": [
    {
     "name": "stdout",
     "output_type": "stream",
     "text": [
      "2\n",
      "4\n",
      "6\n",
      "8\n",
      "10\n",
      "12\n",
      "14\n",
      "16\n",
      "18\n",
      "20\n",
      "22\n",
      "24\n",
      "26\n",
      "28\n",
      "30\n",
      "32\n",
      "34\n",
      "36\n",
      "38\n",
      "40\n",
      "42\n",
      "44\n",
      "46\n",
      "48\n",
      "50\n"
     ]
    }
   ],
   "source": [
    "for i in range(1,51):\n",
    "    if i%2==0:\n",
    "        print(i)"
   ]
  },
  {
   "cell_type": "code",
   "execution_count": 53,
   "id": "3193f03d",
   "metadata": {},
   "outputs": [
    {
     "name": "stdout",
     "output_type": "stream",
     "text": [
      "[0, 2, 4, 6, 8, 10, 12, 14, 16, 18, 20, 22, 24, 26, 28, 30, 32, 34, 36, 38, 40, 42, 44, 46, 48, 50]\n"
     ]
    }
   ],
   "source": [
    "# second solution Vamshi\n",
    "print(list(range(1,51,2)))"
   ]
  },
  {
   "cell_type": "code",
   "execution_count": null,
   "id": "8b37dd96",
   "metadata": {},
   "outputs": [],
   "source": []
  },
  {
   "cell_type": "code",
   "execution_count": null,
   "id": "9558b90f",
   "metadata": {},
   "outputs": [],
   "source": []
  }
 ],
 "metadata": {
  "kernelspec": {
   "display_name": "Python 3 (ipykernel)",
   "language": "python",
   "name": "python3"
  },
  "language_info": {
   "codemirror_mode": {
    "name": "ipython",
    "version": 3
   },
   "file_extension": ".py",
   "mimetype": "text/x-python",
   "name": "python",
   "nbconvert_exporter": "python",
   "pygments_lexer": "ipython3",
   "version": "3.10.1"
  }
 },
 "nbformat": 4,
 "nbformat_minor": 5
}
