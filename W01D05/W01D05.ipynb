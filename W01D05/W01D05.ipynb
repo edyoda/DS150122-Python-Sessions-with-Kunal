{
 "cells": [
  {
   "cell_type": "code",
   "execution_count": null,
   "id": "38c5dbc9",
   "metadata": {},
   "outputs": [],
   "source": [
    "revision:\n",
    "    int (immutable)\n",
    "    float (immutable)\n",
    "    complex (immutable)\n",
    "    \n",
    "    str (immutable)\n",
    "    \n",
    "    list (mutable)\n",
    "    tuple (immutable)\n",
    "    \n",
    "    dict (mutable){key:value}:\n",
    "        unique\n",
    "        immutable\n",
    "    set (mutable)\n",
    "    \n",
    "    bool (immutable)\n",
    "    None (immutable)"
   ]
  },
  {
   "cell_type": "code",
   "execution_count": null,
   "id": "29ca5564",
   "metadata": {},
   "outputs": [],
   "source": [
    "d = {(1,5,8):[1,2,3]}\n",
    "true --- Yes\n",
    "false"
   ]
  },
  {
   "cell_type": "code",
   "execution_count": null,
   "id": "b4694fae",
   "metadata": {},
   "outputs": [],
   "source": [
    "Immutable:\n",
    "    no changes can be done once initialised :Snegha\n",
    "    can not be changed or edited :Shashib"
   ]
  },
  {
   "cell_type": "code",
   "execution_count": 1,
   "id": "b32f1ce3",
   "metadata": {},
   "outputs": [
    {
     "name": "stdout",
     "output_type": "stream",
     "text": [
      "2309744957952\n",
      "2309745395968\n"
     ]
    }
   ],
   "source": [
    "l = (1,2,3)\n",
    "print(id(l))\n",
    "l = (1,2,3,4)\n",
    "print(id(l))"
   ]
  },
  {
   "cell_type": "code",
   "execution_count": null,
   "id": "1323ebdf",
   "metadata": {},
   "outputs": [],
   "source": [
    "l = 2\n",
    "l = 3"
   ]
  },
  {
   "cell_type": "code",
   "execution_count": null,
   "id": "e94d0f44",
   "metadata": {},
   "outputs": [],
   "source": [
    "an object is immutable when no change is possible over time.\n",
    "If the value of an object cannot be changed overtime then it is known as\n",
    "immutable\n"
   ]
  },
  {
   "cell_type": "markdown",
   "id": "11b29125",
   "metadata": {},
   "source": [
    "## `Assignment Operator`"
   ]
  },
  {
   "cell_type": "code",
   "execution_count": null,
   "id": "7ee9a490",
   "metadata": {},
   "outputs": [],
   "source": [
    " = --> assigns the value of right hand side to left hand side"
   ]
  },
  {
   "cell_type": "code",
   "execution_count": 3,
   "id": "191ed43c",
   "metadata": {},
   "outputs": [],
   "source": [
    "a = 1"
   ]
  },
  {
   "cell_type": "code",
   "execution_count": null,
   "id": "322cd2b2",
   "metadata": {},
   "outputs": [],
   "source": [
    "+= --> Add right side operand with left side operand then assign to left hand\n",
    "side"
   ]
  },
  {
   "cell_type": "code",
   "execution_count": 4,
   "id": "59ac08c1",
   "metadata": {},
   "outputs": [],
   "source": [
    "a = a + 1"
   ]
  },
  {
   "cell_type": "code",
   "execution_count": 5,
   "id": "2865504f",
   "metadata": {},
   "outputs": [
    {
     "name": "stdout",
     "output_type": "stream",
     "text": [
      "2\n"
     ]
    }
   ],
   "source": [
    "print(a)"
   ]
  },
  {
   "cell_type": "code",
   "execution_count": 6,
   "id": "2a51d33b",
   "metadata": {},
   "outputs": [],
   "source": [
    "a += 1 #-->a+1 -> v ----> 2+1 =3\n",
    "       #--> a = v   ----> a=3"
   ]
  },
  {
   "cell_type": "code",
   "execution_count": 7,
   "id": "f2bf272a",
   "metadata": {},
   "outputs": [
    {
     "name": "stdout",
     "output_type": "stream",
     "text": [
      "3\n"
     ]
    }
   ],
   "source": [
    "print(a)"
   ]
  },
  {
   "cell_type": "code",
   "execution_count": 8,
   "id": "b9e74948",
   "metadata": {},
   "outputs": [],
   "source": [
    "v = a + 1"
   ]
  },
  {
   "cell_type": "code",
   "execution_count": 9,
   "id": "df8c8b33",
   "metadata": {},
   "outputs": [
    {
     "name": "stdout",
     "output_type": "stream",
     "text": [
      "4\n"
     ]
    }
   ],
   "source": [
    "print(v)"
   ]
  },
  {
   "cell_type": "code",
   "execution_count": 10,
   "id": "c7b27549",
   "metadata": {},
   "outputs": [
    {
     "name": "stdout",
     "output_type": "stream",
     "text": [
      "3\n"
     ]
    }
   ],
   "source": [
    "print(a)"
   ]
  },
  {
   "cell_type": "code",
   "execution_count": 11,
   "id": "7e4fd78e",
   "metadata": {},
   "outputs": [
    {
     "name": "stdout",
     "output_type": "stream",
     "text": [
      "4\n"
     ]
    }
   ],
   "source": [
    "a = v\n",
    "print(a)"
   ]
  },
  {
   "cell_type": "code",
   "execution_count": null,
   "id": "7b894c09",
   "metadata": {},
   "outputs": [],
   "source": [
    "a = 1\n",
    "a += 1\n",
    "print(a)"
   ]
  },
  {
   "cell_type": "code",
   "execution_count": null,
   "id": "0f00e0a3",
   "metadata": {},
   "outputs": [],
   "source": [
    "-=\n",
    "*=\n",
    "/=\n",
    "%=\n",
    "//=\n",
    "**="
   ]
  },
  {
   "cell_type": "code",
   "execution_count": 22,
   "id": "f6f5ab02",
   "metadata": {},
   "outputs": [
    {
     "name": "stdout",
     "output_type": "stream",
     "text": [
      "1000\n"
     ]
    }
   ],
   "source": [
    "a = 10\n",
    "a **= 3\n",
    "print(a)"
   ]
  },
  {
   "cell_type": "code",
   "execution_count": 24,
   "id": "b1677cd5",
   "metadata": {},
   "outputs": [
    {
     "ename": "NameError",
     "evalue": "name 'z' is not defined",
     "output_type": "error",
     "traceback": [
      "\u001b[1;31m---------------------------------------------------------------------------\u001b[0m",
      "\u001b[1;31mNameError\u001b[0m                                 Traceback (most recent call last)",
      "Input \u001b[1;32mIn [24]\u001b[0m, in \u001b[0;36m<module>\u001b[1;34m\u001b[0m\n\u001b[1;32m----> 1\u001b[0m z \u001b[38;5;241m*\u001b[39m\u001b[38;5;241m*\u001b[39m\u001b[38;5;241m=\u001b[39m \u001b[38;5;241m3\u001b[39m\n",
      "\u001b[1;31mNameError\u001b[0m: name 'z' is not defined"
     ]
    }
   ],
   "source": [
    "z **= 3"
   ]
  },
  {
   "cell_type": "markdown",
   "id": "1db425e9",
   "metadata": {},
   "source": [
    "## `Arithmatic Operators`"
   ]
  },
  {
   "cell_type": "code",
   "execution_count": null,
   "id": "ecc322f1",
   "metadata": {},
   "outputs": [],
   "source": [
    "+ -> addition\n",
    "- --> Subtraction\n",
    "* --> Multiplication\n",
    "/ --> Division\n",
    "% --> Modulus\n",
    "// --> Floor Division\n",
    "** --> Exponentiation"
   ]
  },
  {
   "cell_type": "code",
   "execution_count": 12,
   "id": "85103c0e",
   "metadata": {},
   "outputs": [
    {
     "data": {
      "text/plain": [
       "4"
      ]
     },
     "execution_count": 12,
     "metadata": {},
     "output_type": "execute_result"
    }
   ],
   "source": [
    "2+2"
   ]
  },
  {
   "cell_type": "code",
   "execution_count": 13,
   "id": "90bab884",
   "metadata": {},
   "outputs": [
    {
     "data": {
      "text/plain": [
       "0"
      ]
     },
     "execution_count": 13,
     "metadata": {},
     "output_type": "execute_result"
    }
   ],
   "source": [
    "2-2"
   ]
  },
  {
   "cell_type": "code",
   "execution_count": 14,
   "id": "58c2353d",
   "metadata": {},
   "outputs": [
    {
     "data": {
      "text/plain": [
       "10"
      ]
     },
     "execution_count": 14,
     "metadata": {},
     "output_type": "execute_result"
    }
   ],
   "source": [
    "5 * 2"
   ]
  },
  {
   "cell_type": "code",
   "execution_count": 15,
   "id": "c521c8a0",
   "metadata": {},
   "outputs": [
    {
     "data": {
      "text/plain": [
       "5.0"
      ]
     },
     "execution_count": 15,
     "metadata": {},
     "output_type": "execute_result"
    }
   ],
   "source": [
    "10/2"
   ]
  },
  {
   "cell_type": "code",
   "execution_count": 16,
   "id": "b853f744",
   "metadata": {},
   "outputs": [
    {
     "data": {
      "text/plain": [
       "1"
      ]
     },
     "execution_count": 16,
     "metadata": {},
     "output_type": "execute_result"
    }
   ],
   "source": [
    "10%3"
   ]
  },
  {
   "cell_type": "code",
   "execution_count": 17,
   "id": "035f936b",
   "metadata": {},
   "outputs": [
    {
     "data": {
      "text/plain": [
       "3.3333333333333335"
      ]
     },
     "execution_count": 17,
     "metadata": {},
     "output_type": "execute_result"
    }
   ],
   "source": [
    "10/3"
   ]
  },
  {
   "cell_type": "code",
   "execution_count": 18,
   "id": "fe2e1088",
   "metadata": {},
   "outputs": [
    {
     "data": {
      "text/plain": [
       "3"
      ]
     },
     "execution_count": 18,
     "metadata": {},
     "output_type": "execute_result"
    }
   ],
   "source": [
    "10//3"
   ]
  },
  {
   "cell_type": "code",
   "execution_count": 19,
   "id": "4df9ece3",
   "metadata": {},
   "outputs": [
    {
     "data": {
      "text/plain": [
       "27"
      ]
     },
     "execution_count": 19,
     "metadata": {},
     "output_type": "execute_result"
    }
   ],
   "source": [
    "3**3"
   ]
  },
  {
   "cell_type": "code",
   "execution_count": 20,
   "id": "b15e74f7",
   "metadata": {},
   "outputs": [
    {
     "data": {
      "text/plain": [
       "16"
      ]
     },
     "execution_count": 20,
     "metadata": {},
     "output_type": "execute_result"
    }
   ],
   "source": [
    "2**4"
   ]
  },
  {
   "cell_type": "code",
   "execution_count": 21,
   "id": "64f3cab8",
   "metadata": {},
   "outputs": [
    {
     "data": {
      "text/plain": [
       "1000"
      ]
     },
     "execution_count": 21,
     "metadata": {},
     "output_type": "execute_result"
    }
   ],
   "source": [
    "10**3"
   ]
  },
  {
   "cell_type": "markdown",
   "id": "9b74d592",
   "metadata": {},
   "source": [
    "## `Relational Operator`"
   ]
  },
  {
   "cell_type": "code",
   "execution_count": null,
   "id": "4bab311b",
   "metadata": {},
   "outputs": [],
   "source": [
    "> --> Greater than\n",
    "< --> Less than\n",
    "== -> Equal to\n",
    "!= -> Not equal to\n",
    "<= -> Less than equal to\n",
    ">= -> Greater than equal to\n",
    "\n",
    "It returns either True or False value"
   ]
  },
  {
   "cell_type": "code",
   "execution_count": 25,
   "id": "3cbe1157",
   "metadata": {},
   "outputs": [
    {
     "data": {
      "text/plain": [
       "True"
      ]
     },
     "execution_count": 25,
     "metadata": {},
     "output_type": "execute_result"
    }
   ],
   "source": [
    "1 > 0"
   ]
  },
  {
   "cell_type": "code",
   "execution_count": 26,
   "id": "c0c48bc3",
   "metadata": {},
   "outputs": [
    {
     "data": {
      "text/plain": [
       "False"
      ]
     },
     "execution_count": 26,
     "metadata": {},
     "output_type": "execute_result"
    }
   ],
   "source": [
    "2 < 1"
   ]
  },
  {
   "cell_type": "code",
   "execution_count": 28,
   "id": "359fab46",
   "metadata": {},
   "outputs": [],
   "source": [
    "a = 1\n",
    "b = 1"
   ]
  },
  {
   "cell_type": "code",
   "execution_count": 29,
   "id": "e45bad80",
   "metadata": {},
   "outputs": [
    {
     "data": {
      "text/plain": [
       "True"
      ]
     },
     "execution_count": 29,
     "metadata": {},
     "output_type": "execute_result"
    }
   ],
   "source": [
    "a == b"
   ]
  },
  {
   "cell_type": "code",
   "execution_count": 30,
   "id": "69ed2fab",
   "metadata": {},
   "outputs": [
    {
     "data": {
      "text/plain": [
       "True"
      ]
     },
     "execution_count": 30,
     "metadata": {},
     "output_type": "execute_result"
    }
   ],
   "source": [
    "a != 5"
   ]
  },
  {
   "cell_type": "code",
   "execution_count": 31,
   "id": "b25a2b74",
   "metadata": {},
   "outputs": [
    {
     "data": {
      "text/plain": [
       "True"
      ]
     },
     "execution_count": 31,
     "metadata": {},
     "output_type": "execute_result"
    }
   ],
   "source": [
    "a >= 0"
   ]
  },
  {
   "cell_type": "code",
   "execution_count": 32,
   "id": "14ea27cb",
   "metadata": {},
   "outputs": [
    {
     "name": "stdout",
     "output_type": "stream",
     "text": [
      "False\n"
     ]
    }
   ],
   "source": [
    "print(b<=-1)"
   ]
  },
  {
   "cell_type": "markdown",
   "id": "97a0fcde",
   "metadata": {},
   "source": [
    "## `Membership Operator`"
   ]
  },
  {
   "cell_type": "code",
   "execution_count": null,
   "id": "a77234bf",
   "metadata": {},
   "outputs": [],
   "source": [
    "in--> it checks if the value in left hand side is present in right hand side"
   ]
  },
  {
   "cell_type": "code",
   "execution_count": 33,
   "id": "106bc5bc",
   "metadata": {},
   "outputs": [
    {
     "name": "stdout",
     "output_type": "stream",
     "text": [
      "True\n"
     ]
    }
   ],
   "source": [
    "basket = [\"apple\",\"orange\",\"mango\"]\n",
    "print(\"orange\" in basket)"
   ]
  },
  {
   "cell_type": "code",
   "execution_count": null,
   "id": "2a362e2e",
   "metadata": {},
   "outputs": [],
   "source": [
    "not in"
   ]
  },
  {
   "cell_type": "code",
   "execution_count": 34,
   "id": "6c577de6",
   "metadata": {},
   "outputs": [
    {
     "name": "stdout",
     "output_type": "stream",
     "text": [
      "True\n"
     ]
    }
   ],
   "source": [
    "print(\"banana\" not in basket)"
   ]
  },
  {
   "cell_type": "markdown",
   "id": "e8842501",
   "metadata": {},
   "source": [
    "# `Identity Operator`"
   ]
  },
  {
   "cell_type": "code",
   "execution_count": null,
   "id": "c439a863",
   "metadata": {},
   "outputs": [],
   "source": [
    "is\n",
    "it checks if the variable point to same object memory"
   ]
  },
  {
   "cell_type": "code",
   "execution_count": 36,
   "id": "11bea76e",
   "metadata": {},
   "outputs": [
    {
     "data": {
      "text/plain": [
       "True"
      ]
     },
     "execution_count": 36,
     "metadata": {},
     "output_type": "execute_result"
    }
   ],
   "source": [
    "a = 2\n",
    "b = 3\n",
    "c = 2\n",
    "c is a"
   ]
  },
  {
   "cell_type": "code",
   "execution_count": null,
   "id": "070a8dc7",
   "metadata": {},
   "outputs": [],
   "source": [
    "is not"
   ]
  },
  {
   "cell_type": "code",
   "execution_count": 37,
   "id": "15a2826c",
   "metadata": {},
   "outputs": [
    {
     "data": {
      "text/plain": [
       "True"
      ]
     },
     "execution_count": 37,
     "metadata": {},
     "output_type": "execute_result"
    }
   ],
   "source": [
    "x = 2\n",
    "type(x) is not float"
   ]
  },
  {
   "cell_type": "code",
   "execution_count": 38,
   "id": "78c77d94",
   "metadata": {},
   "outputs": [
    {
     "data": {
      "text/plain": [
       "True"
      ]
     },
     "execution_count": 38,
     "metadata": {},
     "output_type": "execute_result"
    }
   ],
   "source": [
    "type(x) != float"
   ]
  },
  {
   "cell_type": "code",
   "execution_count": null,
   "id": "8204cfea",
   "metadata": {},
   "outputs": [],
   "source": [
    "== checks the value whereas is operator check the memory location"
   ]
  },
  {
   "cell_type": "markdown",
   "id": "bf615e0f",
   "metadata": {},
   "source": [
    "## `Logical Operator`"
   ]
  },
  {
   "cell_type": "code",
   "execution_count": null,
   "id": "21925ee8",
   "metadata": {},
   "outputs": [],
   "source": [
    "and\n",
    "or\n",
    "not"
   ]
  },
  {
   "cell_type": "code",
   "execution_count": 39,
   "id": "f7f73520",
   "metadata": {},
   "outputs": [],
   "source": [
    "a = 5\n",
    "b = 10\n",
    "c = 7"
   ]
  },
  {
   "cell_type": "code",
   "execution_count": 40,
   "id": "0e8f761c",
   "metadata": {},
   "outputs": [
    {
     "data": {
      "text/plain": [
       "True"
      ]
     },
     "execution_count": 40,
     "metadata": {},
     "output_type": "execute_result"
    }
   ],
   "source": [
    "a>0 and b>9"
   ]
  },
  {
   "cell_type": "code",
   "execution_count": null,
   "id": "37735dc7",
   "metadata": {},
   "outputs": [],
   "source": []
  }
 ],
 "metadata": {
  "kernelspec": {
   "display_name": "Python 3 (ipykernel)",
   "language": "python",
   "name": "python3"
  },
  "language_info": {
   "codemirror_mode": {
    "name": "ipython",
    "version": 3
   },
   "file_extension": ".py",
   "mimetype": "text/x-python",
   "name": "python",
   "nbconvert_exporter": "python",
   "pygments_lexer": "ipython3",
   "version": "3.10.1"
  }
 },
 "nbformat": 4,
 "nbformat_minor": 5
}
