{
 "cells": [
  {
   "cell_type": "code",
   "execution_count": null,
   "id": "f41e0667",
   "metadata": {},
   "outputs": [],
   "source": [
    "revision:\n",
    "    int (immutable)\n",
    "    float (immutable)\n",
    "    complex (immutable)\n",
    "    \n",
    "    str (immutable)\n",
    "    \n",
    "    list (mutable)\n",
    "    tuple (immutable)\n",
    "    \n",
    "    dict (mutable){key:value}:\n",
    "        unique\n",
    "        immutable\n",
    "    set (mutable)\n",
    "    \n",
    "    bool (immutable)\n",
    "    None (immutable)"
   ]
  },
  {
   "cell_type": "code",
   "execution_count": null,
   "id": "302abe7c",
   "metadata": {},
   "outputs": [],
   "source": [
    "d = {(1,5,8):[1,2,3]}\n",
    "true --- Yes\n",
    "false"
   ]
  },
  {
   "cell_type": "code",
   "execution_count": null,
   "id": "d0e95137",
   "metadata": {},
   "outputs": [],
   "source": [
    "Immutable:\n",
    "    no changes can be done once initialised :Snegha\n",
    "    can not be changed or edited :Shashib"
   ]
  },
  {
   "cell_type": "code",
   "execution_count": 1,
   "id": "977c9cd6",
   "metadata": {},
   "outputs": [
    {
     "name": "stdout",
     "output_type": "stream",
     "text": [
      "2309744957952\n",
      "2309745395968\n"
     ]
    }
   ],
   "source": [
    "l = (1,2,3)\n",
    "print(id(l))\n",
    "l = (1,2,3,4)\n",
    "print(id(l))"
   ]
  },
  {
   "cell_type": "code",
   "execution_count": null,
   "id": "1c7510a0",
   "metadata": {},
   "outputs": [],
   "source": [
    "l = 2\n",
    "l = 3"
   ]
  },
  {
   "cell_type": "code",
   "execution_count": null,
   "id": "f05f6587",
   "metadata": {},
   "outputs": [],
   "source": [
    "an object is immutable when no change is possible over time.\n",
    "If the value of an object cannot be changed overtime then it is known as\n",
    "immutable\n"
   ]
  },
  {
   "cell_type": "markdown",
   "id": "cfce7f25",
   "metadata": {},
   "source": [
    "## `Assignment Operator`"
   ]
  },
  {
   "cell_type": "code",
   "execution_count": null,
   "id": "7dd6e0aa",
   "metadata": {},
   "outputs": [],
   "source": [
    " = --> assigns the value of right hand side to left hand side"
   ]
  },
  {
   "cell_type": "code",
   "execution_count": 3,
   "id": "35a0ec35",
   "metadata": {},
   "outputs": [],
   "source": [
    "a = 1"
   ]
  },
  {
   "cell_type": "code",
   "execution_count": null,
   "id": "f135016a",
   "metadata": {},
   "outputs": [],
   "source": [
    "+= --> Add right side operand with left side operand then assign to left hand\n",
    "side"
   ]
  },
  {
   "cell_type": "code",
   "execution_count": 4,
   "id": "b9f5d352",
   "metadata": {},
   "outputs": [],
   "source": [
    "a = a + 1"
   ]
  },
  {
   "cell_type": "code",
   "execution_count": 5,
   "id": "920c6a42",
   "metadata": {},
   "outputs": [
    {
     "name": "stdout",
     "output_type": "stream",
     "text": [
      "2\n"
     ]
    }
   ],
   "source": [
    "print(a)"
   ]
  },
  {
   "cell_type": "code",
   "execution_count": 6,
   "id": "13ad2794",
   "metadata": {},
   "outputs": [],
   "source": [
    "a += 1 #-->a+1 -> v ----> 2+1 =3\n",
    "       #--> a = v   ----> a=3"
   ]
  },
  {
   "cell_type": "code",
   "execution_count": 7,
   "id": "2f163900",
   "metadata": {},
   "outputs": [
    {
     "name": "stdout",
     "output_type": "stream",
     "text": [
      "3\n"
     ]
    }
   ],
   "source": [
    "print(a)"
   ]
  },
  {
   "cell_type": "code",
   "execution_count": 8,
   "id": "1905b0ca",
   "metadata": {},
   "outputs": [],
   "source": [
    "v = a + 1"
   ]
  },
  {
   "cell_type": "code",
   "execution_count": 9,
   "id": "39272aae",
   "metadata": {},
   "outputs": [
    {
     "name": "stdout",
     "output_type": "stream",
     "text": [
      "4\n"
     ]
    }
   ],
   "source": [
    "print(v)"
   ]
  },
  {
   "cell_type": "code",
   "execution_count": 10,
   "id": "63883397",
   "metadata": {},
   "outputs": [
    {
     "name": "stdout",
     "output_type": "stream",
     "text": [
      "3\n"
     ]
    }
   ],
   "source": [
    "print(a)"
   ]
  },
  {
   "cell_type": "code",
   "execution_count": 11,
   "id": "37273920",
   "metadata": {},
   "outputs": [
    {
     "name": "stdout",
     "output_type": "stream",
     "text": [
      "4\n"
     ]
    }
   ],
   "source": [
    "a = v\n",
    "print(a)"
   ]
  },
  {
   "cell_type": "code",
   "execution_count": null,
   "id": "d09e771f",
   "metadata": {},
   "outputs": [],
   "source": [
    "a = 1\n",
    "a += 1\n",
    "print(a)"
   ]
  },
  {
   "cell_type": "code",
   "execution_count": null,
   "id": "fd63c5a6",
   "metadata": {},
   "outputs": [],
   "source": [
    "-=\n",
    "*=\n",
    "/=\n",
    "%=\n",
    "//=\n",
    "**="
   ]
  },
  {
   "cell_type": "code",
   "execution_count": 22,
   "id": "ac4541c6",
   "metadata": {},
   "outputs": [
    {
     "name": "stdout",
     "output_type": "stream",
     "text": [
      "1000\n"
     ]
    }
   ],
   "source": [
    "a = 10\n",
    "a **= 3\n",
    "print(a)"
   ]
  },
  {
   "cell_type": "code",
   "execution_count": 24,
   "id": "af42bd2e",
   "metadata": {},
   "outputs": [
    {
     "ename": "NameError",
     "evalue": "name 'z' is not defined",
     "output_type": "error",
     "traceback": [
      "\u001b[1;31m---------------------------------------------------------------------------\u001b[0m",
      "\u001b[1;31mNameError\u001b[0m                                 Traceback (most recent call last)",
      "Input \u001b[1;32mIn [24]\u001b[0m, in \u001b[0;36m<module>\u001b[1;34m\u001b[0m\n\u001b[1;32m----> 1\u001b[0m z \u001b[38;5;241m*\u001b[39m\u001b[38;5;241m*\u001b[39m\u001b[38;5;241m=\u001b[39m \u001b[38;5;241m3\u001b[39m\n",
      "\u001b[1;31mNameError\u001b[0m: name 'z' is not defined"
     ]
    }
   ],
   "source": [
    "z **= 3"
   ]
  },
  {
   "cell_type": "markdown",
   "id": "677ccf83",
   "metadata": {},
   "source": [
    "## `Arithmatic Operators`"
   ]
  },
  {
   "cell_type": "code",
   "execution_count": null,
   "id": "0dd096f1",
   "metadata": {},
   "outputs": [],
   "source": [
    "+ -> addition\n",
    "- --> Subtraction\n",
    "* --> Multiplication\n",
    "/ --> Division\n",
    "% --> Modulus\n",
    "// --> Floor Division\n",
    "** --> Exponentiation"
   ]
  },
  {
   "cell_type": "code",
   "execution_count": 12,
   "id": "d904854d",
   "metadata": {},
   "outputs": [
    {
     "data": {
      "text/plain": [
       "4"
      ]
     },
     "execution_count": 12,
     "metadata": {},
     "output_type": "execute_result"
    }
   ],
   "source": [
    "2+2"
   ]
  },
  {
   "cell_type": "code",
   "execution_count": 13,
   "id": "f85ee4cb",
   "metadata": {},
   "outputs": [
    {
     "data": {
      "text/plain": [
       "0"
      ]
     },
     "execution_count": 13,
     "metadata": {},
     "output_type": "execute_result"
    }
   ],
   "source": [
    "2-2"
   ]
  },
  {
   "cell_type": "code",
   "execution_count": 14,
   "id": "5749d610",
   "metadata": {},
   "outputs": [
    {
     "data": {
      "text/plain": [
       "10"
      ]
     },
     "execution_count": 14,
     "metadata": {},
     "output_type": "execute_result"
    }
   ],
   "source": [
    "5 * 2"
   ]
  },
  {
   "cell_type": "code",
   "execution_count": 15,
   "id": "1fb18124",
   "metadata": {},
   "outputs": [
    {
     "data": {
      "text/plain": [
       "5.0"
      ]
     },
     "execution_count": 15,
     "metadata": {},
     "output_type": "execute_result"
    }
   ],
   "source": [
    "10/2"
   ]
  },
  {
   "cell_type": "code",
   "execution_count": 16,
   "id": "628ec74d",
   "metadata": {},
   "outputs": [
    {
     "data": {
      "text/plain": [
       "1"
      ]
     },
     "execution_count": 16,
     "metadata": {},
     "output_type": "execute_result"
    }
   ],
   "source": [
    "10%3"
   ]
  },
  {
   "cell_type": "code",
   "execution_count": 17,
   "id": "bcb6b598",
   "metadata": {},
   "outputs": [
    {
     "data": {
      "text/plain": [
       "3.3333333333333335"
      ]
     },
     "execution_count": 17,
     "metadata": {},
     "output_type": "execute_result"
    }
   ],
   "source": [
    "10/3"
   ]
  },
  {
   "cell_type": "code",
   "execution_count": 18,
   "id": "24a17e0d",
   "metadata": {},
   "outputs": [
    {
     "data": {
      "text/plain": [
       "3"
      ]
     },
     "execution_count": 18,
     "metadata": {},
     "output_type": "execute_result"
    }
   ],
   "source": [
    "10//3"
   ]
  },
  {
   "cell_type": "code",
   "execution_count": 19,
   "id": "1fdda427",
   "metadata": {},
   "outputs": [
    {
     "data": {
      "text/plain": [
       "27"
      ]
     },
     "execution_count": 19,
     "metadata": {},
     "output_type": "execute_result"
    }
   ],
   "source": [
    "3**3"
   ]
  },
  {
   "cell_type": "code",
   "execution_count": 20,
   "id": "94be8659",
   "metadata": {},
   "outputs": [
    {
     "data": {
      "text/plain": [
       "16"
      ]
     },
     "execution_count": 20,
     "metadata": {},
     "output_type": "execute_result"
    }
   ],
   "source": [
    "2**4"
   ]
  },
  {
   "cell_type": "code",
   "execution_count": 21,
   "id": "e16de9d4",
   "metadata": {},
   "outputs": [
    {
     "data": {
      "text/plain": [
       "1000"
      ]
     },
     "execution_count": 21,
     "metadata": {},
     "output_type": "execute_result"
    }
   ],
   "source": [
    "10**3"
   ]
  },
  {
   "cell_type": "markdown",
   "id": "0971a5b8",
   "metadata": {},
   "source": [
    "## `Relational Operator`"
   ]
  },
  {
   "cell_type": "code",
   "execution_count": null,
   "id": "348c9575",
   "metadata": {},
   "outputs": [],
   "source": [
    "> --> Greater than\n",
    "< --> Less than\n",
    "== -> Equal to\n",
    "!= -> Not equal to\n",
    "<= -> Less than equal to\n",
    ">= -> Greater than equal to\n",
    "\n",
    "It returns either True or False value"
   ]
  },
  {
   "cell_type": "code",
   "execution_count": 25,
   "id": "87ec1762",
   "metadata": {},
   "outputs": [
    {
     "data": {
      "text/plain": [
       "True"
      ]
     },
     "execution_count": 25,
     "metadata": {},
     "output_type": "execute_result"
    }
   ],
   "source": [
    "1 > 0"
   ]
  },
  {
   "cell_type": "code",
   "execution_count": 26,
   "id": "3fd62ca5",
   "metadata": {},
   "outputs": [
    {
     "data": {
      "text/plain": [
       "False"
      ]
     },
     "execution_count": 26,
     "metadata": {},
     "output_type": "execute_result"
    }
   ],
   "source": [
    "2 < 1"
   ]
  },
  {
   "cell_type": "code",
   "execution_count": 28,
   "id": "2c838d4f",
   "metadata": {},
   "outputs": [],
   "source": [
    "a = 1\n",
    "b = 1"
   ]
  },
  {
   "cell_type": "code",
   "execution_count": 29,
   "id": "51fab492",
   "metadata": {},
   "outputs": [
    {
     "data": {
      "text/plain": [
       "True"
      ]
     },
     "execution_count": 29,
     "metadata": {},
     "output_type": "execute_result"
    }
   ],
   "source": [
    "a == b"
   ]
  },
  {
   "cell_type": "code",
   "execution_count": 30,
   "id": "ac8a711c",
   "metadata": {},
   "outputs": [
    {
     "data": {
      "text/plain": [
       "True"
      ]
     },
     "execution_count": 30,
     "metadata": {},
     "output_type": "execute_result"
    }
   ],
   "source": [
    "a != 5"
   ]
  },
  {
   "cell_type": "code",
   "execution_count": 31,
   "id": "8e0a92a8",
   "metadata": {},
   "outputs": [
    {
     "data": {
      "text/plain": [
       "True"
      ]
     },
     "execution_count": 31,
     "metadata": {},
     "output_type": "execute_result"
    }
   ],
   "source": [
    "a >= 0"
   ]
  },
  {
   "cell_type": "code",
   "execution_count": 32,
   "id": "6598f36f",
   "metadata": {},
   "outputs": [
    {
     "name": "stdout",
     "output_type": "stream",
     "text": [
      "False\n"
     ]
    }
   ],
   "source": [
    "print(b<=-1)"
   ]
  },
  {
   "cell_type": "markdown",
   "id": "dd88cd18",
   "metadata": {},
   "source": [
    "## `Membership Operator`"
   ]
  },
  {
   "cell_type": "code",
   "execution_count": null,
   "id": "e1b5349d",
   "metadata": {},
   "outputs": [],
   "source": [
    "in--> it checks if the value in left hand side is present in right hand side"
   ]
  },
  {
   "cell_type": "code",
   "execution_count": 33,
   "id": "9be2e605",
   "metadata": {},
   "outputs": [
    {
     "name": "stdout",
     "output_type": "stream",
     "text": [
      "True\n"
     ]
    }
   ],
   "source": [
    "basket = [\"apple\",\"orange\",\"mango\"]\n",
    "print(\"orange\" in basket)"
   ]
  },
  {
   "cell_type": "code",
   "execution_count": null,
   "id": "7543a520",
   "metadata": {},
   "outputs": [],
   "source": [
    "not in"
   ]
  },
  {
   "cell_type": "code",
   "execution_count": 34,
   "id": "cfb36238",
   "metadata": {},
   "outputs": [
    {
     "name": "stdout",
     "output_type": "stream",
     "text": [
      "True\n"
     ]
    }
   ],
   "source": [
    "print(\"banana\" not in basket)"
   ]
  },
  {
   "cell_type": "markdown",
   "id": "83d31c50",
   "metadata": {},
   "source": [
    "# `Identity Operator`"
   ]
  },
  {
   "cell_type": "code",
   "execution_count": null,
   "id": "6a91d546",
   "metadata": {},
   "outputs": [],
   "source": [
    "is\n",
    "it checks if the variable point to same object memory"
   ]
  },
  {
   "cell_type": "code",
   "execution_count": 36,
   "id": "920bd08d",
   "metadata": {},
   "outputs": [
    {
     "data": {
      "text/plain": [
       "True"
      ]
     },
     "execution_count": 36,
     "metadata": {},
     "output_type": "execute_result"
    }
   ],
   "source": [
    "a = 2\n",
    "b = 3\n",
    "c = 2\n",
    "c is a"
   ]
  },
  {
   "cell_type": "code",
   "execution_count": null,
   "id": "57100b11",
   "metadata": {},
   "outputs": [],
   "source": [
    "is not"
   ]
  },
  {
   "cell_type": "code",
   "execution_count": 37,
   "id": "2e1f438b",
   "metadata": {},
   "outputs": [
    {
     "data": {
      "text/plain": [
       "True"
      ]
     },
     "execution_count": 37,
     "metadata": {},
     "output_type": "execute_result"
    }
   ],
   "source": [
    "x = 2\n",
    "type(x) is not float"
   ]
  },
  {
   "cell_type": "code",
   "execution_count": 38,
   "id": "c25b3865",
   "metadata": {},
   "outputs": [
    {
     "data": {
      "text/plain": [
       "True"
      ]
     },
     "execution_count": 38,
     "metadata": {},
     "output_type": "execute_result"
    }
   ],
   "source": [
    "type(x) != float"
   ]
  },
  {
   "cell_type": "code",
   "execution_count": null,
   "id": "95199968",
   "metadata": {},
   "outputs": [],
   "source": [
    "== checks the value whereas is operator check the memory location"
   ]
  },
  {
   "cell_type": "markdown",
   "id": "174338a1",
   "metadata": {},
   "source": [
    "## `Logical Operator`"
   ]
  },
  {
   "cell_type": "code",
   "execution_count": null,
   "id": "e3a5439a",
   "metadata": {},
   "outputs": [],
   "source": [
    "and\n",
    "or\n",
    "not"
   ]
  },
  {
   "cell_type": "code",
   "execution_count": 39,
   "id": "b7e98f22",
   "metadata": {},
   "outputs": [],
   "source": [
    "a = 5\n",
    "b = 10\n",
    "c = 7"
   ]
  },
  {
   "cell_type": "code",
   "execution_count": 40,
   "id": "9b639c45",
   "metadata": {},
   "outputs": [
    {
     "data": {
      "text/plain": [
       "True"
      ]
     },
     "execution_count": 40,
     "metadata": {},
     "output_type": "execute_result"
    }
   ],
   "source": [
    "a>0 and b>9"
   ]
  },
  {
   "cell_type": "code",
   "execution_count": null,
   "id": "a1de08fe",
   "metadata": {},
   "outputs": [],
   "source": []
  }
 ],
 "metadata": {
  "kernelspec": {
   "display_name": "Python 3 (ipykernel)",
   "language": "python",
   "name": "python3"
  },
  "language_info": {
   "codemirror_mode": {
    "name": "ipython",
    "version": 3
   },
   "file_extension": ".py",
   "mimetype": "text/x-python",
   "name": "python",
   "nbconvert_exporter": "python",
   "pygments_lexer": "ipython3",
   "version": "3.10.1"
  }
 },
 "nbformat": 4,
 "nbformat_minor": 5
}
