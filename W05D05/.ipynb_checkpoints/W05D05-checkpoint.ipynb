{
 "cells": [
  {
   "cell_type": "code",
   "execution_count": null,
   "id": "73b75559",
   "metadata": {},
   "outputs": [],
   "source": [
    "# Metacharacters\n",
    "Metacharacters are characters that are interpreted in a special way by RegEx Engine.\n",
    "\n",
    "# how do metacharacters look?\n",
    "1- [] -> Square Bracket\n",
    "\n",
    "ex: \"[abc]\" --> a\n",
    "                b\n",
    "                c\n",
    "                abc\n",
    "    '[a-d]' --> '[abcd]'\n",
    "                'x'   --> no match\n",
    "                'a'   --> 1 match\n",
    "    '[A-Z]' --> all the upper case letters\n",
    "    '[a-z]' --> all the lowercase letters\n",
    "    '[0-9]' --> '2'  --> 1 match\n",
    "    '[0-9][0-9]' --> '23'\n",
    "                 --> '2'\n",
    "    \"[#%@!]\" --> # or % or @ or !\n",
    "     \n",
    "    \"[a-zA-Z][a-zA-Z][a-zA-Z][a-zA-Z]\" ---> 'aLsD' --> 1 match\n",
    "    \"[a-zA-Z0-9]\" --> '1'\n",
    "                      'a'\n",
    "                      'A'\n",
    "    \"[mk3]\" --> \"m\" or \"k\" or \"3\"\n",
    "    \n",
    "    \"[0-9][a-z]\" --> \"z6r\" --> 1 match --> 6r\n",
    "\n",
    "2- . --> A period matches any single character(except a newline '\\n')\n",
    "\n",
    "ex: \".\" --> \"r\",\"A\",\" \",\"@\"\n",
    "    \n",
    "    \"..\" -- \"a\" --> No match\n",
    "    \"..\" -- \"Ab\" --> 1 match\n",
    "         -- \"aaD\"--> 1 match\n",
    "         -- \"aaddaa\" --> 3 matches\n",
    "    \".......\"\n",
    "3- ^ --> [Caret] 1) The caret symbol \"^\" is used to check if a string `starts with` a certain character\n",
    "                    :\n",
    "        \"^a\" --> \"abc\" --> 1 match\n",
    "                 \"abrakadabra\" --> 1 match\n",
    "                 \"barbie\" --> 0 match\n",
    "        \"^ku\" --> \"kumar Neeraj\" -->1 match\n",
    "              --> \"karambir Singh\" --> 0 match\n",
    "            2) You could invert or complement the charater set by using caret \"^\" symbol at the start\n",
    "            of square bracket\n",
    "                    :\n",
    "        \"[^abc]\" --> \"d\" --> 1 match\n",
    "                     \"a\" --> no match\n",
    "        \"[^@]\" --> \"#\" -->1 match\n",
    "                   \"@\" --> no match\n",
    "        \"^[0-9][a-z]\" --> \"9g\"\n",
    "                          \"5g\"\n",
    "                          \"G5\" --> no match\n",
    "\n",
    "            \n",
    "4- $ - Dollar symbol is used to check if a string \"ends with\" a certain character\n",
    "    \n",
    "    \".[0-9]$\" --> '@1'\n",
    "                  'r5'\n",
    "                  \"ab9D@\"\n",
    "                  \"jdakj@#5\"\n",
    "                  \"55\"\n",
    "                  \"95\"\n",
    "                  \"h9\"\n",
    "5- * - The star symbol \"*\" matches \"zero or more occurences\" of pattern left to it.\n",
    "    \n",
    "    \"a*\" --> \"\" --> 1 match\n",
    "             \"a\" --> 1 match\n",
    "             \"aa\" --> 1 match\n",
    "             \"aaa\" --> 1 match\n",
    "             \"aaaaa\" --> 1 match\n",
    "             \"aaaaaaaaaaaaaaaaaaaaaaaaaaaaaaaaaaaaaaaaaaaaaaaaaa\" --> 1 match\n",
    "\n",
    "    \"ma*n\" --> \"mn\" --> 1 match\n",
    "               \"maan\" --> 1 match\n",
    "               \"maaaan\" --> 1 match\n",
    "               \"maaaaavn\" --> no match\n",
    "                \"naaaam\"  --> no match\n",
    "\n",
    "6- + - The plus symbol \"+\" matches \"one or more occurences\" of the pattern left to it\n",
    "\n",
    "        \"a+\" --> \"\" --> no match\n",
    "                 \"a\" --> 1 match\n",
    "                 \"aa\" --> 1 match\n",
    "                 \"aaaaaaaaaaaaaaaaaaaaaaaaaaaaaaa\" --> 1 match\n",
    "        \"ma+n\" --> \"mn\" ---> no match\n",
    "                   \"man\" --> 1 match\n",
    "                   \"maan\" --> 1 match\n",
    "                   \"maaaaaaaaaaaaaaaain\" --> no match\n",
    "7- ? - Question mark symbol \"?\" matches \"zero or one occurences\" of the pattern left to it\n",
    "    \n",
    "        \"ma?n\" --> \"mn\" --> 1 match\n",
    "                   \"man\" --> 1 match\n",
    "                   \"maan\" --> no match\n",
    "                   \"main\" --> no match\n",
    "                   \"woman\" --> 1 match\n",
    "                   \"manman\" --> 2 matches\n",
    "                   \"superwhomen\" --> no match\n",
    "8- {} - Braces\n",
    "    {n} --> n occurences of pattern left to it\n",
    "    {m,n} -> at least m and atmost n repetations of pattern left to it\n",
    "    m,n --> are integer values\n",
    "    \n",
    "        a{2,3} --> \"abc lab\" -> no matches\n",
    "                   \"abaac maan\" --> 2 matches\n",
    "                   \"haaap\" --> 1 match\n",
    "9 - | Alteration - is used as or operator\n",
    "        a|b --> \"abas\" --> 3 matches a, b, a\n",
    "                \"ade\" --> 1 match\n",
    "                \"tune\" --> no match\n",
    "                \"acdbefa\" --> 3 matches\n",
    "        it will match any string which either contains a or b"
   ]
  },
  {
   "cell_type": "code",
   "execution_count": 1,
   "id": "002892d8",
   "metadata": {},
   "outputs": [],
   "source": [
    "import re"
   ]
  },
  {
   "cell_type": "code",
   "execution_count": 2,
   "id": "4540a4cb",
   "metadata": {
    "collapsed": true
   },
   "outputs": [
    {
     "data": {
      "text/plain": [
       "['A',\n",
       " 'ASCII',\n",
       " 'DEBUG',\n",
       " 'DOTALL',\n",
       " 'I',\n",
       " 'IGNORECASE',\n",
       " 'L',\n",
       " 'LOCALE',\n",
       " 'M',\n",
       " 'MULTILINE',\n",
       " 'Match',\n",
       " 'Pattern',\n",
       " 'RegexFlag',\n",
       " 'S',\n",
       " 'Scanner',\n",
       " 'T',\n",
       " 'TEMPLATE',\n",
       " 'U',\n",
       " 'UNICODE',\n",
       " 'VERBOSE',\n",
       " 'X',\n",
       " '_MAXCACHE',\n",
       " '__all__',\n",
       " '__builtins__',\n",
       " '__cached__',\n",
       " '__doc__',\n",
       " '__file__',\n",
       " '__loader__',\n",
       " '__name__',\n",
       " '__package__',\n",
       " '__spec__',\n",
       " '__version__',\n",
       " '_cache',\n",
       " '_compile',\n",
       " '_compile_repl',\n",
       " '_expand',\n",
       " '_locale',\n",
       " '_pickle',\n",
       " '_special_chars_map',\n",
       " '_subx',\n",
       " 'compile',\n",
       " 'copyreg',\n",
       " 'enum',\n",
       " 'error',\n",
       " 'escape',\n",
       " 'findall',\n",
       " 'finditer',\n",
       " 'fullmatch',\n",
       " 'functools',\n",
       " 'match',\n",
       " 'purge',\n",
       " 'search',\n",
       " 'split',\n",
       " 'sre_compile',\n",
       " 'sre_parse',\n",
       " 'sub',\n",
       " 'subn',\n",
       " 'template']"
      ]
     },
     "execution_count": 2,
     "metadata": {},
     "output_type": "execute_result"
    }
   ],
   "source": [
    "dir(re)"
   ]
  },
  {
   "cell_type": "code",
   "execution_count": 3,
   "id": "b5c823ea",
   "metadata": {},
   "outputs": [],
   "source": [
    "# re.search(pattern, str) --> match object"
   ]
  },
  {
   "cell_type": "code",
   "execution_count": 4,
   "id": "a27c8ac9",
   "metadata": {},
   "outputs": [
    {
     "name": "stdout",
     "output_type": "stream",
     "text": [
      "<re.Match object; span=(2, 4), match='ra'>\n"
     ]
    }
   ],
   "source": [
    "string = \"abra ka dabra\"\n",
    "regx = \"ra\"\n",
    "print(re.search(regx, string))"
   ]
  },
  {
   "cell_type": "code",
   "execution_count": 5,
   "id": "3b1367a6",
   "metadata": {},
   "outputs": [
    {
     "data": {
      "text/plain": [
       "<re.Match object; span=(14, 15), match='2'>"
      ]
     },
     "execution_count": 5,
     "metadata": {},
     "output_type": "execute_result"
    }
   ],
   "source": [
    "string = \"ksdnowajkbsdfa21652152468534165e@#@sfdaw\"\n",
    "regx = '[0-9]'\n",
    "re.search(regx, string)"
   ]
  },
  {
   "cell_type": "code",
   "execution_count": 6,
   "id": "1bcc2161",
   "metadata": {},
   "outputs": [
    {
     "data": {
      "text/plain": [
       "<re.Match object; span=(14, 20), match='216521'>"
      ]
     },
     "execution_count": 6,
     "metadata": {},
     "output_type": "execute_result"
    }
   ],
   "source": [
    "string = \"ksdnowajkbsdfa216521e@#554641@sfdaw\"\n",
    "regx = \"[0-9]+\"\n",
    "re.search(regx, string)"
   ]
  },
  {
   "cell_type": "code",
   "execution_count": 7,
   "id": "aa64e4c6",
   "metadata": {},
   "outputs": [
    {
     "data": {
      "text/plain": [
       "<re.Match object; span=(14, 31), match='21652152468534165'>"
      ]
     },
     "execution_count": 7,
     "metadata": {},
     "output_type": "execute_result"
    }
   ],
   "source": [
    "string = \"ksdnowajkbsdfa21652152468534165e@#554641@sfdaw\"\n",
    "regx = \"[0-9]+\"\n",
    "re.search(regx, string)"
   ]
  },
  {
   "cell_type": "code",
   "execution_count": 8,
   "id": "f16ca975",
   "metadata": {},
   "outputs": [],
   "source": [
    "t = re.search(regx, string)"
   ]
  },
  {
   "cell_type": "code",
   "execution_count": 13,
   "id": "f50aeda2",
   "metadata": {},
   "outputs": [
    {
     "name": "stdout",
     "output_type": "stream",
     "text": [
      "31\n"
     ]
    }
   ],
   "source": [
    "print(t.end())"
   ]
  },
  {
   "cell_type": "code",
   "execution_count": 11,
   "id": "3888baec",
   "metadata": {},
   "outputs": [
    {
     "data": {
      "text/plain": [
       "14"
      ]
     },
     "execution_count": 11,
     "metadata": {},
     "output_type": "execute_result"
    }
   ],
   "source": [
    "t.start()"
   ]
  },
  {
   "cell_type": "code",
   "execution_count": null,
   "id": "4b74ff39",
   "metadata": {},
   "outputs": [],
   "source": [
    "# findall(pattern, string) --> list of matches"
   ]
  },
  {
   "cell_type": "code",
   "execution_count": 36,
   "id": "e224f2af",
   "metadata": {},
   "outputs": [],
   "source": [
    "string = \"@alekfjbaikfbiludsfbaihf@hey#yo@udo#homeworkuaekfdbawehfdc@ilu#lu@djh#ajenfbhailushjskjsbd#\""
   ]
  },
  {
   "cell_type": "code",
   "execution_count": 39,
   "id": "d12ff3eb",
   "metadata": {},
   "outputs": [],
   "source": [
    "regx = \"@...#\""
   ]
  },
  {
   "cell_type": "code",
   "execution_count": 40,
   "id": "f446ed17",
   "metadata": {},
   "outputs": [
    {
     "data": {
      "text/plain": [
       "['@hey#', '@udo#', '@ilu#', '@djh#']"
      ]
     },
     "execution_count": 40,
     "metadata": {},
     "output_type": "execute_result"
    }
   ],
   "source": [
    "re.findall(regx, string)"
   ]
  },
  {
   "cell_type": "code",
   "execution_count": 29,
   "id": "2664dfb4",
   "metadata": {},
   "outputs": [
    {
     "data": {
      "text/plain": [
       "['96564', '9564', '8566', '56', '5']"
      ]
     },
     "execution_count": 29,
     "metadata": {},
     "output_type": "execute_result"
    }
   ],
   "source": [
    "string = \"gfhfgb96564sdgdg9564dfggcbdfc8566fbdfb56f5\"\n",
    "regx = \"[0-9]+\"\n",
    "re.findall(regx,string)"
   ]
  },
  {
   "cell_type": "code",
   "execution_count": 31,
   "id": "d6d143de",
   "metadata": {},
   "outputs": [
    {
     "data": {
      "text/plain": [
       "['9842355481', '1234567890']"
      ]
     },
     "execution_count": 31,
     "metadata": {},
     "output_type": "execute_result"
    }
   ],
   "source": [
    "string = \"dsfnaeidb9842355481sadbgjwvs854d5fcs1234567890\"\n",
    "regx = \"[0-9]{10}\"\n",
    "re.findall(regx, string)"
   ]
  },
  {
   "cell_type": "code",
   "execution_count": null,
   "id": "26bcd99b",
   "metadata": {},
   "outputs": [],
   "source": [
    "write a regx to take anything but alphabet"
   ]
  },
  {
   "cell_type": "code",
   "execution_count": 42,
   "id": "4f028932",
   "metadata": {},
   "outputs": [
    {
     "name": "stdout",
     "output_type": "stream",
     "text": [
      "['#', '$', '@', '9', '8', '4', '2', '3', '5', '5', '4', '8', '1', '8', '5', '4', '5', '1', '2', '3', '4', '5', '6', '7', '8', '9', '0']\n"
     ]
    }
   ],
   "source": [
    "string = \"dsfnaeidb#$@98423dsd5sdg5481sadbgjwvs854d5fcs1234567890\"\n",
    "regx = \"[^a-zA-Z]\"\n",
    "print(re.findall(regx, string))"
   ]
  },
  {
   "cell_type": "code",
   "execution_count": 43,
   "id": "a477b6ed",
   "metadata": {},
   "outputs": [
    {
     "name": "stdout",
     "output_type": "stream",
     "text": [
      "['#$@98423', '5', '5481', '854', '5', '1234567890']\n"
     ]
    }
   ],
   "source": [
    "string = \"dsfnaeidb#$@98423dsd5sdg5481sadbgjwvs854d5fcs1234567890\"\n",
    "regx = \"[^a-zA-Z]+\"\n",
    "print(re.findall(regx, string))"
   ]
  },
  {
   "cell_type": "code",
   "execution_count": null,
   "id": "8741ec21",
   "metadata": {},
   "outputs": [],
   "source": [
    "# match(regx, string) "
   ]
  },
  {
   "cell_type": "code",
   "execution_count": 44,
   "id": "de466bda",
   "metadata": {},
   "outputs": [
    {
     "name": "stdout",
     "output_type": "stream",
     "text": [
      "None\n"
     ]
    }
   ],
   "source": [
    "String1 ='''We are learning regex with geeksforgeeks\n",
    "         regex is very useful for string matching.\n",
    "          It is fast too.'''\n",
    "String2 ='''string We are learning regex with geeksforgeeks\n",
    "         regex is very useful for string matching.\n",
    "          It is fast too.'''\n",
    "regx = \"string\"\n",
    "\n",
    "print(re.match(regx, String1))"
   ]
  },
  {
   "cell_type": "code",
   "execution_count": 45,
   "id": "fa84c7e7",
   "metadata": {},
   "outputs": [
    {
     "name": "stdout",
     "output_type": "stream",
     "text": [
      "<re.Match object; span=(0, 6), match='string'>\n"
     ]
    }
   ],
   "source": [
    "print(re.match(regx, String2))"
   ]
  },
  {
   "cell_type": "code",
   "execution_count": null,
   "id": "0b2d2ae0",
   "metadata": {},
   "outputs": [],
   "source": [
    "# re.split(pattern, string)"
   ]
  },
  {
   "cell_type": "code",
   "execution_count": 47,
   "id": "2ae327da",
   "metadata": {},
   "outputs": [
    {
     "data": {
      "text/plain": [
       "['1234', '3536', '4546', '43544']"
      ]
     },
     "execution_count": 47,
     "metadata": {},
     "output_type": "execute_result"
    }
   ],
   "source": [
    "# normal split\n",
    "s = \"1234s3536s4546s43544\"\n",
    "s.split(\"s\")"
   ]
  },
  {
   "cell_type": "code",
   "execution_count": null,
   "id": "2a6c42ce",
   "metadata": {},
   "outputs": [],
   "source": []
  }
 ],
 "metadata": {
  "kernelspec": {
   "display_name": "Python 3 (ipykernel)",
   "language": "python",
   "name": "python3"
  },
  "language_info": {
   "codemirror_mode": {
    "name": "ipython",
    "version": 3
   },
   "file_extension": ".py",
   "mimetype": "text/x-python",
   "name": "python",
   "nbconvert_exporter": "python",
   "pygments_lexer": "ipython3",
   "version": "3.10.1"
  }
 },
 "nbformat": 4,
 "nbformat_minor": 5
}
