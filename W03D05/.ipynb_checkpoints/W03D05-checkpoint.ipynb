{
 "cells": [
  {
   "cell_type": "markdown",
   "id": "6f5662b0",
   "metadata": {},
   "source": [
    "# Revise\n",
    "    List:\n",
    "        remove() --> it takes elemnt and removes it from the list\n",
    "        pop() --> It takes index value of an element and pops it out, it returns the removed element.\n",
    "                    by default it pops the last element\n",
    "        sort() --> By default it will sort the list in ascending order, if reverse = True then it                        sorts in descending order\n",
    "        clear() --> it clears the list items but doesnot deletes the list from the memory\n",
    "        count() --> it count the items inside the list\n",
    "        index() --> It gives the index value for the first element\n",
    "        insert() --> inserts the elemsnt in the given index\n",
    "        append() --> it adds elemnt at the end of the list\n",
    "        extend() --> join  multiple item in the last of list \n",
    "    sorted() --> By default it will sort the collection in ascending order, if reverse = True then it                  sorts in descending order\n",
    "                  "
   ]
  },
  {
   "cell_type": "code",
   "execution_count": 6,
   "id": "ab21bad0",
   "metadata": {},
   "outputs": [
    {
     "name": "stdout",
     "output_type": "stream",
     "text": [
      "8\n"
     ]
    }
   ],
   "source": [
    "l = [1,2,3,8,-1]\n",
    "popped_value = l.pop(3)\n",
    "print(popped_value)"
   ]
  },
  {
   "cell_type": "code",
   "execution_count": 2,
   "id": "ddc87341",
   "metadata": {},
   "outputs": [
    {
     "name": "stdout",
     "output_type": "stream",
     "text": [
      "None\n"
     ]
    }
   ],
   "source": [
    "print(l.remove(-1))"
   ]
  },
  {
   "cell_type": "code",
   "execution_count": 3,
   "id": "d35cfd8c",
   "metadata": {},
   "outputs": [
    {
     "name": "stdout",
     "output_type": "stream",
     "text": [
      "[1, 2, 3]\n"
     ]
    }
   ],
   "source": [
    "print(l)"
   ]
  },
  {
   "cell_type": "code",
   "execution_count": 4,
   "id": "f438a7c7",
   "metadata": {},
   "outputs": [
    {
     "name": "stdout",
     "output_type": "stream",
     "text": [
      "None\n"
     ]
    }
   ],
   "source": [
    "print(l.append(5))"
   ]
  },
  {
   "cell_type": "code",
   "execution_count": 7,
   "id": "716103bc",
   "metadata": {},
   "outputs": [
    {
     "data": {
      "text/plain": [
       "'Anurag'"
      ]
     },
     "execution_count": 7,
     "metadata": {},
     "output_type": "execute_result"
    }
   ],
   "source": [
    "s = \"Anurab\"\n",
    "s.replace(\"b\",\"g\")"
   ]
  },
  {
   "cell_type": "code",
   "execution_count": 8,
   "id": "94384543",
   "metadata": {},
   "outputs": [
    {
     "name": "stdout",
     "output_type": "stream",
     "text": [
      "Anurab\n"
     ]
    }
   ],
   "source": [
    "print(s)"
   ]
  },
  {
   "cell_type": "code",
   "execution_count": 13,
   "id": "a5dad27b",
   "metadata": {},
   "outputs": [
    {
     "name": "stdout",
     "output_type": "stream",
     "text": [
      "4\n",
      "1\n",
      "2\n",
      "5\n",
      "55\n"
     ]
    }
   ],
   "source": [
    "# l = [1,2,5,55]\n",
    "\n",
    "n = int(input()) # n determines that how many elements we want inside the list\n",
    "\n",
    "int_list = list()\n",
    "\n",
    "for i in range(n):\n",
    "    int_list.append(int(input()))"
   ]
  },
  {
   "cell_type": "code",
   "execution_count": 14,
   "id": "5fb3350b",
   "metadata": {},
   "outputs": [
    {
     "data": {
      "text/plain": [
       "[1, 2, 5, 55]"
      ]
     },
     "execution_count": 14,
     "metadata": {},
     "output_type": "execute_result"
    }
   ],
   "source": [
    "int_list"
   ]
  },
  {
   "cell_type": "code",
   "execution_count": 15,
   "id": "1b728c72",
   "metadata": {},
   "outputs": [
    {
     "name": "stdout",
     "output_type": "stream",
     "text": [
      "4\n",
      "1\n",
      "2\n",
      "5\n",
      "55\n"
     ]
    }
   ],
   "source": [
    "# l = [1,2,5,55]\n",
    "\n",
    "n = int(input()) # n determines that how many elements we want inside the list\n",
    "\n",
    "int_list = list()\n",
    "\n",
    "for i in range(n):\n",
    "    int_list.append(input())"
   ]
  },
  {
   "cell_type": "code",
   "execution_count": 16,
   "id": "74c45c29",
   "metadata": {},
   "outputs": [
    {
     "data": {
      "text/plain": [
       "['1', '2', '5', '55']"
      ]
     },
     "execution_count": 16,
     "metadata": {},
     "output_type": "execute_result"
    }
   ],
   "source": [
    "int_list"
   ]
  },
  {
   "cell_type": "code",
   "execution_count": 18,
   "id": "23d74773",
   "metadata": {},
   "outputs": [
    {
     "name": "stdout",
     "output_type": "stream",
     "text": [
      "4\n",
      "Anjan\n",
      "Hey you cannot pass string\n",
      "6\n",
      "7\n",
      "8\n"
     ]
    }
   ],
   "source": [
    "# l = [1,2,5,55]\n",
    "\n",
    "n = int(input()) # n determines that how many elements we want inside the list\n",
    "\n",
    "int_list = list()\n",
    "\n",
    "for i in range(n):\n",
    "    try:\n",
    "        int_list.append(int(input()))\n",
    "    except:\n",
    "        print(\"Hey you cannot pass string\")"
   ]
  },
  {
   "cell_type": "code",
   "execution_count": 19,
   "id": "9ea48438",
   "metadata": {},
   "outputs": [
    {
     "data": {
      "text/plain": [
       "[6, 7, 8]"
      ]
     },
     "execution_count": 19,
     "metadata": {},
     "output_type": "execute_result"
    }
   ],
   "source": [
    "int_list"
   ]
  },
  {
   "cell_type": "markdown",
   "id": "cf31de34",
   "metadata": {},
   "source": [
    "### Q1) find out the largest and smallest word in the string \"The Surprising Benefits of Sarcasm\".\n",
    "#### Intuition: How can we split the words such that we can count their length and compare with each other?\n",
    "\n",
    "#### Pseudocode:\n",
    "  1. Take maxx as -9999 ,min as +9999\n",
    "  2. convert the string into list using split() function\n",
    "  3. loop/iterate through the list and find the maximum length of word using len() function\n",
    "    - Similarlt do with minimum\n",
    "  - Hint*** have two seperate variable named as min_val, max_val to store minimum and maximum value"
   ]
  },
  {
   "cell_type": "code",
   "execution_count": null,
   "id": "fe05e4ad",
   "metadata": {},
   "outputs": [],
   "source": [
    "# 10 mins 20:49"
   ]
  },
  {
   "cell_type": "code",
   "execution_count": null,
   "id": "477a45bd",
   "metadata": {},
   "outputs": [],
   "source": [
    "word = \"The Surprising Benefits of Sarcasm\""
   ]
  },
  {
   "cell_type": "code",
   "execution_count": 39,
   "id": "9299627f",
   "metadata": {},
   "outputs": [
    {
     "name": "stdout",
     "output_type": "stream",
     "text": [
      "Min val  of\n",
      "Max val  Surprising\n"
     ]
    }
   ],
   "source": [
    "data = \"The Surprising Benefits of Sarcasm\"\n",
    "str_lists = data.split(' ') #['The', 'surprising', 'Benefits', 'of', 'the', 'sarcasm']\n",
    "min_val = ''\n",
    "max_val = ''\n",
    "for i in range(len(str_lists)):\n",
    "    if len(min_val) == 0:\n",
    "        min_val = str_lists[i]\n",
    "    if len(max_val) < len(str_lists[i]):\n",
    "        max_val = str_lists[i]\n",
    "    if len(min_val) > len(str_lists[i]):\n",
    "        min_val = str_lists[i]\n",
    "print(\"Min val \",min_val)\n",
    "print(\"Max val \", max_val)\n"
   ]
  },
  {
   "cell_type": "code",
   "execution_count": 37,
   "id": "53f438fb",
   "metadata": {},
   "outputs": [
    {
     "name": "stdout",
     "output_type": "stream",
     "text": [
      "Smallest word: of\n",
      "Largest word: Surprising\n"
     ]
    }
   ],
   "source": [
    "string = \"The Surprising Benefits of Sarcasm\"   \n",
    "w1 = \"\"\n",
    "w2 = []\n",
    "string = string + \" \"  \n",
    "for i in range(0, len(string)):  \n",
    "    if(string[i] != ' '):  \n",
    "        w1 = w1 + string[i]  \n",
    "    else:    \n",
    "        w2.append(w1)  \n",
    "        w1= \"\"   \n",
    "small = large = w2[0]   \n",
    "\n",
    "for p in range(0, len(w2)):  \n",
    "    if(len(small) > len(w2[p])):  \n",
    "        small = w2[p]    \n",
    "    if(len(large) < len(w2[p])):  \n",
    "        large = w2[p]  \n",
    "   \n",
    "print(\"Smallest word: \" + small) \n",
    "print(\"Largest word: \" + large)  \n"
   ]
  },
  {
   "cell_type": "code",
   "execution_count": 38,
   "id": "a0a1bd33",
   "metadata": {},
   "outputs": [
    {
     "name": "stdout",
     "output_type": "stream",
     "text": [
      "['The', 'surprising', 'Benefits', 'of', 'the', 'sarcasm']\n",
      "6\n",
      "10\n",
      "2\n"
     ]
    }
   ],
   "source": [
    "max = -999\n",
    "min = 999\n",
    "s = \"The surprising Benefits of the sarcasm\"\n",
    "str = s.split()\n",
    "print(str)\n",
    "size = len(str)\n",
    "# print(size)\n",
    "\n",
    "for i in range(size):\n",
    "    a = len(str[i])\n",
    "    if a > max:\n",
    "        max = a\n",
    "print (max)\n",
    "\n",
    "for i in range(size):\n",
    "    a = len(str[i])\n",
    "    if a < min :\n",
    "        min = a\n",
    "print (min)\n"
   ]
  },
  {
   "cell_type": "code",
   "execution_count": 44,
   "id": "9fcaf476",
   "metadata": {},
   "outputs": [
    {
     "name": "stdout",
     "output_type": "stream",
     "text": [
      "of\n",
      "Surprising\n"
     ]
    }
   ],
   "source": [
    "sen=\"The Surprising Benefits of Sarcasm\"\n",
    "mn=+9999\n",
    "mx=-9999\n",
    "mn_word=\"\"\n",
    "mx_word=\"\"\n",
    "l=sen.split()\n",
    "#i=0\n",
    "for i in range (len(l)):\n",
    "    if (len(l[i]))< mn:\n",
    "        mn=len(l[i])\n",
    "        mn_word =l[i]\n",
    "    elif (len(l[i]))>mx:\n",
    "        mx=len(l[i])\n",
    "        mx_word =l[i]\n",
    "    #i+=1\n",
    "print(mn_word)\n",
    "print(mx_word)\n"
   ]
  },
  {
   "cell_type": "code",
   "execution_count": 47,
   "id": "07b1ca13",
   "metadata": {},
   "outputs": [
    {
     "data": {
      "text/plain": [
       "(97, 122)"
      ]
     },
     "execution_count": 47,
     "metadata": {},
     "output_type": "execute_result"
    }
   ],
   "source": [
    "ord('a'),ord('z')"
   ]
  },
  {
   "cell_type": "code",
   "execution_count": 46,
   "id": "54223636",
   "metadata": {},
   "outputs": [
    {
     "data": {
      "text/plain": [
       "90"
      ]
     },
     "execution_count": 46,
     "metadata": {},
     "output_type": "execute_result"
    }
   ],
   "source": [
    "ord('Z') --> you pass Character to get Ascii value"
   ]
  },
  {
   "cell_type": "code",
   "execution_count": 49,
   "id": "4f6953c4",
   "metadata": {},
   "outputs": [
    {
     "data": {
      "text/plain": [
       "'a'"
      ]
     },
     "execution_count": 49,
     "metadata": {},
     "output_type": "execute_result"
    }
   ],
   "source": [
    "chr(97) --> You pass ACII Value to get the character"
   ]
  },
  {
   "cell_type": "code",
   "execution_count": 51,
   "id": "75a96930",
   "metadata": {
    "collapsed": true
   },
   "outputs": [
    {
     "name": "stdout",
     "output_type": "stream",
     "text": [
      "a 97\n",
      "b 98\n",
      "c 99\n",
      "d 100\n",
      "e 101\n",
      "f 102\n",
      "g 103\n",
      "h 104\n",
      "i 105\n",
      "j 106\n",
      "k 107\n",
      "l 108\n",
      "m 109\n",
      "n 110\n",
      "o 111\n",
      "p 112\n",
      "q 113\n",
      "r 114\n",
      "s 115\n",
      "t 116\n",
      "u 117\n",
      "v 118\n",
      "w 119\n",
      "x 120\n",
      "y 121\n",
      "z 122\n"
     ]
    }
   ],
   "source": [
    "for i in range(ord('a'),ord('z')+1):\n",
    "    print(chr(i),i)"
   ]
  },
  {
   "cell_type": "code",
   "execution_count": null,
   "id": "cfa451ba",
   "metadata": {},
   "outputs": [],
   "source": [
    "Q) WAP to print all the capital letters"
   ]
  },
  {
   "cell_type": "code",
   "execution_count": 52,
   "id": "22ca0537",
   "metadata": {
    "collapsed": true
   },
   "outputs": [
    {
     "name": "stdout",
     "output_type": "stream",
     "text": [
      "A 65\n",
      "B 66\n",
      "C 67\n",
      "D 68\n",
      "E 69\n",
      "F 70\n",
      "G 71\n",
      "H 72\n",
      "I 73\n",
      "J 74\n",
      "K 75\n",
      "L 76\n",
      "M 77\n",
      "N 78\n",
      "O 79\n",
      "P 80\n",
      "Q 81\n",
      "R 82\n",
      "S 83\n",
      "T 84\n",
      "U 85\n",
      "V 86\n",
      "W 87\n",
      "X 88\n",
      "Y 89\n",
      "Z 90\n"
     ]
    }
   ],
   "source": [
    "for i in range(ord('A'), ord('Z')+1): \n",
    "    print(chr(i), i)\n"
   ]
  },
  {
   "cell_type": "code",
   "execution_count": 53,
   "id": "05eda1bd",
   "metadata": {},
   "outputs": [],
   "source": [
    "l = []\n",
    "for i in range(ord('A'),ord('Z')+1):\n",
    "    l.append(chr(i))"
   ]
  },
  {
   "cell_type": "code",
   "execution_count": 54,
   "id": "b4963c13",
   "metadata": {},
   "outputs": [
    {
     "name": "stdout",
     "output_type": "stream",
     "text": [
      "['A', 'B', 'C', 'D', 'E', 'F', 'G', 'H', 'I', 'J', 'K', 'L', 'M', 'N', 'O', 'P', 'Q', 'R', 'S', 'T', 'U', 'V', 'W', 'X', 'Y', 'Z']\n"
     ]
    }
   ],
   "source": [
    "print(l)"
   ]
  },
  {
   "cell_type": "markdown",
   "id": "d7733455",
   "metadata": {},
   "source": [
    "## `Dictionary`"
   ]
  },
  {
   "cell_type": "code",
   "execution_count": 56,
   "id": "0be12b1c",
   "metadata": {},
   "outputs": [
    {
     "data": {
      "text/plain": [
       "dict"
      ]
     },
     "execution_count": 56,
     "metadata": {},
     "output_type": "execute_result"
    }
   ],
   "source": [
    "dict1 = {}\n",
    "type(dict1)"
   ]
  },
  {
   "cell_type": "code",
   "execution_count": null,
   "id": "f0da165d",
   "metadata": {},
   "outputs": [],
   "source": [
    "what do we know about it:\n",
    "    it has key value pair\n",
    "    key are unique and immutable\n",
    "    dictionary is mutable"
   ]
  },
  {
   "cell_type": "code",
   "execution_count": 59,
   "id": "f9a4e5f7",
   "metadata": {},
   "outputs": [],
   "source": [
    "# Empty dictionaries\n",
    "dict1 = {}\n",
    "dict2 = dict()"
   ]
  },
  {
   "cell_type": "code",
   "execution_count": 58,
   "id": "365fdff9",
   "metadata": {},
   "outputs": [
    {
     "name": "stdout",
     "output_type": "stream",
     "text": [
      "{}\n"
     ]
    }
   ],
   "source": [
    "print(dict2)"
   ]
  },
  {
   "cell_type": "code",
   "execution_count": 61,
   "id": "d8847e9a",
   "metadata": {},
   "outputs": [
    {
     "name": "stdout",
     "output_type": "stream",
     "text": [
      "{'kumar Neeraj': None}\n"
     ]
    }
   ],
   "source": [
    "dict3 = {\"kumar Neeraj\":None} # General way of defining a dictionary\n",
    "print(dict3)"
   ]
  },
  {
   "cell_type": "code",
   "execution_count": 66,
   "id": "a815dae0",
   "metadata": {},
   "outputs": [],
   "source": [
    "dict4 = dict(vamshi = 82, Sashi = 70, Snegha = 63)"
   ]
  },
  {
   "cell_type": "code",
   "execution_count": 67,
   "id": "471042ac",
   "metadata": {},
   "outputs": [
    {
     "name": "stdout",
     "output_type": "stream",
     "text": [
      "{'vamshi': 82, 'Sashi': 70, 'Snegha': 63}\n"
     ]
    }
   ],
   "source": [
    "print(dict4)"
   ]
  },
  {
   "cell_type": "code",
   "execution_count": 68,
   "id": "1bfc1ea2",
   "metadata": {},
   "outputs": [],
   "source": [
    "dict5 = dict({\"Vaibhav\":[\"Vamshi\",\"sashi\",\"Snegha\"]})"
   ]
  },
  {
   "cell_type": "code",
   "execution_count": 69,
   "id": "965a0b82",
   "metadata": {},
   "outputs": [
    {
     "name": "stdout",
     "output_type": "stream",
     "text": [
      "{'Vaibhav': ['Vamshi', 'sashi', 'Snegha']}\n"
     ]
    }
   ],
   "source": [
    "print(dict5)"
   ]
  },
  {
   "cell_type": "code",
   "execution_count": 70,
   "id": "398a3357",
   "metadata": {},
   "outputs": [],
   "source": [
    "dict6 = dict([(21,\"Vaibhav\"),(70,\"Sashi\")])"
   ]
  },
  {
   "cell_type": "code",
   "execution_count": 71,
   "id": "4e0ed119",
   "metadata": {},
   "outputs": [
    {
     "name": "stdout",
     "output_type": "stream",
     "text": [
      "{21: 'Vaibhav', 70: 'Sashi'}\n"
     ]
    }
   ],
   "source": [
    "print(dict6)"
   ]
  },
  {
   "cell_type": "code",
   "execution_count": 73,
   "id": "ae4a476d",
   "metadata": {},
   "outputs": [],
   "source": [
    "dict4 = {\"Friendslist\": \"Sahsi\",5:6}"
   ]
  },
  {
   "cell_type": "code",
   "execution_count": 74,
   "id": "ef7f233d",
   "metadata": {},
   "outputs": [
    {
     "name": "stdout",
     "output_type": "stream",
     "text": [
      "{'Friendslist': 'Sahsi', 5: 6}\n"
     ]
    }
   ],
   "source": [
    "print(dict4)"
   ]
  },
  {
   "cell_type": "code",
   "execution_count": 76,
   "id": "a8e86f91",
   "metadata": {},
   "outputs": [
    {
     "name": "stdout",
     "output_type": "stream",
     "text": [
      "70\n"
     ]
    }
   ],
   "source": [
    "example_dict = {'vamshi': 82, 'Sashi': 70, 'Snegha': 63}\n",
    "print(example_dict['Sashi'])"
   ]
  },
  {
   "cell_type": "code",
   "execution_count": 77,
   "id": "18d3cc20",
   "metadata": {},
   "outputs": [
    {
     "data": {
      "text/plain": [
       "63"
      ]
     },
     "execution_count": 77,
     "metadata": {},
     "output_type": "execute_result"
    }
   ],
   "source": [
    "example_dict.get(\"Snegha\")"
   ]
  },
  {
   "cell_type": "code",
   "execution_count": 78,
   "id": "8686f6c7",
   "metadata": {},
   "outputs": [
    {
     "ename": "KeyError",
     "evalue": "'Neeraj'",
     "output_type": "error",
     "traceback": [
      "\u001b[1;31m---------------------------------------------------------------------------\u001b[0m",
      "\u001b[1;31mKeyError\u001b[0m                                  Traceback (most recent call last)",
      "Input \u001b[1;32mIn [78]\u001b[0m, in \u001b[0;36m<module>\u001b[1;34m\u001b[0m\n\u001b[1;32m----> 1\u001b[0m \u001b[38;5;28mprint\u001b[39m(\u001b[43mexample_dict\u001b[49m\u001b[43m[\u001b[49m\u001b[38;5;124;43m'\u001b[39;49m\u001b[38;5;124;43mNeeraj\u001b[39;49m\u001b[38;5;124;43m'\u001b[39;49m\u001b[43m]\u001b[49m)\n",
      "\u001b[1;31mKeyError\u001b[0m: 'Neeraj'"
     ]
    }
   ],
   "source": [
    "print(example_dict['Neeraj'])"
   ]
  },
  {
   "cell_type": "code",
   "execution_count": 80,
   "id": "f2a62167",
   "metadata": {},
   "outputs": [
    {
     "name": "stdout",
     "output_type": "stream",
     "text": [
      "None\n"
     ]
    }
   ],
   "source": [
    "print(example_dict.get(\"Neeraj\"))"
   ]
  },
  {
   "cell_type": "code",
   "execution_count": 81,
   "id": "c8729351",
   "metadata": {},
   "outputs": [
    {
     "data": {
      "text/plain": [
       "82"
      ]
     },
     "execution_count": 81,
     "metadata": {},
     "output_type": "execute_result"
    }
   ],
   "source": [
    "example_dict = {'vamshi': 82, 'Sashi': 70, 'Snegha': 63}\n",
    "example_dict.pop('vamshi')"
   ]
  },
  {
   "cell_type": "code",
   "execution_count": 82,
   "id": "a2dd1971",
   "metadata": {},
   "outputs": [
    {
     "name": "stdout",
     "output_type": "stream",
     "text": [
      "{'Sashi': 70, 'Snegha': 63}\n"
     ]
    }
   ],
   "source": [
    "print(example_dict)"
   ]
  },
  {
   "cell_type": "code",
   "execution_count": 83,
   "id": "97af6384",
   "metadata": {
    "collapsed": true
   },
   "outputs": [
    {
     "name": "stdout",
     "output_type": "stream",
     "text": [
      "Help on class dict in module builtins:\n",
      "\n",
      "class dict(object)\n",
      " |  dict() -> new empty dictionary\n",
      " |  dict(mapping) -> new dictionary initialized from a mapping object's\n",
      " |      (key, value) pairs\n",
      " |  dict(iterable) -> new dictionary initialized as if via:\n",
      " |      d = {}\n",
      " |      for k, v in iterable:\n",
      " |          d[k] = v\n",
      " |  dict(**kwargs) -> new dictionary initialized with the name=value pairs\n",
      " |      in the keyword argument list.  For example:  dict(one=1, two=2)\n",
      " |  \n",
      " |  Built-in subclasses:\n",
      " |      StgDict\n",
      " |  \n",
      " |  Methods defined here:\n",
      " |  \n",
      " |  __contains__(self, key, /)\n",
      " |      True if the dictionary has the specified key, else False.\n",
      " |  \n",
      " |  __delitem__(self, key, /)\n",
      " |      Delete self[key].\n",
      " |  \n",
      " |  __eq__(self, value, /)\n",
      " |      Return self==value.\n",
      " |  \n",
      " |  __ge__(self, value, /)\n",
      " |      Return self>=value.\n",
      " |  \n",
      " |  __getattribute__(self, name, /)\n",
      " |      Return getattr(self, name).\n",
      " |  \n",
      " |  __getitem__(...)\n",
      " |      x.__getitem__(y) <==> x[y]\n",
      " |  \n",
      " |  __gt__(self, value, /)\n",
      " |      Return self>value.\n",
      " |  \n",
      " |  __init__(self, /, *args, **kwargs)\n",
      " |      Initialize self.  See help(type(self)) for accurate signature.\n",
      " |  \n",
      " |  __ior__(self, value, /)\n",
      " |      Return self|=value.\n",
      " |  \n",
      " |  __iter__(self, /)\n",
      " |      Implement iter(self).\n",
      " |  \n",
      " |  __le__(self, value, /)\n",
      " |      Return self<=value.\n",
      " |  \n",
      " |  __len__(self, /)\n",
      " |      Return len(self).\n",
      " |  \n",
      " |  __lt__(self, value, /)\n",
      " |      Return self<value.\n",
      " |  \n",
      " |  __ne__(self, value, /)\n",
      " |      Return self!=value.\n",
      " |  \n",
      " |  __or__(self, value, /)\n",
      " |      Return self|value.\n",
      " |  \n",
      " |  __repr__(self, /)\n",
      " |      Return repr(self).\n",
      " |  \n",
      " |  __reversed__(self, /)\n",
      " |      Return a reverse iterator over the dict keys.\n",
      " |  \n",
      " |  __ror__(self, value, /)\n",
      " |      Return value|self.\n",
      " |  \n",
      " |  __setitem__(self, key, value, /)\n",
      " |      Set self[key] to value.\n",
      " |  \n",
      " |  __sizeof__(...)\n",
      " |      D.__sizeof__() -> size of D in memory, in bytes\n",
      " |  \n",
      " |  clear(...)\n",
      " |      D.clear() -> None.  Remove all items from D.\n",
      " |  \n",
      " |  copy(...)\n",
      " |      D.copy() -> a shallow copy of D\n",
      " |  \n",
      " |  get(self, key, default=None, /)\n",
      " |      Return the value for key if key is in the dictionary, else default.\n",
      " |  \n",
      " |  items(...)\n",
      " |      D.items() -> a set-like object providing a view on D's items\n",
      " |  \n",
      " |  keys(...)\n",
      " |      D.keys() -> a set-like object providing a view on D's keys\n",
      " |  \n",
      " |  pop(...)\n",
      " |      D.pop(k[,d]) -> v, remove specified key and return the corresponding value.\n",
      " |      \n",
      " |      If the key is not found, return the default if given; otherwise,\n",
      " |      raise a KeyError.\n",
      " |  \n",
      " |  popitem(self, /)\n",
      " |      Remove and return a (key, value) pair as a 2-tuple.\n",
      " |      \n",
      " |      Pairs are returned in LIFO (last-in, first-out) order.\n",
      " |      Raises KeyError if the dict is empty.\n",
      " |  \n",
      " |  setdefault(self, key, default=None, /)\n",
      " |      Insert key with a value of default if key is not in the dictionary.\n",
      " |      \n",
      " |      Return the value for key if key is in the dictionary, else default.\n",
      " |  \n",
      " |  update(...)\n",
      " |      D.update([E, ]**F) -> None.  Update D from dict/iterable E and F.\n",
      " |      If E is present and has a .keys() method, then does:  for k in E: D[k] = E[k]\n",
      " |      If E is present and lacks a .keys() method, then does:  for k, v in E: D[k] = v\n",
      " |      In either case, this is followed by: for k in F:  D[k] = F[k]\n",
      " |  \n",
      " |  values(...)\n",
      " |      D.values() -> an object providing a view on D's values\n",
      " |  \n",
      " |  ----------------------------------------------------------------------\n",
      " |  Class methods defined here:\n",
      " |  \n",
      " |  __class_getitem__(...) from builtins.type\n",
      " |      See PEP 585\n",
      " |  \n",
      " |  fromkeys(iterable, value=None, /) from builtins.type\n",
      " |      Create a new dictionary with keys from iterable and values set to value.\n",
      " |  \n",
      " |  ----------------------------------------------------------------------\n",
      " |  Static methods defined here:\n",
      " |  \n",
      " |  __new__(*args, **kwargs) from builtins.type\n",
      " |      Create and return a new object.  See help(type) for accurate signature.\n",
      " |  \n",
      " |  ----------------------------------------------------------------------\n",
      " |  Data and other attributes defined here:\n",
      " |  \n",
      " |  __hash__ = None\n",
      "\n"
     ]
    }
   ],
   "source": [
    "help(dict)"
   ]
  },
  {
   "cell_type": "code",
   "execution_count": null,
   "id": "50fabc83",
   "metadata": {},
   "outputs": [],
   "source": []
  }
 ],
 "metadata": {
  "kernelspec": {
   "display_name": "Python 3 (ipykernel)",
   "language": "python",
   "name": "python3"
  },
  "language_info": {
   "codemirror_mode": {
    "name": "ipython",
    "version": 3
   },
   "file_extension": ".py",
   "mimetype": "text/x-python",
   "name": "python",
   "nbconvert_exporter": "python",
   "pygments_lexer": "ipython3",
   "version": "3.10.1"
  }
 },
 "nbformat": 4,
 "nbformat_minor": 5
}
