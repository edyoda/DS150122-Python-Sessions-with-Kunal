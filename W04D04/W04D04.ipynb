{
 "cells": [
  {
   "cell_type": "markdown",
   "id": "641dd90d",
   "metadata": {},
   "source": [
    "### `Re-visit Functions`"
   ]
  },
  {
   "cell_type": "code",
   "execution_count": null,
   "id": "70eb66a4",
   "metadata": {},
   "outputs": [],
   "source": [
    "# Positional Argument\n",
    "def name_func(param1,prama2...):\n",
    "    # statement"
   ]
  },
  {
   "cell_type": "code",
   "execution_count": 3,
   "id": "d08168a8",
   "metadata": {},
   "outputs": [
    {
     "name": "stdout",
     "output_type": "stream",
     "text": [
      "Utkarsh\n"
     ]
    }
   ],
   "source": [
    "headmaster = \"Utkarsh\"\n",
    "def classroom1():\n",
    "    print(headmaster)\n",
    "    val = 23\n",
    "def classroom2():\n",
    "    val = 36\n",
    "classroom1()"
   ]
  },
  {
   "cell_type": "code",
   "execution_count": 11,
   "id": "3272f294",
   "metadata": {},
   "outputs": [
    {
     "ename": "TypeError",
     "evalue": "funct3() takes 0 positional arguments but 1 was given",
     "output_type": "error",
     "traceback": [
      "\u001b[1;31m---------------------------------------------------------------------------\u001b[0m",
      "\u001b[1;31mTypeError\u001b[0m                                 Traceback (most recent call last)",
      "Input \u001b[1;32mIn [11]\u001b[0m, in \u001b[0;36m<module>\u001b[1;34m\u001b[0m\n\u001b[0;32m      9\u001b[0m     \u001b[38;5;28;01mreturn\u001b[39;00m s\n\u001b[0;32m     11\u001b[0m s \u001b[38;5;241m=\u001b[39m \u001b[38;5;124m\"\u001b[39m\u001b[38;5;124mjhfoidfkhnjdks\u001b[39m\u001b[38;5;124m\"\u001b[39m\n\u001b[1;32m---> 12\u001b[0m \u001b[43mfunct3\u001b[49m\u001b[43m(\u001b[49m\u001b[43ms\u001b[49m\u001b[43m)\u001b[49m\n",
      "\u001b[1;31mTypeError\u001b[0m: funct3() takes 0 positional arguments but 1 was given"
     ]
    }
   ],
   "source": [
    "def len(l):\n",
    "    count = 0\n",
    "    for i in l:\n",
    "        count+=1\n",
    "    return str(count) + \" is the length of your iterable\"\n",
    "\n",
    "def funct3(string):\n",
    "    \n",
    "    s = len(string)\n",
    "    \n",
    "    return s\n",
    "\n",
    "s = \"jhfoidfkhnjdks\"\n",
    "funct3(s)"
   ]
  },
  {
   "cell_type": "code",
   "execution_count": 4,
   "id": "8b78ab3d",
   "metadata": {},
   "outputs": [
    {
     "name": "stdout",
     "output_type": "stream",
     "text": [
      "Hello Payal\n"
     ]
    }
   ],
   "source": [
    "print(\"Hello \"+\"Payal\")"
   ]
  },
  {
   "cell_type": "code",
   "execution_count": 6,
   "id": "ff7afefc",
   "metadata": {},
   "outputs": [
    {
     "data": {
      "text/plain": [
       "'1Snegha'"
      ]
     },
     "execution_count": 6,
     "metadata": {},
     "output_type": "execute_result"
    }
   ],
   "source": [
    "str(1)+\"Snegha\""
   ]
  },
  {
   "cell_type": "code",
   "execution_count": null,
   "id": "065029af",
   "metadata": {},
   "outputs": [],
   "source": []
  },
  {
   "cell_type": "code",
   "execution_count": 8,
   "id": "f63716d6",
   "metadata": {},
   "outputs": [
    {
     "name": "stdout",
     "output_type": "stream",
     "text": [
      "16\n"
     ]
    }
   ],
   "source": [
    "def multiply_2(param1):\n",
    "    return param1*2\n",
    "\n",
    "print(multiply_2(8))"
   ]
  },
  {
   "cell_type": "code",
   "execution_count": 9,
   "id": "995ebb8e",
   "metadata": {},
   "outputs": [
    {
     "data": {
      "text/plain": [
       "8"
      ]
     },
     "execution_count": 9,
     "metadata": {},
     "output_type": "execute_result"
    }
   ],
   "source": [
    "def add_all_values(val1,cal2,val3):\n",
    "    \n",
    "    return val1+cal2+val3\n",
    "\n",
    "add_all_values(1,2,5)"
   ]
  },
  {
   "cell_type": "code",
   "execution_count": 12,
   "id": "b1364f59",
   "metadata": {},
   "outputs": [
    {
     "name": "stdout",
     "output_type": "stream",
     "text": [
      "\n",
      "None\n"
     ]
    }
   ],
   "source": [
    "print(print())"
   ]
  },
  {
   "cell_type": "code",
   "execution_count": 17,
   "id": "6f082e6c",
   "metadata": {},
   "outputs": [
    {
     "data": {
      "text/plain": [
       "'23 will be returned to Sandeep'"
      ]
     },
     "execution_count": 17,
     "metadata": {},
     "output_type": "execute_result"
    }
   ],
   "source": [
    "# Keyword argument\n",
    "def return_money(money, name):\n",
    "    return str(money)+f\" will be returned to {name}\"\n",
    "return_money(23, name=\"Sandeep\")"
   ]
  },
  {
   "cell_type": "markdown",
   "id": "9314ad80",
   "metadata": {},
   "source": [
    "## `Unnamed Packing`\n"
   ]
  },
  {
   "cell_type": "code",
   "execution_count": 19,
   "id": "f9b6a971",
   "metadata": {},
   "outputs": [
    {
     "name": "stdout",
     "output_type": "stream",
     "text": [
      "<class 'tuple'>\n",
      "Saurabh is invited\n",
      "Ramsi is invited\n",
      "Vamshi is invited\n",
      "Vaibhav is invited\n"
     ]
    }
   ],
   "source": [
    "def birthday_party_invite(*names):\n",
    "    print(type(names))\n",
    "    for i in names:\n",
    "        print(f\"{i} is invited\")\n",
    "birthday_party_invite(\"Saurabh\",\"Ramsi\",\"Vamshi\",\"Vaibhav\")"
   ]
  },
  {
   "cell_type": "code",
   "execution_count": 21,
   "id": "1e5e0eed",
   "metadata": {},
   "outputs": [
    {
     "name": "stdout",
     "output_type": "stream",
     "text": [
      "<class 'tuple'>\n",
      "Saurabh is invited\n",
      "Ramsi is invited\n",
      "Vamshi is invited\n",
      "Vaibhav is invited\n",
      "umang is invited\n",
      "Teja is invited\n",
      "Ajay is invited\n"
     ]
    }
   ],
   "source": [
    "birthday_party_invite(\"Saurabh\",\"Ramsi\",\"Vamshi\",\"Vaibhav\",\"umang\",\"Teja\",\"Ajay\")"
   ]
  },
  {
   "cell_type": "code",
   "execution_count": 22,
   "id": "a0c9af80",
   "metadata": {},
   "outputs": [
    {
     "data": {
      "text/plain": [
       "15"
      ]
     },
     "execution_count": 22,
     "metadata": {},
     "output_type": "execute_result"
    }
   ],
   "source": [
    "def sum_of_numbers(*numbers):\n",
    "    sum1 = 0\n",
    "    for i in numbers:\n",
    "        sum1+=i\n",
    "    return sum1\n",
    "\n",
    "sum_of_numbers(1,2,5,7)"
   ]
  },
  {
   "cell_type": "markdown",
   "id": "2c2ba6c2",
   "metadata": {},
   "source": [
    "## `Named Packing`"
   ]
  },
  {
   "cell_type": "code",
   "execution_count": 28,
   "id": "c06b8e93",
   "metadata": {},
   "outputs": [
    {
     "name": "stdout",
     "output_type": "stream",
     "text": [
      "<class 'dict'>\n",
      "Utkarsh\n",
      "name1 Snegha\n",
      "name2 Utkarsh\n"
     ]
    }
   ],
   "source": [
    "def funct1(**kwarg):\n",
    "    \n",
    "    print(type(kwarg))\n",
    "    \n",
    "    print(kwarg[\"name2\"])\n",
    "    \n",
    "    for i in kwarg:\n",
    "        print(i,kwarg[i])\n",
    "\n",
    "funct1(name1=\"Snegha\",name2=\"Utkarsh\")"
   ]
  },
  {
   "cell_type": "code",
   "execution_count": 34,
   "id": "70dfc0c0",
   "metadata": {},
   "outputs": [
    {
     "ename": "TypeError",
     "evalue": "can only concatenate str (not \"int\") to str",
     "output_type": "error",
     "traceback": [
      "\u001b[1;31m---------------------------------------------------------------------------\u001b[0m",
      "\u001b[1;31mTypeError\u001b[0m                                 Traceback (most recent call last)",
      "Input \u001b[1;32mIn [34]\u001b[0m, in \u001b[0;36m<module>\u001b[1;34m\u001b[0m\n\u001b[0;32m      7\u001b[0m         value_int\u001b[38;5;241m+\u001b[39m\u001b[38;5;241m=\u001b[39mi\n\u001b[0;32m      8\u001b[0m     \u001b[38;5;28;01mreturn\u001b[39;00m value_int,value_str\n\u001b[1;32m---> 10\u001b[0m \u001b[43mconcat_string_and_int\u001b[49m\u001b[43m(\u001b[49m\u001b[38;5;124;43m\"\u001b[39;49m\u001b[38;5;124;43mA\u001b[39;49m\u001b[38;5;124;43m\"\u001b[39;49m\u001b[43m,\u001b[49m\u001b[38;5;241;43m1\u001b[39;49m\u001b[43m,\u001b[49m\u001b[38;5;241;43m3\u001b[39;49m\u001b[43m,\u001b[49m\u001b[38;5;124;43m\"\u001b[39;49m\u001b[38;5;124;43mB\u001b[39;49m\u001b[38;5;124;43m\"\u001b[39;49m\u001b[43m)\u001b[49m\n",
      "Input \u001b[1;32mIn [34]\u001b[0m, in \u001b[0;36mconcat_string_and_int\u001b[1;34m(*name)\u001b[0m\n\u001b[0;32m      2\u001b[0m value_str \u001b[38;5;241m=\u001b[39m \u001b[38;5;124m'\u001b[39m\u001b[38;5;124m'\u001b[39m\n\u001b[0;32m      3\u001b[0m \u001b[38;5;28;01mfor\u001b[39;00m i \u001b[38;5;129;01min\u001b[39;00m name[::\u001b[38;5;241m2\u001b[39m]:\n\u001b[1;32m----> 4\u001b[0m     value_str \u001b[38;5;241m=\u001b[39m \u001b[43mvalue_str\u001b[49m\u001b[43m \u001b[49m\u001b[38;5;241;43m+\u001b[39;49m\u001b[43m \u001b[49m\u001b[43mi\u001b[49m\n\u001b[0;32m      5\u001b[0m value_int \u001b[38;5;241m=\u001b[39m \u001b[38;5;241m0\u001b[39m\n\u001b[0;32m      6\u001b[0m \u001b[38;5;28;01mfor\u001b[39;00m i \u001b[38;5;129;01min\u001b[39;00m name[\u001b[38;5;241m1\u001b[39m::\u001b[38;5;241m2\u001b[39m]:\n",
      "\u001b[1;31mTypeError\u001b[0m: can only concatenate str (not \"int\") to str"
     ]
    }
   ],
   "source": [
    "def concat_string_and_int(*name):\n",
    "    value_str = ''\n",
    "    for i in name[::2]:\n",
    "        value_str = value_str + i\n",
    "    value_int = 0\n",
    "    for i in name[1::2]:\n",
    "        value_int+=i\n",
    "    return value_int,value_str\n",
    "\n",
    "concat_string_and_int(\"A\",1,\"B\",3)"
   ]
  },
  {
   "cell_type": "raw",
   "id": "fa536173",
   "metadata": {},
   "source": [
    "value = \"\"\n",
    "for i in \"name\"[::2]:\n",
    "    value = value + i"
   ]
  },
  {
   "cell_type": "code",
   "execution_count": 31,
   "id": "841fe967",
   "metadata": {},
   "outputs": [
    {
     "name": "stdout",
     "output_type": "stream",
     "text": [
      "nm\n"
     ]
    }
   ],
   "source": [
    "print(value)"
   ]
  },
  {
   "cell_type": "code",
   "execution_count": null,
   "id": "f69176d9",
   "metadata": {},
   "outputs": [],
   "source": [
    "Q1) WAP to calculte the square of numbers using function\n",
    "5mins 20:55"
   ]
  },
  {
   "cell_type": "code",
   "execution_count": 35,
   "id": "99528dcc",
   "metadata": {},
   "outputs": [
    {
     "name": "stdout",
     "output_type": "stream",
     "text": [
      "1\n",
      "4\n",
      "9\n",
      "16\n",
      "25\n"
     ]
    }
   ],
   "source": [
    "def square(*number):\n",
    "    for i in number:\n",
    "        print(i**2)\n",
    "        \n",
    "square(1,2,3,4,5)\n"
   ]
  },
  {
   "cell_type": "code",
   "execution_count": 37,
   "id": "ad5e9ca0",
   "metadata": {},
   "outputs": [
    {
     "data": {
      "text/plain": [
       "25"
      ]
     },
     "execution_count": 37,
     "metadata": {},
     "output_type": "execute_result"
    }
   ],
   "source": [
    "def multiply_1(a):\n",
    "    return a*a\n",
    "\n",
    "def answer(b):\n",
    "    s = multiply_1(b)\n",
    "    return s\n",
    "s = 5\n",
    "answer(s)"
   ]
  },
  {
   "cell_type": "code",
   "execution_count": 39,
   "id": "4db44689",
   "metadata": {},
   "outputs": [
    {
     "name": "stdout",
     "output_type": "stream",
     "text": [
      "0\n",
      "1\n",
      "2\n",
      "3\n",
      "4\n",
      "5\n",
      "6\n",
      "7\n",
      "8\n",
      "9\n",
      "------\n",
      "0\n"
     ]
    }
   ],
   "source": [
    "def func():\n",
    "    for i in range(10):\n",
    "        print(i)\n",
    "def func2():\n",
    "    for i in range(10):\n",
    "        return i\n",
    "func()\n",
    "print(\"------\")\n",
    "print(func2())"
   ]
  },
  {
   "cell_type": "markdown",
   "id": "35c55a69",
   "metadata": {},
   "source": [
    "## `Modules and Packages`"
   ]
  },
  {
   "cell_type": "code",
   "execution_count": null,
   "id": "604c97a9",
   "metadata": {},
   "outputs": [],
   "source": [
    "Modules are the python\n",
    "Options\n",
    ".py <-- ryt answer\n",
    ".ipynb\n",
    ".txt\n",
    ".doc\n",
    "packages:\n",
    "    the package is a simple directory having collection of modules.\n",
    "    it also contains an empty __init__.py\n",
    "    we create __init__.py"
   ]
  },
  {
   "cell_type": "code",
   "execution_count": null,
   "id": "456191c0",
   "metadata": {},
   "outputs": [],
   "source": [
    "Edyoda Clases\n",
    "    | __init__.py\n",
    "    | python_module.py\n",
    "    | data_structure_module.py"
   ]
  },
  {
   "cell_type": "code",
   "execution_count": null,
   "id": "46fab21a",
   "metadata": {},
   "outputs": [],
   "source": [
    "Game:\n",
    "    |__init__.py\n",
    "    | guns.py\n",
    "    | vehicle.py\n",
    "    | characters.py"
   ]
  },
  {
   "cell_type": "code",
   "execution_count": 42,
   "id": "ff044599",
   "metadata": {},
   "outputs": [
    {
     "name": "stdout",
     "output_type": "stream",
     "text": [
      "2\n"
     ]
    }
   ],
   "source": [
    "import random\n",
    "\n",
    "dice = [1,2,3,4,5,6]\n",
    "print(random.choice(dice))"
   ]
  },
  {
   "cell_type": "code",
   "execution_count": 43,
   "id": "6751ce07",
   "metadata": {},
   "outputs": [
    {
     "name": "stdout",
     "output_type": "stream",
     "text": [
      "1\n"
     ]
    }
   ],
   "source": [
    "print(random.choice(dice))"
   ]
  },
  {
   "cell_type": "code",
   "execution_count": 44,
   "id": "121b4623",
   "metadata": {},
   "outputs": [
    {
     "name": "stdout",
     "output_type": "stream",
     "text": [
      "6\n"
     ]
    }
   ],
   "source": [
    "print(random.choice(dice))"
   ]
  },
  {
   "cell_type": "code",
   "execution_count": 45,
   "id": "2444013b",
   "metadata": {},
   "outputs": [
    {
     "name": "stdout",
     "output_type": "stream",
     "text": [
      "4\n"
     ]
    }
   ],
   "source": [
    "print(random.choice(dice))"
   ]
  },
  {
   "cell_type": "code",
   "execution_count": 46,
   "id": "305f8738",
   "metadata": {},
   "outputs": [
    {
     "name": "stdout",
     "output_type": "stream",
     "text": [
      "6\n"
     ]
    }
   ],
   "source": [
    "print(random.choice(dice))"
   ]
  },
  {
   "cell_type": "code",
   "execution_count": 47,
   "id": "2dfe26d7",
   "metadata": {},
   "outputs": [
    {
     "name": "stdout",
     "output_type": "stream",
     "text": [
      "4\n"
     ]
    }
   ],
   "source": [
    "print(random.choice(dice))"
   ]
  },
  {
   "cell_type": "code",
   "execution_count": 48,
   "id": "be8314f9",
   "metadata": {},
   "outputs": [
    {
     "name": "stdout",
     "output_type": "stream",
     "text": [
      "5\n"
     ]
    }
   ],
   "source": [
    "print(random.choice(dice))"
   ]
  },
  {
   "cell_type": "code",
   "execution_count": 49,
   "id": "0f8fac70",
   "metadata": {},
   "outputs": [
    {
     "name": "stdout",
     "output_type": "stream",
     "text": [
      "2\n"
     ]
    }
   ],
   "source": [
    "print(random.choice(dice))"
   ]
  },
  {
   "cell_type": "code",
   "execution_count": 50,
   "id": "bf638d19",
   "metadata": {},
   "outputs": [
    {
     "name": "stdout",
     "output_type": "stream",
     "text": [
      "5\n"
     ]
    }
   ],
   "source": [
    "print(random.choice(dice))"
   ]
  },
  {
   "cell_type": "code",
   "execution_count": 51,
   "id": "04a5803b",
   "metadata": {},
   "outputs": [
    {
     "name": "stdout",
     "output_type": "stream",
     "text": [
      "6\n"
     ]
    }
   ],
   "source": [
    "print(random.choice(dice))"
   ]
  },
  {
   "cell_type": "code",
   "execution_count": 52,
   "id": "50f69888",
   "metadata": {},
   "outputs": [
    {
     "name": "stdout",
     "output_type": "stream",
     "text": [
      "2\n"
     ]
    }
   ],
   "source": [
    "print(random.choice(dice))"
   ]
  },
  {
   "cell_type": "code",
   "execution_count": 53,
   "id": "691212ba",
   "metadata": {},
   "outputs": [
    {
     "name": "stdout",
     "output_type": "stream",
     "text": [
      "4\n"
     ]
    }
   ],
   "source": [
    "print(random.choice(dice))"
   ]
  },
  {
   "cell_type": "code",
   "execution_count": 54,
   "id": "74c53dee",
   "metadata": {},
   "outputs": [
    {
     "name": "stdout",
     "output_type": "stream",
     "text": [
      "2\n"
     ]
    }
   ],
   "source": [
    "print(random.choice(dice))"
   ]
  },
  {
   "cell_type": "code",
   "execution_count": 55,
   "id": "e3c90cf6",
   "metadata": {},
   "outputs": [
    {
     "name": "stdout",
     "output_type": "stream",
     "text": [
      "5\n"
     ]
    }
   ],
   "source": [
    "print(random.choice(dice))"
   ]
  },
  {
   "cell_type": "code",
   "execution_count": 56,
   "id": "e15d6bb4",
   "metadata": {},
   "outputs": [
    {
     "name": "stdout",
     "output_type": "stream",
     "text": [
      "6\n"
     ]
    }
   ],
   "source": [
    "print(random.choice(dice))"
   ]
  },
  {
   "cell_type": "code",
   "execution_count": 57,
   "id": "0d3a028b",
   "metadata": {},
   "outputs": [
    {
     "name": "stdout",
     "output_type": "stream",
     "text": [
      "5\n"
     ]
    }
   ],
   "source": [
    "print(random.choice(dice))"
   ]
  },
  {
   "cell_type": "code",
   "execution_count": 58,
   "id": "10e24b49",
   "metadata": {},
   "outputs": [
    {
     "name": "stdout",
     "output_type": "stream",
     "text": [
      "1\n"
     ]
    }
   ],
   "source": [
    "print(random.choice(dice))"
   ]
  },
  {
   "cell_type": "code",
   "execution_count": 59,
   "id": "ff0b0e50",
   "metadata": {},
   "outputs": [
    {
     "data": {
      "text/plain": [
       "['BPF',\n",
       " 'LOG4',\n",
       " 'NV_MAGICCONST',\n",
       " 'RECIP_BPF',\n",
       " 'Random',\n",
       " 'SG_MAGICCONST',\n",
       " 'SystemRandom',\n",
       " 'TWOPI',\n",
       " '_ONE',\n",
       " '_Sequence',\n",
       " '_Set',\n",
       " '__all__',\n",
       " '__builtins__',\n",
       " '__cached__',\n",
       " '__doc__',\n",
       " '__file__',\n",
       " '__loader__',\n",
       " '__name__',\n",
       " '__package__',\n",
       " '__spec__',\n",
       " '_accumulate',\n",
       " '_acos',\n",
       " '_bisect',\n",
       " '_ceil',\n",
       " '_cos',\n",
       " '_e',\n",
       " '_exp',\n",
       " '_floor',\n",
       " '_index',\n",
       " '_inst',\n",
       " '_isfinite',\n",
       " '_log',\n",
       " '_os',\n",
       " '_pi',\n",
       " '_random',\n",
       " '_repeat',\n",
       " '_sha512',\n",
       " '_sin',\n",
       " '_sqrt',\n",
       " '_test',\n",
       " '_test_generator',\n",
       " '_urandom',\n",
       " '_warn',\n",
       " 'betavariate',\n",
       " 'choice',\n",
       " 'choices',\n",
       " 'expovariate',\n",
       " 'gammavariate',\n",
       " 'gauss',\n",
       " 'getrandbits',\n",
       " 'getstate',\n",
       " 'lognormvariate',\n",
       " 'normalvariate',\n",
       " 'paretovariate',\n",
       " 'randbytes',\n",
       " 'randint',\n",
       " 'random',\n",
       " 'randrange',\n",
       " 'sample',\n",
       " 'seed',\n",
       " 'setstate',\n",
       " 'shuffle',\n",
       " 'triangular',\n",
       " 'uniform',\n",
       " 'vonmisesvariate',\n",
       " 'weibullvariate']"
      ]
     },
     "execution_count": 59,
     "metadata": {},
     "output_type": "execute_result"
    }
   ],
   "source": [
    "dir(random)"
   ]
  },
  {
   "cell_type": "code",
   "execution_count": null,
   "id": "aef81321",
   "metadata": {},
   "outputs": [],
   "source": [
    "# randint"
   ]
  },
  {
   "cell_type": "code",
   "execution_count": 62,
   "id": "e7f832f9",
   "metadata": {},
   "outputs": [
    {
     "name": "stdout",
     "output_type": "stream",
     "text": [
      "9\n",
      "10\n",
      "5\n",
      "10\n",
      "10\n",
      "2\n",
      "1\n",
      "10\n",
      "6\n",
      "3\n"
     ]
    }
   ],
   "source": [
    "for i in range(10):\n",
    "    print(random.randint(1,10))\n",
    "    print(random)"
   ]
  },
  {
   "cell_type": "code",
   "execution_count": 66,
   "id": "544a4cb9",
   "metadata": {
    "collapsed": true
   },
   "outputs": [
    {
     "name": "stdout",
     "output_type": "stream",
     "text": [
      "-15\n",
      "-7\n",
      "-11\n",
      "-12\n",
      "-1\n",
      "-16\n",
      "-4\n",
      "-3\n",
      "-5\n",
      "-5\n",
      "-7\n",
      "-9\n",
      "-16\n",
      "-14\n",
      "-1\n",
      "-5\n",
      "-15\n",
      "-16\n",
      "-14\n",
      "-17\n",
      "-11\n",
      "-12\n",
      "-12\n",
      "-18\n",
      "-1\n",
      "-6\n",
      "-8\n",
      "-9\n",
      "-5\n",
      "-18\n",
      "-12\n",
      "-17\n",
      "-1\n",
      "-13\n",
      "-2\n",
      "-17\n",
      "-15\n",
      "-19\n",
      "-5\n",
      "-19\n",
      "-11\n",
      "-3\n",
      "-1\n",
      "-16\n",
      "-15\n",
      "-1\n",
      "-8\n",
      "-15\n",
      "-9\n",
      "-2\n",
      "-12\n",
      "-19\n",
      "-10\n",
      "-13\n",
      "-17\n",
      "-20\n",
      "-18\n",
      "-15\n",
      "-19\n",
      "-8\n",
      "-2\n",
      "-10\n",
      "-5\n",
      "-13\n",
      "-1\n",
      "-19\n",
      "-4\n",
      "-12\n",
      "-2\n",
      "-10\n",
      "-2\n",
      "-5\n",
      "-2\n",
      "-13\n",
      "-1\n",
      "-14\n",
      "-19\n",
      "-2\n",
      "-17\n",
      "-3\n",
      "-13\n",
      "-13\n",
      "-7\n",
      "-2\n",
      "-4\n",
      "-15\n",
      "-14\n",
      "-19\n",
      "-16\n",
      "-16\n",
      "-11\n",
      "-2\n",
      "-5\n",
      "-15\n",
      "-10\n",
      "-3\n",
      "-8\n",
      "-15\n",
      "-9\n",
      "-9\n",
      "-18\n",
      "-7\n",
      "-15\n",
      "-12\n",
      "-16\n",
      "-19\n",
      "-2\n",
      "-1\n",
      "-12\n",
      "-9\n",
      "-3\n",
      "-17\n",
      "-14\n",
      "-17\n",
      "-7\n",
      "-16\n",
      "-19\n",
      "-8\n",
      "-17\n",
      "-12\n",
      "-9\n",
      "-9\n",
      "-6\n",
      "-18\n",
      "-19\n",
      "-10\n",
      "-15\n",
      "-15\n",
      "-2\n",
      "-20\n",
      "-2\n",
      "-2\n",
      "-20\n",
      "-5\n",
      "-5\n",
      "-8\n",
      "-1\n",
      "-19\n",
      "-19\n",
      "-6\n",
      "-4\n",
      "-4\n",
      "-2\n",
      "-15\n",
      "-17\n",
      "-6\n",
      "-6\n",
      "-15\n",
      "-13\n",
      "-9\n",
      "-6\n",
      "-8\n",
      "-12\n",
      "-10\n",
      "-5\n",
      "-1\n",
      "-9\n",
      "-15\n",
      "-13\n",
      "-19\n",
      "-4\n",
      "-6\n",
      "-4\n",
      "-12\n",
      "-8\n",
      "-9\n",
      "-15\n",
      "-12\n",
      "-7\n",
      "-8\n",
      "-4\n",
      "-9\n",
      "-4\n",
      "-17\n",
      "-3\n",
      "-20\n",
      "-11\n",
      "-17\n",
      "-13\n",
      "-18\n",
      "-1\n",
      "-5\n",
      "-13\n",
      "-13\n",
      "-9\n",
      "-18\n",
      "-2\n",
      "-18\n",
      "-8\n",
      "-4\n",
      "-1\n",
      "-18\n",
      "-15\n",
      "-10\n",
      "-14\n",
      "-8\n",
      "-11\n",
      "-6\n",
      "-15\n",
      "-15\n"
     ]
    }
   ],
   "source": [
    "for i in range(200):\n",
    "    print(random.randint(-20,-1))"
   ]
  },
  {
   "cell_type": "code",
   "execution_count": 71,
   "id": "b09bfa52",
   "metadata": {},
   "outputs": [
    {
     "name": "stdout",
     "output_type": "stream",
     "text": [
      "4\n",
      "-8\n",
      "-2\n",
      "6\n",
      "6\n",
      "-2\n",
      "2\n",
      "0\n",
      "4\n",
      "-4\n"
     ]
    }
   ],
   "source": [
    "for i in range(10):\n",
    "    print(random.randrange(-10,10,2))"
   ]
  },
  {
   "cell_type": "code",
   "execution_count": 110,
   "id": "431c89df",
   "metadata": {},
   "outputs": [
    {
     "data": {
      "text/plain": [
       "5"
      ]
     },
     "execution_count": 110,
     "metadata": {},
     "output_type": "execute_result"
    }
   ],
   "source": [
    "int(random.random()*10)"
   ]
  },
  {
   "cell_type": "code",
   "execution_count": null,
   "id": "66108ba1",
   "metadata": {},
   "outputs": [],
   "source": []
  },
  {
   "cell_type": "code",
   "execution_count": null,
   "id": "09021714",
   "metadata": {},
   "outputs": [],
   "source": []
  }
 ],
 "metadata": {
  "kernelspec": {
   "display_name": "Python 3 (ipykernel)",
   "language": "python",
   "name": "python3"
  },
  "language_info": {
   "codemirror_mode": {
    "name": "ipython",
    "version": 3
   },
   "file_extension": ".py",
   "mimetype": "text/x-python",
   "name": "python",
   "nbconvert_exporter": "python",
   "pygments_lexer": "ipython3",
   "version": "3.10.1"
  }
 },
 "nbformat": 4,
 "nbformat_minor": 5
}
