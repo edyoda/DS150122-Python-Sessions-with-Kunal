{
 "cells": [
  {
   "cell_type": "markdown",
   "id": "7ee84ce1",
   "metadata": {},
   "source": [
    "### `Re-visit Functions`"
   ]
  },
  {
   "cell_type": "code",
   "execution_count": null,
   "id": "e3970df1",
   "metadata": {},
   "outputs": [],
   "source": [
    "# Positional Argument\n",
    "def name_func(param1,prama2...):\n",
    "    # statement"
   ]
  },
  {
   "cell_type": "code",
   "execution_count": 3,
   "id": "5a8804aa",
   "metadata": {},
   "outputs": [
    {
     "name": "stdout",
     "output_type": "stream",
     "text": [
      "Utkarsh\n"
     ]
    }
   ],
   "source": [
    "headmaster = \"Utkarsh\"\n",
    "def classroom1():\n",
    "    print(headmaster)\n",
    "    val = 23\n",
    "def classroom2():\n",
    "    val = 36\n",
    "classroom1()"
   ]
  },
  {
   "cell_type": "code",
   "execution_count": 11,
   "id": "72d6210c",
   "metadata": {},
   "outputs": [
    {
     "ename": "TypeError",
     "evalue": "funct3() takes 0 positional arguments but 1 was given",
     "output_type": "error",
     "traceback": [
      "\u001b[1;31m---------------------------------------------------------------------------\u001b[0m",
      "\u001b[1;31mTypeError\u001b[0m                                 Traceback (most recent call last)",
      "Input \u001b[1;32mIn [11]\u001b[0m, in \u001b[0;36m<module>\u001b[1;34m\u001b[0m\n\u001b[0;32m      9\u001b[0m     \u001b[38;5;28;01mreturn\u001b[39;00m s\n\u001b[0;32m     11\u001b[0m s \u001b[38;5;241m=\u001b[39m \u001b[38;5;124m\"\u001b[39m\u001b[38;5;124mjhfoidfkhnjdks\u001b[39m\u001b[38;5;124m\"\u001b[39m\n\u001b[1;32m---> 12\u001b[0m \u001b[43mfunct3\u001b[49m\u001b[43m(\u001b[49m\u001b[43ms\u001b[49m\u001b[43m)\u001b[49m\n",
      "\u001b[1;31mTypeError\u001b[0m: funct3() takes 0 positional arguments but 1 was given"
     ]
    }
   ],
   "source": [
    "def len(l):\n",
    "    count = 0\n",
    "    for i in l:\n",
    "        count+=1\n",
    "    return str(count) + \" is the length of your iterable\"\n",
    "\n",
    "def funct3(string):\n",
    "    \n",
    "    s = len(string)\n",
    "    \n",
    "    return s\n",
    "\n",
    "s = \"jhfoidfkhnjdks\"\n",
    "funct3(s)"
   ]
  },
  {
   "cell_type": "code",
   "execution_count": 4,
   "id": "f1beaa69",
   "metadata": {},
   "outputs": [
    {
     "name": "stdout",
     "output_type": "stream",
     "text": [
      "Hello Payal\n"
     ]
    }
   ],
   "source": [
    "print(\"Hello \"+\"Payal\")"
   ]
  },
  {
   "cell_type": "code",
   "execution_count": 6,
   "id": "0daf39a0",
   "metadata": {},
   "outputs": [
    {
     "data": {
      "text/plain": [
       "'1Snegha'"
      ]
     },
     "execution_count": 6,
     "metadata": {},
     "output_type": "execute_result"
    }
   ],
   "source": [
    "str(1)+\"Snegha\""
   ]
  },
  {
   "cell_type": "code",
   "execution_count": null,
   "id": "c1813b90",
   "metadata": {},
   "outputs": [],
   "source": []
  },
  {
   "cell_type": "code",
   "execution_count": 8,
   "id": "00e371ef",
   "metadata": {},
   "outputs": [
    {
     "name": "stdout",
     "output_type": "stream",
     "text": [
      "16\n"
     ]
    }
   ],
   "source": [
    "def multiply_2(param1):\n",
    "    return param1*2\n",
    "\n",
    "print(multiply_2(8))"
   ]
  },
  {
   "cell_type": "code",
   "execution_count": 9,
   "id": "0d557c8a",
   "metadata": {},
   "outputs": [
    {
     "data": {
      "text/plain": [
       "8"
      ]
     },
     "execution_count": 9,
     "metadata": {},
     "output_type": "execute_result"
    }
   ],
   "source": [
    "def add_all_values(val1,cal2,val3):\n",
    "    \n",
    "    return val1+cal2+val3\n",
    "\n",
    "add_all_values(1,2,5)"
   ]
  },
  {
   "cell_type": "code",
   "execution_count": 12,
   "id": "da9d7ca7",
   "metadata": {},
   "outputs": [
    {
     "name": "stdout",
     "output_type": "stream",
     "text": [
      "\n",
      "None\n"
     ]
    }
   ],
   "source": [
    "print(print())"
   ]
  },
  {
   "cell_type": "code",
   "execution_count": 17,
   "id": "973c2d06",
   "metadata": {},
   "outputs": [
    {
     "data": {
      "text/plain": [
       "'23 will be returned to Sandeep'"
      ]
     },
     "execution_count": 17,
     "metadata": {},
     "output_type": "execute_result"
    }
   ],
   "source": [
    "# Keyword argument\n",
    "def return_money(money, name):\n",
    "    return str(money)+f\" will be returned to {name}\"\n",
    "return_money(23, name=\"Sandeep\")"
   ]
  },
  {
   "cell_type": "markdown",
   "id": "a20977e9",
   "metadata": {},
   "source": [
    "## `Unnamed Packing`\n"
   ]
  },
  {
   "cell_type": "code",
   "execution_count": 19,
   "id": "1c00fd78",
   "metadata": {},
   "outputs": [
    {
     "name": "stdout",
     "output_type": "stream",
     "text": [
      "<class 'tuple'>\n",
      "Saurabh is invited\n",
      "Ramsi is invited\n",
      "Vamshi is invited\n",
      "Vaibhav is invited\n"
     ]
    }
   ],
   "source": [
    "def birthday_party_invite(*names):\n",
    "    print(type(names))\n",
    "    for i in names:\n",
    "        print(f\"{i} is invited\")\n",
    "birthday_party_invite(\"Saurabh\",\"Ramsi\",\"Vamshi\",\"Vaibhav\")"
   ]
  },
  {
   "cell_type": "code",
   "execution_count": 21,
   "id": "5c4b8826",
   "metadata": {},
   "outputs": [
    {
     "name": "stdout",
     "output_type": "stream",
     "text": [
      "<class 'tuple'>\n",
      "Saurabh is invited\n",
      "Ramsi is invited\n",
      "Vamshi is invited\n",
      "Vaibhav is invited\n",
      "umang is invited\n",
      "Teja is invited\n",
      "Ajay is invited\n"
     ]
    }
   ],
   "source": [
    "birthday_party_invite(\"Saurabh\",\"Ramsi\",\"Vamshi\",\"Vaibhav\",\"umang\",\"Teja\",\"Ajay\")"
   ]
  },
  {
   "cell_type": "code",
   "execution_count": 22,
   "id": "34837e00",
   "metadata": {},
   "outputs": [
    {
     "data": {
      "text/plain": [
       "15"
      ]
     },
     "execution_count": 22,
     "metadata": {},
     "output_type": "execute_result"
    }
   ],
   "source": [
    "def sum_of_numbers(*numbers):\n",
    "    sum1 = 0\n",
    "    for i in numbers:\n",
    "        sum1+=i\n",
    "    return sum1\n",
    "\n",
    "sum_of_numbers(1,2,5,7)"
   ]
  },
  {
   "cell_type": "markdown",
   "id": "be274259",
   "metadata": {},
   "source": [
    "## `Named Packing`"
   ]
  },
  {
   "cell_type": "code",
   "execution_count": 28,
   "id": "2398e10d",
   "metadata": {},
   "outputs": [
    {
     "name": "stdout",
     "output_type": "stream",
     "text": [
      "<class 'dict'>\n",
      "Utkarsh\n",
      "name1 Snegha\n",
      "name2 Utkarsh\n"
     ]
    }
   ],
   "source": [
    "def funct1(**kwarg):\n",
    "    \n",
    "    print(type(kwarg))\n",
    "    \n",
    "    print(kwarg[\"name2\"])\n",
    "    \n",
    "    for i in kwarg:\n",
    "        print(i,kwarg[i])\n",
    "\n",
    "funct1(name1=\"Snegha\",name2=\"Utkarsh\")"
   ]
  },
  {
   "cell_type": "code",
   "execution_count": 32,
   "id": "dd3ef8f2",
   "metadata": {},
   "outputs": [],
   "source": [
    "def concat_string_and_int(*name):\n",
    "    value = ''\n",
    "    for i in name[::2]:\n",
    "        value = value + i\n",
    "    \n",
    "    "
   ]
  },
  {
   "cell_type": "code",
   "execution_count": 30,
   "id": "2d9686a7",
   "metadata": {},
   "outputs": [],
   "source": [
    "value = \"\"\n",
    "for i in \"name\"[::2]:\n",
    "    value = value + i"
   ]
  },
  {
   "cell_type": "code",
   "execution_count": 31,
   "id": "d93335b1",
   "metadata": {},
   "outputs": [
    {
     "name": "stdout",
     "output_type": "stream",
     "text": [
      "nm\n"
     ]
    }
   ],
   "source": [
    "print(value)"
   ]
  },
  {
   "cell_type": "code",
   "execution_count": null,
   "id": "5b3197ae",
   "metadata": {},
   "outputs": [],
   "source": []
  }
 ],
 "metadata": {
  "kernelspec": {
   "display_name": "Python 3 (ipykernel)",
   "language": "python",
   "name": "python3"
  },
  "language_info": {
   "codemirror_mode": {
    "name": "ipython",
    "version": 3
   },
   "file_extension": ".py",
   "mimetype": "text/x-python",
   "name": "python",
   "nbconvert_exporter": "python",
   "pygments_lexer": "ipython3",
   "version": "3.10.1"
  }
 },
 "nbformat": 4,
 "nbformat_minor": 5
}
