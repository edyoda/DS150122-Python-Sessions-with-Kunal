{
 "cells": [
  {
   "cell_type": "code",
   "execution_count": null,
   "id": "aa8635c0",
   "metadata": {},
   "outputs": [],
   "source": [
    "sets:\n",
    "    union --> | , union()\n",
    "    intersection --> & , intersection()\n",
    "    set difference --> - , difference()\n",
    "    symmetric difference ^ ,  symmetric_difference()\n",
    "copy:\n",
    "    shallow copy \n",
    "    deep copy\n",
    "    |\n",
    "    |___> import copy\n",
    "          original_list = copy.deepcopy(duplicate_list)"
   ]
  },
  {
   "cell_type": "markdown",
   "id": "9b0b34e1",
   "metadata": {},
   "source": [
    "## `Functions`"
   ]
  },
  {
   "cell_type": "code",
   "execution_count": null,
   "id": "4c60ec68",
   "metadata": {},
   "outputs": [],
   "source": [
    "A Function is a group of related statements that performs specific tasks:\n",
    "    we have 2 types of function:\n",
    "        builtin functions\n",
    "        user defined functions"
   ]
  },
  {
   "cell_type": "markdown",
   "id": "f205cd9f",
   "metadata": {},
   "source": [
    "### `builtin functions`"
   ]
  },
  {
   "cell_type": "code",
   "execution_count": null,
   "id": "70e0fbab",
   "metadata": {},
   "outputs": [],
   "source": [
    "sorted(), int(), len(), sum(), min(), max(), type(), id(), ord(), chr(), input(), print(),\n",
    "help(), range()"
   ]
  },
  {
   "cell_type": "markdown",
   "id": "a4d16bb6",
   "metadata": {},
   "source": [
    "### `User Defined Functions`"
   ]
  },
  {
   "cell_type": "code",
   "execution_count": 2,
   "id": "5d5d868a",
   "metadata": {},
   "outputs": [
    {
     "data": {
      "text/plain": [
       "12"
      ]
     },
     "execution_count": 2,
     "metadata": {},
     "output_type": "execute_result"
    }
   ],
   "source": [
    "sum([1,2,5,4])"
   ]
  },
  {
   "cell_type": "code",
   "execution_count": 5,
   "id": "8ee5067b",
   "metadata": {},
   "outputs": [
    {
     "name": "stdout",
     "output_type": "stream",
     "text": [
      "12\n"
     ]
    }
   ],
   "source": [
    "count = 0\n",
    "for i in [1,2,5,4]:\n",
    "    count+=i\n",
    "print(count)"
   ]
  },
  {
   "cell_type": "code",
   "execution_count": 10,
   "id": "03d5ffcf",
   "metadata": {},
   "outputs": [],
   "source": [
    "def print_fruit():\n",
    "    \"\"\" this function will print the\n",
    "    fruit name\"\"\"\n",
    "#     print(\"Apple\")\n",
    "    return \"Mango\""
   ]
  },
  {
   "cell_type": "code",
   "execution_count": 11,
   "id": "00a747de",
   "metadata": {},
   "outputs": [
    {
     "name": "stdout",
     "output_type": "stream",
     "text": [
      "Apple\n"
     ]
    },
    {
     "data": {
      "text/plain": [
       "'Mango'"
      ]
     },
     "execution_count": 11,
     "metadata": {},
     "output_type": "execute_result"
    }
   ],
   "source": [
    "print_fruit()"
   ]
  },
  {
   "cell_type": "code",
   "execution_count": null,
   "id": "f2953a60",
   "metadata": {},
   "outputs": [],
   "source": [
    "# calculate marks of student = 23   X"
   ]
  },
  {
   "cell_type": "code",
   "execution_count": 12,
   "id": "dd346e6c",
   "metadata": {},
   "outputs": [],
   "source": [
    "def watch_youtube():\n",
    "    \"\"\"this function will not return anything\"\"\""
   ]
  },
  {
   "cell_type": "code",
   "execution_count": 16,
   "id": "fadf8bf0",
   "metadata": {},
   "outputs": [],
   "source": [
    "s = watch_youtube()"
   ]
  },
  {
   "cell_type": "code",
   "execution_count": 19,
   "id": "f0ccc369",
   "metadata": {},
   "outputs": [
    {
     "name": "stdout",
     "output_type": "stream",
     "text": [
      "<class 'NoneType'>\n"
     ]
    }
   ],
   "source": [
    "print(type(s))"
   ]
  },
  {
   "cell_type": "code",
   "execution_count": 2,
   "id": "e297bb4c",
   "metadata": {},
   "outputs": [],
   "source": [
    "# function definition\n",
    "def names_of_social_platforms(sm1, sm2):\n",
    "    sm3 = sm1 + sm2\n",
    "    return sm3"
   ]
  },
  {
   "cell_type": "code",
   "execution_count": 21,
   "id": "aceed8d4",
   "metadata": {},
   "outputs": [
    {
     "data": {
      "text/plain": [
       "'GoogleFacebook'"
      ]
     },
     "execution_count": 21,
     "metadata": {},
     "output_type": "execute_result"
    }
   ],
   "source": [
    "# funtion calling\n",
    "names_of_social_platforms(\"Google\",\"Facebook\")"
   ]
  },
  {
   "cell_type": "code",
   "execution_count": 22,
   "id": "852b2e1f",
   "metadata": {},
   "outputs": [
    {
     "data": {
      "text/plain": [
       "'YoutubeDuckduckgo'"
      ]
     },
     "execution_count": 22,
     "metadata": {},
     "output_type": "execute_result"
    }
   ],
   "source": [
    "names_of_social_platforms(\"Youtube\",\"Duckduckgo\")"
   ]
  },
  {
   "cell_type": "code",
   "execution_count": 23,
   "id": "7294a6fa",
   "metadata": {},
   "outputs": [
    {
     "ename": "TypeError",
     "evalue": "names_of_social_platforms() takes 2 positional arguments but 3 were given",
     "output_type": "error",
     "traceback": [
      "\u001b[1;31m---------------------------------------------------------------------------\u001b[0m",
      "\u001b[1;31mTypeError\u001b[0m                                 Traceback (most recent call last)",
      "Input \u001b[1;32mIn [23]\u001b[0m, in \u001b[0;36m<module>\u001b[1;34m\u001b[0m\n\u001b[1;32m----> 1\u001b[0m \u001b[43mnames_of_social_platforms\u001b[49m\u001b[43m(\u001b[49m\u001b[38;5;124;43m\"\u001b[39;49m\u001b[38;5;124;43mInstagram\u001b[39;49m\u001b[38;5;124;43m\"\u001b[39;49m\u001b[43m,\u001b[49m\u001b[38;5;124;43m\"\u001b[39;49m\u001b[38;5;124;43mSnapchat\u001b[39;49m\u001b[38;5;124;43m\"\u001b[39;49m\u001b[43m,\u001b[49m\u001b[38;5;124;43m\"\u001b[39;49m\u001b[38;5;124;43mTicktok\u001b[39;49m\u001b[38;5;124;43m\"\u001b[39;49m\u001b[43m)\u001b[49m\n",
      "\u001b[1;31mTypeError\u001b[0m: names_of_social_platforms() takes 2 positional arguments but 3 were given"
     ]
    }
   ],
   "source": [
    "names_of_social_platforms(\"Instagram\",\"Snapchat\",\"Tiktok\")"
   ]
  },
  {
   "cell_type": "code",
   "execution_count": 3,
   "id": "ada0519e",
   "metadata": {},
   "outputs": [],
   "source": [
    "con_names = names_of_social_platforms(\"Youtube\",\"Duckduckgo\")"
   ]
  },
  {
   "cell_type": "code",
   "execution_count": 4,
   "id": "3f4a7882",
   "metadata": {},
   "outputs": [
    {
     "name": "stdout",
     "output_type": "stream",
     "text": [
      "YoutubeDuckduckgo\n"
     ]
    }
   ],
   "source": [
    "print(con_names)"
   ]
  },
  {
   "cell_type": "code",
   "execution_count": null,
   "id": "8eae55a6",
   "metadata": {},
   "outputs": [],
   "source": [
    "Local namespace\n",
    "global namespace\n",
    "builtin namespace"
   ]
  },
  {
   "cell_type": "code",
   "execution_count": 10,
   "id": "cc737c1f",
   "metadata": {},
   "outputs": [
    {
     "name": "stdout",
     "output_type": "stream",
     "text": [
      "5\n",
      "25\n"
     ]
    }
   ],
   "source": [
    "val = 5\n",
    "def func():\n",
    "    global val\n",
    "    val = 25\n",
    "print(val)\n",
    "func()\n",
    "print(val)"
   ]
  },
  {
   "cell_type": "code",
   "execution_count": 14,
   "id": "c1d9f38b",
   "metadata": {},
   "outputs": [
    {
     "name": "stdout",
     "output_type": "stream",
     "text": [
      "5\n",
      "5\n"
     ]
    }
   ],
   "source": [
    "val = 5\n",
    "def func():\n",
    "    val = 5\n",
    "    return val\n",
    "print(func())\n",
    "print(val)"
   ]
  },
  {
   "cell_type": "code",
   "execution_count": 15,
   "id": "32ebc38d",
   "metadata": {},
   "outputs": [],
   "source": [
    "value = 25\n",
    "def name():\n",
    "    print(value)\n"
   ]
  },
  {
   "cell_type": "code",
   "execution_count": 16,
   "id": "98006593",
   "metadata": {},
   "outputs": [
    {
     "name": "stdout",
     "output_type": "stream",
     "text": [
      "25\n"
     ]
    }
   ],
   "source": [
    "name()"
   ]
  },
  {
   "cell_type": "code",
   "execution_count": 19,
   "id": "66afc4fd",
   "metadata": {},
   "outputs": [],
   "source": [
    "def fnc1(x):\n",
    "    print(x,\"from func1\")\n",
    "    def func2(y):\n",
    "        print(y,\"from func2\")\n",
    "    func2(x+1)"
   ]
  },
  {
   "cell_type": "code",
   "execution_count": 20,
   "id": "28c08358",
   "metadata": {},
   "outputs": [
    {
     "name": "stdout",
     "output_type": "stream",
     "text": [
      "25 from func1\n",
      "26 from func2\n"
     ]
    }
   ],
   "source": [
    "fnc1(25)"
   ]
  },
  {
   "cell_type": "code",
   "execution_count": 22,
   "id": "8b55cf3e",
   "metadata": {},
   "outputs": [
    {
     "name": "stdout",
     "output_type": "stream",
     "text": [
      "25 from func1\n",
      "26 from func2\n"
     ]
    }
   ],
   "source": [
    "def func2(y):\n",
    "    print(y,\"from func2\")\n",
    "    \n",
    "def func1(x):\n",
    "    print(x,\"from func1\")\n",
    "    func2(x+1)\n",
    "\n",
    "func1(25)"
   ]
  },
  {
   "cell_type": "code",
   "execution_count": 23,
   "id": "d2563ab7",
   "metadata": {},
   "outputs": [
    {
     "name": "stdout",
     "output_type": "stream",
     "text": [
      "15\n"
     ]
    }
   ],
   "source": [
    "def sum_of_list(list1):\n",
    "    return sum(list1)\n",
    "l = [1,2,3,4,5]\n",
    "print(sum_of_list(l))"
   ]
  },
  {
   "cell_type": "code",
   "execution_count": 25,
   "id": "336cd21a",
   "metadata": {},
   "outputs": [
    {
     "ename": "NameError",
     "evalue": "name 'val1' is not defined",
     "output_type": "error",
     "traceback": [
      "\u001b[1;31m---------------------------------------------------------------------------\u001b[0m",
      "\u001b[1;31mNameError\u001b[0m                                 Traceback (most recent call last)",
      "Input \u001b[1;32mIn [25]\u001b[0m, in \u001b[0;36m<module>\u001b[1;34m\u001b[0m\n\u001b[0;32m      2\u001b[0m     val1 \u001b[38;5;241m=\u001b[39m \u001b[38;5;241m20\u001b[39m\n\u001b[0;32m      3\u001b[0m funct1()\n\u001b[1;32m----> 4\u001b[0m \u001b[38;5;28mprint\u001b[39m(\u001b[43mval1\u001b[49m)\n",
      "\u001b[1;31mNameError\u001b[0m: name 'val1' is not defined"
     ]
    }
   ],
   "source": [
    "def funct1():\n",
    "    val1 = 20\n",
    "funct1()\n",
    "print(val1)"
   ]
  },
  {
   "cell_type": "code",
   "execution_count": 32,
   "id": "37fa6b84",
   "metadata": {},
   "outputs": [
    {
     "data": {
      "text/plain": [
       "'14 is the length of your iterable'"
      ]
     },
     "execution_count": 32,
     "metadata": {},
     "output_type": "execute_result"
    }
   ],
   "source": [
    "def len(l):\n",
    "    count = 0\n",
    "    for i in l:\n",
    "        count+=1\n",
    "    return str(count) + \" is the length of your iterable\"\n",
    "\n",
    "def funct3(list1):\n",
    "    s = len(list1)\n",
    "    return s\n",
    "\n",
    "s = \"jhfoidfkhnjdks\"\n",
    "funct3(s)"
   ]
  },
  {
   "cell_type": "code",
   "execution_count": 34,
   "id": "227e13d1",
   "metadata": {},
   "outputs": [
    {
     "data": {
      "text/plain": [
       "11"
      ]
     },
     "execution_count": 34,
     "metadata": {},
     "output_type": "execute_result"
    }
   ],
   "source": [
    "def add(a,b):\n",
    "    return a+b\n",
    "add(5,6)"
   ]
  },
  {
   "cell_type": "code",
   "execution_count": 37,
   "id": "6f5e4a3a",
   "metadata": {},
   "outputs": [
    {
     "data": {
      "text/plain": [
       "6"
      ]
     },
     "execution_count": 37,
     "metadata": {},
     "output_type": "execute_result"
    }
   ],
   "source": [
    "def add(a=0,b=0):\n",
    "    return a+b\n",
    "add(6)"
   ]
  },
  {
   "cell_type": "code",
   "execution_count": null,
   "id": "64bd574a",
   "metadata": {},
   "outputs": [],
   "source": [
    "*argv and **kwargs"
   ]
  }
 ],
 "metadata": {
  "kernelspec": {
   "display_name": "Python 3 (ipykernel)",
   "language": "python",
   "name": "python3"
  },
  "language_info": {
   "codemirror_mode": {
    "name": "ipython",
    "version": 3
   },
   "file_extension": ".py",
   "mimetype": "text/x-python",
   "name": "python",
   "nbconvert_exporter": "python",
   "pygments_lexer": "ipython3",
   "version": "3.10.1"
  }
 },
 "nbformat": 4,
 "nbformat_minor": 5
}
