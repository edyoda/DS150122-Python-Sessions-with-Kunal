{
 "cells": [
  {
   "cell_type": "code",
   "execution_count": null,
   "id": "c898bf88",
   "metadata": {},
   "outputs": [],
   "source": [
    "File handling :\n",
    "    #syntax one\n",
    "    file_pointer = open(file_name, opening_mode)\n",
    "    file_pointer.close()\n",
    "    #syntax two\n",
    "    with open(file_name, opening_mode) as file_pointer:\n",
    "        #operations\n",
    "        #reading mode --> r --> read only mode\n",
    "        #In the begening, file pointer is at the start position\n",
    "        # FileNotFoundError if file is not available\n",
    "        file_pointer.read(pos)\n",
    "        file_pointer.readline()\n",
    "        file_pointer.readlines()\n",
    "        #writing mode --> w --> writing mode\n",
    "        #In the begening, file pointer is at the start position\n",
    "        # It overwrites the file if file is present else creates a new file\n",
    "        file_pointer.write()\n",
    "        file_pointer.writelines()\n",
    "        #append mode --> a --> append mode\n",
    "        #In the begening, file pointer is at the end of file\n",
    "        # It appends the file if it exists else creates a new one\n",
    "        file_pointer.write()\n",
    "        file_pointer.writelines()\n",
    "        '''--------------------------------------------------------------------'''\n",
    "        file_pointer.seek(pos)\n",
    "        file_pointer.tell()"
   ]
  },
  {
   "cell_type": "code",
   "execution_count": 1,
   "id": "87a2d403",
   "metadata": {},
   "outputs": [
    {
     "ename": "FileNotFoundError",
     "evalue": "[Errno 2] No such file or directory: 'Neeraj.py'",
     "output_type": "error",
     "traceback": [
      "\u001b[1;31m---------------------------------------------------------------------------\u001b[0m",
      "\u001b[1;31mFileNotFoundError\u001b[0m                         Traceback (most recent call last)",
      "Input \u001b[1;32mIn [1]\u001b[0m, in \u001b[0;36m<module>\u001b[1;34m\u001b[0m\n\u001b[1;32m----> 1\u001b[0m \u001b[38;5;28;01mwith\u001b[39;00m \u001b[38;5;28;43mopen\u001b[39;49m\u001b[43m(\u001b[49m\u001b[38;5;124;43m\"\u001b[39;49m\u001b[38;5;124;43mNeeraj.py\u001b[39;49m\u001b[38;5;124;43m\"\u001b[39;49m\u001b[43m,\u001b[49m\u001b[38;5;124;43m\"\u001b[39;49m\u001b[38;5;124;43mr\u001b[39;49m\u001b[38;5;124;43m\"\u001b[39;49m\u001b[43m)\u001b[49m \u001b[38;5;28;01mas\u001b[39;00m fp:\n\u001b[0;32m      2\u001b[0m     \u001b[38;5;28mprint\u001b[39m(fp\u001b[38;5;241m.\u001b[39mread())\n",
      "\u001b[1;31mFileNotFoundError\u001b[0m: [Errno 2] No such file or directory: 'Neeraj.py'"
     ]
    }
   ],
   "source": [
    "with open(\"Neeraj.py\",\"r\") as fp:\n",
    "    print(fp.read())"
   ]
  },
  {
   "cell_type": "code",
   "execution_count": null,
   "id": "1ef1a044",
   "metadata": {},
   "outputs": [],
   "source": [
    "+ --> Opens a file for reading and writing"
   ]
  },
  {
   "cell_type": "code",
   "execution_count": null,
   "id": "5e62777e",
   "metadata": {},
   "outputs": [],
   "source": [
    "r+ --> # FileNotFoundError if file is not available \n",
    "       # read and write and remove the existing content\n",
    "       # In the begening file pointer is at the start position"
   ]
  },
  {
   "cell_type": "code",
   "execution_count": 4,
   "id": "b2b61aaf",
   "metadata": {},
   "outputs": [
    {
     "name": "stdout",
     "output_type": "stream",
     "text": [
      "0\n",
      "Hey I am being read by r+ mode.Hey I am written from the r+ mode\n",
      "34\n"
     ]
    }
   ],
   "source": [
    "with open(\"file1.txt\",\"r+\") as fp:\n",
    "    print(fp.tell())\n",
    "    print(fp.read())\n",
    "    print(fp.write(\"\\nHey I am written from the r+ mode\"))"
   ]
  },
  {
   "cell_type": "code",
   "execution_count": null,
   "id": "c075a4ab",
   "metadata": {},
   "outputs": [],
   "source": [
    "WAP using r+ mode :\n",
    "    1) create a file manually\n",
    "    2) using file handling perform write operation to have all the capital alphabets in the file\n",
    "10 mins 20:47"
   ]
  },
  {
   "cell_type": "code",
   "execution_count": 7,
   "id": "0b5f54ad",
   "metadata": {},
   "outputs": [],
   "source": [
    "with open(\"abcd.txt\",\"r+\") as file_pointer:\n",
    "    file_pointer.truncate()\n",
    "    for i in range(ord(\"A\"),ord(\"Z\")+1):\n",
    "        file_pointer.write(chr(i)+f\":{i}\\n\")"
   ]
  },
  {
   "cell_type": "code",
   "execution_count": null,
   "id": "377f0ba2",
   "metadata": {},
   "outputs": [],
   "source": [
    "w+ mode --> \n",
    "        #In the begening, file pointer is at the start position\n",
    "        # It overwrites the file if file is present else creates a new file\n",
    "        # It can perform read operation"
   ]
  },
  {
   "cell_type": "code",
   "execution_count": 43,
   "id": "d6515e38",
   "metadata": {},
   "outputs": [
    {
     "name": "stdout",
     "output_type": "stream",
     "text": [
      "27\n",
      "Hey I am written by w+ mode\n"
     ]
    }
   ],
   "source": [
    "with open(\"file2.txt\",\"w+\") as fp:\n",
    "    fp.write(\"Hey I am written by w+ mode\")\n",
    "    print(fp.tell())\n",
    "    fp.seek(0)\n",
    "    print(fp.read())"
   ]
  },
  {
   "cell_type": "code",
   "execution_count": 44,
   "id": "8e773db8",
   "metadata": {},
   "outputs": [
    {
     "name": "stdout",
     "output_type": "stream",
     "text": [
      " Truncated everything\n",
      "27\n",
      "Hey I am written by w+ mode\n"
     ]
    }
   ],
   "source": [
    "with open(\"file2.txt\",\"w+\") as fp:\n",
    "    print(fp.read(),\"Truncated everything\")\n",
    "    fp.write(\"Hey I am written by w+ mode\")\n",
    "    print(fp.tell())\n",
    "    fp.seek(0)\n",
    "    print(fp.read())"
   ]
  },
  {
   "cell_type": "code",
   "execution_count": null,
   "id": "cd57b11e",
   "metadata": {},
   "outputs": [],
   "source": [
    "a+ --> #In the begening, file pointer is at the end of file\n",
    "       # It appends the file if it exists else creates a new one\n",
    "       # It can perform read operation"
   ]
  },
  {
   "cell_type": "code",
   "execution_count": 47,
   "id": "4a8c0b4a",
   "metadata": {},
   "outputs": [
    {
     "name": "stdout",
     "output_type": "stream",
     "text": [
      "for i in range(10):\n",
      "\tprint(i)\n"
     ]
    }
   ],
   "source": [
    "with open(\"file3.py\",\"a+\") as fp:\n",
    "    fp.write(\"for i in range(10):\\n\\t\")\n",
    "    fp.write(\"print(i)\")\n",
    "    fp.seek(0)\n",
    "    print(fp.read())"
   ]
  },
  {
   "cell_type": "code",
   "execution_count": 52,
   "id": "461f79cb",
   "metadata": {},
   "outputs": [
    {
     "name": "stdout",
     "output_type": "stream",
     "text": [
      "0\n",
      "1\n",
      "0\n",
      "hey\n",
      "1\n",
      "hey\n"
     ]
    }
   ],
   "source": [
    "for i in range(2): print(i)\n",
    "\n",
    "for i in range(2): \n",
    " print(i)\n",
    " print(\"hey\")"
   ]
  },
  {
   "cell_type": "code",
   "execution_count": 54,
   "id": "afe658e5",
   "metadata": {},
   "outputs": [],
   "source": [
    "with open(\"file3.py\",\"a+\") as fp:\n",
    "    fp.write(\"\\nprint(\\\"Hey This code was written by another code\\\")\")"
   ]
  },
  {
   "cell_type": "code",
   "execution_count": null,
   "id": "ac3e9b6d",
   "metadata": {},
   "outputs": [],
   "source": [
    "WAP to save multiplication table of 2 in a txt file as below:\n",
    "    2 X 1 = 2\n",
    "    2 X 2 = 4\n",
    "    ...\n",
    "    2 X 10 =20\n",
    "21:40\n"
   ]
  },
  {
   "cell_type": "code",
   "execution_count": 55,
   "id": "9a28841e",
   "metadata": {},
   "outputs": [],
   "source": [
    "with open(\"multiplication.txt\",\"w\") as fp:\n",
    "    for i in range(1,11):\n",
    "        fp.write(f\"2 X {i} = {2*i}\\n\")"
   ]
  },
  {
   "cell_type": "code",
   "execution_count": null,
   "id": "61a33a6f",
   "metadata": {},
   "outputs": [],
   "source": [
    "a+ vs w+\n",
    "fp eof and fp start of file --> snegha\n",
    "a+ mode continues write operation from eof whereas w+ mode overwrites the whole file \n"
   ]
  },
  {
   "cell_type": "code",
   "execution_count": null,
   "id": "05658762",
   "metadata": {},
   "outputs": [],
   "source": []
  }
 ],
 "metadata": {
  "kernelspec": {
   "display_name": "Python 3 (ipykernel)",
   "language": "python",
   "name": "python3"
  },
  "language_info": {
   "codemirror_mode": {
    "name": "ipython",
    "version": 3
   },
   "file_extension": ".py",
   "mimetype": "text/x-python",
   "name": "python",
   "nbconvert_exporter": "python",
   "pygments_lexer": "ipython3",
   "version": "3.10.1"
  }
 },
 "nbformat": 4,
 "nbformat_minor": 5
}
