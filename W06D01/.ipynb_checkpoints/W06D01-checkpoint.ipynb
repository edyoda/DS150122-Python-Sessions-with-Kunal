{
 "cells": [
  {
   "cell_type": "code",
   "execution_count": null,
   "id": "f255ee85",
   "metadata": {},
   "outputs": [],
   "source": [
    "lambda expression --->anonymous function"
   ]
  },
  {
   "cell_type": "code",
   "execution_count": null,
   "id": "654fa83a",
   "metadata": {},
   "outputs": [],
   "source": [
    "lambda param : expression"
   ]
  },
  {
   "cell_type": "code",
   "execution_count": null,
   "id": "a41e7175",
   "metadata": {},
   "outputs": [],
   "source": [
    "(lambda param : expression)(arguments)"
   ]
  },
  {
   "cell_type": "code",
   "execution_count": 1,
   "id": "ec3598fc",
   "metadata": {},
   "outputs": [
    {
     "name": "stdout",
     "output_type": "stream",
     "text": [
      "3.0\n"
     ]
    }
   ],
   "source": [
    "def cube_root(x):\n",
    "    return x**1/3\n",
    "print(cube_root(9))"
   ]
  },
  {
   "cell_type": "code",
   "execution_count": 3,
   "id": "ad950e9a",
   "metadata": {},
   "outputs": [
    {
     "name": "stdout",
     "output_type": "stream",
     "text": [
      "3.0\n"
     ]
    }
   ],
   "source": [
    "print((lambda x:x**1/3)(9))"
   ]
  },
  {
   "cell_type": "code",
   "execution_count": 5,
   "id": "f43fd251",
   "metadata": {},
   "outputs": [
    {
     "name": "stdout",
     "output_type": "stream",
     "text": [
      "<function <lambda> at 0x000001B447CF64D0>\n"
     ]
    }
   ],
   "source": [
    "print(lambda a,b,c : a+b+c)"
   ]
  },
  {
   "cell_type": "code",
   "execution_count": 6,
   "id": "6e3e0218",
   "metadata": {},
   "outputs": [
    {
     "name": "stdout",
     "output_type": "stream",
     "text": [
      "<function cube_root at 0x000001B447CF6560>\n"
     ]
    }
   ],
   "source": [
    "print(cube_root)"
   ]
  },
  {
   "cell_type": "code",
   "execution_count": null,
   "id": "b647e0b1",
   "metadata": {},
   "outputs": [],
   "source": [
    "map(function, iterable) --> map object"
   ]
  },
  {
   "cell_type": "code",
   "execution_count": null,
   "id": "2ec54bd8",
   "metadata": {},
   "outputs": [],
   "source": [
    "l = [1, 9, 64, 125, 216]\n",
    "output--> [1, 3, 4, 5, 6]"
   ]
  },
  {
   "cell_type": "code",
   "execution_count": 18,
   "id": "841b1a04",
   "metadata": {},
   "outputs": [],
   "source": [
    "def cube(x):\n",
    "    return x**3\n",
    "l = [1, 2, 3, 4, 5]"
   ]
  },
  {
   "cell_type": "code",
   "execution_count": 30,
   "id": "0296e7f3",
   "metadata": {},
   "outputs": [],
   "source": [
    "t = list(map(cube, l))"
   ]
  },
  {
   "cell_type": "code",
   "execution_count": 27,
   "id": "a2c4c18a",
   "metadata": {},
   "outputs": [
    {
     "name": "stdout",
     "output_type": "stream",
     "text": [
      "[1, 8, 27, 64, 125]\n"
     ]
    }
   ],
   "source": [
    "print(list(t))"
   ]
  },
  {
   "cell_type": "code",
   "execution_count": 31,
   "id": "6e906753",
   "metadata": {},
   "outputs": [
    {
     "name": "stdout",
     "output_type": "stream",
     "text": [
      "1\n",
      "8\n",
      "27\n",
      "64\n",
      "125\n"
     ]
    }
   ],
   "source": [
    "for i in t:\n",
    "    print(i)"
   ]
  },
  {
   "cell_type": "code",
   "execution_count": 28,
   "id": "6de0533a",
   "metadata": {},
   "outputs": [
    {
     "name": "stdout",
     "output_type": "stream",
     "text": [
      "<map object at 0x000001B448A5FA00>\n"
     ]
    }
   ],
   "source": [
    "print(t)"
   ]
  },
  {
   "cell_type": "code",
   "execution_count": 32,
   "id": "520b61d0",
   "metadata": {},
   "outputs": [
    {
     "name": "stdout",
     "output_type": "stream",
     "text": [
      "1 2 3 4\n"
     ]
    }
   ],
   "source": [
    "t=input().split()"
   ]
  },
  {
   "cell_type": "code",
   "execution_count": 33,
   "id": "7dcf0ec4",
   "metadata": {},
   "outputs": [
    {
     "name": "stdout",
     "output_type": "stream",
     "text": [
      "['1', '2', '3', '4']\n"
     ]
    }
   ],
   "source": [
    "print(t)"
   ]
  },
  {
   "cell_type": "code",
   "execution_count": 34,
   "id": "7f2f0ea3",
   "metadata": {},
   "outputs": [
    {
     "name": "stdout",
     "output_type": "stream",
     "text": [
      "1 2 3 4 5 6\n"
     ]
    }
   ],
   "source": [
    "t = list(map(int, input().split()))"
   ]
  },
  {
   "cell_type": "code",
   "execution_count": 35,
   "id": "4a308d24",
   "metadata": {},
   "outputs": [
    {
     "name": "stdout",
     "output_type": "stream",
     "text": [
      "[1, 2, 3, 4, 5, 6]\n"
     ]
    }
   ],
   "source": [
    "print(t)"
   ]
  },
  {
   "cell_type": "code",
   "execution_count": null,
   "id": "0ec33b44",
   "metadata": {},
   "outputs": [],
   "source": [
    "t = [1, 2, 3, 4, 5]\n",
    "output --> [2, 4]\n",
    "output --> [1, 3, 5]"
   ]
  },
  {
   "cell_type": "code",
   "execution_count": null,
   "id": "043a9bb9",
   "metadata": {},
   "outputs": [],
   "source": [
    "filter(func, iterable)"
   ]
  },
  {
   "cell_type": "code",
   "execution_count": 36,
   "id": "47c592f8",
   "metadata": {},
   "outputs": [
    {
     "data": {
      "text/plain": [
       "[2, 4]"
      ]
     },
     "execution_count": 36,
     "metadata": {},
     "output_type": "execute_result"
    }
   ],
   "source": [
    "def even_val(x):\n",
    "    return x%2==0\n",
    "list(filter(even_val, [1, 2, 3, 4, 5]))"
   ]
  },
  {
   "cell_type": "code",
   "execution_count": 37,
   "id": "71a5304f",
   "metadata": {},
   "outputs": [
    {
     "data": {
      "text/plain": [
       "[1, 3, 5]"
      ]
     },
     "execution_count": 37,
     "metadata": {},
     "output_type": "execute_result"
    }
   ],
   "source": [
    "def odd_val(x):\n",
    "    return x%2!=0\n",
    "list(filter(odd_val, [1, 2, 3, 4, 5]))"
   ]
  },
  {
   "cell_type": "markdown",
   "id": "98260172",
   "metadata": {},
   "source": [
    "## `List Comprehension`"
   ]
  },
  {
   "cell_type": "code",
   "execution_count": null,
   "id": "854610be",
   "metadata": {},
   "outputs": [],
   "source": [
    "s = \"Vaibhav\"\n",
    "l = [86,97,...,118]"
   ]
  },
  {
   "cell_type": "code",
   "execution_count": 41,
   "id": "58ad7ca1",
   "metadata": {},
   "outputs": [
    {
     "data": {
      "text/plain": [
       "118"
      ]
     },
     "execution_count": 41,
     "metadata": {},
     "output_type": "execute_result"
    }
   ],
   "source": [
    "ord(\"v\")"
   ]
  },
  {
   "cell_type": "code",
   "execution_count": null,
   "id": "e9919f84",
   "metadata": {},
   "outputs": [],
   "source": [
    "2 mins 20:19"
   ]
  }
 ],
 "metadata": {
  "kernelspec": {
   "display_name": "Python 3 (ipykernel)",
   "language": "python",
   "name": "python3"
  },
  "language_info": {
   "codemirror_mode": {
    "name": "ipython",
    "version": 3
   },
   "file_extension": ".py",
   "mimetype": "text/x-python",
   "name": "python",
   "nbconvert_exporter": "python",
   "pygments_lexer": "ipython3",
   "version": "3.10.1"
  }
 },
 "nbformat": 4,
 "nbformat_minor": 5
}
