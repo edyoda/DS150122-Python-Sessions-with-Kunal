{
 "cells": [
  {
   "cell_type": "code",
   "execution_count": null,
   "id": "9bcc9f23",
   "metadata": {},
   "outputs": [],
   "source": [
    "lambda expression --->anonymous function"
   ]
  },
  {
   "cell_type": "code",
   "execution_count": null,
   "id": "83e7e519",
   "metadata": {},
   "outputs": [],
   "source": [
    "lambda param : expression"
   ]
  },
  {
   "cell_type": "code",
   "execution_count": null,
   "id": "04c075d7",
   "metadata": {},
   "outputs": [],
   "source": [
    "(lambda param : expression)(arguments)"
   ]
  },
  {
   "cell_type": "code",
   "execution_count": 1,
   "id": "70297161",
   "metadata": {},
   "outputs": [
    {
     "name": "stdout",
     "output_type": "stream",
     "text": [
      "3.0\n"
     ]
    }
   ],
   "source": [
    "def cube_root(x):\n",
    "    return x**1/3\n",
    "print(cube_root(9))"
   ]
  },
  {
   "cell_type": "code",
   "execution_count": 3,
   "id": "1090cfc9",
   "metadata": {},
   "outputs": [
    {
     "name": "stdout",
     "output_type": "stream",
     "text": [
      "3.0\n"
     ]
    }
   ],
   "source": [
    "print((lambda x:x**1/3)(9))"
   ]
  },
  {
   "cell_type": "code",
   "execution_count": 5,
   "id": "b561e2d8",
   "metadata": {},
   "outputs": [
    {
     "name": "stdout",
     "output_type": "stream",
     "text": [
      "<function <lambda> at 0x000001B447CF64D0>\n"
     ]
    }
   ],
   "source": [
    "print(lambda a,b,c : a+b+c)"
   ]
  },
  {
   "cell_type": "code",
   "execution_count": 6,
   "id": "1fc41de9",
   "metadata": {},
   "outputs": [
    {
     "name": "stdout",
     "output_type": "stream",
     "text": [
      "<function cube_root at 0x000001B447CF6560>\n"
     ]
    }
   ],
   "source": [
    "print(cube_root)"
   ]
  },
  {
   "cell_type": "code",
   "execution_count": null,
   "id": "7fbcf51f",
   "metadata": {},
   "outputs": [],
   "source": [
    "map(function, iterable) --> map object"
   ]
  },
  {
   "cell_type": "code",
   "execution_count": null,
   "id": "53568a50",
   "metadata": {},
   "outputs": [],
   "source": [
    "l = [1, 9, 64, 125, 216]\n",
    "output--> [1, 3, 4, 5, 6]"
   ]
  },
  {
   "cell_type": "code",
   "execution_count": 18,
   "id": "fad7cce9",
   "metadata": {},
   "outputs": [],
   "source": [
    "def cube(x):\n",
    "    return x**3\n",
    "l = [1, 2, 3, 4, 5]"
   ]
  },
  {
   "cell_type": "code",
   "execution_count": 30,
   "id": "bda2a8a4",
   "metadata": {},
   "outputs": [],
   "source": [
    "t = list(map(cube, l))"
   ]
  },
  {
   "cell_type": "code",
   "execution_count": 27,
   "id": "a8481d53",
   "metadata": {},
   "outputs": [
    {
     "name": "stdout",
     "output_type": "stream",
     "text": [
      "[1, 8, 27, 64, 125]\n"
     ]
    }
   ],
   "source": [
    "print(list(t))"
   ]
  },
  {
   "cell_type": "code",
   "execution_count": 31,
   "id": "b48ba246",
   "metadata": {},
   "outputs": [
    {
     "name": "stdout",
     "output_type": "stream",
     "text": [
      "1\n",
      "8\n",
      "27\n",
      "64\n",
      "125\n"
     ]
    }
   ],
   "source": [
    "for i in t:\n",
    "    print(i)"
   ]
  },
  {
   "cell_type": "code",
   "execution_count": 28,
   "id": "df10c012",
   "metadata": {},
   "outputs": [
    {
     "name": "stdout",
     "output_type": "stream",
     "text": [
      "<map object at 0x000001B448A5FA00>\n"
     ]
    }
   ],
   "source": [
    "print(t)"
   ]
  },
  {
   "cell_type": "code",
   "execution_count": 32,
   "id": "cee9421f",
   "metadata": {},
   "outputs": [
    {
     "name": "stdout",
     "output_type": "stream",
     "text": [
      "1 2 3 4\n"
     ]
    }
   ],
   "source": [
    "t=input().split()"
   ]
  },
  {
   "cell_type": "code",
   "execution_count": 33,
   "id": "9c00ca69",
   "metadata": {},
   "outputs": [
    {
     "name": "stdout",
     "output_type": "stream",
     "text": [
      "['1', '2', '3', '4']\n"
     ]
    }
   ],
   "source": [
    "print(t)"
   ]
  },
  {
   "cell_type": "code",
   "execution_count": 34,
   "id": "1dde45f6",
   "metadata": {},
   "outputs": [
    {
     "name": "stdout",
     "output_type": "stream",
     "text": [
      "1 2 3 4 5 6\n"
     ]
    }
   ],
   "source": [
    "t = list(map(int, input().split()))"
   ]
  },
  {
   "cell_type": "code",
   "execution_count": 35,
   "id": "946ac71b",
   "metadata": {},
   "outputs": [
    {
     "name": "stdout",
     "output_type": "stream",
     "text": [
      "[1, 2, 3, 4, 5, 6]\n"
     ]
    }
   ],
   "source": [
    "print(t)"
   ]
  },
  {
   "cell_type": "code",
   "execution_count": null,
   "id": "a26cbb47",
   "metadata": {},
   "outputs": [],
   "source": [
    "t = [1, 2, 3, 4, 5]\n",
    "output --> [2, 4]\n",
    "output --> [1, 3, 5]"
   ]
  },
  {
   "cell_type": "code",
   "execution_count": null,
   "id": "f237e55a",
   "metadata": {},
   "outputs": [],
   "source": [
    "filter(func, iterable)"
   ]
  },
  {
   "cell_type": "code",
   "execution_count": 36,
   "id": "74d49a93",
   "metadata": {},
   "outputs": [
    {
     "data": {
      "text/plain": [
       "[2, 4]"
      ]
     },
     "execution_count": 36,
     "metadata": {},
     "output_type": "execute_result"
    }
   ],
   "source": [
    "def even_val(x):\n",
    "    return x%2==0\n",
    "list(filter(even_val, [1, 2, 3, 4, 5]))"
   ]
  },
  {
   "cell_type": "code",
   "execution_count": 37,
   "id": "7b4548db",
   "metadata": {},
   "outputs": [
    {
     "data": {
      "text/plain": [
       "[1, 3, 5]"
      ]
     },
     "execution_count": 37,
     "metadata": {},
     "output_type": "execute_result"
    }
   ],
   "source": [
    "def odd_val(x):\n",
    "    return x%2!=0\n",
    "list(filter(odd_val, [1, 2, 3, 4, 5]))"
   ]
  },
  {
   "cell_type": "markdown",
   "id": "1d7999f3",
   "metadata": {},
   "source": [
    "## `List Comprehension`"
   ]
  },
  {
   "cell_type": "code",
   "execution_count": null,
   "id": "04cbc622",
   "metadata": {},
   "outputs": [],
   "source": [
    "s = \"Vaibhav\"\n",
    "l = [86,97,...,118]"
   ]
  },
  {
   "cell_type": "code",
   "execution_count": 41,
   "id": "37f39d71",
   "metadata": {},
   "outputs": [
    {
     "data": {
      "text/plain": [
       "118"
      ]
     },
     "execution_count": 41,
     "metadata": {},
     "output_type": "execute_result"
    }
   ],
   "source": [
    "ord(\"v\")"
   ]
  },
  {
   "cell_type": "code",
   "execution_count": null,
   "id": "50d02866",
   "metadata": {},
   "outputs": [],
   "source": [
    "2 mins 20:19"
   ]
  },
  {
   "cell_type": "code",
   "execution_count": 43,
   "id": "0a74dc19",
   "metadata": {},
   "outputs": [],
   "source": [
    "s = \"Vaibhav\"\n",
    "l = []\n",
    "for i in s:\n",
    "    l.append(ord(i))"
   ]
  },
  {
   "cell_type": "code",
   "execution_count": 44,
   "id": "ecb49cf5",
   "metadata": {},
   "outputs": [
    {
     "name": "stdout",
     "output_type": "stream",
     "text": [
      "[86, 97, 105, 98, 104, 97, 118]\n"
     ]
    }
   ],
   "source": [
    "print(l)"
   ]
  },
  {
   "cell_type": "code",
   "execution_count": 45,
   "id": "42ba079c",
   "metadata": {},
   "outputs": [],
   "source": [
    "s = \"Vaibhav\"\n",
    "l = []\n",
    "for i in s:\n",
    "    l = l + [ord(i)]"
   ]
  },
  {
   "cell_type": "code",
   "execution_count": 46,
   "id": "a5d7bfe4",
   "metadata": {},
   "outputs": [
    {
     "data": {
      "text/plain": [
       "[86, 97, 105, 98, 104, 97, 118]"
      ]
     },
     "execution_count": 46,
     "metadata": {},
     "output_type": "execute_result"
    }
   ],
   "source": [
    "l"
   ]
  },
  {
   "cell_type": "code",
   "execution_count": 51,
   "id": "64981043",
   "metadata": {},
   "outputs": [],
   "source": [
    "s = \"Vaibhav\"\n",
    "l = []\n",
    "for i in s:\n",
    "    l.append(str(ord(i))+\"-->\"+str(i))"
   ]
  },
  {
   "cell_type": "code",
   "execution_count": 52,
   "id": "e157f275",
   "metadata": {},
   "outputs": [
    {
     "data": {
      "text/plain": [
       "['86-->V', '97-->a', '105-->i', '98-->b', '104-->h', '97-->a', '118-->v']"
      ]
     },
     "execution_count": 52,
     "metadata": {},
     "output_type": "execute_result"
    }
   ],
   "source": [
    "l"
   ]
  },
  {
   "cell_type": "code",
   "execution_count": 49,
   "id": "57aa1b0d",
   "metadata": {},
   "outputs": [],
   "source": [
    "t = [ord(i) for i in s]"
   ]
  },
  {
   "cell_type": "code",
   "execution_count": 50,
   "id": "4bba8fd6",
   "metadata": {},
   "outputs": [
    {
     "name": "stdout",
     "output_type": "stream",
     "text": [
      "[86, 97, 105, 98, 104, 97, 118]\n"
     ]
    }
   ],
   "source": [
    "print(t)"
   ]
  },
  {
   "cell_type": "code",
   "execution_count": 55,
   "id": "3f031d8a",
   "metadata": {},
   "outputs": [],
   "source": [
    "t = [str(ord(i))+\"-->\"+str(i) for i in s]"
   ]
  },
  {
   "cell_type": "code",
   "execution_count": 56,
   "id": "80a4e34e",
   "metadata": {},
   "outputs": [
    {
     "name": "stdout",
     "output_type": "stream",
     "text": [
      "['86-->V', '97-->a', '105-->i', '98-->b', '104-->h', '97-->a', '118-->v']\n"
     ]
    }
   ],
   "source": [
    "print(t)"
   ]
  },
  {
   "cell_type": "code",
   "execution_count": 59,
   "id": "eb966e7c",
   "metadata": {},
   "outputs": [],
   "source": [
    "l = [1, 2, 3, 5, 8]\n",
    "t = [i+1 for i in l]"
   ]
  },
  {
   "cell_type": "code",
   "execution_count": 60,
   "id": "d3a588c7",
   "metadata": {},
   "outputs": [
    {
     "name": "stdout",
     "output_type": "stream",
     "text": [
      "[2, 3, 4, 6, 9]\n"
     ]
    }
   ],
   "source": [
    "print(t)"
   ]
  },
  {
   "cell_type": "markdown",
   "id": "c1624957",
   "metadata": {},
   "source": [
    "## `Syntax 1`\n",
    "newlist = [expression for item in iterable]"
   ]
  },
  {
   "cell_type": "code",
   "execution_count": 63,
   "id": "44a1c704",
   "metadata": {},
   "outputs": [],
   "source": [
    "l = [1, 2, 3, 5, 8]\n",
    "odd_list = [i for i in l if i%2!=0]"
   ]
  },
  {
   "cell_type": "code",
   "execution_count": 64,
   "id": "0216729e",
   "metadata": {},
   "outputs": [
    {
     "name": "stdout",
     "output_type": "stream",
     "text": [
      "[1, 3, 5]\n"
     ]
    }
   ],
   "source": [
    "print(odd_list)"
   ]
  },
  {
   "cell_type": "markdown",
   "id": "ab3d6642",
   "metadata": {},
   "source": [
    "## `Syntax 2`\n",
    "new_list = [expression for item in iterable if condition == True]"
   ]
  },
  {
   "cell_type": "code",
   "execution_count": null,
   "id": "9f346713",
   "metadata": {},
   "outputs": [],
   "source": [
    "l = [\"A\",\"B\",\"C\",\"D\"]\n",
    "output = [65,\"B\",67,\"D\"]"
   ]
  },
  {
   "cell_type": "code",
   "execution_count": 84,
   "id": "82beded5",
   "metadata": {},
   "outputs": [
    {
     "data": {
      "text/plain": [
       "90"
      ]
     },
     "execution_count": 84,
     "metadata": {},
     "output_type": "execute_result"
    }
   ],
   "source": [
    "ord(\"Z\")"
   ]
  },
  {
   "cell_type": "code",
   "execution_count": 68,
   "id": "05589a4a",
   "metadata": {},
   "outputs": [],
   "source": [
    "t = [\"A\",\"B\",\"C\",\"D\"]\n",
    "l = []\n",
    "for i in t:\n",
    "    if ord(i)%2==0:\n",
    "        l.append(i)\n",
    "    else:\n",
    "        l.append(ord(i))"
   ]
  },
  {
   "cell_type": "code",
   "execution_count": 69,
   "id": "f3906306",
   "metadata": {},
   "outputs": [
    {
     "name": "stdout",
     "output_type": "stream",
     "text": [
      "[65, 'B', 67, 'D']\n"
     ]
    }
   ],
   "source": [
    "print(l)"
   ]
  },
  {
   "cell_type": "code",
   "execution_count": 73,
   "id": "c25549c8",
   "metadata": {},
   "outputs": [],
   "source": [
    "new_list_3 = [i if ord(i)%2==0 else \"Sandeep\" for i in t]"
   ]
  },
  {
   "cell_type": "code",
   "execution_count": 74,
   "id": "9e227299",
   "metadata": {},
   "outputs": [
    {
     "name": "stdout",
     "output_type": "stream",
     "text": [
      "['Sandeep', 'B', 'Sandeep', 'D']\n"
     ]
    }
   ],
   "source": [
    "print(new_list_3)"
   ]
  },
  {
   "cell_type": "code",
   "execution_count": 72,
   "id": "cea63f78",
   "metadata": {},
   "outputs": [
    {
     "data": {
      "text/plain": [
       "{65, 67, 'B', 'D'}"
      ]
     },
     "execution_count": 72,
     "metadata": {},
     "output_type": "execute_result"
    }
   ],
   "source": [
    "{i if ord(i)%2==0 else ord(i) for i in t}"
   ]
  },
  {
   "cell_type": "markdown",
   "id": "ce9a277c",
   "metadata": {},
   "source": [
    "## `Syntax 3`\n",
    "#### newlist = [item if condition else item2 for item in iterable]"
   ]
  },
  {
   "cell_type": "code",
   "execution_count": 75,
   "id": "8cee64cd",
   "metadata": {},
   "outputs": [
    {
     "name": "stdout",
     "output_type": "stream",
     "text": [
      "2\n"
     ]
    }
   ],
   "source": [
    "x = 2\n",
    "if x == 2:\n",
    "    print(\"2\")\n",
    "else:\n",
    "    print(\"0\")"
   ]
  },
  {
   "cell_type": "code",
   "execution_count": 76,
   "id": "3e41f11f",
   "metadata": {},
   "outputs": [
    {
     "name": "stdout",
     "output_type": "stream",
     "text": [
      "2\n"
     ]
    }
   ],
   "source": [
    "print(\"2\") if x==2 else print(\"0\")"
   ]
  },
  {
   "cell_type": "code",
   "execution_count": 78,
   "id": "000b8ba3",
   "metadata": {},
   "outputs": [],
   "source": [
    "new_list_3 = [i if ord(i)%2==0 else \"Sandeep\" for i in t]"
   ]
  },
  {
   "cell_type": "code",
   "execution_count": 79,
   "id": "8aab9a9f",
   "metadata": {},
   "outputs": [
    {
     "name": "stdout",
     "output_type": "stream",
     "text": [
      "['Sandeep', 'B', 'Sandeep', 'D']\n"
     ]
    }
   ],
   "source": [
    "print(new_list_3)"
   ]
  },
  {
   "cell_type": "markdown",
   "id": "c06df340",
   "metadata": {},
   "source": [
    "## `dictionary comprehension`"
   ]
  },
  {
   "cell_type": "code",
   "execution_count": null,
   "id": "bf4c9615",
   "metadata": {},
   "outputs": [],
   "source": [
    "{1:1, 2:4, 3:9, 4:16}"
   ]
  },
  {
   "cell_type": "code",
   "execution_count": 82,
   "id": "5a397604",
   "metadata": {},
   "outputs": [],
   "source": [
    "dict1 = {i: i*i for i in range(1,5)}"
   ]
  },
  {
   "cell_type": "code",
   "execution_count": 83,
   "id": "6492e2c9",
   "metadata": {},
   "outputs": [
    {
     "name": "stdout",
     "output_type": "stream",
     "text": [
      "{1: 1, 2: 4, 3: 9, 4: 16}\n"
     ]
    }
   ],
   "source": [
    "print(dict1)"
   ]
  },
  {
   "cell_type": "code",
   "execution_count": null,
   "id": "81e2581b",
   "metadata": {},
   "outputs": [],
   "source": [
    "{\"A\":65,...\"Z\":90}\n",
    "20:56"
   ]
  },
  {
   "cell_type": "code",
   "execution_count": 85,
   "id": "645c350b",
   "metadata": {},
   "outputs": [],
   "source": [
    "dict2 = {chr(i):i for i in range(ord(\"A\"),ord(\"Z\")+1)}"
   ]
  },
  {
   "cell_type": "code",
   "execution_count": 86,
   "id": "6ec8c3bf",
   "metadata": {},
   "outputs": [
    {
     "name": "stdout",
     "output_type": "stream",
     "text": [
      "{'A': 65, 'B': 66, 'C': 67, 'D': 68, 'E': 69, 'F': 70, 'G': 71, 'H': 72, 'I': 73, 'J': 74, 'K': 75, 'L': 76, 'M': 77, 'N': 78, 'O': 79, 'P': 80, 'Q': 81, 'R': 82, 'S': 83, 'T': 84, 'U': 85, 'V': 86, 'W': 87, 'X': 88, 'Y': 89, 'Z': 90}\n"
     ]
    }
   ],
   "source": [
    "print(dict2)"
   ]
  },
  {
   "cell_type": "code",
   "execution_count": null,
   "id": "7e7d93cc",
   "metadata": {},
   "outputs": [],
   "source": [
    "Syntax 1:\n",
    "dict_var1 = {key_expression: value_expression for item in iterable}\n",
    "Syntax 2:\n",
    "dict_var2 = {key_expression: value_expression for item in iterable if condition}\n",
    "Syntax_3:\n",
    "dict_var3 = {key_expression: value_expression if condition else value_expression2 for item in terable}"
   ]
  },
  {
   "cell_type": "code",
   "execution_count": 87,
   "id": "85dc7081",
   "metadata": {},
   "outputs": [
    {
     "data": {
      "text/plain": [
       "<re.Match object; span=(0, 27), match='a84165445efdfgdg8d5g4fd65fg'>"
      ]
     },
     "execution_count": 87,
     "metadata": {},
     "output_type": "execute_result"
    }
   ],
   "source": [
    "import re\n",
    "re.search(\"^a.*\",\"a84165445efdfgdg8d5g4fd65fg\")"
   ]
  },
  {
   "cell_type": "code",
   "execution_count": 88,
   "id": "0b18d2ff",
   "metadata": {},
   "outputs": [
    {
     "data": {
      "text/plain": [
       "<re.Match object; span=(0, 1), match='a'>"
      ]
     },
     "execution_count": 88,
     "metadata": {},
     "output_type": "execute_result"
    }
   ],
   "source": [
    "re.search(\"^a*\",\"a84165445efdfgdg8d5g4fd65fg\")"
   ]
  },
  {
   "cell_type": "code",
   "execution_count": null,
   "id": "a63bd963",
   "metadata": {
    "slideshow": {
     "slide_type": "notes"
    }
   },
   "outputs": [],
   "source": []
  },
  {
   "cell_type": "code",
   "execution_count": null,
   "id": "21d000df",
   "metadata": {},
   "outputs": [],
   "source": []
  }
 ],
 "metadata": {
  "kernelspec": {
   "display_name": "Python 3 (ipykernel)",
   "language": "python",
   "name": "python3"
  },
  "language_info": {
   "codemirror_mode": {
    "name": "ipython",
    "version": 3
   },
   "file_extension": ".py",
   "mimetype": "text/x-python",
   "name": "python",
   "nbconvert_exporter": "python",
   "pygments_lexer": "ipython3",
   "version": "3.10.1"
  }
 },
 "nbformat": 4,
 "nbformat_minor": 5
}
