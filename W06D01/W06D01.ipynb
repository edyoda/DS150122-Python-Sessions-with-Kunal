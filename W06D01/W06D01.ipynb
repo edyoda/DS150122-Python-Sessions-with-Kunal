{
 "cells": [
  {
   "cell_type": "code",
   "execution_count": null,
   "id": "3f00b1b6",
   "metadata": {},
   "outputs": [],
   "source": [
    "lambda expression --->anonymous function"
   ]
  },
  {
   "cell_type": "code",
   "execution_count": null,
   "id": "2327b8b2",
   "metadata": {},
   "outputs": [],
   "source": [
    "lambda param : expression"
   ]
  },
  {
   "cell_type": "code",
   "execution_count": null,
   "id": "28038d03",
   "metadata": {},
   "outputs": [],
   "source": [
    "(lambda param : expression)(arguments)"
   ]
  },
  {
   "cell_type": "code",
   "execution_count": 1,
   "id": "b939c883",
   "metadata": {},
   "outputs": [
    {
     "name": "stdout",
     "output_type": "stream",
     "text": [
      "3.0\n"
     ]
    }
   ],
   "source": [
    "def cube_root(x):\n",
    "    return x**1/3\n",
    "print(cube_root(9))"
   ]
  },
  {
   "cell_type": "code",
   "execution_count": 3,
   "id": "20629f9b",
   "metadata": {},
   "outputs": [
    {
     "name": "stdout",
     "output_type": "stream",
     "text": [
      "3.0\n"
     ]
    }
   ],
   "source": [
    "print((lambda x:x**1/3)(9))"
   ]
  },
  {
   "cell_type": "code",
   "execution_count": 5,
   "id": "68dd158a",
   "metadata": {},
   "outputs": [
    {
     "name": "stdout",
     "output_type": "stream",
     "text": [
      "<function <lambda> at 0x000001B447CF64D0>\n"
     ]
    }
   ],
   "source": [
    "print(lambda a,b,c : a+b+c)"
   ]
  },
  {
   "cell_type": "code",
   "execution_count": 6,
   "id": "95d13b6d",
   "metadata": {},
   "outputs": [
    {
     "name": "stdout",
     "output_type": "stream",
     "text": [
      "<function cube_root at 0x000001B447CF6560>\n"
     ]
    }
   ],
   "source": [
    "print(cube_root)"
   ]
  },
  {
   "cell_type": "code",
   "execution_count": null,
   "id": "435b92da",
   "metadata": {},
   "outputs": [],
   "source": [
    "map(function, iterable) --> map object"
   ]
  },
  {
   "cell_type": "code",
   "execution_count": null,
   "id": "5ae590be",
   "metadata": {},
   "outputs": [],
   "source": [
    "l = [1, 9, 64, 125, 216]\n",
    "output--> [1, 3, 4, 5, 6]"
   ]
  },
  {
   "cell_type": "code",
   "execution_count": 18,
   "id": "966a327e",
   "metadata": {},
   "outputs": [],
   "source": [
    "def cube(x):\n",
    "    return x**3\n",
    "l = [1, 2, 3, 4, 5]"
   ]
  },
  {
   "cell_type": "code",
   "execution_count": 30,
   "id": "681ac07e",
   "metadata": {},
   "outputs": [],
   "source": [
    "t = list(map(cube, l))"
   ]
  },
  {
   "cell_type": "code",
   "execution_count": 27,
   "id": "de2ebc30",
   "metadata": {},
   "outputs": [
    {
     "name": "stdout",
     "output_type": "stream",
     "text": [
      "[1, 8, 27, 64, 125]\n"
     ]
    }
   ],
   "source": [
    "print(list(t))"
   ]
  },
  {
   "cell_type": "code",
   "execution_count": 31,
   "id": "4a8750d7",
   "metadata": {},
   "outputs": [
    {
     "name": "stdout",
     "output_type": "stream",
     "text": [
      "1\n",
      "8\n",
      "27\n",
      "64\n",
      "125\n"
     ]
    }
   ],
   "source": [
    "for i in t:\n",
    "    print(i)"
   ]
  },
  {
   "cell_type": "code",
   "execution_count": 28,
   "id": "d4fca87d",
   "metadata": {},
   "outputs": [
    {
     "name": "stdout",
     "output_type": "stream",
     "text": [
      "<map object at 0x000001B448A5FA00>\n"
     ]
    }
   ],
   "source": [
    "print(t)"
   ]
  },
  {
   "cell_type": "code",
   "execution_count": 32,
   "id": "d5164c0f",
   "metadata": {},
   "outputs": [
    {
     "name": "stdout",
     "output_type": "stream",
     "text": [
      "1 2 3 4\n"
     ]
    }
   ],
   "source": [
    "t=input().split()"
   ]
  },
  {
   "cell_type": "code",
   "execution_count": 33,
   "id": "697c316c",
   "metadata": {},
   "outputs": [
    {
     "name": "stdout",
     "output_type": "stream",
     "text": [
      "['1', '2', '3', '4']\n"
     ]
    }
   ],
   "source": [
    "print(t)"
   ]
  },
  {
   "cell_type": "code",
   "execution_count": 34,
   "id": "9a39737b",
   "metadata": {},
   "outputs": [
    {
     "name": "stdout",
     "output_type": "stream",
     "text": [
      "1 2 3 4 5 6\n"
     ]
    }
   ],
   "source": [
    "t = list(map(int, input().split()))"
   ]
  },
  {
   "cell_type": "code",
   "execution_count": 35,
   "id": "54ace2dd",
   "metadata": {},
   "outputs": [
    {
     "name": "stdout",
     "output_type": "stream",
     "text": [
      "[1, 2, 3, 4, 5, 6]\n"
     ]
    }
   ],
   "source": [
    "print(t)"
   ]
  },
  {
   "cell_type": "code",
   "execution_count": null,
   "id": "fe00d0c9",
   "metadata": {},
   "outputs": [],
   "source": [
    "t = [1, 2, 3, 4, 5]\n",
    "output --> [2, 4]\n",
    "output --> [1, 3, 5]"
   ]
  },
  {
   "cell_type": "code",
   "execution_count": null,
   "id": "d32d97ab",
   "metadata": {},
   "outputs": [],
   "source": [
    "filter(func, iterable)"
   ]
  },
  {
   "cell_type": "code",
   "execution_count": 36,
   "id": "a9202d71",
   "metadata": {},
   "outputs": [
    {
     "data": {
      "text/plain": [
       "[2, 4]"
      ]
     },
     "execution_count": 36,
     "metadata": {},
     "output_type": "execute_result"
    }
   ],
   "source": [
    "def even_val(x):\n",
    "    return x%2==0\n",
    "list(filter(even_val, [1, 2, 3, 4, 5]))"
   ]
  },
  {
   "cell_type": "code",
   "execution_count": 37,
   "id": "d7a5fdde",
   "metadata": {},
   "outputs": [
    {
     "data": {
      "text/plain": [
       "[1, 3, 5]"
      ]
     },
     "execution_count": 37,
     "metadata": {},
     "output_type": "execute_result"
    }
   ],
   "source": [
    "def odd_val(x):\n",
    "    return x%2!=0\n",
    "list(filter(odd_val, [1, 2, 3, 4, 5]))"
   ]
  },
  {
   "cell_type": "markdown",
   "id": "f40b9b1b",
   "metadata": {},
   "source": [
    "## `List Comprehension`"
   ]
  },
  {
   "cell_type": "code",
   "execution_count": null,
   "id": "eddbff55",
   "metadata": {},
   "outputs": [],
   "source": [
    "s = \"Vaibhav\"\n",
    "l = [86,97,...,118]"
   ]
  },
  {
   "cell_type": "code",
   "execution_count": 41,
   "id": "914ca7bb",
   "metadata": {},
   "outputs": [
    {
     "data": {
      "text/plain": [
       "118"
      ]
     },
     "execution_count": 41,
     "metadata": {},
     "output_type": "execute_result"
    }
   ],
   "source": [
    "ord(\"v\")"
   ]
  },
  {
   "cell_type": "code",
   "execution_count": null,
   "id": "097753aa",
   "metadata": {},
   "outputs": [],
   "source": [
    "2 mins 20:19"
   ]
  },
  {
   "cell_type": "code",
   "execution_count": 43,
   "id": "12f8e495",
   "metadata": {},
   "outputs": [],
   "source": [
    "s = \"Vaibhav\"\n",
    "l = []\n",
    "for i in s:\n",
    "    l.append(ord(i))"
   ]
  },
  {
   "cell_type": "code",
   "execution_count": 44,
   "id": "d571c28f",
   "metadata": {},
   "outputs": [
    {
     "name": "stdout",
     "output_type": "stream",
     "text": [
      "[86, 97, 105, 98, 104, 97, 118]\n"
     ]
    }
   ],
   "source": [
    "print(l)"
   ]
  },
  {
   "cell_type": "code",
   "execution_count": 45,
   "id": "3fc12986",
   "metadata": {},
   "outputs": [],
   "source": [
    "s = \"Vaibhav\"\n",
    "l = []\n",
    "for i in s:\n",
    "    l = l + [ord(i)]"
   ]
  },
  {
   "cell_type": "code",
   "execution_count": 46,
   "id": "084ce7e1",
   "metadata": {},
   "outputs": [
    {
     "data": {
      "text/plain": [
       "[86, 97, 105, 98, 104, 97, 118]"
      ]
     },
     "execution_count": 46,
     "metadata": {},
     "output_type": "execute_result"
    }
   ],
   "source": [
    "l"
   ]
  },
  {
   "cell_type": "code",
   "execution_count": 51,
   "id": "0e70b91d",
   "metadata": {},
   "outputs": [],
   "source": [
    "s = \"Vaibhav\"\n",
    "l = []\n",
    "for i in s:\n",
    "    l.append(str(ord(i))+\"-->\"+str(i))"
   ]
  },
  {
   "cell_type": "code",
   "execution_count": 52,
   "id": "b2ef5bf3",
   "metadata": {},
   "outputs": [
    {
     "data": {
      "text/plain": [
       "['86-->V', '97-->a', '105-->i', '98-->b', '104-->h', '97-->a', '118-->v']"
      ]
     },
     "execution_count": 52,
     "metadata": {},
     "output_type": "execute_result"
    }
   ],
   "source": [
    "l"
   ]
  },
  {
   "cell_type": "code",
   "execution_count": 49,
   "id": "4da4824a",
   "metadata": {},
   "outputs": [],
   "source": [
    "t = [ord(i) for i in s]"
   ]
  },
  {
   "cell_type": "code",
   "execution_count": 50,
   "id": "e538513d",
   "metadata": {},
   "outputs": [
    {
     "name": "stdout",
     "output_type": "stream",
     "text": [
      "[86, 97, 105, 98, 104, 97, 118]\n"
     ]
    }
   ],
   "source": [
    "print(t)"
   ]
  },
  {
   "cell_type": "code",
   "execution_count": 55,
   "id": "54ab71e4",
   "metadata": {},
   "outputs": [],
   "source": [
    "t = [str(ord(i))+\"-->\"+str(i) for i in s]"
   ]
  },
  {
   "cell_type": "code",
   "execution_count": 56,
   "id": "85e47edb",
   "metadata": {},
   "outputs": [
    {
     "name": "stdout",
     "output_type": "stream",
     "text": [
      "['86-->V', '97-->a', '105-->i', '98-->b', '104-->h', '97-->a', '118-->v']\n"
     ]
    }
   ],
   "source": [
    "print(t)"
   ]
  },
  {
   "cell_type": "code",
   "execution_count": 59,
   "id": "298ed58f",
   "metadata": {},
   "outputs": [],
   "source": [
    "l = [1, 2, 3, 5, 8]\n",
    "t = [i+1 for i in l]"
   ]
  },
  {
   "cell_type": "code",
   "execution_count": 60,
   "id": "3b224f88",
   "metadata": {},
   "outputs": [
    {
     "name": "stdout",
     "output_type": "stream",
     "text": [
      "[2, 3, 4, 6, 9]\n"
     ]
    }
   ],
   "source": [
    "print(t)"
   ]
  },
  {
   "cell_type": "markdown",
   "id": "ea4b32b0",
   "metadata": {},
   "source": [
    "## `Syntax 1`\n",
    "newlist = [expression for item in iterable]"
   ]
  },
  {
   "cell_type": "code",
   "execution_count": 63,
   "id": "747e9e4a",
   "metadata": {},
   "outputs": [],
   "source": [
    "l = [1, 2, 3, 5, 8]\n",
    "odd_list = [i for i in l if i%2!=0]"
   ]
  },
  {
   "cell_type": "code",
   "execution_count": 64,
   "id": "089f735a",
   "metadata": {},
   "outputs": [
    {
     "name": "stdout",
     "output_type": "stream",
     "text": [
      "[1, 3, 5]\n"
     ]
    }
   ],
   "source": [
    "print(odd_list)"
   ]
  },
  {
   "cell_type": "markdown",
   "id": "f19b707e",
   "metadata": {},
   "source": [
    "## `Syntax 2`\n",
    "new_list = [expression for item in iterable if condition == True]"
   ]
  },
  {
   "cell_type": "code",
   "execution_count": null,
   "id": "60588cf2",
   "metadata": {},
   "outputs": [],
   "source": [
    "l = [\"A\",\"B\",\"C\",\"D\"]\n",
    "output = [65,\"B\",67,\"D\"]"
   ]
  },
  {
   "cell_type": "code",
   "execution_count": 84,
   "id": "3fa0ca9c",
   "metadata": {},
   "outputs": [
    {
     "data": {
      "text/plain": [
       "90"
      ]
     },
     "execution_count": 84,
     "metadata": {},
     "output_type": "execute_result"
    }
   ],
   "source": [
    "ord(\"Z\")"
   ]
  },
  {
   "cell_type": "code",
   "execution_count": 68,
   "id": "7fa423c0",
   "metadata": {},
   "outputs": [],
   "source": [
    "t = [\"A\",\"B\",\"C\",\"D\"]\n",
    "l = []\n",
    "for i in t:\n",
    "    if ord(i)%2==0:\n",
    "        l.append(i)\n",
    "    else:\n",
    "        l.append(ord(i))"
   ]
  },
  {
   "cell_type": "code",
   "execution_count": 69,
   "id": "165f02c6",
   "metadata": {},
   "outputs": [
    {
     "name": "stdout",
     "output_type": "stream",
     "text": [
      "[65, 'B', 67, 'D']\n"
     ]
    }
   ],
   "source": [
    "print(l)"
   ]
  },
  {
   "cell_type": "code",
   "execution_count": 73,
   "id": "80a3039d",
   "metadata": {},
   "outputs": [],
   "source": [
    "new_list_3 = [i if ord(i)%2==0 else \"Sandeep\" for i in t]"
   ]
  },
  {
   "cell_type": "code",
   "execution_count": 74,
   "id": "ec89fe97",
   "metadata": {},
   "outputs": [
    {
     "name": "stdout",
     "output_type": "stream",
     "text": [
      "['Sandeep', 'B', 'Sandeep', 'D']\n"
     ]
    }
   ],
   "source": [
    "print(new_list_3)"
   ]
  },
  {
   "cell_type": "code",
   "execution_count": 72,
   "id": "9806b668",
   "metadata": {},
   "outputs": [
    {
     "data": {
      "text/plain": [
       "{65, 67, 'B', 'D'}"
      ]
     },
     "execution_count": 72,
     "metadata": {},
     "output_type": "execute_result"
    }
   ],
   "source": [
    "{i if ord(i)%2==0 else ord(i) for i in t}"
   ]
  },
  {
   "cell_type": "markdown",
   "id": "dcfce613",
   "metadata": {},
   "source": [
    "## `Syntax 3`\n",
    "#### newlist = [item if condition else item2 for item in iterable]"
   ]
  },
  {
   "cell_type": "code",
   "execution_count": 75,
   "id": "758aeba2",
   "metadata": {},
   "outputs": [
    {
     "name": "stdout",
     "output_type": "stream",
     "text": [
      "2\n"
     ]
    }
   ],
   "source": [
    "x = 2\n",
    "if x == 2:\n",
    "    print(\"2\")\n",
    "else:\n",
    "    print(\"0\")"
   ]
  },
  {
   "cell_type": "code",
   "execution_count": 76,
   "id": "95ddac70",
   "metadata": {},
   "outputs": [
    {
     "name": "stdout",
     "output_type": "stream",
     "text": [
      "2\n"
     ]
    }
   ],
   "source": [
    "print(\"2\") if x==2 else print(\"0\")"
   ]
  },
  {
   "cell_type": "code",
   "execution_count": 78,
   "id": "5458e7bc",
   "metadata": {},
   "outputs": [],
   "source": [
    "new_list_3 = [i if ord(i)%2==0 else \"Sandeep\" for i in t]"
   ]
  },
  {
   "cell_type": "code",
   "execution_count": 79,
   "id": "1d54ded8",
   "metadata": {},
   "outputs": [
    {
     "name": "stdout",
     "output_type": "stream",
     "text": [
      "['Sandeep', 'B', 'Sandeep', 'D']\n"
     ]
    }
   ],
   "source": [
    "print(new_list_3)"
   ]
  },
  {
   "cell_type": "markdown",
   "id": "27c53aac",
   "metadata": {},
   "source": [
    "## `dictionary comprehension`"
   ]
  },
  {
   "cell_type": "code",
   "execution_count": null,
   "id": "a29f48b8",
   "metadata": {},
   "outputs": [],
   "source": [
    "{1:1, 2:4, 3:9, 4:16}"
   ]
  },
  {
   "cell_type": "code",
   "execution_count": 82,
   "id": "e39d7460",
   "metadata": {},
   "outputs": [],
   "source": [
    "dict1 = {i: i*i for i in range(1,5)}"
   ]
  },
  {
   "cell_type": "code",
   "execution_count": 83,
   "id": "3d6cd7e7",
   "metadata": {},
   "outputs": [
    {
     "name": "stdout",
     "output_type": "stream",
     "text": [
      "{1: 1, 2: 4, 3: 9, 4: 16}\n"
     ]
    }
   ],
   "source": [
    "print(dict1)"
   ]
  },
  {
   "cell_type": "code",
   "execution_count": null,
   "id": "3346b85d",
   "metadata": {},
   "outputs": [],
   "source": [
    "{\"A\":65,...\"Z\":90}\n",
    "20:56"
   ]
  },
  {
   "cell_type": "code",
   "execution_count": 85,
   "id": "3e3e9b04",
   "metadata": {},
   "outputs": [],
   "source": [
    "dict2 = {chr(i):i for i in range(ord(\"A\"),ord(\"Z\")+1)}"
   ]
  },
  {
   "cell_type": "code",
   "execution_count": 86,
   "id": "2c82e99b",
   "metadata": {},
   "outputs": [
    {
     "name": "stdout",
     "output_type": "stream",
     "text": [
      "{'A': 65, 'B': 66, 'C': 67, 'D': 68, 'E': 69, 'F': 70, 'G': 71, 'H': 72, 'I': 73, 'J': 74, 'K': 75, 'L': 76, 'M': 77, 'N': 78, 'O': 79, 'P': 80, 'Q': 81, 'R': 82, 'S': 83, 'T': 84, 'U': 85, 'V': 86, 'W': 87, 'X': 88, 'Y': 89, 'Z': 90}\n"
     ]
    }
   ],
   "source": [
    "print(dict2)"
   ]
  },
  {
   "cell_type": "code",
   "execution_count": null,
   "id": "099157cb",
   "metadata": {},
   "outputs": [],
   "source": [
    "Syntax 1:\n",
    "dict_var1 = {key_expression: value_expression for item in iterable}\n",
    "Syntax 2:\n",
    "dict_var2 = {key_expression: value_expression for item in iterable if condition}\n",
    "Syntax_3:\n",
    "dict_var3 = {key_expression: value_expression if condition else value_expression2 for item in terable}"
   ]
  },
  {
   "cell_type": "code",
   "execution_count": 87,
   "id": "1bb61743",
   "metadata": {},
   "outputs": [
    {
     "data": {
      "text/plain": [
       "<re.Match object; span=(0, 27), match='a84165445efdfgdg8d5g4fd65fg'>"
      ]
     },
     "execution_count": 87,
     "metadata": {},
     "output_type": "execute_result"
    }
   ],
   "source": [
    "import re\n",
    "re.search(\"^a.*\",\"a84165445efdfgdg8d5g4fd65fg\")"
   ]
  },
  {
   "cell_type": "code",
   "execution_count": 88,
   "id": "1805c308",
   "metadata": {},
   "outputs": [
    {
     "data": {
      "text/plain": [
       "<re.Match object; span=(0, 1), match='a'>"
      ]
     },
     "execution_count": 88,
     "metadata": {},
     "output_type": "execute_result"
    }
   ],
   "source": [
    "re.search(\"^a*\",\"a84165445efdfgdg8d5g4fd65fg\")"
   ]
  },
  {
   "cell_type": "code",
   "execution_count": null,
   "id": "d49d40fb",
   "metadata": {},
   "outputs": [],
   "source": []
  }
 ],
 "metadata": {
  "kernelspec": {
   "display_name": "Python 3 (ipykernel)",
   "language": "python",
   "name": "python3"
  },
  "language_info": {
   "codemirror_mode": {
    "name": "ipython",
    "version": 3
   },
   "file_extension": ".py",
   "mimetype": "text/x-python",
   "name": "python",
   "nbconvert_exporter": "python",
   "pygments_lexer": "ipython3",
   "version": "3.10.1"
  }
 },
 "nbformat": 4,
 "nbformat_minor": 5
}
