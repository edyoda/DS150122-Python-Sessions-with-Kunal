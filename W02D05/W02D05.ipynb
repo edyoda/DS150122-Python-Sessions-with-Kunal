{
 "cells": [
  {
   "cell_type": "markdown",
   "id": "34871d4a",
   "metadata": {},
   "source": [
    "Iterable: An iterable is a python object capable of returning its members one ata a time"
   ]
  },
  {
   "cell_type": "code",
   "execution_count": null,
   "id": "12fbf597",
   "metadata": {},
   "outputs": [],
   "source": [
    "range functions:\n",
    "    range(start, stop, step)\n",
    "    it gives sequence of numbers\n",
    "    len() --> finds the no of items present in the collection\n",
    "    help() --> gives the info abt python objects"
   ]
  },
  {
   "cell_type": "code",
   "execution_count": 1,
   "id": "a4fe324c",
   "metadata": {},
   "outputs": [],
   "source": [
    "l = [1,2,\"Vaibhav\",\"Vamshi\"]\n",
    "count = 0\n",
    "for var in l:\n",
    "    count += 1"
   ]
  },
  {
   "cell_type": "code",
   "execution_count": 2,
   "id": "b001bfed",
   "metadata": {},
   "outputs": [
    {
     "name": "stdout",
     "output_type": "stream",
     "text": [
      "4\n"
     ]
    }
   ],
   "source": [
    "print(count)"
   ]
  },
  {
   "cell_type": "code",
   "execution_count": 4,
   "id": "2cba991b",
   "metadata": {},
   "outputs": [
    {
     "name": "stdout",
     "output_type": "stream",
     "text": [
      "6\n"
     ]
    }
   ],
   "source": [
    "l=[1,2,4,3,76,89]\n",
    "count=0\n",
    "for i in l:\n",
    "    count+=1\n",
    "print(count)"
   ]
  },
  {
   "cell_type": "code",
   "execution_count": 6,
   "id": "b3174d6f",
   "metadata": {},
   "outputs": [],
   "source": [
    "# C+ --> Covid Positive\n",
    "# C- --> Covid Negative\n",
    "# UT --> Untested\n",
    "l = [\"C+\",\"C-\",\"UT\",\"C+\",\"C-\",\"UT\",\"UT\",\"C+\",\"C+\",\"C-\"]\n",
    "# write a code using for loop to count all the people who are covid Positive\n",
    "# 10 mins:\n",
    "#     20:21\n",
    "        #hint use coditional statement"
   ]
  },
  {
   "cell_type": "code",
   "execution_count": 9,
   "id": "85dbdf3e",
   "metadata": {},
   "outputs": [
    {
     "name": "stdout",
     "output_type": "stream",
     "text": [
      "4\n"
     ]
    }
   ],
   "source": [
    "l = [\"C+\",\"C-\",\"UT\",\"C+\",\"C-\",\"UT\",\"UT\",\"C+\",\"C+\",\"C-\"]\n",
    "count = 0\n",
    "for i in l:\n",
    "    if i == \"C+\":\n",
    "        count += 1\n",
    "print(count)"
   ]
  },
  {
   "cell_type": "code",
   "execution_count": 12,
   "id": "b99b8b97",
   "metadata": {},
   "outputs": [
    {
     "name": "stdout",
     "output_type": "stream",
     "text": [
      "1\n",
      "1\n",
      "1\n",
      "2\n",
      "2\n",
      "2\n",
      "2\n",
      "3\n",
      "4\n",
      "4\n"
     ]
    }
   ],
   "source": [
    "l = [\"C+\",\"C-\",\"UT\",\"C+\",\"C-\",\"UT\",\"UT\",\"C+\",\"C+\",\"C-\"]\n",
    "\n",
    "count = 0\n",
    "x = \"C+\"\n",
    "for i in l:\n",
    "    if (i == x):\n",
    "        count += 1\n",
    "    print(count) \n"
   ]
  },
  {
   "cell_type": "code",
   "execution_count": 13,
   "id": "feea733a",
   "metadata": {},
   "outputs": [
    {
     "name": "stdout",
     "output_type": "stream",
     "text": [
      "4\n"
     ]
    }
   ],
   "source": [
    "l = [\"C+\",\"C-\",\"UT\",\"C+\",\"C-\",\"UT\",\"UT\",\"C+\",\"C+\",\"C-\"]\n",
    "count = 0\n",
    "for i in range(0,len(l)):\n",
    "    if l[i] == \"C+\":\n",
    "        count += 1\n",
    "print(count)"
   ]
  },
  {
   "cell_type": "markdown",
   "id": "6940c08e",
   "metadata": {},
   "source": [
    "## while loop"
   ]
  },
  {
   "cell_type": "markdown",
   "id": "6a0f456b",
   "metadata": {},
   "source": [
    "### While Loop is used to execute a block of statements repeatedly until a given condition is satisfied."
   ]
  },
  {
   "cell_type": "code",
   "execution_count": null,
   "id": "671c805f",
   "metadata": {},
   "outputs": [],
   "source": [
    "while condition:\n",
    "    statement(s)"
   ]
  },
  {
   "cell_type": "code",
   "execution_count": 16,
   "id": "dc1b3a00",
   "metadata": {},
   "outputs": [
    {
     "name": "stdout",
     "output_type": "stream",
     "text": [
      "1 Hello Teja\n",
      "2 Hello Teja\n",
      "3 Hello Teja\n",
      "4 Hello Teja\n"
     ]
    }
   ],
   "source": [
    "count = 0\n",
    "while count < 4:\n",
    "    count+=1\n",
    "    print(count,\"Hello Teja\")"
   ]
  },
  {
   "cell_type": "code",
   "execution_count": 17,
   "id": "f5cb4d63",
   "metadata": {},
   "outputs": [
    {
     "name": "stdout",
     "output_type": "stream",
     "text": [
      "1 Hello Teja\n",
      "2 Hello Teja\n",
      "3 Hello Teja\n",
      "4 Hello Teja\n",
      "5 Hello Teja\n"
     ]
    }
   ],
   "source": [
    "count = 0\n",
    "while count <= 4:\n",
    "    count+=1\n",
    "    print(count,\"Hello Teja\")"
   ]
  },
  {
   "cell_type": "markdown",
   "id": "360e2136",
   "metadata": {},
   "source": [
    "### Loop Control Statements\n",
    "    - continue\n",
    "    - break"
   ]
  },
  {
   "cell_type": "code",
   "execution_count": 21,
   "id": "2b756bcc",
   "metadata": {},
   "outputs": [
    {
     "name": "stdout",
     "output_type": "stream",
     "text": [
      "Ticket collected\n",
      "Ticket collected\n",
      "Ticket collected\n",
      "Ticket collected\n",
      "Ticket collected\n"
     ]
    }
   ],
   "source": [
    "count = 0\n",
    "while count <= 4:\n",
    "    print(\"Ticket collected\")\n",
    "    count+=1\n",
    "    continue\n",
    "    print(\"Neraj's Friends\")"
   ]
  },
  {
   "cell_type": "code",
   "execution_count": 23,
   "id": "fcca2bcd",
   "metadata": {},
   "outputs": [
    {
     "name": "stdout",
     "output_type": "stream",
     "text": [
      "1\n",
      "2\n",
      "4\n",
      "5\n",
      "6\n",
      "7\n",
      "8\n",
      "9\n",
      "10\n"
     ]
    }
   ],
   "source": [
    "l = [1,2,3,4,5,6,7,8,9,10]\n",
    "# print all the numbers except 3\n",
    "count = 0\n",
    "while count < len(l):\n",
    "    if l[count] == 3:\n",
    "        count+=1\n",
    "        continue\n",
    "    print(l[count])\n",
    "    count+=1\n",
    "    "
   ]
  },
  {
   "cell_type": "code",
   "execution_count": 25,
   "id": "1c74b086",
   "metadata": {},
   "outputs": [
    {
     "name": "stdout",
     "output_type": "stream",
     "text": [
      "1\n",
      "2\n"
     ]
    }
   ],
   "source": [
    "l = [1,2,3,4,5,6,7,8,9,10]\n",
    "# print all the numbers except 3\n",
    "count = 0\n",
    "i = 0\n",
    "while count < len(l):\n",
    "    if l[count] == 3:\n",
    "        count+=1\n",
    "        break\n",
    "    print(l[count])\n",
    "    count+=1    "
   ]
  },
  {
   "cell_type": "code",
   "execution_count": 31,
   "id": "4161beab",
   "metadata": {},
   "outputs": [
    {
     "name": "stdout",
     "output_type": "stream",
     "text": [
      "1\n"
     ]
    }
   ],
   "source": [
    "l = [1,3,2,4,5,6,7,8,9,10]\n",
    "# print all the numbers except 3\n",
    "count = 0\n",
    "i = 0\n",
    "while count < len(l):\n",
    "    if l[count] == 3:\n",
    "        count+=1\n",
    "        break\n",
    "    print(l[count])\n",
    "    count+=1"
   ]
  },
  {
   "cell_type": "code",
   "execution_count": null,
   "id": "3d8ec141",
   "metadata": {},
   "outputs": [],
   "source": []
  }
 ],
 "metadata": {
  "kernelspec": {
   "display_name": "Python 3 (ipykernel)",
   "language": "python",
   "name": "python3"
  },
  "language_info": {
   "codemirror_mode": {
    "name": "ipython",
    "version": 3
   },
   "file_extension": ".py",
   "mimetype": "text/x-python",
   "name": "python",
   "nbconvert_exporter": "python",
   "pygments_lexer": "ipython3",
   "version": "3.10.1"
  }
 },
 "nbformat": 4,
 "nbformat_minor": 5
}
