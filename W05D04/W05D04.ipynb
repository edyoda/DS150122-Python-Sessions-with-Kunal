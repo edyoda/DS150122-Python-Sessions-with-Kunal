{
 "cells": [
  {
   "cell_type": "code",
   "execution_count": 3,
   "id": "c37c4fed",
   "metadata": {},
   "outputs": [
    {
     "name": "stdout",
     "output_type": "stream",
     "text": [
      "d1\n"
     ]
    }
   ],
   "source": [
    "def rev_strings(a):\n",
    "    str1=\" \"\n",
    "    for i in a:\n",
    "        i+='1'\n",
    "    return i\n",
    "print(rev_strings(\"1234abcd\"))"
   ]
  },
  {
   "cell_type": "markdown",
   "id": "523304f5",
   "metadata": {},
   "source": [
    "## `Regular Expression`"
   ]
  },
  {
   "cell_type": "code",
   "execution_count": null,
   "id": "d2223f6b",
   "metadata": {},
   "outputs": [],
   "source": [
    "\"ajfnd aolkd snm asljkd snmf asd jlkn aslkd\"\n",
    "\n",
    "\"a...d\"\n",
    "\n",
    "special charact, upper case,lower case, number\n"
   ]
  },
  {
   "cell_type": "code",
   "execution_count": null,
   "id": "7bce27bb",
   "metadata": {},
   "outputs": [],
   "source": [
    "a = 2"
   ]
  },
  {
   "cell_type": "code",
   "execution_count": null,
   "id": "e7730e5a",
   "metadata": {},
   "outputs": [],
   "source": [
    "we have \"re\" module which contains several functions to work with RegEx"
   ]
  },
  {
   "cell_type": "code",
   "execution_count": null,
   "id": "c8e8da34",
   "metadata": {},
   "outputs": [],
   "source": [
    "# Metacharacters\n",
    "Metacharacters are characters that are interpreted in a special way by RegEx Engine.\n",
    "\n",
    "# how do metacharacters look?\n",
    "1- [] -> Square Bracket\n",
    "\n",
    "ex: \"[abc]\" --> a\n",
    "                b\n",
    "                c\n",
    "                abc\n",
    "    '[a-d]' --> '[abcd]'\n",
    "                'x'   --> no match\n",
    "                'a'   --> 1 match\n",
    "    '[A-Z]' --> all the upper case letters\n",
    "    '[a-z]' --> all the lowercase letters\n",
    "    '[0-9]' --> '2'  --> 1 match\n",
    "    '[0-9][0-9]' --> '23'\n",
    "                 --> '2'\n",
    "    \"[#%@!]\" --> # or % or @ or !\n",
    "     \n",
    "    \"[a-zA-Z][a-zA-Z][a-zA-Z][a-zA-Z]\" ---> 'aLsD' --> 1 match\n",
    "    \"[a-zA-Z0-9]\" --> '1'\n",
    "                      'a'\n",
    "                      'A'\n",
    "    \"[mk3]\" --> \"m\" or \"k\" or \"3\"\n",
    "    \n",
    "    \"[0-9][a-z]\" --> \"z6r\" --> 1 match --> 6r\n",
    "\n",
    "2- . --> A period matches any single character(except a newline '\\n')\n",
    "\n",
    "ex: \".\" --> \"r\",\"A\",\" \",\"@\"\n",
    "    \n",
    "    \"..\" -- \"a\" --> No match\n",
    "    \"..\" -- \"Ab\" --> 1 match\n",
    "         -- \"aaD\"--> 1 match\n",
    "         -- \"aaddaa\" --> 3 matches\n",
    "    \".......\"\n",
    "3- ^ --> [Caret] 1) The caret symbol \"^\" is used to check if a string `starts with` a certain character\n",
    "                    :\n",
    "        \"^a\" --> \"abc\" --> 1 match\n",
    "                 \"abrakadabra\" --> 1 match\n",
    "                 \"barbie\" --> 0 match\n",
    "        \"^ku\" --> \"kumar Neeraj\" -->1 match\n",
    "              --> \"karambir Singh\" --> 0 match\n",
    "            2) You could invert or complement the charater set by using caret \"^\" symbol at the start\n",
    "            of square bracket\n",
    "                    :\n",
    "        \"[^abc]\" --> \"d\" --> 1 match\n",
    "                     \"a\" --> no match\n",
    "        \"[^@]\" --> \"#\" -->1 match\n",
    "                   \"@\" --> no match\n",
    "        \"^[0-9][a-z]\" --> \"9g\"\n",
    "                          \"5g\"\n",
    "                          \"G5\" --> no match\n",
    "\n",
    "            \n",
    "4- $ - Dollar symbol is used to check if a string \"ends with\" a certain character\n",
    "    \n",
    "    \".[0-9]$\" --> '@1'\n",
    "                  'r5'\n",
    "                  \"ab9D@\"\n",
    "                  \"jdakj@#5\"\n",
    "                  \"55\"\n",
    "                  \"95\"\n",
    "                  \"h9\"\n",
    "5- * - The star symbol \"*\" matches zero or more occurences of pattern left to it.\n",
    "    \n",
    "    \"a*\" --> \"\" --> 1 match\n",
    "             \"a\" --> 1 match\n",
    "             \"aa\" --> 1 match\n",
    "             \"aaa\" --> 1 match\n",
    "             \"aaaaa\" --> 1 match\n",
    "             \"aaaaaaaaaaaaaaaaaaaaaaaaaaaaaaaaaaaaaaaaaaaaaaaaaa\" --> 1 match\n",
    "\n",
    "    \"ma*n\" --> \"mn\" --> 1 match\n",
    "               \"maan\" --> 1 match\n",
    "               \"maaaan\" --> 1 match\n",
    "               \"maaaaavn\" --> no match\n",
    "                \"naaaam\"  --> no match\n",
    "\n",
    "6- + - The plus symbol \"+\" matches \"one or more occurences\" of the pattern left to it\n",
    "\n",
    "        \"a+\" --> \"\" --> no match\n",
    "                 \"a\" --> 1 match\n",
    "                 \"aa\" --> 1 match\n",
    "                 \"aaaaaaaaaaaaaaaaaaaaaaaaaaaaaaa\" --> 1 match\n",
    "        \"ma+n\" --> \"mn\" ---> no match\n",
    "                   \"man\" --> 1 match\n",
    "                   \"maan\" --> 1 match\n",
    "                   \"maaaaaaaaaaaaaaaain\" --> no match\n",
    "7- ? - Question mark symbol \"?\" matches \"zero or one occurences\" of the pattern left to it\n",
    "    \n",
    "        \"ma?n\" --> \"mn\" --> 1 match\n",
    "                   \"man\" --> 1 match\n",
    "                   \"maan\" --> no match\n",
    "                   \"main\" --> no match\n",
    "                   \"woman\" --> 1 match\n",
    "                   \"manman\" --> 2 matches\n",
    "                   \"superwhomen\" --> no match\n",
    "8- {} - Braces\n",
    "    {n} --> n occurences of pattern left to it\n",
    "    {m,n} -> at least m and atmost n repetations of pattern left to it\n",
    "    m,n --> are integer values\n",
    "    \n",
    "        a{2,3} --> \"abc lab\" -> no matches\n",
    "                   \"abaac maan\" --> 2 matches\n",
    "                   \"haaap\" --> 1 match\n",
    "9 - | Alteration - is used as or operator\n",
    "        a|b --> \"abas\" --> 3 matches a, b, a\n",
    "                \"ade\" --> 1 match\n",
    "                \"tune\" --> no match\n",
    "                \"acdbefa\" --> 3 matches\n",
    "        it will match any string which either contains a or b"
   ]
  },
  {
   "cell_type": "code",
   "execution_count": null,
   "id": "6c2af21e",
   "metadata": {},
   "outputs": [],
   "source": []
  }
 ],
 "metadata": {
  "kernelspec": {
   "display_name": "Python 3 (ipykernel)",
   "language": "python",
   "name": "python3"
  },
  "language_info": {
   "codemirror_mode": {
    "name": "ipython",
    "version": 3
   },
   "file_extension": ".py",
   "mimetype": "text/x-python",
   "name": "python",
   "nbconvert_exporter": "python",
   "pygments_lexer": "ipython3",
   "version": "3.10.1"
  }
 },
 "nbformat": 4,
 "nbformat_minor": 5
}
