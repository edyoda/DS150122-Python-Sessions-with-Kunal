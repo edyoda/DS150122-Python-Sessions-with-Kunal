{
 "cells": [
  {
   "cell_type": "markdown",
   "id": "7eeafd72",
   "metadata": {},
   "source": [
    "## Dunder Methods (Double Underscore Methods)"
   ]
  },
  {
   "cell_type": "code",
   "execution_count": 5,
   "id": "b6dff2fd",
   "metadata": {},
   "outputs": [],
   "source": [
    "class Add:\n",
    "    def __init__(self,a):\n",
    "        self.a = a\n",
    "    def __add__(self, other):\n",
    "        return self.a + other.a\n",
    "a = Add(41)\n",
    "b = Add(52)"
   ]
  },
  {
   "cell_type": "code",
   "execution_count": 6,
   "id": "0b02064f",
   "metadata": {},
   "outputs": [
    {
     "data": {
      "text/plain": [
       "93"
      ]
     },
     "execution_count": 6,
     "metadata": {},
     "output_type": "execute_result"
    }
   ],
   "source": [
    "a + b"
   ]
  },
  {
   "cell_type": "code",
   "execution_count": 7,
   "id": "351e5a50",
   "metadata": {},
   "outputs": [
    {
     "name": "stdout",
     "output_type": "stream",
     "text": [
      "59\n"
     ]
    }
   ],
   "source": [
    "a = int(23)\n",
    "b = int(36)\n",
    "print(a+b)"
   ]
  },
  {
   "cell_type": "code",
   "execution_count": null,
   "id": "b29cbbb9",
   "metadata": {},
   "outputs": [],
   "source": []
  },
  {
   "cell_type": "code",
   "execution_count": 32,
   "id": "9c40e9e0",
   "metadata": {},
   "outputs": [],
   "source": [
    "class Abhishek:\n",
    "    def __init__(self,a):\n",
    "        self.a = a\n",
    "    def __add__(self, other):\n",
    "        return self.a*2 + other.a*3\n",
    "    def __lt__(self, other):\n",
    "        if other.a==\"Vaibhav\" and self.a==\"Kunal\":\n",
    "            return \"Vaibhav is Great\"\n",
    "        return self.a < other.a\n",
    "    def __repr__(self):\n",
    "        return f\"Obj value is: {self.a}\"\n",
    "    \n",
    "a = Abhishek(4)\n",
    "b = Abhishek(5)"
   ]
  },
  {
   "cell_type": "code",
   "execution_count": 33,
   "id": "34fe4cbc",
   "metadata": {},
   "outputs": [
    {
     "data": {
      "text/plain": [
       "Obj value is: 4"
      ]
     },
     "execution_count": 33,
     "metadata": {},
     "output_type": "execute_result"
    }
   ],
   "source": [
    "a"
   ]
  },
  {
   "cell_type": "code",
   "execution_count": 20,
   "id": "9f9f6445",
   "metadata": {},
   "outputs": [
    {
     "data": {
      "text/plain": [
       "23"
      ]
     },
     "execution_count": 20,
     "metadata": {},
     "output_type": "execute_result"
    }
   ],
   "source": [
    "a+b"
   ]
  },
  {
   "cell_type": "code",
   "execution_count": 21,
   "id": "d5c594a2",
   "metadata": {},
   "outputs": [
    {
     "data": {
      "text/plain": [
       "True"
      ]
     },
     "execution_count": 21,
     "metadata": {},
     "output_type": "execute_result"
    }
   ],
   "source": [
    "a<b"
   ]
  },
  {
   "cell_type": "code",
   "execution_count": 22,
   "id": "002e3ad3",
   "metadata": {},
   "outputs": [
    {
     "data": {
      "text/plain": [
       "'Vaibhav is Great'"
      ]
     },
     "execution_count": 22,
     "metadata": {},
     "output_type": "execute_result"
    }
   ],
   "source": [
    "c = Abhishek(\"Vaibhav\")\n",
    "d = Abhishek(\"Kunal\")\n",
    "c<d"
   ]
  },
  {
   "cell_type": "code",
   "execution_count": 23,
   "id": "36d4fcf3",
   "metadata": {},
   "outputs": [
    {
     "data": {
      "text/plain": [
       "True"
      ]
     },
     "execution_count": 23,
     "metadata": {},
     "output_type": "execute_result"
    }
   ],
   "source": [
    "d<c"
   ]
  },
  {
   "cell_type": "code",
   "execution_count": 24,
   "id": "e8703652",
   "metadata": {},
   "outputs": [
    {
     "name": "stdout",
     "output_type": "stream",
     "text": [
      "{'a': 4}\n",
      "{'a': 5}\n"
     ]
    }
   ],
   "source": [
    "print(a.__dict__)\n",
    "print(b.__dict__)"
   ]
  },
  {
   "cell_type": "code",
   "execution_count": 27,
   "id": "a6087292",
   "metadata": {},
   "outputs": [
    {
     "name": "stdout",
     "output_type": "stream",
     "text": [
      "obj c--> {'a': 'Vaibhav'}\n",
      "obj d-->  {'a': 'Kunal'}\n"
     ]
    }
   ],
   "source": [
    "print(f\"obj c--> {c.__dict__}\")\n",
    "print(\"obj d--> \",d.__dict__)"
   ]
  },
  {
   "cell_type": "code",
   "execution_count": 41,
   "id": "97c3e1fc",
   "metadata": {},
   "outputs": [],
   "source": [
    "class School:\n",
    "    name_of_school = \"MIT\"\n",
    "    def __init__(self):\n",
    "        self.__name = \"\"\n",
    "        self.__phn = 0\n",
    "        self.__addr = \"\"\n",
    "    #Setters\n",
    "    def set_name(self, name): #setter for name attribute\n",
    "        if type(name) != str:\n",
    "            return False\n",
    "        self.__name = name\n",
    "    def set_phn(self, phn):\n",
    "        if type(phn) != int:\n",
    "            return \"Not a Integer\"\n",
    "        self.__phn = phn\n",
    "    def set_addr(self,addr):\n",
    "        self.__addr = addr\n",
    "    # Getters\n",
    "    def get_name(self): \n",
    "        return self.__name\n",
    "    def get_phone(self):\n",
    "        return self.__phn\n",
    "    def get_addr(self):\n",
    "        return self.__addr\n",
    "    \n",
    "    def __str__(self):\n",
    "        return self.get_name()\n",
    "    \n",
    "    def __repr__(self):\n",
    "        return self.get_name() + \".\"\n"
   ]
  },
  {
   "cell_type": "code",
   "execution_count": 42,
   "id": "977a3ce5",
   "metadata": {},
   "outputs": [],
   "source": [
    "student = School()\n",
    "student.set_name(\"Tejashri\")"
   ]
  },
  {
   "cell_type": "code",
   "execution_count": 43,
   "id": "3e08c4eb",
   "metadata": {},
   "outputs": [
    {
     "data": {
      "text/plain": [
       "Tejashri."
      ]
     },
     "execution_count": 43,
     "metadata": {},
     "output_type": "execute_result"
    }
   ],
   "source": [
    "student --> Repr is overloading"
   ]
  },
  {
   "cell_type": "code",
   "execution_count": 44,
   "id": "83bdf5dc",
   "metadata": {},
   "outputs": [
    {
     "name": "stdout",
     "output_type": "stream",
     "text": [
      "Tejashri\n"
     ]
    }
   ],
   "source": [
    "print(student) --> str is overloading"
   ]
  },
  {
   "cell_type": "code",
   "execution_count": 45,
   "id": "64c8a814",
   "metadata": {},
   "outputs": [],
   "source": [
    "class Add:\n",
    "    def __init__(self,a):\n",
    "        self.a = a\n",
    "#     def __add__(self, other):\n",
    "#         return self.a + other.a\n",
    "g = Add(41)\n",
    "h = Add(52)"
   ]
  },
  {
   "cell_type": "code",
   "execution_count": 47,
   "id": "56101d9a",
   "metadata": {},
   "outputs": [
    {
     "data": {
      "text/plain": [
       "93"
      ]
     },
     "execution_count": 47,
     "metadata": {},
     "output_type": "execute_result"
    }
   ],
   "source": [
    "g.a+h.a"
   ]
  },
  {
   "cell_type": "markdown",
   "id": "85c1b91e",
   "metadata": {},
   "source": [
    "## `Inheritence`"
   ]
  },
  {
   "cell_type": "code",
   "execution_count": null,
   "id": "aca79b49",
   "metadata": {},
   "outputs": [],
   "source": [
    "Parent class --> Child class\n",
    "Reusability\n",
    "less coding\n"
   ]
  },
  {
   "cell_type": "code",
   "execution_count": 52,
   "id": "e9542388",
   "metadata": {},
   "outputs": [],
   "source": [
    "class Vehical:\n",
    "    def __init__(self):\n",
    "        self.name = \"\"\n",
    "\n",
    "    def set_name(self,name):\n",
    "        self.name = name\n",
    "    def get_name(self):\n",
    "        return self.name\n",
    "\n",
    "class Car(Vehical):\n",
    "    \n",
    "    def make_car(self,name):\n",
    "        Vehical.set_name(self,name)\n",
    "        \n",
    "    def print_car(self):\n",
    "        return super().get_name()"
   ]
  },
  {
   "cell_type": "code",
   "execution_count": 53,
   "id": "0fa7516a",
   "metadata": {},
   "outputs": [],
   "source": [
    "c1 = Car()"
   ]
  },
  {
   "cell_type": "code",
   "execution_count": 54,
   "id": "053aa808",
   "metadata": {},
   "outputs": [],
   "source": [
    "c1.make_car(\"Tigor\")"
   ]
  },
  {
   "cell_type": "code",
   "execution_count": 55,
   "id": "619cd955",
   "metadata": {},
   "outputs": [
    {
     "data": {
      "text/plain": [
       "'Tigor'"
      ]
     },
     "execution_count": 55,
     "metadata": {},
     "output_type": "execute_result"
    }
   ],
   "source": [
    "c1.print_car()"
   ]
  },
  {
   "cell_type": "code",
   "execution_count": 80,
   "id": "3b384b57",
   "metadata": {},
   "outputs": [],
   "source": [
    "import math\n",
    "class Polygon:\n",
    "    def __init__(self, no_of_sides):\n",
    "        self.n = no_of_sides\n",
    "        self.sides = [0 for i in range(no_of_sides)]\n",
    "    \n",
    "    def input_sides(self):\n",
    "        self.sides = [float(input(f\"Enter side {str(i+1)} :\")) for i in range(self.n)]\n",
    "    \n",
    "    def diplay_the_sides(self):\n",
    "        for i in range(self.n):\n",
    "            print(f\"Side {i+1} is {self.sides[i]}\")\n",
    "    \n",
    "class Triangle(Polygon):\n",
    "    def __init__(self):\n",
    "        super().__init__(3)\n",
    "    def findArea(self):\n",
    "        a,b,c = self.sides\n",
    "        s = (a+b+c)/2\n",
    "        print(a,b,c)\n",
    "        area = math.sqrt((s*(s-a)*(s-b)*(s-c)))\n",
    "        print(f\"The are of the triangle is {area}\")\n"
   ]
  },
  {
   "cell_type": "code",
   "execution_count": 81,
   "id": "6af04ba3",
   "metadata": {},
   "outputs": [],
   "source": [
    "t = Triangle()"
   ]
  },
  {
   "cell_type": "code",
   "execution_count": 82,
   "id": "186ccefa",
   "metadata": {},
   "outputs": [
    {
     "name": "stdout",
     "output_type": "stream",
     "text": [
      "Enter side 1 :4\n",
      "Enter side 2 :3\n",
      "Enter side 3 :7\n"
     ]
    }
   ],
   "source": [
    "t.input_sides()"
   ]
  },
  {
   "cell_type": "code",
   "execution_count": 83,
   "id": "f1e64f89",
   "metadata": {},
   "outputs": [
    {
     "name": "stdout",
     "output_type": "stream",
     "text": [
      "Side 1 is 4.0\n",
      "Side 2 is 3.0\n",
      "Side 3 is 7.0\n"
     ]
    }
   ],
   "source": [
    "t.diplay_the_sides()"
   ]
  },
  {
   "cell_type": "code",
   "execution_count": 84,
   "id": "2ed84913",
   "metadata": {},
   "outputs": [
    {
     "name": "stdout",
     "output_type": "stream",
     "text": [
      "4.0 3.0 7.0\n",
      "The are of the triangle is 0.0\n"
     ]
    }
   ],
   "source": [
    "t.findArea()"
   ]
  },
  {
   "cell_type": "code",
   "execution_count": null,
   "id": "c8e026cc",
   "metadata": {},
   "outputs": [],
   "source": []
  },
  {
   "cell_type": "code",
   "execution_count": null,
   "id": "9cfffe38",
   "metadata": {},
   "outputs": [],
   "source": []
  },
  {
   "cell_type": "code",
   "execution_count": 58,
   "id": "d4044431",
   "metadata": {},
   "outputs": [],
   "source": [
    "no_of_sides = 3\n",
    "s = [0 for i in range(no_of_sides)]"
   ]
  },
  {
   "cell_type": "code",
   "execution_count": 59,
   "id": "246671fc",
   "metadata": {},
   "outputs": [
    {
     "name": "stdout",
     "output_type": "stream",
     "text": [
      "[0, 0, 0]\n"
     ]
    }
   ],
   "source": [
    "print(s)"
   ]
  },
  {
   "cell_type": "code",
   "execution_count": 64,
   "id": "8054f662",
   "metadata": {},
   "outputs": [
    {
     "name": "stdout",
     "output_type": "stream",
     "text": [
      "Enter side 1 :2\n",
      "Enter side 2 :3\n",
      "Enter side 3 :5\n"
     ]
    }
   ],
   "source": [
    "s = [float(input(f\"Enter side {i+1} :\")) for i in range(no_of_sides)]"
   ]
  },
  {
   "cell_type": "code",
   "execution_count": 65,
   "id": "9a2fcd72",
   "metadata": {},
   "outputs": [
    {
     "name": "stdout",
     "output_type": "stream",
     "text": [
      "[2.0, 3.0, 5.0]\n"
     ]
    }
   ],
   "source": [
    "print(s)"
   ]
  },
  {
   "cell_type": "code",
   "execution_count": 63,
   "id": "2aac327e",
   "metadata": {},
   "outputs": [
    {
     "data": {
      "text/plain": [
       "'tejashri2'"
      ]
     },
     "execution_count": 63,
     "metadata": {},
     "output_type": "execute_result"
    }
   ],
   "source": [
    "\"tejashri\" + str(2)"
   ]
  },
  {
   "cell_type": "code",
   "execution_count": 66,
   "id": "f094729e",
   "metadata": {},
   "outputs": [],
   "source": [
    "a,b,c = s"
   ]
  },
  {
   "cell_type": "code",
   "execution_count": 67,
   "id": "f61b1467",
   "metadata": {},
   "outputs": [
    {
     "name": "stdout",
     "output_type": "stream",
     "text": [
      "2.0 , 3.0 , 5.0\n"
     ]
    }
   ],
   "source": [
    "print(a,b,c,sep=\" , \")"
   ]
  },
  {
   "cell_type": "code",
   "execution_count": 85,
   "id": "a8f26bf1",
   "metadata": {},
   "outputs": [
    {
     "name": "stdout",
     "output_type": "stream",
     "text": [
      "Help on Triangle in module __main__ object:\n",
      "\n",
      "class Triangle(Polygon)\n",
      " |  Method resolution order:\n",
      " |      Triangle\n",
      " |      Polygon\n",
      " |      builtins.object\n",
      " |  \n",
      " |  Methods defined here:\n",
      " |  \n",
      " |  __init__(self)\n",
      " |      Initialize self.  See help(type(self)) for accurate signature.\n",
      " |  \n",
      " |  findArea(self)\n",
      " |  \n",
      " |  ----------------------------------------------------------------------\n",
      " |  Methods inherited from Polygon:\n",
      " |  \n",
      " |  diplay_the_sides(self)\n",
      " |  \n",
      " |  input_sides(self)\n",
      " |  \n",
      " |  ----------------------------------------------------------------------\n",
      " |  Data descriptors inherited from Polygon:\n",
      " |  \n",
      " |  __dict__\n",
      " |      dictionary for instance variables (if defined)\n",
      " |  \n",
      " |  __weakref__\n",
      " |      list of weak references to the object (if defined)\n",
      "\n"
     ]
    }
   ],
   "source": [
    "help(t)"
   ]
  },
  {
   "cell_type": "code",
   "execution_count": null,
   "id": "4b5d808d",
   "metadata": {},
   "outputs": [],
   "source": [
    "Single Inheritence:\n",
    "    Parent --> Child\n",
    "Multilevel Inheritence:\n",
    "    P1 --> P2 --> Child"
   ]
  },
  {
   "cell_type": "code",
   "execution_count": 88,
   "id": "0f57400e",
   "metadata": {},
   "outputs": [],
   "source": [
    "class P1:\n",
    "    def __init__(slef):\n",
    "        print(\"P1\")\n",
    "class P2(P1):\n",
    "    def __init__(sleep):\n",
    "        print(\"P2\")\n",
    "        super().__init__()\n",
    "class child(P2):\n",
    "    def __init__(slap):\n",
    "        print(\"Child\")\n",
    "        super().__init__()"
   ]
  },
  {
   "cell_type": "code",
   "execution_count": 89,
   "id": "53e43e20",
   "metadata": {},
   "outputs": [
    {
     "name": "stdout",
     "output_type": "stream",
     "text": [
      "Child\n",
      "P2\n",
      "P1\n"
     ]
    }
   ],
   "source": [
    "c1 = child()"
   ]
  },
  {
   "cell_type": "code",
   "execution_count": 90,
   "id": "d81ead82",
   "metadata": {},
   "outputs": [
    {
     "name": "stdout",
     "output_type": "stream",
     "text": [
      "Help on child in module __main__ object:\n",
      "\n",
      "class child(P2)\n",
      " |  Method resolution order:\n",
      " |      child\n",
      " |      P2\n",
      " |      P1\n",
      " |      builtins.object\n",
      " |  \n",
      " |  Methods defined here:\n",
      " |  \n",
      " |  __init__(slap)\n",
      " |      Initialize self.  See help(type(self)) for accurate signature.\n",
      " |  \n",
      " |  ----------------------------------------------------------------------\n",
      " |  Data descriptors inherited from P1:\n",
      " |  \n",
      " |  __dict__\n",
      " |      dictionary for instance variables (if defined)\n",
      " |  \n",
      " |  __weakref__\n",
      " |      list of weak references to the object (if defined)\n",
      "\n"
     ]
    }
   ],
   "source": [
    "help(c1)"
   ]
  },
  {
   "cell_type": "code",
   "execution_count": null,
   "id": "a7f203c8",
   "metadata": {},
   "outputs": [],
   "source": [
    "Multiple Inheritence:\n",
    "    more than one parent of single child"
   ]
  },
  {
   "cell_type": "code",
   "execution_count": 91,
   "id": "cbf72560",
   "metadata": {},
   "outputs": [],
   "source": [
    "class P1:\n",
    "    def __init__(self):\n",
    "        print(\"P1\")\n",
    "class P2:\n",
    "    def __init__(self):\n",
    "        print(\"P2\")\n",
    "        super().__init__()\n",
    "class P3:\n",
    "    def __init__(self):\n",
    "        print(\"P3\")\n",
    "        super().__init__()\n",
    "class child(P3,P2,P1):\n",
    "    def __init__(seld):\n",
    "        print(\"child\")\n",
    "        super().__init__()"
   ]
  },
  {
   "cell_type": "code",
   "execution_count": 92,
   "id": "3d7bc981",
   "metadata": {},
   "outputs": [
    {
     "name": "stdout",
     "output_type": "stream",
     "text": [
      "child\n",
      "P3\n",
      "P2\n",
      "P1\n"
     ]
    }
   ],
   "source": [
    "c2 = child()"
   ]
  },
  {
   "cell_type": "code",
   "execution_count": 93,
   "id": "fc633c5f",
   "metadata": {},
   "outputs": [],
   "source": [
    "class child2(P3,P1,P2):\n",
    "    def __init__(self):\n",
    "        print(\"child2\")\n",
    "        super().__init__()"
   ]
  },
  {
   "cell_type": "code",
   "execution_count": 94,
   "id": "9309ae41",
   "metadata": {},
   "outputs": [
    {
     "name": "stdout",
     "output_type": "stream",
     "text": [
      "child2\n",
      "P3\n",
      "P1\n"
     ]
    }
   ],
   "source": [
    "c3 = child2()"
   ]
  },
  {
   "cell_type": "code",
   "execution_count": 95,
   "id": "d41055d1",
   "metadata": {},
   "outputs": [
    {
     "name": "stdout",
     "output_type": "stream",
     "text": [
      "Help on child2 in module __main__ object:\n",
      "\n",
      "class child2(P3, P1, P2)\n",
      " |  Method resolution order:\n",
      " |      child2\n",
      " |      P3\n",
      " |      P1\n",
      " |      P2\n",
      " |      builtins.object\n",
      " |  \n",
      " |  Methods defined here:\n",
      " |  \n",
      " |  __init__(self)\n",
      " |      Initialize self.  See help(type(self)) for accurate signature.\n",
      " |  \n",
      " |  ----------------------------------------------------------------------\n",
      " |  Data descriptors inherited from P3:\n",
      " |  \n",
      " |  __dict__\n",
      " |      dictionary for instance variables (if defined)\n",
      " |  \n",
      " |  __weakref__\n",
      " |      list of weak references to the object (if defined)\n",
      "\n"
     ]
    }
   ],
   "source": [
    "help(c3)"
   ]
  },
  {
   "cell_type": "code",
   "execution_count": null,
   "id": "05b93416",
   "metadata": {},
   "outputs": [],
   "source": [
    "Hierarchical Inheritence:\n",
    "    single parent can have multiple children\n",
    "    \n",
    "                    P1\n",
    "                    |\n",
    "        -----------------------------\n",
    "        |       |      |      |     |\n",
    "        C1     C2     C3      C4    C5"
   ]
  },
  {
   "cell_type": "code",
   "execution_count": null,
   "id": "45f9d7c5",
   "metadata": {},
   "outputs": [],
   "source": [
    "Hybrid Inheritence:\n",
    "            A\n",
    "            |\n",
    "        ---------\n",
    "        |       |\n",
    "       C1      C2\n",
    "        |       |\n",
    "        ---------\n",
    "            |\n",
    "          child"
   ]
  },
  {
   "cell_type": "code",
   "execution_count": 99,
   "id": "6a37de43",
   "metadata": {},
   "outputs": [],
   "source": [
    "class A:\n",
    "    def __init__(self):\n",
    "        print(\"A\")\n",
    "class C1(A):\n",
    "    def __init__(self):\n",
    "        print(\"C1\")\n",
    "        super().__init__()\n",
    "class C2(A):\n",
    "    def __init__(self):\n",
    "        print(\"C2\")\n",
    "        super().__init__()\n",
    "class child(C1,C2):\n",
    "    def __init__(self):\n",
    "        print(\"child\")\n",
    "        super().__init__()"
   ]
  },
  {
   "cell_type": "code",
   "execution_count": 100,
   "id": "173e14b3",
   "metadata": {},
   "outputs": [
    {
     "name": "stdout",
     "output_type": "stream",
     "text": [
      "child\n",
      "C1\n",
      "C2\n",
      "A\n"
     ]
    }
   ],
   "source": [
    "c4 = child()\n"
   ]
  },
  {
   "cell_type": "code",
   "execution_count": null,
   "id": "ccdc810f",
   "metadata": {},
   "outputs": [],
   "source": [
    "Hybrid Inheritence:\n",
    "            A\n",
    "            |\n",
    "        ---------\n",
    "        |       |\n",
    "       C1      C2\n",
    "        |       |\n",
    "        P1     P2\n",
    "        ---------\n",
    "            |\n",
    "          child          mro order --> child,P1,C1,P2,C2,A"
   ]
  },
  {
   "cell_type": "code",
   "execution_count": 103,
   "id": "4e572dbb",
   "metadata": {},
   "outputs": [],
   "source": [
    "class A:\n",
    "    def __init__(self):\n",
    "        print(\"A\")\n",
    "class C1(A):\n",
    "    def __init__(self):\n",
    "        print(\"C1\")\n",
    "        super().__init__()\n",
    "class C2(A):\n",
    "    def __init__(self):\n",
    "        print(\"C2\")\n",
    "        super().__init__()\n",
    "class P1(C1):\n",
    "    def __init__(self):\n",
    "        print(\"P1\")\n",
    "        super().__init__()\n",
    "class P2(C2):\n",
    "    def __init__(self):\n",
    "        print(\"P2\")\n",
    "        super().__init__()\n",
    "class child(P1,P2):\n",
    "    def __init__(self):\n",
    "        print(\"child\")\n",
    "        super().__init__()"
   ]
  },
  {
   "cell_type": "code",
   "execution_count": 104,
   "id": "1ba1b58a",
   "metadata": {},
   "outputs": [
    {
     "name": "stdout",
     "output_type": "stream",
     "text": [
      "child\n",
      "P1\n",
      "C1\n",
      "P2\n",
      "C2\n",
      "A\n"
     ]
    }
   ],
   "source": [
    "c5 = child()"
   ]
  },
  {
   "cell_type": "code",
   "execution_count": null,
   "id": "dc1d091f",
   "metadata": {},
   "outputs": [],
   "source": [
    "child,P1,C1,P2,C2,A"
   ]
  }
 ],
 "metadata": {
  "kernelspec": {
   "display_name": "Python 3 (ipykernel)",
   "language": "python",
   "name": "python3"
  },
  "language_info": {
   "codemirror_mode": {
    "name": "ipython",
    "version": 3
   },
   "file_extension": ".py",
   "mimetype": "text/x-python",
   "name": "python",
   "nbconvert_exporter": "python",
   "pygments_lexer": "ipython3",
   "version": "3.9.7"
  }
 },
 "nbformat": 4,
 "nbformat_minor": 5
}
