{
 "cells": [
  {
   "cell_type": "code",
   "execution_count": 2,
   "id": "2b7dbf86",
   "metadata": {},
   "outputs": [],
   "source": [
    "class School:\n",
    "    name_of_school = \"MIT\"\n",
    "    def __init__(self, name, phn, addr):\n",
    "        self.name = name\n",
    "        self.phn = phn\n",
    "        self.addr = addr"
   ]
  },
  {
   "cell_type": "code",
   "execution_count": 5,
   "id": "ab91d158",
   "metadata": {},
   "outputs": [
    {
     "name": "stdout",
     "output_type": "stream",
     "text": [
      "Enter name: Saurabh\n",
      "Enter Phn: 9999999\n",
      "Enter short one liner addr: bang\n"
     ]
    }
   ],
   "source": [
    "name = input(\"Enter name: \")\n",
    "phn = input(\"Enter Phn: \")\n",
    "addr = input(\"Enter short one liner addr: \")\n",
    "a = School(name, phn, addr)"
   ]
  },
  {
   "cell_type": "code",
   "execution_count": 6,
   "id": "b4d5ceb7",
   "metadata": {},
   "outputs": [
    {
     "name": "stdout",
     "output_type": "stream",
     "text": [
      "<__main__.School object at 0x0000025304C923D0>\n"
     ]
    }
   ],
   "source": [
    "print(a)"
   ]
  },
  {
   "cell_type": "code",
   "execution_count": 7,
   "id": "ee4cfd00",
   "metadata": {},
   "outputs": [
    {
     "data": {
      "text/plain": [
       "'Saurabh'"
      ]
     },
     "execution_count": 7,
     "metadata": {},
     "output_type": "execute_result"
    }
   ],
   "source": [
    "a.name"
   ]
  },
  {
   "cell_type": "code",
   "execution_count": 8,
   "id": "b55c375e",
   "metadata": {},
   "outputs": [
    {
     "name": "stdout",
     "output_type": "stream",
     "text": [
      "Saurabh 9999999 bang\n"
     ]
    }
   ],
   "source": [
    "print(a.name,a.phn,a.addr)"
   ]
  },
  {
   "cell_type": "code",
   "execution_count": 9,
   "id": "448c6c80",
   "metadata": {},
   "outputs": [
    {
     "name": "stdout",
     "output_type": "stream",
     "text": [
      "Enter name: Tejashri\n",
      "Enter Phn: 888888888\n",
      "Enter short one liner addr: india\n"
     ]
    }
   ],
   "source": [
    "name = input(\"Enter name: \")\n",
    "phn = input(\"Enter Phn: \")\n",
    "addr = input(\"Enter short one liner addr: \")\n",
    "b = School(name, phn, addr)"
   ]
  },
  {
   "cell_type": "code",
   "execution_count": 10,
   "id": "c813b188",
   "metadata": {},
   "outputs": [
    {
     "name": "stdout",
     "output_type": "stream",
     "text": [
      "Tejashri 888888888 india\n"
     ]
    }
   ],
   "source": [
    "print(b.name,b.phn,b.addr)"
   ]
  },
  {
   "cell_type": "code",
   "execution_count": 11,
   "id": "c9d26f47",
   "metadata": {},
   "outputs": [
    {
     "data": {
      "text/plain": [
       "{'name': 'Saurabh', 'phn': '9999999', 'addr': 'bang'}"
      ]
     },
     "execution_count": 11,
     "metadata": {},
     "output_type": "execute_result"
    }
   ],
   "source": [
    "a.__dict__"
   ]
  },
  {
   "cell_type": "code",
   "execution_count": 20,
   "id": "37a1fab7",
   "metadata": {},
   "outputs": [
    {
     "data": {
      "text/plain": [
       "{'name': 'Tejashri', 'phn': '8888888888', 'addr': 'India'}"
      ]
     },
     "execution_count": 20,
     "metadata": {},
     "output_type": "execute_result"
    }
   ],
   "source": [
    "b.__dict__"
   ]
  },
  {
   "cell_type": "code",
   "execution_count": 15,
   "id": "a2b6de59",
   "metadata": {},
   "outputs": [
    {
     "name": "stdout",
     "output_type": "stream",
     "text": [
      "Enter name: Sashi\n",
      "Enter Phn: 7884623252\n",
      "Enter short one liner addr: Bugeria\n",
      "Do you want to continue:Y\n",
      "Enter name: Sandeep\n",
      "Enter Phn: 79563326352\n",
      "Enter short one liner addr: India\n",
      "Do you want to continue:Y\n",
      "Enter name: Saurabh\n",
      "Enter Phn: 000000000\n",
      "Enter short one liner addr: Ukarain\n",
      "Do you want to continue:Y\n",
      "Enter name: Vaibhav\n",
      "Enter Phn: 7569985325\n",
      "Enter short one liner addr: Bangladesh\n",
      "Do you want to continue:N\n"
     ]
    }
   ],
   "source": [
    "l = []\n",
    "while True:\n",
    "    name = input(\"Enter name: \")\n",
    "    phn = input(\"Enter Phn: \")\n",
    "    addr = input(\"Enter short one liner addr: \")\n",
    "    b = School(name, phn, addr)\n",
    "    l.append(b.__dict__)\n",
    "    i = input(\"Do you want to continue:\")\n",
    "    if i == \"N\":\n",
    "        break\n"
   ]
  },
  {
   "cell_type": "code",
   "execution_count": 16,
   "id": "834e2ab1",
   "metadata": {},
   "outputs": [
    {
     "name": "stdout",
     "output_type": "stream",
     "text": [
      "[{'name': 'Sashi', 'phn': '7884623252', 'addr': 'Bugeria'}, {'name': 'Sandeep', 'phn': '79563326352', 'addr': 'India'}, {'name': 'Saurabh', 'phn': '000000000', 'addr': 'Ukarain'}, {'name': 'Vaibhav', 'phn': '7569985325', 'addr': 'Bangladesh'}]\n"
     ]
    }
   ],
   "source": [
    "print(l)"
   ]
  },
  {
   "cell_type": "code",
   "execution_count": 17,
   "id": "ccdea313",
   "metadata": {},
   "outputs": [],
   "source": [
    "import json\n",
    "with open(\"Student.json\", \"r+\") as fp:\n",
    "    json.dump(l,fp)"
   ]
  },
  {
   "cell_type": "code",
   "execution_count": 18,
   "id": "c178b230",
   "metadata": {},
   "outputs": [],
   "source": [
    "with open(\"Student.json\", \"r+\") as fp:\n",
    "    content = json.load(fp)"
   ]
  },
  {
   "cell_type": "code",
   "execution_count": 20,
   "id": "79c026a9",
   "metadata": {},
   "outputs": [
    {
     "name": "stdout",
     "output_type": "stream",
     "text": [
      "<class 'list'>\n"
     ]
    }
   ],
   "source": [
    "print(type(content))"
   ]
  },
  {
   "cell_type": "code",
   "execution_count": 21,
   "id": "8702d18a",
   "metadata": {},
   "outputs": [
    {
     "name": "stdout",
     "output_type": "stream",
     "text": [
      "Sashi\n",
      "Sandeep\n",
      "Saurabh\n",
      "Vaibhav\n"
     ]
    }
   ],
   "source": [
    "for i in content:\n",
    "    print(i[\"name\"])"
   ]
  },
  {
   "cell_type": "code",
   "execution_count": 26,
   "id": "871e2b56",
   "metadata": {},
   "outputs": [],
   "source": [
    "class School:\n",
    "    name_of_school = \"MIT\"\n",
    "    def __init__(self):\n",
    "        self.__name = \"\"\n",
    "        self.__phn = 0\n",
    "        self.__addr = \"\"\n",
    "    #Setters\n",
    "    def set_name(self, name): #setter for name attribute\n",
    "        if type(name) != str:\n",
    "            return False\n",
    "        self.__name = name\n",
    "    def set_phn(self, phn):\n",
    "        if type(phn) != int:\n",
    "            return \"Not a Integer\"\n",
    "        self.__phn = phn\n",
    "    def set_addr(self,addr):\n",
    "        self.__addr = addr\n",
    "    # Getters\n",
    "    def get_name(self): \n",
    "        return self.__name\n",
    "    def get_phone(self):\n",
    "        return self.__phn\n",
    "    def get_addr(self):\n",
    "        return self.__addr\n"
   ]
  },
  {
   "cell_type": "code",
   "execution_count": 27,
   "id": "9719a79d",
   "metadata": {},
   "outputs": [],
   "source": [
    "student = School()"
   ]
  },
  {
   "cell_type": "code",
   "execution_count": 28,
   "id": "fa7674ad",
   "metadata": {},
   "outputs": [
    {
     "data": {
      "text/plain": [
       "False"
      ]
     },
     "execution_count": 28,
     "metadata": {},
     "output_type": "execute_result"
    }
   ],
   "source": [
    "student.set_name(23)"
   ]
  },
  {
   "cell_type": "code",
   "execution_count": 29,
   "id": "04b7e999",
   "metadata": {},
   "outputs": [],
   "source": [
    "student.set_name(\"Vaibhav\")"
   ]
  },
  {
   "cell_type": "code",
   "execution_count": 30,
   "id": "e4c8eeb6",
   "metadata": {},
   "outputs": [
    {
     "data": {
      "text/plain": [
       "'Vaibhav'"
      ]
     },
     "execution_count": 30,
     "metadata": {},
     "output_type": "execute_result"
    }
   ],
   "source": [
    "student.get_name()"
   ]
  },
  {
   "cell_type": "code",
   "execution_count": 31,
   "id": "c0fffa31",
   "metadata": {},
   "outputs": [
    {
     "data": {
      "text/plain": [
       "'Abhijit'"
      ]
     },
     "execution_count": 31,
     "metadata": {},
     "output_type": "execute_result"
    }
   ],
   "source": [
    "student2 = School()\n",
    "student2.set_name(\"Abhijit\")\n",
    "student2.get_name()"
   ]
  },
  {
   "cell_type": "code",
   "execution_count": 33,
   "id": "ce8e1bce",
   "metadata": {},
   "outputs": [
    {
     "data": {
      "text/plain": [
       "{'_School__name': 'Abhijit', '_School__phn': 0, '_School__addr': ''}"
      ]
     },
     "execution_count": 33,
     "metadata": {},
     "output_type": "execute_result"
    }
   ],
   "source": [
    "student2.__dict__"
   ]
  },
  {
   "cell_type": "code",
   "execution_count": 34,
   "id": "1d814e82",
   "metadata": {},
   "outputs": [],
   "source": [
    "student2.name_of_school = \"AIT\""
   ]
  },
  {
   "cell_type": "code",
   "execution_count": 35,
   "id": "8ad8346d",
   "metadata": {},
   "outputs": [
    {
     "data": {
      "text/plain": [
       "'MIT'"
      ]
     },
     "execution_count": 35,
     "metadata": {},
     "output_type": "execute_result"
    }
   ],
   "source": [
    "student.name_of_school"
   ]
  },
  {
   "cell_type": "code",
   "execution_count": 36,
   "id": "0caf0c86",
   "metadata": {},
   "outputs": [
    {
     "data": {
      "text/plain": [
       "'AIT'"
      ]
     },
     "execution_count": 36,
     "metadata": {},
     "output_type": "execute_result"
    }
   ],
   "source": [
    "student2.name_of_school"
   ]
  },
  {
   "cell_type": "code",
   "execution_count": 37,
   "id": "da27d8db",
   "metadata": {},
   "outputs": [],
   "source": [
    "School.name_of_school = \"Mayuri Institute of Technology\""
   ]
  },
  {
   "cell_type": "code",
   "execution_count": 38,
   "id": "41cda4d3",
   "metadata": {},
   "outputs": [
    {
     "data": {
      "text/plain": [
       "'Mayuri Institute of Technology'"
      ]
     },
     "execution_count": 38,
     "metadata": {},
     "output_type": "execute_result"
    }
   ],
   "source": [
    "student.name_of_school"
   ]
  },
  {
   "cell_type": "code",
   "execution_count": 39,
   "id": "c182023a",
   "metadata": {},
   "outputs": [
    {
     "data": {
      "text/plain": [
       "'AIT'"
      ]
     },
     "execution_count": 39,
     "metadata": {},
     "output_type": "execute_result"
    }
   ],
   "source": [
    "student2.name_of_school"
   ]
  },
  {
   "cell_type": "code",
   "execution_count": 40,
   "id": "c9d4c3f1",
   "metadata": {},
   "outputs": [
    {
     "data": {
      "text/plain": [
       "{'_School__name': 'Abhijit',\n",
       " '_School__phn': 0,\n",
       " '_School__addr': '',\n",
       " 'name_of_school': 'AIT'}"
      ]
     },
     "execution_count": 40,
     "metadata": {},
     "output_type": "execute_result"
    }
   ],
   "source": [
    "student2.__dict__"
   ]
  },
  {
   "cell_type": "code",
   "execution_count": 41,
   "id": "d9f6b053",
   "metadata": {},
   "outputs": [
    {
     "data": {
      "text/plain": [
       "{'_School__name': 'Vaibhav', '_School__phn': 0, '_School__addr': ''}"
      ]
     },
     "execution_count": 41,
     "metadata": {},
     "output_type": "execute_result"
    }
   ],
   "source": [
    "student.__dict__"
   ]
  },
  {
   "cell_type": "code",
   "execution_count": 42,
   "id": "d0c8345a",
   "metadata": {},
   "outputs": [
    {
     "data": {
      "text/plain": [
       "'Vaibhav'"
      ]
     },
     "execution_count": 42,
     "metadata": {},
     "output_type": "execute_result"
    }
   ],
   "source": [
    "student._School__name"
   ]
  },
  {
   "cell_type": "code",
   "execution_count": 44,
   "id": "70619006",
   "metadata": {},
   "outputs": [
    {
     "ename": "AttributeError",
     "evalue": "'School' object has no attribute '__name'",
     "output_type": "error",
     "traceback": [
      "\u001b[1;31m---------------------------------------------------------------------------\u001b[0m",
      "\u001b[1;31mAttributeError\u001b[0m                            Traceback (most recent call last)",
      "\u001b[1;32mC:\\Users\\KUNALC~1\\AppData\\Local\\Temp/ipykernel_20584/1940296517.py\u001b[0m in \u001b[0;36m<module>\u001b[1;34m\u001b[0m\n\u001b[1;32m----> 1\u001b[1;33m \u001b[0mstudent\u001b[0m\u001b[1;33m.\u001b[0m\u001b[0m__name\u001b[0m\u001b[1;33m\u001b[0m\u001b[1;33m\u001b[0m\u001b[0m\n\u001b[0m",
      "\u001b[1;31mAttributeError\u001b[0m: 'School' object has no attribute '__name'"
     ]
    }
   ],
   "source": [
    "student.__name"
   ]
  },
  {
   "cell_type": "code",
   "execution_count": 45,
   "id": "a1bc6b73",
   "metadata": {},
   "outputs": [],
   "source": [
    "class School:\n",
    "    __name_of_school = \"MIT\"\n",
    "    def __init__(self):\n",
    "        self.__name = \"\"\n",
    "        self.__phn = 0\n",
    "        self.__addr = \"\"\n",
    "    #Setters\n",
    "    def set_name(self, name): #setter for name attribute\n",
    "        if type(name) != str:\n",
    "            return False\n",
    "        self.__name = name\n",
    "    def set_phn(self, phn):\n",
    "        if type(phn) != int:\n",
    "            return \"Not a Integer\"\n",
    "        self.__phn = phn\n",
    "    def set_addr(self,addr):\n",
    "        self.__addr = addr\n",
    "    # Getters\n",
    "    def get_name(self): \n",
    "        return self.__name\n",
    "    def get_phone(self):\n",
    "        return self.__phn\n",
    "    def get_addr(self):\n",
    "        return self.__addr\n",
    "    @classmethod\n",
    "    def set_name_of_school(cls, name_of_school):\n",
    "        cls.__name_of_school = name_of_school\n",
    "    \n",
    "    @classmethod\n",
    "    def get_name_of_school(cls):\n",
    "        return cls.__name_of_school"
   ]
  },
  {
   "cell_type": "code",
   "execution_count": 46,
   "id": "14b4d837",
   "metadata": {},
   "outputs": [
    {
     "data": {
      "text/plain": [
       "'Abhijit'"
      ]
     },
     "execution_count": 46,
     "metadata": {},
     "output_type": "execute_result"
    }
   ],
   "source": [
    "student2 = School()\n",
    "student2.set_name(\"Abhijit\")\n",
    "student2.get_name()"
   ]
  },
  {
   "cell_type": "code",
   "execution_count": 48,
   "id": "10c3a6e2",
   "metadata": {},
   "outputs": [
    {
     "data": {
      "text/plain": [
       "'MIT'"
      ]
     },
     "execution_count": 48,
     "metadata": {},
     "output_type": "execute_result"
    }
   ],
   "source": [
    "student2.get_name_of_school()"
   ]
  },
  {
   "cell_type": "code",
   "execution_count": 49,
   "id": "be073695",
   "metadata": {},
   "outputs": [],
   "source": [
    "School.set_name_of_school(\"Mayuri Institute of Tech.\")"
   ]
  },
  {
   "cell_type": "code",
   "execution_count": 50,
   "id": "fcf58ae9",
   "metadata": {},
   "outputs": [
    {
     "data": {
      "text/plain": [
       "'Mayuri Institute of Tech.'"
      ]
     },
     "execution_count": 50,
     "metadata": {},
     "output_type": "execute_result"
    }
   ],
   "source": [
    "student2.get_name_of_school()"
   ]
  },
  {
   "cell_type": "code",
   "execution_count": null,
   "id": "1f1a7bee",
   "metadata": {},
   "outputs": [],
   "source": [
    "# static method is defined like a normal finction inside the class with @staticmethod decorator\n",
    "# it is bound to class and not to object of class\n",
    "# A static method can't access or modify the clas state"
   ]
  },
  {
   "cell_type": "code",
   "execution_count": null,
   "id": "f81ea08f",
   "metadata": {},
   "outputs": [],
   "source": [
    "class School:\n",
    "    __name_of_school = \"MIT\"\n",
    "    def __init__(self):\n",
    "        self.__name = \"\"\n",
    "        self.__phn = 0\n",
    "        self.__addr = \"\"\n",
    "        self.__password = \"1234\"\n",
    "    #Setters\n",
    "    def set_name(self, name): #setter for name attribute\n",
    "        if type(name) != str:\n",
    "            return False\n",
    "        self.__name = name                         \n",
    "    def set_phn(self, phn):\n",
    "        if type(phn) != int:\n",
    "            return \"Not a Integer\"\n",
    "        self.__phn = phn\n",
    "    def set_addr(self,addr):\n",
    "        self.__addr = addr\n",
    "    def set_password(self, num):\n",
    "        self.__password = School.create_password(self.__name,self.__phn) + str(num)\n",
    "    \n",
    "    @staticmethod\n",
    "    def create_password(name, phn):\n",
    "        return name + str(phn)[:3]\n",
    "    # Getters\n",
    "    def get_name(self): \n",
    "        return self.__name\n",
    "    def get_phone(self):\n",
    "        return self.__phn\n",
    "    def get_addr(self):\n",
    "        return self.__addr\n",
    "    @classmethod\n",
    "    def set_name_of_school(cls, name_of_school):\n",
    "        cls.__name_of_school = name_of_school\n",
    "    \n",
    "    @classmethod\n",
    "    def get_name_of_school(cls):\n",
    "        return cls.__name_of_school"
   ]
  },
  {
   "cell_type": "code",
   "execution_count": 59,
   "id": "57a10a68",
   "metadata": {},
   "outputs": [],
   "source": [
    "student = School()"
   ]
  },
  {
   "cell_type": "code",
   "execution_count": 60,
   "id": "cd1421e3",
   "metadata": {},
   "outputs": [
    {
     "ename": "NameError",
     "evalue": "name 'self' is not defined",
     "output_type": "error",
     "traceback": [
      "\u001b[1;31m---------------------------------------------------------------------------\u001b[0m",
      "\u001b[1;31mNameError\u001b[0m                                 Traceback (most recent call last)",
      "\u001b[1;32mC:\\Users\\KUNALC~1\\AppData\\Local\\Temp/ipykernel_20584/473196504.py\u001b[0m in \u001b[0;36m<module>\u001b[1;34m\u001b[0m\n\u001b[0;32m      1\u001b[0m \u001b[0mstudent\u001b[0m\u001b[1;33m.\u001b[0m\u001b[0mset_name\u001b[0m\u001b[1;33m(\u001b[0m\u001b[1;34m\"Abhishek\"\u001b[0m\u001b[1;33m)\u001b[0m\u001b[1;33m\u001b[0m\u001b[1;33m\u001b[0m\u001b[0m\n\u001b[0;32m      2\u001b[0m \u001b[0mstudent\u001b[0m\u001b[1;33m.\u001b[0m\u001b[0mset_phn\u001b[0m\u001b[1;33m(\u001b[0m\u001b[1;36m97878455987\u001b[0m\u001b[1;33m)\u001b[0m\u001b[1;33m\u001b[0m\u001b[1;33m\u001b[0m\u001b[0m\n\u001b[1;32m----> 3\u001b[1;33m \u001b[0mstudent\u001b[0m\u001b[1;33m.\u001b[0m\u001b[0mset_password\u001b[0m\u001b[1;33m(\u001b[0m\u001b[1;34m\"Ed125\"\u001b[0m\u001b[1;33m)\u001b[0m\u001b[1;33m\u001b[0m\u001b[1;33m\u001b[0m\u001b[0m\n\u001b[0m",
      "\u001b[1;32mC:\\Users\\KUNALC~1\\AppData\\Local\\Temp/ipykernel_20584/1946704787.py\u001b[0m in \u001b[0;36mset_password\u001b[1;34m(self, num)\u001b[0m\n\u001b[0;32m     18\u001b[0m         \u001b[0mself\u001b[0m\u001b[1;33m.\u001b[0m\u001b[0m__addr\u001b[0m \u001b[1;33m=\u001b[0m \u001b[0maddr\u001b[0m\u001b[1;33m\u001b[0m\u001b[1;33m\u001b[0m\u001b[0m\n\u001b[0;32m     19\u001b[0m     \u001b[1;32mdef\u001b[0m \u001b[0mset_password\u001b[0m\u001b[1;33m(\u001b[0m\u001b[0mself\u001b[0m\u001b[1;33m,\u001b[0m \u001b[0mnum\u001b[0m\u001b[1;33m)\u001b[0m\u001b[1;33m:\u001b[0m\u001b[1;33m\u001b[0m\u001b[1;33m\u001b[0m\u001b[0m\n\u001b[1;32m---> 20\u001b[1;33m         \u001b[0mself\u001b[0m\u001b[1;33m.\u001b[0m\u001b[0m__password\u001b[0m \u001b[1;33m=\u001b[0m \u001b[0mSchool\u001b[0m\u001b[1;33m.\u001b[0m\u001b[0mcreate_password\u001b[0m\u001b[1;33m(\u001b[0m\u001b[0mself\u001b[0m\u001b[1;33m.\u001b[0m\u001b[0m__name\u001b[0m\u001b[1;33m,\u001b[0m\u001b[0mself\u001b[0m\u001b[1;33m.\u001b[0m\u001b[0m__phn\u001b[0m\u001b[1;33m)\u001b[0m \u001b[1;33m+\u001b[0m \u001b[0mstr\u001b[0m\u001b[1;33m(\u001b[0m\u001b[0mnum\u001b[0m\u001b[1;33m)\u001b[0m\u001b[1;33m\u001b[0m\u001b[1;33m\u001b[0m\u001b[0m\n\u001b[0m\u001b[0;32m     21\u001b[0m \u001b[1;33m\u001b[0m\u001b[0m\n\u001b[0;32m     22\u001b[0m     \u001b[1;33m@\u001b[0m\u001b[0mstaticmethod\u001b[0m\u001b[1;33m\u001b[0m\u001b[1;33m\u001b[0m\u001b[0m\n",
      "\u001b[1;32mC:\\Users\\KUNALC~1\\AppData\\Local\\Temp/ipykernel_20584/1946704787.py\u001b[0m in \u001b[0;36mcreate_password\u001b[1;34m(name, phn)\u001b[0m\n\u001b[0;32m     22\u001b[0m     \u001b[1;33m@\u001b[0m\u001b[0mstaticmethod\u001b[0m\u001b[1;33m\u001b[0m\u001b[1;33m\u001b[0m\u001b[0m\n\u001b[0;32m     23\u001b[0m     \u001b[1;32mdef\u001b[0m \u001b[0mcreate_password\u001b[0m\u001b[1;33m(\u001b[0m\u001b[0mname\u001b[0m\u001b[1;33m,\u001b[0m \u001b[0mphn\u001b[0m\u001b[1;33m)\u001b[0m\u001b[1;33m:\u001b[0m\u001b[1;33m\u001b[0m\u001b[1;33m\u001b[0m\u001b[0m\n\u001b[1;32m---> 24\u001b[1;33m         \u001b[1;32mreturn\u001b[0m \u001b[0mself\u001b[0m\u001b[1;33m.\u001b[0m\u001b[0mname\u001b[0m \u001b[1;33m+\u001b[0m \u001b[0mstr\u001b[0m\u001b[1;33m(\u001b[0m\u001b[0mphn\u001b[0m\u001b[1;33m)\u001b[0m\u001b[1;33m[\u001b[0m\u001b[1;33m:\u001b[0m\u001b[1;36m3\u001b[0m\u001b[1;33m]\u001b[0m\u001b[1;33m\u001b[0m\u001b[1;33m\u001b[0m\u001b[0m\n\u001b[0m\u001b[0;32m     25\u001b[0m     \u001b[1;31m# Getters\u001b[0m\u001b[1;33m\u001b[0m\u001b[1;33m\u001b[0m\u001b[0m\n\u001b[0;32m     26\u001b[0m     \u001b[1;32mdef\u001b[0m \u001b[0mget_name\u001b[0m\u001b[1;33m(\u001b[0m\u001b[0mself\u001b[0m\u001b[1;33m)\u001b[0m\u001b[1;33m:\u001b[0m\u001b[1;33m\u001b[0m\u001b[1;33m\u001b[0m\u001b[0m\n",
      "\u001b[1;31mNameError\u001b[0m: name 'self' is not defined"
     ]
    }
   ],
   "source": [
    "student.set_name(\"Abhishek\")\n",
    "student.set_phn(97878455987)\n",
    "student.set_password(\"Ed125\")"
   ]
  },
  {
   "cell_type": "code",
   "execution_count": 57,
   "id": "9904316b",
   "metadata": {},
   "outputs": [
    {
     "data": {
      "text/plain": [
       "{'_School__name': 'Abhishek',\n",
       " '_School__phn': 97878455987,\n",
       " '_School__addr': '',\n",
       " '_School__password': 'Abhishek978Ed125'}"
      ]
     },
     "execution_count": 57,
     "metadata": {},
     "output_type": "execute_result"
    }
   ],
   "source": [
    "student.__dict__"
   ]
  },
  {
   "cell_type": "code",
   "execution_count": null,
   "id": "ab446d8c",
   "metadata": {},
   "outputs": [],
   "source": [
    "Dender Method and Inheritence"
   ]
  }
 ],
 "metadata": {
  "kernelspec": {
   "display_name": "Python 3 (ipykernel)",
   "language": "python",
   "name": "python3"
  },
  "language_info": {
   "codemirror_mode": {
    "name": "ipython",
    "version": 3
   },
   "file_extension": ".py",
   "mimetype": "text/x-python",
   "name": "python",
   "nbconvert_exporter": "python",
   "pygments_lexer": "ipython3",
   "version": "3.9.7"
  }
 },
 "nbformat": 4,
 "nbformat_minor": 5
}
