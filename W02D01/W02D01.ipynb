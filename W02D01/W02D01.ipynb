{
 "cells": [
  {
   "cell_type": "code",
   "execution_count": null,
   "id": "852cf678",
   "metadata": {},
   "outputs": [],
   "source": [
    "Revise:\n",
    "    Operators:\n",
    "        immutability:\n",
    "            non Editable\n",
    "            Once created can't be edited\n",
    "            tuple\n",
    "            str\n",
    "            int\n",
    "            bool\n",
    "            None\n",
    "            complex\n",
    "            float\n",
    "        - Airthmatic Operator\n",
    "        - logical Operator\n",
    "        - Identity Operator\n",
    "        - Assignment Operator\n",
    "        - Comparision Operator or Relationation Operator\n",
    "        - Membership Operator\n",
    "     Mutable Data types:\n",
    "        list\n",
    "        dict\n",
    "        set       "
   ]
  },
  {
   "cell_type": "code",
   "execution_count": null,
   "id": "da4bacae",
   "metadata": {},
   "outputs": [],
   "source": [
    "and or not"
   ]
  },
  {
   "cell_type": "code",
   "execution_count": 1,
   "id": "53716654",
   "metadata": {},
   "outputs": [
    {
     "data": {
      "text/plain": [
       "0"
      ]
     },
     "execution_count": 1,
     "metadata": {},
     "output_type": "execute_result"
    }
   ],
   "source": [
    "0 and 1 #=> 0"
   ]
  },
  {
   "cell_type": "code",
   "execution_count": 2,
   "id": "43e5e569",
   "metadata": {},
   "outputs": [
    {
     "data": {
      "text/plain": [
       "True"
      ]
     },
     "execution_count": 2,
     "metadata": {},
     "output_type": "execute_result"
    }
   ],
   "source": [
    "True and True #=> True"
   ]
  },
  {
   "cell_type": "code",
   "execution_count": 3,
   "id": "8ed96bbe",
   "metadata": {},
   "outputs": [
    {
     "data": {
      "text/plain": [
       "False"
      ]
     },
     "execution_count": 3,
     "metadata": {},
     "output_type": "execute_result"
    }
   ],
   "source": [
    "True and True and False"
   ]
  },
  {
   "cell_type": "code",
   "execution_count": 4,
   "id": "3dde0a12",
   "metadata": {},
   "outputs": [
    {
     "data": {
      "text/plain": [
       "0"
      ]
     },
     "execution_count": 4,
     "metadata": {},
     "output_type": "execute_result"
    }
   ],
   "source": [
    "1 and 1 and 0"
   ]
  },
  {
   "cell_type": "code",
   "execution_count": 5,
   "id": "98a0b343",
   "metadata": {},
   "outputs": [
    {
     "data": {
      "text/plain": [
       "1"
      ]
     },
     "execution_count": 5,
     "metadata": {},
     "output_type": "execute_result"
    }
   ],
   "source": [
    "1 and 1 and 1"
   ]
  },
  {
   "cell_type": "code",
   "execution_count": null,
   "id": "7dac4adc",
   "metadata": {},
   "outputs": [],
   "source": [
    "1 and 2 and 5\n",
    "1 and 0 and 2\n",
    "0 and 1 and 5\n",
    "5 and 2 and 16\n",
    "CW: 20:27"
   ]
  },
  {
   "cell_type": "code",
   "execution_count": 6,
   "id": "3e07b183",
   "metadata": {},
   "outputs": [
    {
     "data": {
      "text/plain": [
       "5"
      ]
     },
     "execution_count": 6,
     "metadata": {},
     "output_type": "execute_result"
    }
   ],
   "source": [
    "1 and 2 and 5"
   ]
  },
  {
   "cell_type": "code",
   "execution_count": 7,
   "id": "bdea1918",
   "metadata": {},
   "outputs": [
    {
     "data": {
      "text/plain": [
       "16"
      ]
     },
     "execution_count": 7,
     "metadata": {},
     "output_type": "execute_result"
    }
   ],
   "source": [
    "5 and 2 and 16"
   ]
  },
  {
   "cell_type": "code",
   "execution_count": 8,
   "id": "ec4e9f4f",
   "metadata": {},
   "outputs": [
    {
     "data": {
      "text/plain": [
       "-2"
      ]
     },
     "execution_count": 8,
     "metadata": {},
     "output_type": "execute_result"
    }
   ],
   "source": [
    "1 and 2 and -2"
   ]
  },
  {
   "cell_type": "markdown",
   "id": "2146ab35",
   "metadata": {},
   "source": [
    "## `Conditional Statements`"
   ]
  },
  {
   "cell_type": "code",
   "execution_count": null,
   "id": "53a441a5",
   "metadata": {},
   "outputs": [],
   "source": [
    "1) if statement"
   ]
  },
  {
   "cell_type": "code",
   "execution_count": 9,
   "id": "2465471b",
   "metadata": {},
   "outputs": [],
   "source": [
    "fruit_store = [\"mango\",\"orange\",\"apple\",\"strwaberry\"]\n",
    "# basket = []"
   ]
  },
  {
   "cell_type": "code",
   "execution_count": 17,
   "id": "d35b665e",
   "metadata": {},
   "outputs": [
    {
     "name": "stdout",
     "output_type": "stream",
     "text": [
      "e\n"
     ]
    }
   ],
   "source": [
    "x = fruit_store[2]\n",
    "print(x[4])"
   ]
  },
  {
   "cell_type": "code",
   "execution_count": 15,
   "id": "f8df2382",
   "metadata": {},
   "outputs": [
    {
     "name": "stdout",
     "output_type": "stream",
     "text": [
      "lets not take this fruit\n"
     ]
    }
   ],
   "source": [
    "if x[0] == \"a\":\n",
    "    print(\"lets not take this fruit\")"
   ]
  },
  {
   "cell_type": "code",
   "execution_count": null,
   "id": "e2fbdebd",
   "metadata": {},
   "outputs": [],
   "source": [
    "2) if and else statement"
   ]
  },
  {
   "cell_type": "code",
   "execution_count": 19,
   "id": "2f298d9b",
   "metadata": {},
   "outputs": [
    {
     "name": "stdout",
     "output_type": "stream",
     "text": [
      "Lets go out and have funn!\n"
     ]
    }
   ],
   "source": [
    "raining = False\n",
    "if raining == True:\n",
    "    print(\"Eat Pakora\")#1 indentation 4 spapces\n",
    "else:\n",
    "    print(\"Lets go out and have funn!\")"
   ]
  },
  {
   "cell_type": "code",
   "execution_count": null,
   "id": "769ebb0b",
   "metadata": {},
   "outputs": [],
   "source": [
    "if expression:#<-- colon\n",
    "    #Statement\n",
    "else:#<--colon\n",
    "    #statement"
   ]
  },
  {
   "cell_type": "code",
   "execution_count": null,
   "id": "97045f97",
   "metadata": {},
   "outputs": [],
   "source": [
    "if condition:\n",
    "    #this block will be executed if condition is true\n",
    "else:\n",
    "    #this block executes if the condition is false"
   ]
  },
  {
   "cell_type": "code",
   "execution_count": 23,
   "id": "3c4fd3b5",
   "metadata": {},
   "outputs": [
    {
     "name": "stdout",
     "output_type": "stream",
     "text": [
      "Positive or Zero\n"
     ]
    }
   ],
   "source": [
    "number = 1\n",
    "if number>=0:\n",
    "    print(\"Positive or Zero\")\n",
    "else:\n",
    "    print(\"Negative\")"
   ]
  },
  {
   "cell_type": "code",
   "execution_count": 22,
   "id": "06a2cd12",
   "metadata": {},
   "outputs": [
    {
     "name": "stdout",
     "output_type": "stream",
     "text": [
      "Better Luck Next time\n"
     ]
    }
   ],
   "source": [
    "fruit_store = [\"mango\",\"orange\",\"apple\",\"strwaberry\"]\n",
    "if \"Dragon Fruit\" in fruit_store:\n",
    "    print(\"Hurray!! I got the fruit\")\n",
    "else:\n",
    "    print(\"Better Luck Next time\")"
   ]
  },
  {
   "cell_type": "code",
   "execution_count": null,
   "id": "4929f110",
   "metadata": {},
   "outputs": [],
   "source": [
    "Lets meet tommorow then if my voic is not clear\n",
    "\n",
    "write tom to meet tommorow"
   ]
  },
  {
   "cell_type": "code",
   "execution_count": null,
   "id": "97ec9b42",
   "metadata": {},
   "outputs": [],
   "source": []
  }
 ],
 "metadata": {
  "kernelspec": {
   "display_name": "Python 3 (ipykernel)",
   "language": "python",
   "name": "python3"
  },
  "language_info": {
   "codemirror_mode": {
    "name": "ipython",
    "version": 3
   },
   "file_extension": ".py",
   "mimetype": "text/x-python",
   "name": "python",
   "nbconvert_exporter": "python",
   "pygments_lexer": "ipython3",
   "version": "3.10.1"
  }
 },
 "nbformat": 4,
 "nbformat_minor": 5
}
