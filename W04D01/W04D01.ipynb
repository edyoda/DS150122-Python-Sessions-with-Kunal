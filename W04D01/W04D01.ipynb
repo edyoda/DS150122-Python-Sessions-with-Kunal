{
 "cells": [
  {
   "cell_type": "code",
   "execution_count": null,
   "id": "685908b7",
   "metadata": {},
   "outputs": [],
   "source": [
    "ord() --> return ASCII value for the passed character --> integer\n",
    "chr() --> it tales ASCII value and gives corresponding charater --> string\n",
    "dict1 = {}\n",
    "dict2 = dict()\n",
    "set1 = set()\n",
    "dictionry:\n",
    "    mutable\n",
    "    its keys are unique and immutable\n",
    "    indexing is not possible\n",
    "    unordered\n",
    "d = {None:[1,2,8],():\"Snegha\",\"string\":\"Tejashri\"}\n"
   ]
  },
  {
   "cell_type": "code",
   "execution_count": 3,
   "id": "8c810e4c",
   "metadata": {},
   "outputs": [
    {
     "name": "stdout",
     "output_type": "stream",
     "text": [
      "<class 'str'>\n"
     ]
    }
   ],
   "source": [
    "print(type(chr(97)))"
   ]
  },
  {
   "cell_type": "code",
   "execution_count": 4,
   "id": "8bf16b68",
   "metadata": {},
   "outputs": [],
   "source": [
    "d = {None:[1,2,8],():\"Snegha\",\"string\":\"Tejashri\"}"
   ]
  },
  {
   "cell_type": "code",
   "execution_count": 5,
   "id": "73f59aa7",
   "metadata": {},
   "outputs": [
    {
     "name": "stdout",
     "output_type": "stream",
     "text": [
      "{None: [1, 2, 8], (): 'Snegha', 'string': 'Tejashri'}\n"
     ]
    }
   ],
   "source": [
    "print(d)"
   ]
  },
  {
   "cell_type": "code",
   "execution_count": 8,
   "id": "48ee9a99",
   "metadata": {},
   "outputs": [
    {
     "name": "stdout",
     "output_type": "stream",
     "text": [
      "None:[1, 2, 8]\n",
      "keys:Snegha\n",
      "string:Tejashri\n"
     ]
    }
   ],
   "source": [
    "d = {None:[1,2,8],(\"keys\"):\"Snegha\",\"string\":\"Tejashri\"}\n",
    "for i in d.keys():\n",
    "    print(i,d[i],sep=\":\")"
   ]
  },
  {
   "cell_type": "code",
   "execution_count": 9,
   "id": "3a5420af",
   "metadata": {},
   "outputs": [
    {
     "name": "stdout",
     "output_type": "stream",
     "text": [
      "None:[1, 2, 8]\n",
      "keys:Snegha\n",
      "string:Tejashri\n"
     ]
    }
   ],
   "source": [
    "d = {None:[1,2,8],(\"keys\"):\"Snegha\",\"string\":\"Tejashri\"}\n",
    "for i in d.keys():\n",
    "    print(i,d.get(i),sep=\":\")"
   ]
  },
  {
   "cell_type": "code",
   "execution_count": 12,
   "id": "4ce24014",
   "metadata": {},
   "outputs": [
    {
     "data": {
      "text/plain": [
       "[[1, 2, 8], 'Snegha', 'Tejashri']"
      ]
     },
     "execution_count": 12,
     "metadata": {},
     "output_type": "execute_result"
    }
   ],
   "source": [
    "list(d.values())"
   ]
  },
  {
   "cell_type": "code",
   "execution_count": null,
   "id": "f3725e29",
   "metadata": {},
   "outputs": [],
   "source": [
    "d.key(),d.values(),d.items()"
   ]
  },
  {
   "cell_type": "code",
   "execution_count": 13,
   "id": "094e9fe7",
   "metadata": {},
   "outputs": [
    {
     "name": "stdout",
     "output_type": "stream",
     "text": [
      "dict_items([(None, [1, 2, 8]), ('keys', 'Snegha'), ('string', 'Tejashri')])\n"
     ]
    }
   ],
   "source": [
    "print(d.items())"
   ]
  },
  {
   "cell_type": "code",
   "execution_count": 14,
   "id": "f067199e",
   "metadata": {
    "collapsed": true
   },
   "outputs": [
    {
     "name": "stdout",
     "output_type": "stream",
     "text": [
      "Help on class dict in module builtins:\n",
      "\n",
      "class dict(object)\n",
      " |  dict() -> new empty dictionary\n",
      " |  dict(mapping) -> new dictionary initialized from a mapping object's\n",
      " |      (key, value) pairs\n",
      " |  dict(iterable) -> new dictionary initialized as if via:\n",
      " |      d = {}\n",
      " |      for k, v in iterable:\n",
      " |          d[k] = v\n",
      " |  dict(**kwargs) -> new dictionary initialized with the name=value pairs\n",
      " |      in the keyword argument list.  For example:  dict(one=1, two=2)\n",
      " |  \n",
      " |  Built-in subclasses:\n",
      " |      StgDict\n",
      " |  \n",
      " |  Methods defined here:\n",
      " |  \n",
      " |  __contains__(self, key, /)\n",
      " |      True if the dictionary has the specified key, else False.\n",
      " |  \n",
      " |  __delitem__(self, key, /)\n",
      " |      Delete self[key].\n",
      " |  \n",
      " |  __eq__(self, value, /)\n",
      " |      Return self==value.\n",
      " |  \n",
      " |  __ge__(self, value, /)\n",
      " |      Return self>=value.\n",
      " |  \n",
      " |  __getattribute__(self, name, /)\n",
      " |      Return getattr(self, name).\n",
      " |  \n",
      " |  __getitem__(...)\n",
      " |      x.__getitem__(y) <==> x[y]\n",
      " |  \n",
      " |  __gt__(self, value, /)\n",
      " |      Return self>value.\n",
      " |  \n",
      " |  __init__(self, /, *args, **kwargs)\n",
      " |      Initialize self.  See help(type(self)) for accurate signature.\n",
      " |  \n",
      " |  __ior__(self, value, /)\n",
      " |      Return self|=value.\n",
      " |  \n",
      " |  __iter__(self, /)\n",
      " |      Implement iter(self).\n",
      " |  \n",
      " |  __le__(self, value, /)\n",
      " |      Return self<=value.\n",
      " |  \n",
      " |  __len__(self, /)\n",
      " |      Return len(self).\n",
      " |  \n",
      " |  __lt__(self, value, /)\n",
      " |      Return self<value.\n",
      " |  \n",
      " |  __ne__(self, value, /)\n",
      " |      Return self!=value.\n",
      " |  \n",
      " |  __or__(self, value, /)\n",
      " |      Return self|value.\n",
      " |  \n",
      " |  __repr__(self, /)\n",
      " |      Return repr(self).\n",
      " |  \n",
      " |  __reversed__(self, /)\n",
      " |      Return a reverse iterator over the dict keys.\n",
      " |  \n",
      " |  __ror__(self, value, /)\n",
      " |      Return value|self.\n",
      " |  \n",
      " |  __setitem__(self, key, value, /)\n",
      " |      Set self[key] to value.\n",
      " |  \n",
      " |  __sizeof__(...)\n",
      " |      D.__sizeof__() -> size of D in memory, in bytes\n",
      " |  \n",
      " |  clear(...)\n",
      " |      D.clear() -> None.  Remove all items from D.\n",
      " |  \n",
      " |  copy(...)\n",
      " |      D.copy() -> a shallow copy of D\n",
      " |  \n",
      " |  get(self, key, default=None, /)\n",
      " |      Return the value for key if key is in the dictionary, else default.\n",
      " |  \n",
      " |  items(...)\n",
      " |      D.items() -> a set-like object providing a view on D's items\n",
      " |  \n",
      " |  keys(...)\n",
      " |      D.keys() -> a set-like object providing a view on D's keys\n",
      " |  \n",
      " |  pop(...)\n",
      " |      D.pop(k[,d]) -> v, remove specified key and return the corresponding value.\n",
      " |      \n",
      " |      If the key is not found, return the default if given; otherwise,\n",
      " |      raise a KeyError.\n",
      " |  \n",
      " |  popitem(self, /)\n",
      " |      Remove and return a (key, value) pair as a 2-tuple.\n",
      " |      \n",
      " |      Pairs are returned in LIFO (last-in, first-out) order.\n",
      " |      Raises KeyError if the dict is empty.\n",
      " |  \n",
      " |  setdefault(self, key, default=None, /)\n",
      " |      Insert key with a value of default if key is not in the dictionary.\n",
      " |      \n",
      " |      Return the value for key if key is in the dictionary, else default.\n",
      " |  \n",
      " |  update(...)\n",
      " |      D.update([E, ]**F) -> None.  Update D from dict/iterable E and F.\n",
      " |      If E is present and has a .keys() method, then does:  for k in E: D[k] = E[k]\n",
      " |      If E is present and lacks a .keys() method, then does:  for k, v in E: D[k] = v\n",
      " |      In either case, this is followed by: for k in F:  D[k] = F[k]\n",
      " |  \n",
      " |  values(...)\n",
      " |      D.values() -> an object providing a view on D's values\n",
      " |  \n",
      " |  ----------------------------------------------------------------------\n",
      " |  Class methods defined here:\n",
      " |  \n",
      " |  __class_getitem__(...) from builtins.type\n",
      " |      See PEP 585\n",
      " |  \n",
      " |  fromkeys(iterable, value=None, /) from builtins.type\n",
      " |      Create a new dictionary with keys from iterable and values set to value.\n",
      " |  \n",
      " |  ----------------------------------------------------------------------\n",
      " |  Static methods defined here:\n",
      " |  \n",
      " |  __new__(*args, **kwargs) from builtins.type\n",
      " |      Create and return a new object.  See help(type) for accurate signature.\n",
      " |  \n",
      " |  ----------------------------------------------------------------------\n",
      " |  Data and other attributes defined here:\n",
      " |  \n",
      " |  __hash__ = None\n",
      "\n"
     ]
    }
   ],
   "source": [
    "help(dict)"
   ]
  },
  {
   "cell_type": "markdown",
   "id": "9f693e24",
   "metadata": {},
   "source": [
    "## How to create a dictionary"
   ]
  },
  {
   "cell_type": "code",
   "execution_count": null,
   "id": "3a6276b7",
   "metadata": {},
   "outputs": [],
   "source": [
    "{'A':65,...,'Z':90}"
   ]
  },
  {
   "cell_type": "code",
   "execution_count": 17,
   "id": "5394e7e6",
   "metadata": {},
   "outputs": [],
   "source": [
    "d = {}\n",
    "d[\"A\"] = \"Tejashri\""
   ]
  },
  {
   "cell_type": "code",
   "execution_count": 18,
   "id": "91a3e2ec",
   "metadata": {},
   "outputs": [
    {
     "name": "stdout",
     "output_type": "stream",
     "text": [
      "{'A': 'Tejashri'}\n"
     ]
    }
   ],
   "source": [
    "print(d)"
   ]
  },
  {
   "cell_type": "code",
   "execution_count": 19,
   "id": "a9942866",
   "metadata": {},
   "outputs": [
    {
     "data": {
      "text/plain": [
       "'Tejashri'"
      ]
     },
     "execution_count": 19,
     "metadata": {},
     "output_type": "execute_result"
    }
   ],
   "source": [
    "d.pop(\"A\")"
   ]
  },
  {
   "cell_type": "code",
   "execution_count": 20,
   "id": "df1acef3",
   "metadata": {},
   "outputs": [
    {
     "name": "stdout",
     "output_type": "stream",
     "text": [
      "{}\n"
     ]
    }
   ],
   "source": [
    "print(d)"
   ]
  },
  {
   "cell_type": "markdown",
   "id": "cf821a94",
   "metadata": {},
   "source": [
    "### update()"
   ]
  },
  {
   "cell_type": "code",
   "execution_count": 21,
   "id": "7dc98f16",
   "metadata": {},
   "outputs": [],
   "source": [
    "d = {\"Anjan\":80,\"Sandeep\":75}\n",
    "d1 = {\"Sandeep\":85}\n",
    "d.update(d1)"
   ]
  },
  {
   "cell_type": "code",
   "execution_count": 22,
   "id": "359cd5be",
   "metadata": {},
   "outputs": [
    {
     "name": "stdout",
     "output_type": "stream",
     "text": [
      "{'Anjan': 80, 'Sandeep': 85}\n"
     ]
    }
   ],
   "source": [
    "print(d)"
   ]
  },
  {
   "cell_type": "code",
   "execution_count": 23,
   "id": "838dee20",
   "metadata": {},
   "outputs": [],
   "source": [
    "d2 = {\"Tejashri\":90}\n",
    "d.update(d2)"
   ]
  },
  {
   "cell_type": "code",
   "execution_count": 24,
   "id": "2670d3ea",
   "metadata": {},
   "outputs": [
    {
     "name": "stdout",
     "output_type": "stream",
     "text": [
      "{'Anjan': 80, 'Sandeep': 85, 'Tejashri': 90}\n"
     ]
    }
   ],
   "source": [
    "print(d)"
   ]
  },
  {
   "cell_type": "code",
   "execution_count": 25,
   "id": "a50c933b",
   "metadata": {},
   "outputs": [],
   "source": [
    "d.update({\"Anjan\":89})"
   ]
  },
  {
   "cell_type": "code",
   "execution_count": 26,
   "id": "2ead3fad",
   "metadata": {},
   "outputs": [
    {
     "name": "stdout",
     "output_type": "stream",
     "text": [
      "{'Anjan': 89, 'Sandeep': 85, 'Tejashri': 90}\n"
     ]
    }
   ],
   "source": [
    "print(d)"
   ]
  },
  {
   "cell_type": "code",
   "execution_count": 27,
   "id": "a3eb6847",
   "metadata": {},
   "outputs": [],
   "source": [
    "d.update(utkarsh = 87)"
   ]
  },
  {
   "cell_type": "code",
   "execution_count": 28,
   "id": "74ed9fa0",
   "metadata": {},
   "outputs": [
    {
     "name": "stdout",
     "output_type": "stream",
     "text": [
      "{'Anjan': 89, 'Sandeep': 85, 'Tejashri': 90, 'utkarsh': 87}\n"
     ]
    }
   ],
   "source": [
    "print(d)"
   ]
  },
  {
   "cell_type": "code",
   "execution_count": null,
   "id": "ce64e15a",
   "metadata": {},
   "outputs": [],
   "source": [
    "Q1) {'A':65,...,'Z':90}\n",
    "key: we have character\n",
    "    values we have ASCII value for that character\n",
    "    range of character is a-z\n",
    "    Q 10 mins 20:24\n",
    "        \n",
    "Q2) 1-10\n",
    "    {'1':1,'2':4...,'10':100}\n",
    "    keys =number in string format\n",
    "    value = square of that number\n",
    "    Q 5 mins 20:30\n",
    "        \n",
    "Q3) you are given a string count the number of occurence of each letters:\n",
    "    asdddfgtttgfsssdeewwqqaswfd\n",
    "    Q 10 mins 20:40\n",
    "        **conditional statement"
   ]
  },
  {
   "cell_type": "code",
   "execution_count": 29,
   "id": "7c86e95b",
   "metadata": {},
   "outputs": [],
   "source": [
    "d = {}\n",
    "for char in range(ord('a'),ord('z')+1):\n",
    "    d[chr(char)] = char"
   ]
  },
  {
   "cell_type": "code",
   "execution_count": 30,
   "id": "706ac84e",
   "metadata": {},
   "outputs": [
    {
     "name": "stdout",
     "output_type": "stream",
     "text": [
      "{'a': 97, 'b': 98, 'c': 99, 'd': 100, 'e': 101, 'f': 102, 'g': 103, 'h': 104, 'i': 105, 'j': 106, 'k': 107, 'l': 108, 'm': 109, 'n': 110, 'o': 111, 'p': 112, 'q': 113, 'r': 114, 's': 115, 't': 116, 'u': 117, 'v': 118, 'w': 119, 'x': 120, 'y': 121, 'z': 122}\n"
     ]
    }
   ],
   "source": [
    "print(d)"
   ]
  },
  {
   "cell_type": "code",
   "execution_count": null,
   "id": "f0e27c25",
   "metadata": {},
   "outputs": [],
   "source": [
    "Q2) 1-10\n",
    "    {'1':1,'2':4...,'10':100}\n",
    "    keys =number in string format\n",
    "    value = square of that number\n",
    "    Q 5 mins 20:30"
   ]
  },
  {
   "cell_type": "code",
   "execution_count": 31,
   "id": "df8e9701",
   "metadata": {},
   "outputs": [],
   "source": [
    "d={}\n",
    "for i in range(1,11):\n",
    "    d[str(i)]=i**2"
   ]
  },
  {
   "cell_type": "code",
   "execution_count": 32,
   "id": "b781a4c7",
   "metadata": {},
   "outputs": [
    {
     "name": "stdout",
     "output_type": "stream",
     "text": [
      "{'1': 1, '2': 4, '3': 9, '4': 16, '5': 25, '6': 36, '7': 49, '8': 64, '9': 81, '10': 100}\n"
     ]
    }
   ],
   "source": [
    "print(d)"
   ]
  },
  {
   "cell_type": "code",
   "execution_count": 38,
   "id": "d2304ee3",
   "metadata": {},
   "outputs": [
    {
     "name": "stdout",
     "output_type": "stream",
     "text": [
      "25\n"
     ]
    }
   ],
   "source": [
    "n = int(input())\n",
    "d={}\n",
    "for i in range(1,n+1):\n",
    "    d[str(i)]=i**2"
   ]
  },
  {
   "cell_type": "code",
   "execution_count": 39,
   "id": "84f90ec4",
   "metadata": {},
   "outputs": [
    {
     "name": "stdout",
     "output_type": "stream",
     "text": [
      "{'1': 1, '2': 4, '3': 9, '4': 16, '5': 25, '6': 36, '7': 49, '8': 64, '9': 81, '10': 100, '11': 121, '12': 144, '13': 169, '14': 196, '15': 225, '16': 256, '17': 289, '18': 324, '19': 361, '20': 400, '21': 441, '22': 484, '23': 529, '24': 576, '25': 625}\n"
     ]
    }
   ],
   "source": [
    "print(d)"
   ]
  },
  {
   "cell_type": "code",
   "execution_count": null,
   "id": "38b0dd38",
   "metadata": {},
   "outputs": [],
   "source": [
    "Q3) you are given a string count the number of occurence of each letters:\n",
    "    asdddfgtttgfsssdeewwqqaswfd\n",
    "    Q 10 mins 20:40\n",
    "        **conditional statement"
   ]
  },
  {
   "cell_type": "code",
   "execution_count": null,
   "id": "b0eadb5b",
   "metadata": {},
   "outputs": [],
   "source": [
    "s = \"asdddfgtttgfsssdeewwqqaswfd\"\n",
    "d = {\"a\":2,\"s\":5 ...}"
   ]
  },
  {
   "cell_type": "code",
   "execution_count": 40,
   "id": "11715ec2",
   "metadata": {},
   "outputs": [],
   "source": [
    "s = \"asdddfgtttgfsssdeewwqqaswfd\"\n",
    "d = {}\n",
    "for i in s:\n",
    "    if i not in d.keys():\n",
    "        d[i] = 1\n",
    "    else:\n",
    "        d[i]+=1"
   ]
  },
  {
   "cell_type": "code",
   "execution_count": 41,
   "id": "f657567b",
   "metadata": {},
   "outputs": [
    {
     "name": "stdout",
     "output_type": "stream",
     "text": [
      "{'a': 2, 's': 5, 'd': 5, 'f': 3, 'g': 2, 't': 3, 'e': 2, 'w': 3, 'q': 2}\n"
     ]
    }
   ],
   "source": [
    "print(d)"
   ]
  },
  {
   "cell_type": "code",
   "execution_count": 42,
   "id": "e9b60e4b",
   "metadata": {},
   "outputs": [
    {
     "name": "stdout",
     "output_type": "stream",
     "text": [
      "{'a': 2, 's': 5, 'd': 5, 'f': 3, 'g': 2, 't': 3, 'e': 2, 'w': 3, 'q': 2}\n",
      "{}\n"
     ]
    }
   ],
   "source": [
    "print(d)\n",
    "d.clear()\n",
    "print(d)"
   ]
  },
  {
   "cell_type": "markdown",
   "id": "d1a94665",
   "metadata": {},
   "source": [
    "### `setdefault()`"
   ]
  },
  {
   "cell_type": "code",
   "execution_count": 50,
   "id": "f077bbd9",
   "metadata": {},
   "outputs": [],
   "source": [
    "student1 = {\"name\":\"KumarNeeraj\"}\n",
    "student1.setdefault(\"rollno\")"
   ]
  },
  {
   "cell_type": "code",
   "execution_count": 51,
   "id": "3f94cbfb",
   "metadata": {},
   "outputs": [
    {
     "name": "stdout",
     "output_type": "stream",
     "text": [
      "{'name': 'KumarNeeraj', 'rollno': None}\n"
     ]
    }
   ],
   "source": [
    "print(student1)"
   ]
  },
  {
   "cell_type": "code",
   "execution_count": 52,
   "id": "36327f91",
   "metadata": {},
   "outputs": [],
   "source": [
    "student1['rollno']=25"
   ]
  },
  {
   "cell_type": "code",
   "execution_count": 53,
   "id": "0c4e9462",
   "metadata": {},
   "outputs": [
    {
     "name": "stdout",
     "output_type": "stream",
     "text": [
      "{'name': 'KumarNeeraj', 'rollno': 25}\n"
     ]
    }
   ],
   "source": [
    "print(student1)"
   ]
  },
  {
   "cell_type": "markdown",
   "id": "df235e5a",
   "metadata": {},
   "source": [
    "### `popitem()`"
   ]
  },
  {
   "cell_type": "code",
   "execution_count": 54,
   "id": "27684806",
   "metadata": {},
   "outputs": [
    {
     "data": {
      "text/plain": [
       "('rollno', 25)"
      ]
     },
     "execution_count": 54,
     "metadata": {},
     "output_type": "execute_result"
    }
   ],
   "source": [
    "student1.popitem()"
   ]
  },
  {
   "cell_type": "code",
   "execution_count": 55,
   "id": "8da04311",
   "metadata": {},
   "outputs": [
    {
     "name": "stdout",
     "output_type": "stream",
     "text": [
      "{'name': 'KumarNeeraj'}\n"
     ]
    }
   ],
   "source": [
    "print(student1)"
   ]
  },
  {
   "cell_type": "code",
   "execution_count": 56,
   "id": "92394d26",
   "metadata": {},
   "outputs": [
    {
     "data": {
      "text/plain": [
       "('name', 'KumarNeeraj')"
      ]
     },
     "execution_count": 56,
     "metadata": {},
     "output_type": "execute_result"
    }
   ],
   "source": [
    "student1.popitem()"
   ]
  },
  {
   "cell_type": "code",
   "execution_count": 57,
   "id": "492c3783",
   "metadata": {},
   "outputs": [
    {
     "name": "stdout",
     "output_type": "stream",
     "text": [
      "{}\n"
     ]
    }
   ],
   "source": [
    "print(student1)"
   ]
  },
  {
   "cell_type": "code",
   "execution_count": 58,
   "id": "ab328fbc",
   "metadata": {},
   "outputs": [
    {
     "ename": "KeyError",
     "evalue": "'popitem(): dictionary is empty'",
     "output_type": "error",
     "traceback": [
      "\u001b[1;31m---------------------------------------------------------------------------\u001b[0m",
      "\u001b[1;31mKeyError\u001b[0m                                  Traceback (most recent call last)",
      "Input \u001b[1;32mIn [58]\u001b[0m, in \u001b[0;36m<module>\u001b[1;34m\u001b[0m\n\u001b[1;32m----> 1\u001b[0m \u001b[43mstudent1\u001b[49m\u001b[38;5;241;43m.\u001b[39;49m\u001b[43mpopitem\u001b[49m\u001b[43m(\u001b[49m\u001b[43m)\u001b[49m\n",
      "\u001b[1;31mKeyError\u001b[0m: 'popitem(): dictionary is empty'"
     ]
    }
   ],
   "source": [
    "student1.popitem()"
   ]
  },
  {
   "cell_type": "code",
   "execution_count": null,
   "id": "7b86c101",
   "metadata": {},
   "outputs": [],
   "source": [
    "python 3.7\n"
   ]
  },
  {
   "cell_type": "code",
   "execution_count": 64,
   "id": "e3e98e9d",
   "metadata": {},
   "outputs": [
    {
     "name": "stdout",
     "output_type": "stream",
     "text": [
      "25\n"
     ]
    }
   ],
   "source": [
    "d = {'name': 'KumarNeeraj', 'rollno': 25}\n",
    "print(d['rollno'])"
   ]
  },
  {
   "cell_type": "code",
   "execution_count": 60,
   "id": "502cb30a",
   "metadata": {},
   "outputs": [
    {
     "data": {
      "text/plain": [
       "25"
      ]
     },
     "execution_count": 60,
     "metadata": {},
     "output_type": "execute_result"
    }
   ],
   "source": [
    "d.pop(\"rollno\")"
   ]
  },
  {
   "cell_type": "code",
   "execution_count": 61,
   "id": "7508fbf7",
   "metadata": {},
   "outputs": [
    {
     "name": "stdout",
     "output_type": "stream",
     "text": [
      "{'name': 'KumarNeeraj'}\n"
     ]
    }
   ],
   "source": [
    "print(d)"
   ]
  },
  {
   "cell_type": "code",
   "execution_count": 65,
   "id": "04c8bb49",
   "metadata": {},
   "outputs": [],
   "source": [
    "del d[\"rollno\"]"
   ]
  },
  {
   "cell_type": "code",
   "execution_count": 66,
   "id": "6eb83a4f",
   "metadata": {},
   "outputs": [
    {
     "name": "stdout",
     "output_type": "stream",
     "text": [
      "{'name': 'KumarNeeraj'}\n"
     ]
    }
   ],
   "source": [
    "print(d)"
   ]
  },
  {
   "cell_type": "markdown",
   "id": "e39b8183",
   "metadata": {},
   "source": [
    "## `Set`"
   ]
  },
  {
   "cell_type": "code",
   "execution_count": null,
   "id": "e6027174",
   "metadata": {},
   "outputs": [],
   "source": [
    "- Mutable\n",
    "- collection of keys\n",
    "- All the elements are unique inside the set\n",
    "- all elements are of type immutable\n",
    "- non indexing"
   ]
  },
  {
   "cell_type": "code",
   "execution_count": 67,
   "id": "c4dbb263",
   "metadata": {},
   "outputs": [
    {
     "name": "stdout",
     "output_type": "stream",
     "text": [
      "<class 'set'>\n"
     ]
    }
   ],
   "source": [
    "s = set()\n",
    "print(type(s))"
   ]
  },
  {
   "cell_type": "code",
   "execution_count": 71,
   "id": "9d4d2a5c",
   "metadata": {},
   "outputs": [],
   "source": [
    "s = {1,2,1,3,4,5,5,5,8}"
   ]
  },
  {
   "cell_type": "code",
   "execution_count": 69,
   "id": "5bee7a7d",
   "metadata": {},
   "outputs": [
    {
     "name": "stdout",
     "output_type": "stream",
     "text": [
      "{1, 2, 3, 4, 5, 8}\n"
     ]
    }
   ],
   "source": [
    "print(s)"
   ]
  },
  {
   "cell_type": "code",
   "execution_count": 70,
   "id": "ac74eb38",
   "metadata": {},
   "outputs": [
    {
     "ename": "TypeError",
     "evalue": "unhashable type: 'list'",
     "output_type": "error",
     "traceback": [
      "\u001b[1;31m---------------------------------------------------------------------------\u001b[0m",
      "\u001b[1;31mTypeError\u001b[0m                                 Traceback (most recent call last)",
      "Input \u001b[1;32mIn [70]\u001b[0m, in \u001b[0;36m<module>\u001b[1;34m\u001b[0m\n\u001b[1;32m----> 1\u001b[0m s \u001b[38;5;241m=\u001b[39m {[\u001b[38;5;241m1\u001b[39m,\u001b[38;5;241m2\u001b[39m],\u001b[38;5;241m5\u001b[39m}\n",
      "\u001b[1;31mTypeError\u001b[0m: unhashable type: 'list'"
     ]
    }
   ],
   "source": [
    "s = {[1,2],5}"
   ]
  },
  {
   "cell_type": "code",
   "execution_count": 72,
   "id": "1afb45f8",
   "metadata": {},
   "outputs": [
    {
     "ename": "TypeError",
     "evalue": "'set' object is not subscriptable",
     "output_type": "error",
     "traceback": [
      "\u001b[1;31m---------------------------------------------------------------------------\u001b[0m",
      "\u001b[1;31mTypeError\u001b[0m                                 Traceback (most recent call last)",
      "Input \u001b[1;32mIn [72]\u001b[0m, in \u001b[0;36m<module>\u001b[1;34m\u001b[0m\n\u001b[1;32m----> 1\u001b[0m \u001b[43ms\u001b[49m\u001b[43m[\u001b[49m\u001b[38;5;241;43m1\u001b[39;49m\u001b[43m]\u001b[49m\n",
      "\u001b[1;31mTypeError\u001b[0m: 'set' object is not subscriptable"
     ]
    }
   ],
   "source": [
    "s[1]"
   ]
  },
  {
   "cell_type": "code",
   "execution_count": 73,
   "id": "eefe59df",
   "metadata": {
    "scrolled": true
   },
   "outputs": [
    {
     "name": "stdout",
     "output_type": "stream",
     "text": [
      "Help on class set in module builtins:\n",
      "\n",
      "class set(object)\n",
      " |  set() -> new empty set object\n",
      " |  set(iterable) -> new set object\n",
      " |  \n",
      " |  Build an unordered collection of unique elements.\n",
      " |  \n",
      " |  Methods defined here:\n",
      " |  \n",
      " |  __and__(self, value, /)\n",
      " |      Return self&value.\n",
      " |  \n",
      " |  __contains__(...)\n",
      " |      x.__contains__(y) <==> y in x.\n",
      " |  \n",
      " |  __eq__(self, value, /)\n",
      " |      Return self==value.\n",
      " |  \n",
      " |  __ge__(self, value, /)\n",
      " |      Return self>=value.\n",
      " |  \n",
      " |  __getattribute__(self, name, /)\n",
      " |      Return getattr(self, name).\n",
      " |  \n",
      " |  __gt__(self, value, /)\n",
      " |      Return self>value.\n",
      " |  \n",
      " |  __iand__(self, value, /)\n",
      " |      Return self&=value.\n",
      " |  \n",
      " |  __init__(self, /, *args, **kwargs)\n",
      " |      Initialize self.  See help(type(self)) for accurate signature.\n",
      " |  \n",
      " |  __ior__(self, value, /)\n",
      " |      Return self|=value.\n",
      " |  \n",
      " |  __isub__(self, value, /)\n",
      " |      Return self-=value.\n",
      " |  \n",
      " |  __iter__(self, /)\n",
      " |      Implement iter(self).\n",
      " |  \n",
      " |  __ixor__(self, value, /)\n",
      " |      Return self^=value.\n",
      " |  \n",
      " |  __le__(self, value, /)\n",
      " |      Return self<=value.\n",
      " |  \n",
      " |  __len__(self, /)\n",
      " |      Return len(self).\n",
      " |  \n",
      " |  __lt__(self, value, /)\n",
      " |      Return self<value.\n",
      " |  \n",
      " |  __ne__(self, value, /)\n",
      " |      Return self!=value.\n",
      " |  \n",
      " |  __or__(self, value, /)\n",
      " |      Return self|value.\n",
      " |  \n",
      " |  __rand__(self, value, /)\n",
      " |      Return value&self.\n",
      " |  \n",
      " |  __reduce__(...)\n",
      " |      Return state information for pickling.\n",
      " |  \n",
      " |  __repr__(self, /)\n",
      " |      Return repr(self).\n",
      " |  \n",
      " |  __ror__(self, value, /)\n",
      " |      Return value|self.\n",
      " |  \n",
      " |  __rsub__(self, value, /)\n",
      " |      Return value-self.\n",
      " |  \n",
      " |  __rxor__(self, value, /)\n",
      " |      Return value^self.\n",
      " |  \n",
      " |  __sizeof__(...)\n",
      " |      S.__sizeof__() -> size of S in memory, in bytes\n",
      " |  \n",
      " |  __sub__(self, value, /)\n",
      " |      Return self-value.\n",
      " |  \n",
      " |  __xor__(self, value, /)\n",
      " |      Return self^value.\n",
      " |  \n",
      " |  add(...)\n",
      " |      Add an element to a set.\n",
      " |      \n",
      " |      This has no effect if the element is already present.\n",
      " |  \n",
      " |  clear(...)\n",
      " |      Remove all elements from this set.\n",
      " |  \n",
      " |  copy(...)\n",
      " |      Return a shallow copy of a set.\n",
      " |  \n",
      " |  difference(...)\n",
      " |      Return the difference of two or more sets as a new set.\n",
      " |      \n",
      " |      (i.e. all elements that are in this set but not the others.)\n",
      " |  \n",
      " |  difference_update(...)\n",
      " |      Remove all elements of another set from this set.\n",
      " |  \n",
      " |  discard(...)\n",
      " |      Remove an element from a set if it is a member.\n",
      " |      \n",
      " |      If the element is not a member, do nothing.\n",
      " |  \n",
      " |  intersection(...)\n",
      " |      Return the intersection of two sets as a new set.\n",
      " |      \n",
      " |      (i.e. all elements that are in both sets.)\n",
      " |  \n",
      " |  intersection_update(...)\n",
      " |      Update a set with the intersection of itself and another.\n",
      " |  \n",
      " |  isdisjoint(...)\n",
      " |      Return True if two sets have a null intersection.\n",
      " |  \n",
      " |  issubset(...)\n",
      " |      Report whether another set contains this set.\n",
      " |  \n",
      " |  issuperset(...)\n",
      " |      Report whether this set contains another set.\n",
      " |  \n",
      " |  pop(...)\n",
      " |      Remove and return an arbitrary set element.\n",
      " |      Raises KeyError if the set is empty.\n",
      " |  \n",
      " |  remove(...)\n",
      " |      Remove an element from a set; it must be a member.\n",
      " |      \n",
      " |      If the element is not a member, raise a KeyError.\n",
      " |  \n",
      " |  symmetric_difference(...)\n",
      " |      Return the symmetric difference of two sets as a new set.\n",
      " |      \n",
      " |      (i.e. all elements that are in exactly one of the sets.)\n",
      " |  \n",
      " |  symmetric_difference_update(...)\n",
      " |      Update a set with the symmetric difference of itself and another.\n",
      " |  \n",
      " |  union(...)\n",
      " |      Return the union of sets as a new set.\n",
      " |      \n",
      " |      (i.e. all elements that are in either set.)\n",
      " |  \n",
      " |  update(...)\n",
      " |      Update a set with the union of itself and others.\n",
      " |  \n",
      " |  ----------------------------------------------------------------------\n",
      " |  Class methods defined here:\n",
      " |  \n",
      " |  __class_getitem__(...) from builtins.type\n",
      " |      See PEP 585\n",
      " |  \n",
      " |  ----------------------------------------------------------------------\n",
      " |  Static methods defined here:\n",
      " |  \n",
      " |  __new__(*args, **kwargs) from builtins.type\n",
      " |      Create and return a new object.  See help(type) for accurate signature.\n",
      " |  \n",
      " |  ----------------------------------------------------------------------\n",
      " |  Data and other attributes defined here:\n",
      " |  \n",
      " |  __hash__ = None\n",
      "\n"
     ]
    }
   ],
   "source": [
    "help(set)"
   ]
  },
  {
   "cell_type": "code",
   "execution_count": 76,
   "id": "6d1e1b9a",
   "metadata": {},
   "outputs": [],
   "source": [
    "s = {1,2,1,3,4,5,5,5,8}\n",
    "l = list(s)[::-1]"
   ]
  },
  {
   "cell_type": "code",
   "execution_count": 77,
   "id": "b8926531",
   "metadata": {},
   "outputs": [
    {
     "name": "stdout",
     "output_type": "stream",
     "text": [
      "[8, 5, 4, 3, 2, 1]\n"
     ]
    }
   ],
   "source": [
    "print(l)"
   ]
  },
  {
   "cell_type": "code",
   "execution_count": 78,
   "id": "fff53860",
   "metadata": {},
   "outputs": [],
   "source": [
    "t = ([1,2,5],2,\"Vamshi\")"
   ]
  },
  {
   "cell_type": "code",
   "execution_count": 79,
   "id": "85c063c1",
   "metadata": {},
   "outputs": [
    {
     "data": {
      "text/plain": [
       "list"
      ]
     },
     "execution_count": 79,
     "metadata": {},
     "output_type": "execute_result"
    }
   ],
   "source": [
    "type(t[0])"
   ]
  },
  {
   "cell_type": "code",
   "execution_count": 80,
   "id": "5eb0b812",
   "metadata": {},
   "outputs": [],
   "source": [
    "t[0][1] = \"Tejashri\""
   ]
  },
  {
   "cell_type": "code",
   "execution_count": 81,
   "id": "34c34da4",
   "metadata": {},
   "outputs": [
    {
     "name": "stdout",
     "output_type": "stream",
     "text": [
      "([1, 'Tejashri', 5], 2, 'Vamshi')\n"
     ]
    }
   ],
   "source": [
    "print(t)"
   ]
  },
  {
   "cell_type": "code",
   "execution_count": 82,
   "id": "2605e666",
   "metadata": {},
   "outputs": [],
   "source": [
    "s = set([1,2,8,\"Snegha\"])"
   ]
  },
  {
   "cell_type": "code",
   "execution_count": 84,
   "id": "35376a66",
   "metadata": {},
   "outputs": [
    {
     "name": "stdout",
     "output_type": "stream",
     "text": [
      "{8, 1, 2, 'Snegha'}\n"
     ]
    }
   ],
   "source": [
    "print(s)"
   ]
  },
  {
   "cell_type": "markdown",
   "id": "7fb25ae1",
   "metadata": {},
   "source": [
    "### `add()`"
   ]
  },
  {
   "cell_type": "code",
   "execution_count": 85,
   "id": "84286ca8",
   "metadata": {},
   "outputs": [],
   "source": [
    "s.add(\"Vaibhav\")"
   ]
  },
  {
   "cell_type": "code",
   "execution_count": 86,
   "id": "59ced8ab",
   "metadata": {},
   "outputs": [
    {
     "name": "stdout",
     "output_type": "stream",
     "text": [
      "{1, 2, 8, 'Vaibhav', 'Snegha'}\n"
     ]
    }
   ],
   "source": [
    "print(s)"
   ]
  },
  {
   "cell_type": "code",
   "execution_count": 87,
   "id": "51406546",
   "metadata": {},
   "outputs": [],
   "source": [
    "s.add(\"Umang\")"
   ]
  },
  {
   "cell_type": "code",
   "execution_count": 88,
   "id": "ad500099",
   "metadata": {},
   "outputs": [
    {
     "name": "stdout",
     "output_type": "stream",
     "text": [
      "{1, 2, 8, 'Vaibhav', 'Umang', 'Snegha'}\n"
     ]
    }
   ],
   "source": [
    "print(s)"
   ]
  },
  {
   "cell_type": "markdown",
   "id": "373ed293",
   "metadata": {},
   "source": [
    "### `update()`"
   ]
  },
  {
   "cell_type": "code",
   "execution_count": 89,
   "id": "e09c4a28",
   "metadata": {},
   "outputs": [],
   "source": [
    "s.update([\"Krishna\",\"Abhishek\"])"
   ]
  },
  {
   "cell_type": "code",
   "execution_count": 90,
   "id": "a2b798f1",
   "metadata": {},
   "outputs": [
    {
     "name": "stdout",
     "output_type": "stream",
     "text": [
      "{1, 2, 8, 'Vaibhav', 'Umang', 'Abhishek', 'Snegha', 'Krishna'}\n"
     ]
    }
   ],
   "source": [
    "print(s)"
   ]
  },
  {
   "cell_type": "code",
   "execution_count": 91,
   "id": "1245ccb2",
   "metadata": {},
   "outputs": [],
   "source": [
    "s.update({2.31,8.56},[\"Anurag\"])"
   ]
  },
  {
   "cell_type": "code",
   "execution_count": 92,
   "id": "0c0a4f51",
   "metadata": {},
   "outputs": [
    {
     "name": "stdout",
     "output_type": "stream",
     "text": [
      "{1, 2, 2.31, 8, 8.56, 'Vaibhav', 'Umang', 'Abhishek', 'Anurag', 'Snegha', 'Krishna'}\n"
     ]
    }
   ],
   "source": [
    "print(s)"
   ]
  },
  {
   "cell_type": "markdown",
   "id": "1317ce8c",
   "metadata": {},
   "source": [
    "### `Removing element from set`"
   ]
  },
  {
   "cell_type": "code",
   "execution_count": 94,
   "id": "4adf99ca",
   "metadata": {},
   "outputs": [],
   "source": [
    "s.remove(2.31)"
   ]
  },
  {
   "cell_type": "code",
   "execution_count": 95,
   "id": "6c1ff58c",
   "metadata": {},
   "outputs": [
    {
     "name": "stdout",
     "output_type": "stream",
     "text": [
      "{1, 2, 8, 8.56, 'Vaibhav', 'Umang', 'Abhishek', 'Anurag', 'Snegha', 'Krishna'}\n"
     ]
    }
   ],
   "source": [
    "print(s)"
   ]
  },
  {
   "cell_type": "code",
   "execution_count": 96,
   "id": "28e5832d",
   "metadata": {},
   "outputs": [
    {
     "ename": "KeyError",
     "evalue": "'Edyoda'",
     "output_type": "error",
     "traceback": [
      "\u001b[1;31m---------------------------------------------------------------------------\u001b[0m",
      "\u001b[1;31mKeyError\u001b[0m                                  Traceback (most recent call last)",
      "Input \u001b[1;32mIn [96]\u001b[0m, in \u001b[0;36m<module>\u001b[1;34m\u001b[0m\n\u001b[1;32m----> 1\u001b[0m \u001b[43ms\u001b[49m\u001b[38;5;241;43m.\u001b[39;49m\u001b[43mremove\u001b[49m\u001b[43m(\u001b[49m\u001b[38;5;124;43m\"\u001b[39;49m\u001b[38;5;124;43mEdyoda\u001b[39;49m\u001b[38;5;124;43m\"\u001b[39;49m\u001b[43m)\u001b[49m\n",
      "\u001b[1;31mKeyError\u001b[0m: 'Edyoda'"
     ]
    }
   ],
   "source": [
    "s.remove(\"Edyoda\")"
   ]
  },
  {
   "cell_type": "code",
   "execution_count": 97,
   "id": "4637ecd3",
   "metadata": {},
   "outputs": [],
   "source": [
    "s.discard(1)"
   ]
  },
  {
   "cell_type": "code",
   "execution_count": 98,
   "id": "48721d21",
   "metadata": {},
   "outputs": [
    {
     "name": "stdout",
     "output_type": "stream",
     "text": [
      "1\n"
     ]
    }
   ],
   "source": [
    "print(1)"
   ]
  },
  {
   "cell_type": "code",
   "execution_count": 99,
   "id": "206dec8e",
   "metadata": {},
   "outputs": [],
   "source": [
    "s.discard(0)"
   ]
  },
  {
   "cell_type": "code",
   "execution_count": 100,
   "id": "d8b630c4",
   "metadata": {},
   "outputs": [
    {
     "data": {
      "text/plain": [
       "2"
      ]
     },
     "execution_count": 100,
     "metadata": {},
     "output_type": "execute_result"
    }
   ],
   "source": [
    "s.pop()"
   ]
  },
  {
   "cell_type": "code",
   "execution_count": 101,
   "id": "f361907d",
   "metadata": {},
   "outputs": [
    {
     "data": {
      "text/plain": [
       "8"
      ]
     },
     "execution_count": 101,
     "metadata": {},
     "output_type": "execute_result"
    }
   ],
   "source": [
    "s.pop()"
   ]
  },
  {
   "cell_type": "code",
   "execution_count": 102,
   "id": "82d430e1",
   "metadata": {},
   "outputs": [
    {
     "ename": "KeyError",
     "evalue": "{8.56, 'Vaibhav', 'Umang', 'Abhishek', 'Anurag', 'Snegha', 'Krishna'}",
     "output_type": "error",
     "traceback": [
      "\u001b[1;31m---------------------------------------------------------------------------\u001b[0m",
      "\u001b[1;31mKeyError\u001b[0m                                  Traceback (most recent call last)",
      "Input \u001b[1;32mIn [102]\u001b[0m, in \u001b[0;36m<module>\u001b[1;34m\u001b[0m\n\u001b[1;32m----> 1\u001b[0m \u001b[43ms\u001b[49m\u001b[38;5;241;43m.\u001b[39;49m\u001b[43mremove\u001b[49m\u001b[43m(\u001b[49m\u001b[43ms\u001b[49m\u001b[43m)\u001b[49m\n",
      "\u001b[1;31mKeyError\u001b[0m: {8.56, 'Vaibhav', 'Umang', 'Abhishek', 'Anurag', 'Snegha', 'Krishna'}"
     ]
    }
   ],
   "source": [
    "s.remove(s)"
   ]
  },
  {
   "cell_type": "code",
   "execution_count": 103,
   "id": "ce7102f2",
   "metadata": {},
   "outputs": [
    {
     "name": "stdout",
     "output_type": "stream",
     "text": [
      "{8.56, 'Vaibhav', 'Umang', 'Abhishek', 'Anurag', 'Snegha', 'Krishna'}\n"
     ]
    }
   ],
   "source": [
    "s.discard(1)\n",
    "print(s)"
   ]
  },
  {
   "cell_type": "code",
   "execution_count": 104,
   "id": "2004e268",
   "metadata": {},
   "outputs": [
    {
     "ename": "TypeError",
     "evalue": "set.pop() takes no arguments (1 given)",
     "output_type": "error",
     "traceback": [
      "\u001b[1;31m---------------------------------------------------------------------------\u001b[0m",
      "\u001b[1;31mTypeError\u001b[0m                                 Traceback (most recent call last)",
      "Input \u001b[1;32mIn [104]\u001b[0m, in \u001b[0;36m<module>\u001b[1;34m\u001b[0m\n\u001b[1;32m----> 1\u001b[0m \u001b[43ms\u001b[49m\u001b[38;5;241;43m.\u001b[39;49m\u001b[43mpop\u001b[49m\u001b[43m(\u001b[49m\u001b[38;5;241;43m1\u001b[39;49m\u001b[43m)\u001b[49m\n",
      "\u001b[1;31mTypeError\u001b[0m: set.pop() takes no arguments (1 given)"
     ]
    }
   ],
   "source": [
    "s.pop(1)"
   ]
  },
  {
   "cell_type": "code",
   "execution_count": 105,
   "id": "7acdd4a7",
   "metadata": {},
   "outputs": [],
   "source": [
    "s.clear()"
   ]
  },
  {
   "cell_type": "code",
   "execution_count": 106,
   "id": "f6a77dee",
   "metadata": {},
   "outputs": [
    {
     "name": "stdout",
     "output_type": "stream",
     "text": [
      "set()\n"
     ]
    }
   ],
   "source": [
    "print(s)"
   ]
  },
  {
   "cell_type": "code",
   "execution_count": 107,
   "id": "2527cc6d",
   "metadata": {},
   "outputs": [],
   "source": [
    "s = {\"Anurag\",\"Sandeep\",\"Tejashri\",\"Snegha\",\"Umang\",\"Vamshi\"}"
   ]
  },
  {
   "cell_type": "code",
   "execution_count": 114,
   "id": "8d1252ed",
   "metadata": {},
   "outputs": [
    {
     "ename": "KeyError",
     "evalue": "'pop from an empty set'",
     "output_type": "error",
     "traceback": [
      "\u001b[1;31m---------------------------------------------------------------------------\u001b[0m",
      "\u001b[1;31mKeyError\u001b[0m                                  Traceback (most recent call last)",
      "Input \u001b[1;32mIn [114]\u001b[0m, in \u001b[0;36m<module>\u001b[1;34m\u001b[0m\n\u001b[1;32m----> 1\u001b[0m \u001b[43ms\u001b[49m\u001b[38;5;241;43m.\u001b[39;49m\u001b[43mpop\u001b[49m\u001b[43m(\u001b[49m\u001b[43m)\u001b[49m\n",
      "\u001b[1;31mKeyError\u001b[0m: 'pop from an empty set'"
     ]
    }
   ],
   "source": [
    "s.pop()"
   ]
  },
  {
   "cell_type": "code",
   "execution_count": null,
   "id": "938877d8",
   "metadata": {},
   "outputs": [],
   "source": []
  }
 ],
 "metadata": {
  "kernelspec": {
   "display_name": "Python 3 (ipykernel)",
   "language": "python",
   "name": "python3"
  },
  "language_info": {
   "codemirror_mode": {
    "name": "ipython",
    "version": 3
   },
   "file_extension": ".py",
   "mimetype": "text/x-python",
   "name": "python",
   "nbconvert_exporter": "python",
   "pygments_lexer": "ipython3",
   "version": "3.10.1"
  }
 },
 "nbformat": 4,
 "nbformat_minor": 5
}
