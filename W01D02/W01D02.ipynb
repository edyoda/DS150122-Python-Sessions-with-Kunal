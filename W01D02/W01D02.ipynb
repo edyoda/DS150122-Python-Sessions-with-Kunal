{
 "cells": [
  {
   "cell_type": "code",
   "execution_count": null,
   "id": "7a68c981",
   "metadata": {},
   "outputs": [],
   "source": [
    "in command mode:\n",
    "    b --> adds cell below\n",
    "    a --> adds cell above the selected cell\n",
    "    dd --> it deletes the selected cell"
   ]
  },
  {
   "cell_type": "code",
   "execution_count": null,
   "id": "917ce3ef",
   "metadata": {},
   "outputs": [],
   "source": [
    "WYS I WYG"
   ]
  },
  {
   "cell_type": "code",
   "execution_count": null,
   "id": "328196af",
   "metadata": {},
   "outputs": [],
   "source": [
    "Arvind shift + enter "
   ]
  },
  {
   "cell_type": "markdown",
   "id": "19d5de44",
   "metadata": {},
   "source": [
    "esc + m --> its changes cell into markdown"
   ]
  },
  {
   "cell_type": "markdown",
   "id": "14a5cc63",
   "metadata": {},
   "source": [
    "esc + y --> it changes markdown into code"
   ]
  },
  {
   "cell_type": "markdown",
   "id": "c339af04",
   "metadata": {},
   "source": [
    "# Heading"
   ]
  },
  {
   "cell_type": "markdown",
   "id": "705276b4",
   "metadata": {},
   "source": [
    "# Anjali (H1)\n",
    "## Snegha (H2)\n",
    "### Neeraj (H3)\n",
    "##### Aash"
   ]
  },
  {
   "cell_type": "markdown",
   "id": "58a39753",
   "metadata": {},
   "source": [
    "**Ramsai** Vamsi"
   ]
  },
  {
   "cell_type": "markdown",
   "id": "888a51ab",
   "metadata": {},
   "source": [
    "*Sashi* Kumar"
   ]
  },
  {
   "cell_type": "markdown",
   "id": "f260a98e",
   "metadata": {},
   "source": [
    "> Logan"
   ]
  },
  {
   "cell_type": "markdown",
   "id": "d4033332",
   "metadata": {},
   "source": [
    "Hey ***Sandeep*** "
   ]
  },
  {
   "cell_type": "code",
   "execution_count": null,
   "id": "7c03050f",
   "metadata": {},
   "outputs": [],
   "source": []
  },
  {
   "cell_type": "code",
   "execution_count": null,
   "id": "7e7ea9fd",
   "metadata": {},
   "outputs": [],
   "source": []
  },
  {
   "cell_type": "markdown",
   "id": "6e4a118f",
   "metadata": {},
   "source": [
    "# Data Types"
   ]
  },
  {
   "cell_type": "code",
   "execution_count": null,
   "id": "a69c507c",
   "metadata": {},
   "outputs": [],
   "source": [
    "what is data?\n",
    "    facts or information\n",
    "    12Shatf@#$3.2(2i+3)-56B"
   ]
  },
  {
   "cell_type": "code",
   "execution_count": null,
   "id": "aa90603c",
   "metadata": {},
   "outputs": [],
   "source": [
    "what is data type?\n",
    "Classification or charaterization of data items are called data types"
   ]
  },
  {
   "cell_type": "markdown",
   "id": "02b09fd5",
   "metadata": {},
   "source": [
    "## group of letter or numbers or whatever which are enclosed in quote"
   ]
  },
  {
   "cell_type": "code",
   "execution_count": null,
   "id": "03a68fd6",
   "metadata": {},
   "outputs": [],
   "source": [
    "' '\n",
    "\" \"\n",
    "\"\"\" \"\"\""
   ]
  },
  {
   "cell_type": "code",
   "execution_count": null,
   "id": "07066521",
   "metadata": {},
   "outputs": [],
   "source": [
    "'@' --> string\n",
    "\"937\" --> string"
   ]
  },
  {
   "cell_type": "markdown",
   "id": "8a48ff44",
   "metadata": {},
   "source": [
    "## All the numbers are numeric type"
   ]
  },
  {
   "cell_type": "code",
   "execution_count": null,
   "id": "5c59033a",
   "metadata": {},
   "outputs": [],
   "source": [
    "integers: 1 2 0 -1 -8 -9 -9998 125 57513\n",
    "float(decimal values): 1.2 0.021.6 -67.90 15.5 45.5\n",
    "complex: (2+3i),(1+2i)(numbers with imaginary values)\n",
    "    real part + imaginary part"
   ]
  },
  {
   "cell_type": "code",
   "execution_count": null,
   "id": "fef6e774",
   "metadata": {},
   "outputs": [],
   "source": []
  },
  {
   "cell_type": "code",
   "execution_count": null,
   "id": "4fd1f368",
   "metadata": {},
   "outputs": [],
   "source": [
    "list --> [2,1,3,\"Payal\",\"Madhuri\",3.0] <-- it is flexible\n",
    "tuple --> (2,3,1,\"Saurabh\",\"Sahil\") <-- it is not-flexible\n",
    "range -->(1-12)\n",
    "[] <-- square bracket\n",
    "() <-- round bracket"
   ]
  },
  {
   "cell_type": "markdown",
   "id": "4c2cb559",
   "metadata": {},
   "source": [
    "## dictionary is a collection of key value pairs"
   ]
  },
  {
   "cell_type": "code",
   "execution_count": null,
   "id": "a845f671",
   "metadata": {},
   "outputs": [],
   "source": [
    "dict --> {key:value} <-- key value pair"
   ]
  },
  {
   "cell_type": "code",
   "execution_count": null,
   "id": "5ce0dd88",
   "metadata": {},
   "outputs": [],
   "source": [
    "{\"Neeraj\":943175}"
   ]
  },
  {
   "cell_type": "code",
   "execution_count": null,
   "id": "1eaf6659",
   "metadata": {},
   "outputs": [],
   "source": [
    "{\"Name\" : \"ABC\" ,\"Email\" : \"xyz@gmail.com\",\"Neeraj\":943175, 831001:\"Abdul palace\"}"
   ]
  },
  {
   "cell_type": "markdown",
   "id": "da79372c",
   "metadata": {},
   "source": [
    "## set is a collection of keys [collection of unique things]"
   ]
  },
  {
   "cell_type": "code",
   "execution_count": null,
   "id": "603fe768",
   "metadata": {},
   "outputs": [],
   "source": [
    "{1,2,3,5,8}\n",
    "{} --> curly braces"
   ]
  },
  {
   "cell_type": "markdown",
   "id": "8e816031",
   "metadata": {},
   "source": [
    "- Text Type \n",
    "    - string\n",
    "- Numeric Type\n",
    "    - int\n",
    "    - float\n",
    "    - complex\n",
    "- Sequence Type\n",
    "    - list\n",
    "    - tuple\n",
    "    - range\n",
    "- Mapping Type\n",
    "    - dict\n",
    "- Set Type\n",
    "    - set"
   ]
  },
  {
   "cell_type": "code",
   "execution_count": null,
   "id": "75520f2d",
   "metadata": {},
   "outputs": [],
   "source": []
  },
  {
   "cell_type": "code",
   "execution_count": null,
   "id": "3c9d30df",
   "metadata": {},
   "outputs": [],
   "source": []
  },
  {
   "cell_type": "code",
   "execution_count": null,
   "id": "c95ebbce",
   "metadata": {},
   "outputs": [],
   "source": []
  }
 ],
 "metadata": {
  "kernelspec": {
   "display_name": "Python 3 (ipykernel)",
   "language": "python",
   "name": "python3"
  },
  "language_info": {
   "codemirror_mode": {
    "name": "ipython",
    "version": 3
   },
   "file_extension": ".py",
   "mimetype": "text/x-python",
   "name": "python",
   "nbconvert_exporter": "python",
   "pygments_lexer": "ipython3",
   "version": "3.10.1"
  }
 },
 "nbformat": 4,
 "nbformat_minor": 5
}
