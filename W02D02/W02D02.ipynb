{
 "cells": [
  {
   "cell_type": "markdown",
   "id": "7c294f9e",
   "metadata": {},
   "source": [
    "## `Conditional Statements`"
   ]
  },
  {
   "cell_type": "code",
   "execution_count": null,
   "id": "aff9e749",
   "metadata": {},
   "outputs": [],
   "source": [
    "if expression:\n",
    "    #statements\n",
    "    if expression2:\n",
    "        # statements 2"
   ]
  },
  {
   "cell_type": "markdown",
   "id": "ec9890f8",
   "metadata": {},
   "source": [
    "## if else statement"
   ]
  },
  {
   "cell_type": "code",
   "execution_count": null,
   "id": "83609abb",
   "metadata": {},
   "outputs": [],
   "source": [
    "number = 0\n",
    "if number>=0:\n",
    "    print(\"Positive or Zero\")\n",
    "else:\n",
    "    print(\"Negative\")"
   ]
  },
  {
   "cell_type": "markdown",
   "id": "77a37e24",
   "metadata": {},
   "source": [
    "## if elif ... else"
   ]
  },
  {
   "cell_type": "markdown",
   "id": "95490a5e",
   "metadata": {},
   "source": [
    "### identify zero,positive number, negative number"
   ]
  },
  {
   "cell_type": "code",
   "execution_count": 3,
   "id": "5a022b0a",
   "metadata": {},
   "outputs": [
    {
     "name": "stdout",
     "output_type": "stream",
     "text": [
      "Negative Number\n"
     ]
    }
   ],
   "source": [
    "number = -1\n",
    "if number == 0:\n",
    "    print(\"The number is zero Hurray\")\n",
    "elif number > 0:\n",
    "    print(\"Positive Number\")\n",
    "else:\n",
    "    print(\"Negative Number\")"
   ]
  },
  {
   "cell_type": "code",
   "execution_count": 4,
   "id": "56524b5b",
   "metadata": {},
   "outputs": [
    {
     "name": "stdout",
     "output_type": "stream",
     "text": [
      "Negative Number\n"
     ]
    }
   ],
   "source": [
    "number = -1\n",
    "if number == 0:\n",
    "    print(\"The number is zero Hurray\")\n",
    "elif number > 0:\n",
    "    print(\"Positive Number\")\n",
    "elif number < 0:\n",
    "    print(\"Negative Number\")"
   ]
  },
  {
   "cell_type": "code",
   "execution_count": null,
   "id": "076c1dbd",
   "metadata": {},
   "outputs": [],
   "source": [
    "int\n",
    "str\n",
    "float\n",
    "complex\n",
    "bool\n",
    "tuple\n",
    "list\n",
    "set\n",
    "dict\n",
    "None"
   ]
  },
  {
   "cell_type": "code",
   "execution_count": 5,
   "id": "1c81413c",
   "metadata": {},
   "outputs": [
    {
     "data": {
      "text/plain": [
       "int"
      ]
     },
     "execution_count": 5,
     "metadata": {},
     "output_type": "execute_result"
    }
   ],
   "source": [
    "type(12)"
   ]
  },
  {
   "cell_type": "code",
   "execution_count": null,
   "id": "034d865a",
   "metadata": {},
   "outputs": [],
   "source": [
    "int --> str"
   ]
  },
  {
   "cell_type": "code",
   "execution_count": 7,
   "id": "03649666",
   "metadata": {},
   "outputs": [],
   "source": [
    "d = str(12)"
   ]
  },
  {
   "cell_type": "code",
   "execution_count": 8,
   "id": "3217876b",
   "metadata": {},
   "outputs": [
    {
     "data": {
      "text/plain": [
       "str"
      ]
     },
     "execution_count": 8,
     "metadata": {},
     "output_type": "execute_result"
    }
   ],
   "source": [
    "type(d)"
   ]
  },
  {
   "cell_type": "code",
   "execution_count": 17,
   "id": "fc3aee37",
   "metadata": {},
   "outputs": [
    {
     "data": {
      "text/plain": [
       "'12'"
      ]
     },
     "execution_count": 17,
     "metadata": {},
     "output_type": "execute_result"
    }
   ],
   "source": [
    "d"
   ]
  },
  {
   "cell_type": "code",
   "execution_count": 13,
   "id": "509e4e15",
   "metadata": {},
   "outputs": [],
   "source": [
    "num = 12\n",
    "num_float = float(num)"
   ]
  },
  {
   "cell_type": "code",
   "execution_count": 11,
   "id": "7c6e3119",
   "metadata": {},
   "outputs": [
    {
     "name": "stdout",
     "output_type": "stream",
     "text": [
      "<class 'float'>\n"
     ]
    }
   ],
   "source": [
    "print(type(num_float))"
   ]
  },
  {
   "cell_type": "code",
   "execution_count": 14,
   "id": "7baedd6c",
   "metadata": {},
   "outputs": [
    {
     "name": "stdout",
     "output_type": "stream",
     "text": [
      "12.0\n"
     ]
    }
   ],
   "source": [
    "print(num_float)"
   ]
  },
  {
   "cell_type": "code",
   "execution_count": 15,
   "id": "dc372a76",
   "metadata": {},
   "outputs": [
    {
     "data": {
      "text/plain": [
       "True"
      ]
     },
     "execution_count": 15,
     "metadata": {},
     "output_type": "execute_result"
    }
   ],
   "source": [
    "bool(num)"
   ]
  },
  {
   "cell_type": "code",
   "execution_count": 16,
   "id": "a1c1da50",
   "metadata": {},
   "outputs": [
    {
     "data": {
      "text/plain": [
       "False"
      ]
     },
     "execution_count": 16,
     "metadata": {},
     "output_type": "execute_result"
    }
   ],
   "source": [
    "bool(0)"
   ]
  },
  {
   "cell_type": "code",
   "execution_count": 18,
   "id": "0d2da47d",
   "metadata": {},
   "outputs": [
    {
     "name": "stdout",
     "output_type": "stream",
     "text": [
      "1673673808240\n"
     ]
    }
   ],
   "source": [
    "num = 12.3\n",
    "print(id(num))"
   ]
  },
  {
   "cell_type": "code",
   "execution_count": 20,
   "id": "36df7006",
   "metadata": {},
   "outputs": [
    {
     "data": {
      "text/plain": [
       "1673593553488"
      ]
     },
     "execution_count": 20,
     "metadata": {},
     "output_type": "execute_result"
    }
   ],
   "source": [
    "id(int(num))"
   ]
  },
  {
   "cell_type": "code",
   "execution_count": null,
   "id": "11190cc6",
   "metadata": {},
   "outputs": [],
   "source": [
    "12 --> tuple"
   ]
  },
  {
   "cell_type": "code",
   "execution_count": 21,
   "id": "380a8121",
   "metadata": {},
   "outputs": [
    {
     "ename": "TypeError",
     "evalue": "'int' object is not iterable",
     "output_type": "error",
     "traceback": [
      "\u001b[1;31m---------------------------------------------------------------------------\u001b[0m",
      "\u001b[1;31mTypeError\u001b[0m                                 Traceback (most recent call last)",
      "Input \u001b[1;32mIn [21]\u001b[0m, in \u001b[0;36m<module>\u001b[1;34m\u001b[0m\n\u001b[1;32m----> 1\u001b[0m \u001b[38;5;28;43mtuple\u001b[39;49m\u001b[43m(\u001b[49m\u001b[38;5;241;43m12\u001b[39;49m\u001b[43m)\u001b[49m\n",
      "\u001b[1;31mTypeError\u001b[0m: 'int' object is not iterable"
     ]
    }
   ],
   "source": [
    "tuple(12)"
   ]
  },
  {
   "cell_type": "code",
   "execution_count": 23,
   "id": "a6675b4c",
   "metadata": {},
   "outputs": [
    {
     "data": {
      "text/plain": [
       "[12]"
      ]
     },
     "execution_count": 23,
     "metadata": {},
     "output_type": "execute_result"
    }
   ],
   "source": [
    "list([12])"
   ]
  },
  {
   "cell_type": "code",
   "execution_count": 24,
   "id": "b8658584",
   "metadata": {},
   "outputs": [
    {
     "name": "stdout",
     "output_type": "stream",
     "text": [
      "<class 'list'>\n",
      "[5]\n"
     ]
    }
   ],
   "source": [
    "num = 5 \n",
    "x = [num]\n",
    "print (type(x))\n",
    "print (x)"
   ]
  },
  {
   "cell_type": "code",
   "execution_count": 25,
   "id": "d4a6e57f",
   "metadata": {},
   "outputs": [],
   "source": [
    "s = \"Vamshi\""
   ]
  },
  {
   "cell_type": "code",
   "execution_count": 26,
   "id": "e92a5878",
   "metadata": {},
   "outputs": [
    {
     "data": {
      "text/plain": [
       "['V', 'a', 'm', 's', 'h', 'i']"
      ]
     },
     "execution_count": 26,
     "metadata": {},
     "output_type": "execute_result"
    }
   ],
   "source": [
    "list(s)"
   ]
  },
  {
   "cell_type": "code",
   "execution_count": 27,
   "id": "1e0b642d",
   "metadata": {},
   "outputs": [
    {
     "data": {
      "text/plain": [
       "('V', 'a', 'm', 's', 'h', 'i')"
      ]
     },
     "execution_count": 27,
     "metadata": {},
     "output_type": "execute_result"
    }
   ],
   "source": [
    "tuple(s)"
   ]
  },
  {
   "cell_type": "code",
   "execution_count": 30,
   "id": "aebe881f",
   "metadata": {},
   "outputs": [
    {
     "data": {
      "text/plain": [
       "{'V', 'a', 'h', 'i', 'm', 's'}"
      ]
     },
     "execution_count": 30,
     "metadata": {},
     "output_type": "execute_result"
    }
   ],
   "source": [
    "set(s)"
   ]
  },
  {
   "cell_type": "code",
   "execution_count": 29,
   "id": "dcab254d",
   "metadata": {},
   "outputs": [
    {
     "ename": "ValueError",
     "evalue": "dictionary update sequence element #0 has length 1; 2 is required",
     "output_type": "error",
     "traceback": [
      "\u001b[1;31m---------------------------------------------------------------------------\u001b[0m",
      "\u001b[1;31mValueError\u001b[0m                                Traceback (most recent call last)",
      "Input \u001b[1;32mIn [29]\u001b[0m, in \u001b[0;36m<module>\u001b[1;34m\u001b[0m\n\u001b[1;32m----> 1\u001b[0m \u001b[38;5;28;43mdict\u001b[39;49m\u001b[43m(\u001b[49m\u001b[43ms\u001b[49m\u001b[43m)\u001b[49m\n",
      "\u001b[1;31mValueError\u001b[0m: dictionary update sequence element #0 has length 1; 2 is required"
     ]
    }
   ],
   "source": [
    "dict(s)"
   ]
  },
  {
   "cell_type": "code",
   "execution_count": 31,
   "id": "12d4af4d",
   "metadata": {},
   "outputs": [
    {
     "name": "stdout",
     "output_type": "stream",
     "text": [
      "kumar neeraj\n"
     ]
    }
   ],
   "source": [
    "s = input()"
   ]
  },
  {
   "cell_type": "code",
   "execution_count": 32,
   "id": "922e22bc",
   "metadata": {},
   "outputs": [
    {
     "name": "stdout",
     "output_type": "stream",
     "text": [
      "kumar neeraj\n"
     ]
    }
   ],
   "source": [
    "print(s)"
   ]
  },
  {
   "cell_type": "code",
   "execution_count": 33,
   "id": "70aa9f98",
   "metadata": {},
   "outputs": [
    {
     "name": "stdout",
     "output_type": "stream",
     "text": [
      "<class 'str'>\n"
     ]
    }
   ],
   "source": [
    "print(type(s))"
   ]
  },
  {
   "cell_type": "code",
   "execution_count": 36,
   "id": "f37ce338",
   "metadata": {},
   "outputs": [
    {
     "name": "stdout",
     "output_type": "stream",
     "text": [
      "23\n"
     ]
    }
   ],
   "source": [
    "int_val = int(input())"
   ]
  },
  {
   "cell_type": "code",
   "execution_count": 37,
   "id": "b60dc7df",
   "metadata": {},
   "outputs": [
    {
     "data": {
      "text/plain": [
       "int"
      ]
     },
     "execution_count": 37,
     "metadata": {},
     "output_type": "execute_result"
    }
   ],
   "source": [
    "type(int_val)"
   ]
  },
  {
   "cell_type": "code",
   "execution_count": 38,
   "id": "50724519",
   "metadata": {},
   "outputs": [
    {
     "name": "stdout",
     "output_type": "stream",
     "text": [
      "kunal\n"
     ]
    },
    {
     "ename": "ValueError",
     "evalue": "invalid literal for int() with base 10: 'kunal'",
     "output_type": "error",
     "traceback": [
      "\u001b[1;31m---------------------------------------------------------------------------\u001b[0m",
      "\u001b[1;31mValueError\u001b[0m                                Traceback (most recent call last)",
      "Input \u001b[1;32mIn [38]\u001b[0m, in \u001b[0;36m<module>\u001b[1;34m\u001b[0m\n\u001b[1;32m----> 1\u001b[0m int_val \u001b[38;5;241m=\u001b[39m \u001b[38;5;28;43mint\u001b[39;49m\u001b[43m(\u001b[49m\u001b[38;5;28;43minput\u001b[39;49m\u001b[43m(\u001b[49m\u001b[43m)\u001b[49m\u001b[43m)\u001b[49m\n",
      "\u001b[1;31mValueError\u001b[0m: invalid literal for int() with base 10: 'kunal'"
     ]
    }
   ],
   "source": [
    "int_val = int(input())"
   ]
  },
  {
   "cell_type": "code",
   "execution_count": 41,
   "id": "eae87a70",
   "metadata": {},
   "outputs": [
    {
     "name": "stdout",
     "output_type": "stream",
     "text": [
      "-1\n",
      "Negative Number\n"
     ]
    }
   ],
   "source": [
    "number = int(input())\n",
    "if number == 0:\n",
    "    print(\"The number is zero Hurray\")\n",
    "elif number > 0:\n",
    "    print(\"Positive Number\")\n",
    "elif number < 0:\n",
    "    print(\"Negative Number\")"
   ]
  },
  {
   "cell_type": "code",
   "execution_count": 7,
   "id": "c5d4d7ed",
   "metadata": {},
   "outputs": [
    {
     "name": "stdout",
     "output_type": "stream",
     "text": [
      "the value is int type\n"
     ]
    }
   ],
   "source": [
    "num = 2\n",
    "if isinstance(num, int):\n",
    "    print(\"the value is int type\")\n",
    "else:\n",
    "    print(\"the value is other types\")"
   ]
  },
  {
   "cell_type": "code",
   "execution_count": 9,
   "id": "73b5811d",
   "metadata": {},
   "outputs": [
    {
     "name": "stdout",
     "output_type": "stream",
     "text": [
      "True\n"
     ]
    }
   ],
   "source": [
    "num = 34.22\n",
    "print(isinstance(num, float))"
   ]
  },
  {
   "cell_type": "code",
   "execution_count": 10,
   "id": "35a90f56",
   "metadata": {},
   "outputs": [
    {
     "name": "stdout",
     "output_type": "stream",
     "text": [
      "<class 'float'>\n"
     ]
    }
   ],
   "source": [
    "print(type(num))"
   ]
  },
  {
   "cell_type": "code",
   "execution_count": 11,
   "id": "e8284a82",
   "metadata": {},
   "outputs": [
    {
     "name": "stdout",
     "output_type": "stream",
     "text": [
      "no. is float type\n"
     ]
    }
   ],
   "source": [
    "if type(num) == float:\n",
    "    print(\"no. is float type\")\n",
    "else:\n",
    "    print(\"no. is other type\")\n"
   ]
  },
  {
   "cell_type": "markdown",
   "id": "5e3f480e",
   "metadata": {},
   "source": [
    "### Nested if else"
   ]
  },
  {
   "cell_type": "markdown",
   "id": "e50db98a",
   "metadata": {},
   "source": [
    "Q if the number is positve and even then find the square else if it is odd find its cube and print it else if the number is negative or zero print the number"
   ]
  },
  {
   "cell_type": "code",
   "execution_count": 13,
   "id": "b9956a0b",
   "metadata": {},
   "outputs": [
    {
     "name": "stdout",
     "output_type": "stream",
     "text": [
      "4\n",
      "You have Even number 16\n"
     ]
    }
   ],
   "source": [
    "num = int(input())\n",
    "if num>0:\n",
    "    if num%2==0:\n",
    "        print(\"You have Even number\",num**2)\n",
    "    else:\n",
    "        print(\"You have odd number\",num**3)\n",
    "else:\n",
    "    print(num)"
   ]
  },
  {
   "cell_type": "code",
   "execution_count": 14,
   "id": "74b43e02",
   "metadata": {},
   "outputs": [
    {
     "name": "stdout",
     "output_type": "stream",
     "text": [
      "enter the number5\n"
     ]
    },
    {
     "ename": "TypeError",
     "evalue": "'>' not supported between instances of 'str' and 'int'",
     "output_type": "error",
     "traceback": [
      "\u001b[1;31m---------------------------------------------------------------------------\u001b[0m",
      "\u001b[1;31mTypeError\u001b[0m                                 Traceback (most recent call last)",
      "Input \u001b[1;32mIn [14]\u001b[0m, in \u001b[0;36m<module>\u001b[1;34m\u001b[0m\n\u001b[0;32m      2\u001b[0m \u001b[38;5;28;01mif\u001b[39;00m number\u001b[38;5;241m==\u001b[39m\u001b[38;5;241m0\u001b[39m:\n\u001b[0;32m      3\u001b[0m     \u001b[38;5;28mprint\u001b[39m(\u001b[38;5;124m\"\u001b[39m\u001b[38;5;124mthe no. is positive number\u001b[39m\u001b[38;5;124m\"\u001b[39m)\n\u001b[1;32m----> 4\u001b[0m \u001b[38;5;28;01melif\u001b[39;00m \u001b[43mnumber\u001b[49m\u001b[43m \u001b[49m\u001b[38;5;241;43m>\u001b[39;49m\u001b[43m \u001b[49m\u001b[38;5;241;43m0\u001b[39;49m:\n\u001b[0;32m      5\u001b[0m     \u001b[38;5;28mprint\u001b[39m(\u001b[38;5;124m\"\u001b[39m\u001b[38;5;124mpositive number\u001b[39m\u001b[38;5;124m\"\u001b[39m)\n\u001b[0;32m      6\u001b[0m \u001b[38;5;28;01melse\u001b[39;00m:\n",
      "\u001b[1;31mTypeError\u001b[0m: '>' not supported between instances of 'str' and 'int'"
     ]
    }
   ],
   "source": [
    "number=input(\"enter the number\")\n",
    "if number==0:\n",
    "    print(\"the no. is positive number\")\n",
    "elif number > 0:\n",
    "    print(\"positive number\")\n",
    "else:\n",
    "    print(\"negative number\")\n"
   ]
  },
  {
   "cell_type": "markdown",
   "id": "641c2a24",
   "metadata": {},
   "source": [
    "## For loops"
   ]
  },
  {
   "cell_type": "code",
   "execution_count": 20,
   "id": "c215c4fd",
   "metadata": {},
   "outputs": [
    {
     "name": "stdout",
     "output_type": "stream",
     "text": [
      "1\n",
      "2\n",
      "3\n",
      "4\n",
      "5\n",
      "6\n",
      "7\n",
      "8\n",
      "9\n",
      "10\n"
     ]
    }
   ],
   "source": [
    "l = [1,2,3,4,5,6,7,8,9,10]\n",
    "for sashi in l:\n",
    "    print(sashi)"
   ]
  },
  {
   "cell_type": "code",
   "execution_count": null,
   "id": "08ccd030",
   "metadata": {},
   "outputs": [],
   "source": []
  }
 ],
 "metadata": {
  "kernelspec": {
   "display_name": "Python 3 (ipykernel)",
   "language": "python",
   "name": "python3"
  },
  "language_info": {
   "codemirror_mode": {
    "name": "ipython",
    "version": 3
   },
   "file_extension": ".py",
   "mimetype": "text/x-python",
   "name": "python",
   "nbconvert_exporter": "python",
   "pygments_lexer": "ipython3",
   "version": "3.10.1"
  }
 },
 "nbformat": 4,
 "nbformat_minor": 5
}
