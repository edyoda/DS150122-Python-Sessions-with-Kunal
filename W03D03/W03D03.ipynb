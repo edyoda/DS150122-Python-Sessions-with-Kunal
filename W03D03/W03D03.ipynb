{
 "cells": [
  {
   "cell_type": "code",
   "execution_count": null,
   "id": "c39a4262",
   "metadata": {},
   "outputs": [],
   "source": [
    "# split() --> Splits the string based on the delemeter and returns the list,it splits from LHS\n",
    "# rsplit() -->Splits the string based on the delemeter and returns the list,it splits from RHS\n",
    "# replace() --> replaces any specific character with new one\n",
    "# join() --> joins the list of strings with delimiter\n",
    "# count() --> counts the number of specified characters in the string\n",
    "# capitalize() -> capitalize first chararcter of string\n",
    "# upper() --> it converts all the lower cases characters to uppercases\n",
    "# lower() --> it converts all the upper cases characters to lowercases\n",
    "# title() --> capitalizes first letter of each word in a sentence\n",
    "# istitle() --> returns Boolean value based on the string provided is in title case or not\n",
    "# isupper() --> checks if all the characters of string is in upper case and returns boolean value\n",
    "# islower() --> checks if all the characters of string is in lower case and returns boolean value\n",
    "# input() --> gets value from user as string"
   ]
  },
  {
   "cell_type": "code",
   "execution_count": null,
   "id": "6809909a",
   "metadata": {},
   "outputs": [],
   "source": [
    "\"Akash is going to school\" --> hardcoded string\n",
    "\"Happy B'day\"\n",
    "''' \n",
    "hey Vaibhav\n",
    "'''"
   ]
  },
  {
   "cell_type": "code",
   "execution_count": 3,
   "id": "9eb178bc",
   "metadata": {},
   "outputs": [
    {
     "name": "stdout",
     "output_type": "stream",
     "text": [
      " \n",
      "hey \n",
      "Vaibhav\n",
      "\n"
     ]
    }
   ],
   "source": [
    "print(''' \n",
    "hey \n",
    "Vaibhav\n",
    "''')"
   ]
  },
  {
   "cell_type": "code",
   "execution_count": 6,
   "id": "71d3e5b4",
   "metadata": {},
   "outputs": [
    {
     "name": "stdout",
     "output_type": "stream",
     "text": [
      "hey \n",
      "Vaibhav\n"
     ]
    }
   ],
   "source": [
    "print(\"hey \\nVaibhav\")"
   ]
  },
  {
   "cell_type": "code",
   "execution_count": 7,
   "id": "2aa79c0c",
   "metadata": {},
   "outputs": [
    {
     "name": "stdout",
     "output_type": "stream",
     "text": [
      "hey \\nVaibhav\n"
     ]
    }
   ],
   "source": [
    "print(\"hey \\\\nVaibhav\")"
   ]
  },
  {
   "cell_type": "code",
   "execution_count": 8,
   "id": "9f99404e",
   "metadata": {},
   "outputs": [
    {
     "name": "stdout",
     "output_type": "stream",
     "text": [
      "happy b'Day\n"
     ]
    }
   ],
   "source": [
    "print('happy b\\'Day')"
   ]
  },
  {
   "cell_type": "code",
   "execution_count": 9,
   "id": "9f28e3c1",
   "metadata": {},
   "outputs": [
    {
     "name": "stdout",
     "output_type": "stream",
     "text": [
      "happy Birthday\n"
     ]
    }
   ],
   "source": [
    "s = 'happy b\\'Day'\n",
    "if 'b\\'Day' in s:\n",
    "    print(s.replace('b\\'Day','Birthday'))"
   ]
  },
  {
   "cell_type": "code",
   "execution_count": 13,
   "id": "6e8c99cf",
   "metadata": {},
   "outputs": [
    {
     "data": {
      "text/plain": [
       "\"Happy B'Day🥳 Raghul .\""
      ]
     },
     "execution_count": 13,
     "metadata": {},
     "output_type": "execute_result"
    }
   ],
   "source": [
    "# default or implicit order\n",
    "'Happy B\\'Day{} {} {}'.format(\"🥳\",\"Raghul\",\".\")"
   ]
  },
  {
   "cell_type": "code",
   "execution_count": 14,
   "id": "fabb5d21",
   "metadata": {},
   "outputs": [
    {
     "ename": "SyntaxError",
     "evalue": "unterminated string literal (detected at line 1) (2143068550.py, line 1)",
     "output_type": "error",
     "traceback": [
      "\u001b[1;36m  Input \u001b[1;32mIn [14]\u001b[1;36m\u001b[0m\n\u001b[1;33m    'Happy B'Day{} {} {}'.format(\"🥳\",\"Raghul\",\".\")\u001b[0m\n\u001b[1;37m                        ^\u001b[0m\n\u001b[1;31mSyntaxError\u001b[0m\u001b[1;31m:\u001b[0m unterminated string literal (detected at line 1)\n"
     ]
    }
   ],
   "source": [
    "'Happy B'Day{} {} {}'.format(\"🥳\",\"Raghul\",\".\")"
   ]
  },
  {
   "cell_type": "code",
   "execution_count": 26,
   "id": "8c058bf3",
   "metadata": {},
   "outputs": [
    {
     "data": {
      "text/plain": [
       "'Following is the order of birthdays of students Kunal,Abhinav,Raghul'"
      ]
     },
     "execution_count": 26,
     "metadata": {},
     "output_type": "execute_result"
    }
   ],
   "source": [
    "# order using positional arguments\n",
    "\"Following is the order of birthdays of students {2},{0},{1}\".format(\"Abhinav\",\"Raghul\",\"Kunal\")"
   ]
  },
  {
   "cell_type": "code",
   "execution_count": 28,
   "id": "376216dc",
   "metadata": {},
   "outputs": [
    {
     "data": {
      "text/plain": [
       "'Raghul got porche,apple,iphone and mango in bithday'"
      ]
     },
     "execution_count": 28,
     "metadata": {},
     "output_type": "execute_result"
    }
   ],
   "source": [
    "# order using keyword argument\n",
    "\"Raghul got {sanket},{umang},{anjan} and {vaibhav} in bithday\".format(umang=\"apple\",vaibhav=\"mango\",anjan=\"iphone\",sanket=\"porche\")"
   ]
  },
  {
   "cell_type": "code",
   "execution_count": 29,
   "id": "eb00edcf",
   "metadata": {},
   "outputs": [
    {
     "name": "stdout",
     "output_type": "stream",
     "text": [
      "Happy B'Day🥳 Raghul .\n"
     ]
    }
   ],
   "source": [
    "print('Happy B\\'Day{} {} {}'.format(\"🥳\",\"Raghul\",\".\"))"
   ]
  },
  {
   "cell_type": "markdown",
   "id": "988662f2",
   "metadata": {},
   "source": [
    "## `print()`"
   ]
  },
  {
   "cell_type": "code",
   "execution_count": 30,
   "id": "e69a397d",
   "metadata": {},
   "outputs": [
    {
     "name": "stdout",
     "output_type": "stream",
     "text": [
      "Help on built-in function print in module builtins:\n",
      "\n",
      "print(...)\n",
      "    print(value, ..., sep=' ', end='\\n', file=sys.stdout, flush=False)\n",
      "    \n",
      "    Prints the values to a stream, or to sys.stdout by default.\n",
      "    Optional keyword arguments:\n",
      "    file:  a file-like object (stream); defaults to the current sys.stdout.\n",
      "    sep:   string inserted between values, default a space.\n",
      "    end:   string appended after the last value, default a newline.\n",
      "    flush: whether to forcibly flush the stream.\n",
      "\n"
     ]
    }
   ],
   "source": [
    "help(print)"
   ]
  },
  {
   "cell_type": "code",
   "execution_count": 36,
   "id": "7c159301",
   "metadata": {},
   "outputs": [
    {
     "name": "stdout",
     "output_type": "stream",
     "text": [
      "Snegha Manikandan Anjaneyulu*\n",
      "Neeraj\n"
     ]
    }
   ],
   "source": [
    "s,a,n = \"Snegha Manikandan\",\"Anjaneyulu\",\"Neeraj\"\n",
    "print(s,end=\" \")\n",
    "print(a,end=\"*\\n\")\n",
    "print(n)"
   ]
  },
  {
   "cell_type": "code",
   "execution_count": 58,
   "id": "4dd408b8",
   "metadata": {},
   "outputs": [
    {
     "name": "stdout",
     "output_type": "stream",
     "text": [
      "Snegha Manikandan & Anjaneyulu & Neeraj \n",
      "San\n",
      "Hello World\n"
     ]
    }
   ],
   "source": [
    "print(s,a,n,end=\" \\nSan\\n\",sep=\" & \")\n",
    "print(\"Hello World\")"
   ]
  },
  {
   "cell_type": "markdown",
   "id": "4e984a7d",
   "metadata": {},
   "source": [
    "## List"
   ]
  },
  {
   "cell_type": "code",
   "execution_count": null,
   "id": "59bbf8fe",
   "metadata": {},
   "outputs": [],
   "source": [
    "mutable data type\n",
    "ordered collection"
   ]
  },
  {
   "cell_type": "code",
   "execution_count": 51,
   "id": "7e5ca628",
   "metadata": {},
   "outputs": [],
   "source": [
    "l = [\"Vegetables\",\"Fruits\",23.0]"
   ]
  },
  {
   "cell_type": "code",
   "execution_count": 56,
   "id": "a29c4bba",
   "metadata": {},
   "outputs": [
    {
     "name": "stdout",
     "output_type": "stream",
     "text": [
      "Vegetables--Fruits--23.0\n"
     ]
    }
   ],
   "source": [
    "print(l[0],l[1],l[2],sep=\"--\")"
   ]
  },
  {
   "cell_type": "code",
   "execution_count": 59,
   "id": "cbe4d85f",
   "metadata": {},
   "outputs": [],
   "source": [
    "l = [[\"Potato\",\"Tomato\",\"Egg plant\"],[\"Apple\",\"Mango\",\"Banana\"],23.0]"
   ]
  },
  {
   "cell_type": "code",
   "execution_count": 60,
   "id": "3f63e25c",
   "metadata": {},
   "outputs": [
    {
     "data": {
      "text/plain": [
       "['Potato', 'Tomato', 'Egg plant']"
      ]
     },
     "execution_count": 60,
     "metadata": {},
     "output_type": "execute_result"
    }
   ],
   "source": [
    "l[0]"
   ]
  },
  {
   "cell_type": "code",
   "execution_count": 63,
   "id": "1a5d60f9",
   "metadata": {},
   "outputs": [
    {
     "data": {
      "text/plain": [
       "'Potato'"
      ]
     },
     "execution_count": 63,
     "metadata": {},
     "output_type": "execute_result"
    }
   ],
   "source": [
    "l[0][0]"
   ]
  },
  {
   "cell_type": "code",
   "execution_count": 65,
   "id": "459bf2ec",
   "metadata": {},
   "outputs": [
    {
     "data": {
      "text/plain": [
       "'otato'"
      ]
     },
     "execution_count": 65,
     "metadata": {},
     "output_type": "execute_result"
    }
   ],
   "source": [
    "l[0][0][1:]"
   ]
  },
  {
   "cell_type": "code",
   "execution_count": 67,
   "id": "f374cea0",
   "metadata": {},
   "outputs": [
    {
     "data": {
      "text/plain": [
       "'m'"
      ]
     },
     "execution_count": 67,
     "metadata": {},
     "output_type": "execute_result"
    }
   ],
   "source": [
    "l[0][1][2]"
   ]
  },
  {
   "cell_type": "code",
   "execution_count": 68,
   "id": "01b37e34",
   "metadata": {},
   "outputs": [],
   "source": [
    "# we can have duplicate elements\n",
    "l = [1, 1, 1, 2, 2, \"Sashi\",\"Sashi\"]"
   ]
  },
  {
   "cell_type": "code",
   "execution_count": 69,
   "id": "ff9b4b42",
   "metadata": {},
   "outputs": [
    {
     "name": "stdout",
     "output_type": "stream",
     "text": [
      "[1, 1, 1, 2, 2, 'Sashi', 'Sashi']\n"
     ]
    }
   ],
   "source": [
    "print(l)"
   ]
  },
  {
   "cell_type": "code",
   "execution_count": 70,
   "id": "20261064",
   "metadata": {},
   "outputs": [
    {
     "data": {
      "text/plain": [
       "7"
      ]
     },
     "execution_count": 70,
     "metadata": {},
     "output_type": "execute_result"
    }
   ],
   "source": [
    "#size of list\n",
    "len(l)"
   ]
  },
  {
   "cell_type": "code",
   "execution_count": 71,
   "id": "53d37b8e",
   "metadata": {},
   "outputs": [],
   "source": [
    "# append() --> one argument\n",
    "l.append(5.23)"
   ]
  },
  {
   "cell_type": "code",
   "execution_count": 72,
   "id": "d7ca5c02",
   "metadata": {},
   "outputs": [
    {
     "name": "stdout",
     "output_type": "stream",
     "text": [
      "[1, 1, 1, 2, 2, 'Sashi', 'Sashi', 5.23]\n"
     ]
    }
   ],
   "source": [
    "print(l)"
   ]
  },
  {
   "cell_type": "code",
   "execution_count": 73,
   "id": "b3115ef3",
   "metadata": {},
   "outputs": [],
   "source": [
    "l = l + [\"Edyoda\"] #Another way"
   ]
  },
  {
   "cell_type": "code",
   "execution_count": 74,
   "id": "a946389f",
   "metadata": {},
   "outputs": [
    {
     "name": "stdout",
     "output_type": "stream",
     "text": [
      "[1, 1, 1, 2, 2, 'Sashi', 'Sashi', 5.23, 'Edyoda']\n"
     ]
    }
   ],
   "source": [
    "print(l)"
   ]
  },
  {
   "cell_type": "code",
   "execution_count": 75,
   "id": "a80b4a4b",
   "metadata": {},
   "outputs": [],
   "source": [
    "#insert() --> adds element at given index position\n",
    "l.insert(1,\"Snegha\")"
   ]
  },
  {
   "cell_type": "code",
   "execution_count": 76,
   "id": "1f446bb7",
   "metadata": {},
   "outputs": [
    {
     "name": "stdout",
     "output_type": "stream",
     "text": [
      "[1, 'Snegha', 1, 1, 2, 2, 'Sashi', 'Sashi', 5.23, 'Edyoda']\n"
     ]
    }
   ],
   "source": [
    "print(l)"
   ]
  },
  {
   "cell_type": "code",
   "execution_count": 77,
   "id": "c6c2a9b6",
   "metadata": {},
   "outputs": [],
   "source": [
    "l[0] = \"Anjan\""
   ]
  },
  {
   "cell_type": "code",
   "execution_count": 78,
   "id": "3b64b3d3",
   "metadata": {},
   "outputs": [
    {
     "name": "stdout",
     "output_type": "stream",
     "text": [
      "['Anjan', 'Snegha', 1, 1, 2, 2, 'Sashi', 'Sashi', 5.23, 'Edyoda']\n"
     ]
    }
   ],
   "source": [
    "print(l)"
   ]
  },
  {
   "cell_type": "code",
   "execution_count": 79,
   "id": "46df4c28",
   "metadata": {},
   "outputs": [],
   "source": [
    "g = [\"Hey\",\"Buddy\"]"
   ]
  },
  {
   "cell_type": "code",
   "execution_count": 80,
   "id": "dd50f429",
   "metadata": {},
   "outputs": [],
   "source": [
    "#extend --> used to add multiple items at the end of the list\n",
    "g.extend(l)"
   ]
  },
  {
   "cell_type": "code",
   "execution_count": 81,
   "id": "c0e1f7c4",
   "metadata": {},
   "outputs": [
    {
     "name": "stdout",
     "output_type": "stream",
     "text": [
      "['Hey', 'Buddy', 'Anjan', 'Snegha', 1, 1, 2, 2, 'Sashi', 'Sashi', 5.23, 'Edyoda']\n"
     ]
    }
   ],
   "source": [
    "print(g)"
   ]
  },
  {
   "cell_type": "code",
   "execution_count": 82,
   "id": "1f5bbbe8",
   "metadata": {},
   "outputs": [],
   "source": [
    "l = list()"
   ]
  },
  {
   "cell_type": "code",
   "execution_count": 83,
   "id": "e47c4733",
   "metadata": {},
   "outputs": [],
   "source": [
    "l.append(g[-4])"
   ]
  },
  {
   "cell_type": "code",
   "execution_count": 84,
   "id": "31dadde8",
   "metadata": {},
   "outputs": [
    {
     "name": "stdout",
     "output_type": "stream",
     "text": [
      "['Sashi']\n"
     ]
    }
   ],
   "source": [
    "print(l)"
   ]
  },
  {
   "cell_type": "code",
   "execution_count": 85,
   "id": "bd582f81",
   "metadata": {},
   "outputs": [],
   "source": [
    "l.extend(\"Sanket\")"
   ]
  },
  {
   "cell_type": "code",
   "execution_count": 86,
   "id": "42e71a6f",
   "metadata": {},
   "outputs": [
    {
     "name": "stdout",
     "output_type": "stream",
     "text": [
      "['Sashi', 'S', 'a', 'n', 'k', 'e', 't']\n"
     ]
    }
   ],
   "source": [
    "print(l)"
   ]
  },
  {
   "cell_type": "code",
   "execution_count": 87,
   "id": "c0ee37c7",
   "metadata": {},
   "outputs": [
    {
     "data": {
      "text/plain": [
       "['s', 'a', 'n', 'k', 'e', 't']"
      ]
     },
     "execution_count": 87,
     "metadata": {},
     "output_type": "execute_result"
    }
   ],
   "source": [
    "s = \"sanket\"\n",
    "list(s)"
   ]
  },
  {
   "cell_type": "code",
   "execution_count": 88,
   "id": "25bd5c80",
   "metadata": {},
   "outputs": [
    {
     "data": {
      "text/plain": [
       "'Sashi'"
      ]
     },
     "execution_count": 88,
     "metadata": {},
     "output_type": "execute_result"
    }
   ],
   "source": [
    "g[-4]"
   ]
  },
  {
   "cell_type": "code",
   "execution_count": null,
   "id": "f0894a0e",
   "metadata": {},
   "outputs": [],
   "source": []
  }
 ],
 "metadata": {
  "kernelspec": {
   "display_name": "Python 3 (ipykernel)",
   "language": "python",
   "name": "python3"
  },
  "language_info": {
   "codemirror_mode": {
    "name": "ipython",
    "version": 3
   },
   "file_extension": ".py",
   "mimetype": "text/x-python",
   "name": "python",
   "nbconvert_exporter": "python",
   "pygments_lexer": "ipython3",
   "version": "3.10.1"
  }
 },
 "nbformat": 4,
 "nbformat_minor": 5
}
