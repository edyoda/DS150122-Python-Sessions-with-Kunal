{
 "cells": [
  {
   "cell_type": "code",
   "execution_count": null,
   "id": "878b85cc",
   "metadata": {},
   "outputs": [],
   "source": [
    "# split() --> Splits the string based on the delemeter and returns the list,it splits from LHS\n",
    "# rsplit() -->Splits the string based on the delemeter and returns the list,it splits from RHS\n",
    "# replace() --> replaces any specific character with new one\n",
    "# join() --> joins the list of strings with delimiter\n",
    "# count() --> counts the number of specified characters in the string\n",
    "# capitalize() -> capitalize first chararcter of string\n",
    "# upper() --> it converts all the lower cases characters to uppercases\n",
    "# lower() --> it converts all the upper cases characters to lowercases\n",
    "# title() --> capitalizes first letter of each word in a sentence\n",
    "# istitle() --> returns Boolean value based on the string provided is in title case or not\n",
    "# isupper() --> checks if all the characters of string is in upper case and returns boolean value\n",
    "# islower() --> checks if all the characters of string is in lower case and returns boolean value\n",
    "# input() --> gets value from user as string"
   ]
  },
  {
   "cell_type": "code",
   "execution_count": null,
   "id": "04898bdc",
   "metadata": {},
   "outputs": [],
   "source": [
    "\"Akash is going to school\" --> hardcoded string\n",
    "\"Happy B'day\"\n",
    "''' \n",
    "hey Vaibhav\n",
    "'''"
   ]
  },
  {
   "cell_type": "code",
   "execution_count": 3,
   "id": "17975537",
   "metadata": {},
   "outputs": [
    {
     "name": "stdout",
     "output_type": "stream",
     "text": [
      " \n",
      "hey \n",
      "Vaibhav\n",
      "\n"
     ]
    }
   ],
   "source": [
    "print(''' \n",
    "hey \n",
    "Vaibhav\n",
    "''')"
   ]
  },
  {
   "cell_type": "code",
   "execution_count": 6,
   "id": "2ab7001b",
   "metadata": {},
   "outputs": [
    {
     "name": "stdout",
     "output_type": "stream",
     "text": [
      "hey \n",
      "Vaibhav\n"
     ]
    }
   ],
   "source": [
    "print(\"hey \\nVaibhav\")"
   ]
  },
  {
   "cell_type": "code",
   "execution_count": 7,
   "id": "fc782997",
   "metadata": {},
   "outputs": [
    {
     "name": "stdout",
     "output_type": "stream",
     "text": [
      "hey \\nVaibhav\n"
     ]
    }
   ],
   "source": [
    "print(\"hey \\\\nVaibhav\")"
   ]
  },
  {
   "cell_type": "code",
   "execution_count": 8,
   "id": "abc1def5",
   "metadata": {},
   "outputs": [
    {
     "name": "stdout",
     "output_type": "stream",
     "text": [
      "happy b'Day\n"
     ]
    }
   ],
   "source": [
    "print('happy b\\'Day')"
   ]
  },
  {
   "cell_type": "code",
   "execution_count": 9,
   "id": "52971d50",
   "metadata": {},
   "outputs": [
    {
     "name": "stdout",
     "output_type": "stream",
     "text": [
      "happy Birthday\n"
     ]
    }
   ],
   "source": [
    "s = 'happy b\\'Day'\n",
    "if 'b\\'Day' in s:\n",
    "    print(s.replace('b\\'Day','Birthday'))"
   ]
  },
  {
   "cell_type": "code",
   "execution_count": 13,
   "id": "00221ab1",
   "metadata": {},
   "outputs": [
    {
     "data": {
      "text/plain": [
       "\"Happy B'Day🥳 Raghul .\""
      ]
     },
     "execution_count": 13,
     "metadata": {},
     "output_type": "execute_result"
    }
   ],
   "source": [
    "# default or implicit order\n",
    "'Happy B\\'Day{} {} {}'.format(\"🥳\",\"Raghul\",\".\")"
   ]
  },
  {
   "cell_type": "code",
   "execution_count": 14,
   "id": "c4b5fdae",
   "metadata": {},
   "outputs": [
    {
     "ename": "SyntaxError",
     "evalue": "unterminated string literal (detected at line 1) (2143068550.py, line 1)",
     "output_type": "error",
     "traceback": [
      "\u001b[1;36m  Input \u001b[1;32mIn [14]\u001b[1;36m\u001b[0m\n\u001b[1;33m    'Happy B'Day{} {} {}'.format(\"🥳\",\"Raghul\",\".\")\u001b[0m\n\u001b[1;37m                        ^\u001b[0m\n\u001b[1;31mSyntaxError\u001b[0m\u001b[1;31m:\u001b[0m unterminated string literal (detected at line 1)\n"
     ]
    }
   ],
   "source": [
    "'Happy B'Day{} {} {}'.format(\"🥳\",\"Raghul\",\".\")"
   ]
  },
  {
   "cell_type": "code",
   "execution_count": 26,
   "id": "a5301745",
   "metadata": {},
   "outputs": [
    {
     "data": {
      "text/plain": [
       "'Following is the order of birthdays of students Kunal,Abhinav,Raghul'"
      ]
     },
     "execution_count": 26,
     "metadata": {},
     "output_type": "execute_result"
    }
   ],
   "source": [
    "# order using positional arguments\n",
    "\"Following is the order of birthdays of students {2},{0},{1}\".format(\"Abhinav\",\"Raghul\",\"Kunal\")"
   ]
  },
  {
   "cell_type": "code",
   "execution_count": 28,
   "id": "83a20f03",
   "metadata": {},
   "outputs": [
    {
     "data": {
      "text/plain": [
       "'Raghul got porche,apple,iphone and mango in bithday'"
      ]
     },
     "execution_count": 28,
     "metadata": {},
     "output_type": "execute_result"
    }
   ],
   "source": [
    "# order using keyword argument\n",
    "\"Raghul got {sanket},{umang},{anjan} and {vaibhav} in bithday\".format(umang=\"apple\",vaibhav=\"mango\",anjan=\"iphone\",sanket=\"porche\")"
   ]
  },
  {
   "cell_type": "code",
   "execution_count": 29,
   "id": "62a59f19",
   "metadata": {},
   "outputs": [
    {
     "name": "stdout",
     "output_type": "stream",
     "text": [
      "Happy B'Day🥳 Raghul .\n"
     ]
    }
   ],
   "source": [
    "print('Happy B\\'Day{} {} {}'.format(\"🥳\",\"Raghul\",\".\"))"
   ]
  },
  {
   "cell_type": "markdown",
   "id": "ca210f4d",
   "metadata": {},
   "source": [
    "## `print()`"
   ]
  },
  {
   "cell_type": "code",
   "execution_count": 30,
   "id": "a9e0f368",
   "metadata": {},
   "outputs": [
    {
     "name": "stdout",
     "output_type": "stream",
     "text": [
      "Help on built-in function print in module builtins:\n",
      "\n",
      "print(...)\n",
      "    print(value, ..., sep=' ', end='\\n', file=sys.stdout, flush=False)\n",
      "    \n",
      "    Prints the values to a stream, or to sys.stdout by default.\n",
      "    Optional keyword arguments:\n",
      "    file:  a file-like object (stream); defaults to the current sys.stdout.\n",
      "    sep:   string inserted between values, default a space.\n",
      "    end:   string appended after the last value, default a newline.\n",
      "    flush: whether to forcibly flush the stream.\n",
      "\n"
     ]
    }
   ],
   "source": [
    "help(print)"
   ]
  },
  {
   "cell_type": "code",
   "execution_count": 36,
   "id": "0196156f",
   "metadata": {},
   "outputs": [
    {
     "name": "stdout",
     "output_type": "stream",
     "text": [
      "Snegha Manikandan Anjaneyulu*\n",
      "Neeraj\n"
     ]
    }
   ],
   "source": [
    "s,a,n = \"Snegha Manikandan\",\"Anjaneyulu\",\"Neeraj\"\n",
    "print(s,end=\" \")\n",
    "print(a,end=\"*\\n\")\n",
    "print(n)"
   ]
  },
  {
   "cell_type": "code",
   "execution_count": 58,
   "id": "e2e26043",
   "metadata": {},
   "outputs": [
    {
     "name": "stdout",
     "output_type": "stream",
     "text": [
      "Snegha Manikandan & Anjaneyulu & Neeraj \n",
      "San\n",
      "Hello World\n"
     ]
    }
   ],
   "source": [
    "print(s,a,n,end=\" \\nSan\\n\",sep=\" & \")\n",
    "print(\"Hello World\")"
   ]
  },
  {
   "cell_type": "markdown",
   "id": "33ac9f90",
   "metadata": {},
   "source": [
    "## List"
   ]
  },
  {
   "cell_type": "code",
   "execution_count": null,
   "id": "e59966f2",
   "metadata": {},
   "outputs": [],
   "source": [
    "mutable data type\n",
    "ordered collection"
   ]
  },
  {
   "cell_type": "code",
   "execution_count": 51,
   "id": "39ce8f29",
   "metadata": {},
   "outputs": [],
   "source": [
    "l = [\"Vegetables\",\"Fruits\",23.0]"
   ]
  },
  {
   "cell_type": "code",
   "execution_count": 56,
   "id": "82634b08",
   "metadata": {},
   "outputs": [
    {
     "name": "stdout",
     "output_type": "stream",
     "text": [
      "Vegetables--Fruits--23.0\n"
     ]
    }
   ],
   "source": [
    "print(l[0],l[1],l[2],sep=\"--\")"
   ]
  },
  {
   "cell_type": "code",
   "execution_count": 59,
   "id": "8155ed26",
   "metadata": {},
   "outputs": [],
   "source": [
    "l = [[\"Potato\",\"Tomato\",\"Egg plant\"],[\"Apple\",\"Mango\",\"Banana\"],23.0]"
   ]
  },
  {
   "cell_type": "code",
   "execution_count": 60,
   "id": "5dbd5668",
   "metadata": {},
   "outputs": [
    {
     "data": {
      "text/plain": [
       "['Potato', 'Tomato', 'Egg plant']"
      ]
     },
     "execution_count": 60,
     "metadata": {},
     "output_type": "execute_result"
    }
   ],
   "source": [
    "l[0]"
   ]
  },
  {
   "cell_type": "code",
   "execution_count": 63,
   "id": "f996dfc6",
   "metadata": {},
   "outputs": [
    {
     "data": {
      "text/plain": [
       "'Potato'"
      ]
     },
     "execution_count": 63,
     "metadata": {},
     "output_type": "execute_result"
    }
   ],
   "source": [
    "l[0][0]"
   ]
  },
  {
   "cell_type": "code",
   "execution_count": 65,
   "id": "11654397",
   "metadata": {},
   "outputs": [
    {
     "data": {
      "text/plain": [
       "'otato'"
      ]
     },
     "execution_count": 65,
     "metadata": {},
     "output_type": "execute_result"
    }
   ],
   "source": [
    "l[0][0][1:]"
   ]
  },
  {
   "cell_type": "code",
   "execution_count": 67,
   "id": "0672fd25",
   "metadata": {},
   "outputs": [
    {
     "data": {
      "text/plain": [
       "'m'"
      ]
     },
     "execution_count": 67,
     "metadata": {},
     "output_type": "execute_result"
    }
   ],
   "source": [
    "l[0][1][2]"
   ]
  },
  {
   "cell_type": "code",
   "execution_count": 68,
   "id": "9191b75e",
   "metadata": {},
   "outputs": [],
   "source": [
    "# we can have duplicate elements\n",
    "l = [1, 1, 1, 2, 2, \"Sashi\",\"Sashi\"]"
   ]
  },
  {
   "cell_type": "code",
   "execution_count": 69,
   "id": "cea0bb9e",
   "metadata": {},
   "outputs": [
    {
     "name": "stdout",
     "output_type": "stream",
     "text": [
      "[1, 1, 1, 2, 2, 'Sashi', 'Sashi']\n"
     ]
    }
   ],
   "source": [
    "print(l)"
   ]
  },
  {
   "cell_type": "code",
   "execution_count": 70,
   "id": "c8f1659c",
   "metadata": {},
   "outputs": [
    {
     "data": {
      "text/plain": [
       "7"
      ]
     },
     "execution_count": 70,
     "metadata": {},
     "output_type": "execute_result"
    }
   ],
   "source": [
    "#size of list\n",
    "len(l)"
   ]
  },
  {
   "cell_type": "code",
   "execution_count": 71,
   "id": "24255b8d",
   "metadata": {},
   "outputs": [],
   "source": [
    "# append() --> one argument\n",
    "l.append(5.23)"
   ]
  },
  {
   "cell_type": "code",
   "execution_count": 72,
   "id": "b4e61999",
   "metadata": {},
   "outputs": [
    {
     "name": "stdout",
     "output_type": "stream",
     "text": [
      "[1, 1, 1, 2, 2, 'Sashi', 'Sashi', 5.23]\n"
     ]
    }
   ],
   "source": [
    "print(l)"
   ]
  },
  {
   "cell_type": "code",
   "execution_count": 73,
   "id": "92813f71",
   "metadata": {},
   "outputs": [],
   "source": [
    "l = l + [\"Edyoda\"] #Another way"
   ]
  },
  {
   "cell_type": "code",
   "execution_count": 74,
   "id": "243e9c8d",
   "metadata": {},
   "outputs": [
    {
     "name": "stdout",
     "output_type": "stream",
     "text": [
      "[1, 1, 1, 2, 2, 'Sashi', 'Sashi', 5.23, 'Edyoda']\n"
     ]
    }
   ],
   "source": [
    "print(l)"
   ]
  },
  {
   "cell_type": "code",
   "execution_count": 75,
   "id": "fea37c55",
   "metadata": {},
   "outputs": [],
   "source": [
    "#insert() --> adds element at given index position\n",
    "l.insert(1,\"Snegha\")"
   ]
  },
  {
   "cell_type": "code",
   "execution_count": 76,
   "id": "69d4a944",
   "metadata": {},
   "outputs": [
    {
     "name": "stdout",
     "output_type": "stream",
     "text": [
      "[1, 'Snegha', 1, 1, 2, 2, 'Sashi', 'Sashi', 5.23, 'Edyoda']\n"
     ]
    }
   ],
   "source": [
    "print(l)"
   ]
  },
  {
   "cell_type": "code",
   "execution_count": 77,
   "id": "b4026c45",
   "metadata": {},
   "outputs": [],
   "source": [
    "l[0] = \"Anjan\""
   ]
  },
  {
   "cell_type": "code",
   "execution_count": 78,
   "id": "b3f18839",
   "metadata": {},
   "outputs": [
    {
     "name": "stdout",
     "output_type": "stream",
     "text": [
      "['Anjan', 'Snegha', 1, 1, 2, 2, 'Sashi', 'Sashi', 5.23, 'Edyoda']\n"
     ]
    }
   ],
   "source": [
    "print(l)"
   ]
  },
  {
   "cell_type": "code",
   "execution_count": 79,
   "id": "a4c8c130",
   "metadata": {},
   "outputs": [],
   "source": [
    "g = [\"Hey\",\"Buddy\"]"
   ]
  },
  {
   "cell_type": "code",
   "execution_count": 80,
   "id": "7c916250",
   "metadata": {},
   "outputs": [],
   "source": [
    "#extend --> used to add multiple items at the end of the list\n",
    "g.extend(l)"
   ]
  },
  {
   "cell_type": "code",
   "execution_count": 81,
   "id": "6b0341b2",
   "metadata": {},
   "outputs": [
    {
     "name": "stdout",
     "output_type": "stream",
     "text": [
      "['Hey', 'Buddy', 'Anjan', 'Snegha', 1, 1, 2, 2, 'Sashi', 'Sashi', 5.23, 'Edyoda']\n"
     ]
    }
   ],
   "source": [
    "print(g)"
   ]
  },
  {
   "cell_type": "code",
   "execution_count": 82,
   "id": "b833940b",
   "metadata": {},
   "outputs": [],
   "source": [
    "l = list()"
   ]
  },
  {
   "cell_type": "code",
   "execution_count": 83,
   "id": "7d7847d2",
   "metadata": {},
   "outputs": [],
   "source": [
    "l.append(g[-4])"
   ]
  },
  {
   "cell_type": "code",
   "execution_count": 84,
   "id": "0e8e4e09",
   "metadata": {},
   "outputs": [
    {
     "name": "stdout",
     "output_type": "stream",
     "text": [
      "['Sashi']\n"
     ]
    }
   ],
   "source": [
    "print(l)"
   ]
  },
  {
   "cell_type": "code",
   "execution_count": 85,
   "id": "08103478",
   "metadata": {},
   "outputs": [],
   "source": [
    "l.extend(\"Sanket\")"
   ]
  },
  {
   "cell_type": "code",
   "execution_count": 86,
   "id": "df4f10d2",
   "metadata": {},
   "outputs": [
    {
     "name": "stdout",
     "output_type": "stream",
     "text": [
      "['Sashi', 'S', 'a', 'n', 'k', 'e', 't']\n"
     ]
    }
   ],
   "source": [
    "print(l)"
   ]
  },
  {
   "cell_type": "code",
   "execution_count": null,
   "id": "5ec8c4a7",
   "metadata": {},
   "outputs": [],
   "source": [
    "s = \"sanket\"\n"
   ]
  }
 ],
 "metadata": {
  "kernelspec": {
   "display_name": "Python 3 (ipykernel)",
   "language": "python",
   "name": "python3"
  },
  "language_info": {
   "codemirror_mode": {
    "name": "ipython",
    "version": 3
   },
   "file_extension": ".py",
   "mimetype": "text/x-python",
   "name": "python",
   "nbconvert_exporter": "python",
   "pygments_lexer": "ipython3",
   "version": "3.10.1"
  }
 },
 "nbformat": 4,
 "nbformat_minor": 5
}
